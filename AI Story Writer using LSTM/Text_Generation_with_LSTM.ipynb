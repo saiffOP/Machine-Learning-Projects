{
  "nbformat": 4,
  "nbformat_minor": 0,
  "metadata": {
    "colab": {
      "provenance": []
    },
    "kernelspec": {
      "name": "python3",
      "display_name": "Python 3"
    },
    "language_info": {
      "name": "python"
    }
  },
  "cells": [
    {
      "cell_type": "code",
      "execution_count": null,
      "metadata": {
        "id": "3KbQE6p6oJIU"
      },
      "outputs": [],
      "source": [
        "def read_file(filepath):\n",
        "  with open(filepath) as f:\n",
        "    str_text = f.read()\n",
        "\n",
        "  return str_text"
      ]
    },
    {
      "cell_type": "code",
      "source": [
        "# print(read_file('/content/drive/MyDrive/Data Science/Text Generation with LSTM/moby_dick_four_chapters.txt'))"
      ],
      "metadata": {
        "id": "qK-1YjYAopt2"
      },
      "execution_count": null,
      "outputs": []
    },
    {
      "cell_type": "code",
      "source": [
        "# import spacy.cli\n",
        "# spacy.cli.download('en_core_web_lg')"
      ],
      "metadata": {
        "id": "LtT7LVXPqs8N",
        "colab": {
          "base_uri": "https://localhost:8080/"
        },
        "outputId": "ffed5678-6b10-4c7b-b0b8-d56dccc3ad26"
      },
      "execution_count": null,
      "outputs": [
        {
          "output_type": "stream",
          "name": "stdout",
          "text": [
            "\u001b[38;5;2m✔ Download and installation successful\u001b[0m\n",
            "You can now load the package via spacy.load('en_core_web_lg')\n",
            "\u001b[38;5;3m⚠ Restart to reload dependencies\u001b[0m\n",
            "If you are in a Jupyter or Colab notebook, you may need to restart Python in\n",
            "order to load all the package's dependencies. You can do this by selecting the\n",
            "'Restart kernel' or 'Restart runtime' option.\n"
          ]
        }
      ]
    },
    {
      "cell_type": "code",
      "source": [
        "import spacy\n",
        "nlp = spacy.load('en_core_web_lg', disable=['parser', 'tagger', 'ner'])"
      ],
      "metadata": {
        "id": "P_tHk_E8pY6C"
      },
      "execution_count": null,
      "outputs": []
    },
    {
      "cell_type": "code",
      "source": [
        "nlp.max_length = 1198623"
      ],
      "metadata": {
        "id": "utwde65_p1mA"
      },
      "execution_count": null,
      "outputs": []
    },
    {
      "cell_type": "code",
      "source": [
        "def separate_punc(doc_text):\n",
        "  return [token.text.lower() for token in nlp(doc_text) if token.text not in '\\n\\n \\n\\n\\n!\"-#$%&()--.*+,-/:;<=>?@[\\\\]^_`{|}~\\t\\n ']"
      ],
      "metadata": {
        "id": "PdrJjtnOrEEV"
      },
      "execution_count": null,
      "outputs": []
    },
    {
      "cell_type": "code",
      "source": [
        "d = read_file('/content/drive/MyDrive/Data Science/Text Generation with LSTM/moby_dick_four_chapters.txt')"
      ],
      "metadata": {
        "id": "QKxELDcytN1U"
      },
      "execution_count": null,
      "outputs": []
    },
    {
      "cell_type": "code",
      "source": [
        "tokens = separate_punc(d)"
      ],
      "metadata": {
        "colab": {
          "base_uri": "https://localhost:8080/"
        },
        "id": "UieetkQC-NKm",
        "outputId": "59eb43d9-f17c-4012-f8e6-5338893a50ca"
      },
      "execution_count": null,
      "outputs": [
        {
          "output_type": "stream",
          "name": "stderr",
          "text": [
            "/usr/local/lib/python3.10/dist-packages/spacy/pipeline/lemmatizer.py:211: UserWarning: [W108] The rule-based lemmatizer did not find POS annotation for one or more tokens. Check that your pipeline includes components that assign token.pos, typically 'tagger'+'attribute_ruler' or 'morphologizer'.\n",
            "  warnings.warn(Warnings.W108)\n"
          ]
        }
      ]
    },
    {
      "cell_type": "code",
      "source": [
        "import numpy as np"
      ],
      "metadata": {
        "id": "QWtMnaQaAKwU"
      },
      "execution_count": null,
      "outputs": []
    },
    {
      "cell_type": "markdown",
      "source": [
        "# ***Error***"
      ],
      "metadata": {
        "id": "frDRm3e7bexx"
      }
    },
    {
      "cell_type": "code",
      "source": [
        "# Creating a Data Structure with 24 timesteps and 1 output\n",
        "X_train = []\n",
        "for i in range(26, len(tokens)):\n",
        "  X_train.append(tokens[i-26:i])"
      ],
      "metadata": {
        "id": "vw4iRL8d-RKO"
      },
      "execution_count": null,
      "outputs": []
    },
    {
      "cell_type": "code",
      "source": [
        "type(X_train)"
      ],
      "metadata": {
        "colab": {
          "base_uri": "https://localhost:8080/"
        },
        "id": "dgbqpob4AP3W",
        "outputId": "7a5d77e1-bebc-4167-9d66-76d8f49df898"
      },
      "execution_count": null,
      "outputs": [
        {
          "output_type": "execute_result",
          "data": {
            "text/plain": [
              "list"
            ]
          },
          "metadata": {},
          "execution_count": 11
        }
      ]
    },
    {
      "cell_type": "code",
      "source": [
        "len(X_train[1])"
      ],
      "metadata": {
        "colab": {
          "base_uri": "https://localhost:8080/"
        },
        "id": "lfvMRMydBGbq",
        "outputId": "0d55bf1a-803b-4d22-e2fe-784a3d700194"
      },
      "execution_count": null,
      "outputs": [
        {
          "output_type": "execute_result",
          "data": {
            "text/plain": [
              "26"
            ]
          },
          "metadata": {},
          "execution_count": 12
        }
      ]
    },
    {
      "cell_type": "code",
      "source": [
        "!pip install Keras-Preprocessing"
      ],
      "metadata": {
        "colab": {
          "base_uri": "https://localhost:8080/"
        },
        "id": "L2g-pzj4D9Xa",
        "outputId": "1e319254-4236-4c67-8f63-0d296808054f"
      },
      "execution_count": null,
      "outputs": [
        {
          "output_type": "stream",
          "name": "stdout",
          "text": [
            "Requirement already satisfied: Keras-Preprocessing in /usr/local/lib/python3.10/dist-packages (1.1.2)\n",
            "Requirement already satisfied: numpy>=1.9.1 in /usr/local/lib/python3.10/dist-packages (from Keras-Preprocessing) (1.26.4)\n",
            "Requirement already satisfied: six>=1.9.0 in /usr/local/lib/python3.10/dist-packages (from Keras-Preprocessing) (1.16.0)\n"
          ]
        }
      ]
    },
    {
      "cell_type": "code",
      "source": [
        "from tensorflow.keras.preprocessing.text import Tokenizer"
      ],
      "metadata": {
        "id": "GzPW1ApgBNBB"
      },
      "execution_count": null,
      "outputs": []
    },
    {
      "cell_type": "code",
      "source": [
        "tokenizer = Tokenizer()\n",
        "tokenizer.fit_on_texts(X_train)\n",
        "X_train = tokenizer.texts_to_sequences(X_train)"
      ],
      "metadata": {
        "id": "QIqOMS7wBq80"
      },
      "execution_count": null,
      "outputs": []
    },
    {
      "cell_type": "code",
      "source": [
        "print(X_train[0])"
      ],
      "metadata": {
        "colab": {
          "base_uri": "https://localhost:8080/"
        },
        "id": "fBTY43kjEa49",
        "outputId": "ee14960e-974e-4ac5-b6c0-08307b827112"
      },
      "execution_count": null,
      "outputs": [
        {
          "output_type": "stream",
          "name": "stdout",
          "text": [
            "[956, 14, 263, 51, 261, 408, 87, 219, 129, 111, 954, 260, 50, 43, 38, 314, 7, 23, 546, 3, 150, 259, 6, 2713, 14, 24]\n"
          ]
        }
      ]
    },
    {
      "cell_type": "code",
      "source": [
        "# for i in X_train[0]:\n",
        "#   print(f\"{i}: {tokenizer.index_word[i]}\")"
      ],
      "metadata": {
        "id": "A6QiGxOcEkzn"
      },
      "execution_count": null,
      "outputs": []
    },
    {
      "cell_type": "code",
      "source": [
        "vocab_size = len(tokenizer.word_counts)"
      ],
      "metadata": {
        "id": "l4hhFaVjFi5q"
      },
      "execution_count": null,
      "outputs": []
    },
    {
      "cell_type": "code",
      "source": [
        "vocab_size"
      ],
      "metadata": {
        "colab": {
          "base_uri": "https://localhost:8080/"
        },
        "id": "iBGWLmOkGFnc",
        "outputId": "7df4042c-8700-4015-f058-d7b9fa8a1d22"
      },
      "execution_count": null,
      "outputs": [
        {
          "output_type": "execute_result",
          "data": {
            "text/plain": [
              "2718"
            ]
          },
          "metadata": {},
          "execution_count": 19
        }
      ]
    },
    {
      "cell_type": "code",
      "source": [
        "X_train = np.array(X_train)"
      ],
      "metadata": {
        "id": "npHV5cN0GHNE"
      },
      "execution_count": null,
      "outputs": []
    },
    {
      "cell_type": "code",
      "source": [
        "X_train"
      ],
      "metadata": {
        "colab": {
          "base_uri": "https://localhost:8080/"
        },
        "id": "62xej7DDGRZm",
        "outputId": "6721fefa-c407-4169-eefa-370dbd3953bd"
      },
      "execution_count": null,
      "outputs": [
        {
          "output_type": "execute_result",
          "data": {
            "text/plain": [
              "array([[ 956,   14,  263, ..., 2713,   14,   24],\n",
              "       [  14,  263,   51, ...,   14,   24,  957],\n",
              "       [ 263,   51,  261, ...,   24,  957,    5],\n",
              "       ...,\n",
              "       [ 952,   12,  166, ...,  262,   53,    2],\n",
              "       [  12,  166, 2712, ...,   53,    2, 2718],\n",
              "       [ 166, 2712,    3, ...,    2, 2718,   26]])"
            ]
          },
          "metadata": {},
          "execution_count": 21
        }
      ]
    },
    {
      "cell_type": "code",
      "source": [
        "X_train.shape"
      ],
      "metadata": {
        "colab": {
          "base_uri": "https://localhost:8080/"
        },
        "id": "rEVNnPc6GfQl",
        "outputId": "b92db7d6-8e73-46ee-8f9c-26225c79e246"
      },
      "execution_count": null,
      "outputs": [
        {
          "output_type": "execute_result",
          "data": {
            "text/plain": [
              "(11312, 26)"
            ]
          },
          "metadata": {},
          "execution_count": 22
        }
      ]
    },
    {
      "cell_type": "code",
      "source": [
        "from keras.utils import to_categorical"
      ],
      "metadata": {
        "id": "pSddududHZk6"
      },
      "execution_count": null,
      "outputs": []
    },
    {
      "cell_type": "code",
      "source": [
        "X = X_train[:,:-1]\n",
        "y = X_train[:,-1]"
      ],
      "metadata": {
        "id": "89CnXZCEMHng"
      },
      "execution_count": null,
      "outputs": []
    },
    {
      "cell_type": "code",
      "source": [
        "y = to_categorical(y, num_classes=vocab_size+1)"
      ],
      "metadata": {
        "id": "k-S5RFDCMTY9"
      },
      "execution_count": null,
      "outputs": []
    },
    {
      "cell_type": "code",
      "source": [
        "seq_len = X.shape[1]"
      ],
      "metadata": {
        "id": "pRvNll2WMdpL"
      },
      "execution_count": null,
      "outputs": []
    },
    {
      "cell_type": "code",
      "source": [
        "X.shape"
      ],
      "metadata": {
        "colab": {
          "base_uri": "https://localhost:8080/"
        },
        "id": "ReBIbeL6Mksj",
        "outputId": "80ac1851-29e1-41e9-bb93-97e9050b106b"
      },
      "execution_count": null,
      "outputs": [
        {
          "output_type": "execute_result",
          "data": {
            "text/plain": [
              "(11312, 25)"
            ]
          },
          "metadata": {},
          "execution_count": 33
        }
      ]
    },
    {
      "cell_type": "code",
      "source": [
        "y.shape"
      ],
      "metadata": {
        "colab": {
          "base_uri": "https://localhost:8080/"
        },
        "id": "3B9g7irqY738",
        "outputId": "f8376864-cfa0-49ec-c280-87d57ce20103"
      },
      "execution_count": null,
      "outputs": [
        {
          "output_type": "execute_result",
          "data": {
            "text/plain": [
              "(11312, 2719)"
            ]
          },
          "metadata": {},
          "execution_count": 37
        }
      ]
    },
    {
      "cell_type": "code",
      "source": [
        "from keras.models import Sequential\n",
        "from keras.layers import Embedding, LSTM, Dropout, Dense, Input"
      ],
      "metadata": {
        "id": "868Y9tAUMnv9"
      },
      "execution_count": null,
      "outputs": []
    },
    {
      "cell_type": "code",
      "source": [
        "model = Sequential()\n",
        "\n",
        "# Directly use LSTM layers without an Embedding layer\n",
        "model.add(Input(shape=(seq_len,)))\n",
        "\n",
        "model.add(LSTM(units=64, return_sequences=True))\n",
        "model.add(Dropout(rate=0.1))\n",
        "\n",
        "model.add(LSTM(units=64, return_sequences=True))\n",
        "model.add(Dropout(rate=0.1))\n",
        "\n",
        "model.add(LSTM(units=32))\n",
        "model.add(Dropout(rate=0.1))\n",
        "\n",
        "model.add(Dense(32, activation='relu'))\n",
        "model.add(Dropout(rate=0.1))\n",
        "\n",
        "model.add(Dense(2718, activation='softmax'))\n",
        "\n",
        "model.compile(loss='categorical_crossentropy', optimizer='adam', metrics=['accuracy'])\n",
        "\n",
        "model.summary()"
      ],
      "metadata": {
        "colab": {
          "base_uri": "https://localhost:8080/",
          "height": 356
        },
        "id": "wweYCqY_NWwc",
        "outputId": "79adf65a-cd16-41ad-a56f-6935e6e5a3b7"
      },
      "execution_count": null,
      "outputs": [
        {
          "output_type": "error",
          "ename": "ValueError",
          "evalue": "Input 0 of layer \"lstm_6\" is incompatible with the layer: expected ndim=3, found ndim=2. Full shape received: (None, 25)",
          "traceback": [
            "\u001b[0;31m---------------------------------------------------------------------------\u001b[0m",
            "\u001b[0;31mValueError\u001b[0m                                Traceback (most recent call last)",
            "\u001b[0;32m<ipython-input-38-aba1846444ef>\u001b[0m in \u001b[0;36m<cell line: 6>\u001b[0;34m()\u001b[0m\n\u001b[1;32m      4\u001b[0m \u001b[0mmodel\u001b[0m\u001b[0;34m.\u001b[0m\u001b[0madd\u001b[0m\u001b[0;34m(\u001b[0m\u001b[0mInput\u001b[0m\u001b[0;34m(\u001b[0m\u001b[0mshape\u001b[0m\u001b[0;34m=\u001b[0m\u001b[0;34m(\u001b[0m\u001b[0mseq_len\u001b[0m\u001b[0;34m,\u001b[0m\u001b[0;34m)\u001b[0m\u001b[0;34m)\u001b[0m\u001b[0;34m)\u001b[0m\u001b[0;34m\u001b[0m\u001b[0;34m\u001b[0m\u001b[0m\n\u001b[1;32m      5\u001b[0m \u001b[0;34m\u001b[0m\u001b[0m\n\u001b[0;32m----> 6\u001b[0;31m \u001b[0mmodel\u001b[0m\u001b[0;34m.\u001b[0m\u001b[0madd\u001b[0m\u001b[0;34m(\u001b[0m\u001b[0mLSTM\u001b[0m\u001b[0;34m(\u001b[0m\u001b[0munits\u001b[0m\u001b[0;34m=\u001b[0m\u001b[0;36m64\u001b[0m\u001b[0;34m,\u001b[0m \u001b[0mreturn_sequences\u001b[0m\u001b[0;34m=\u001b[0m\u001b[0;32mTrue\u001b[0m\u001b[0;34m)\u001b[0m\u001b[0;34m)\u001b[0m\u001b[0;34m\u001b[0m\u001b[0;34m\u001b[0m\u001b[0m\n\u001b[0m\u001b[1;32m      7\u001b[0m \u001b[0mmodel\u001b[0m\u001b[0;34m.\u001b[0m\u001b[0madd\u001b[0m\u001b[0;34m(\u001b[0m\u001b[0mDropout\u001b[0m\u001b[0;34m(\u001b[0m\u001b[0mrate\u001b[0m\u001b[0;34m=\u001b[0m\u001b[0;36m0.1\u001b[0m\u001b[0;34m)\u001b[0m\u001b[0;34m)\u001b[0m\u001b[0;34m\u001b[0m\u001b[0;34m\u001b[0m\u001b[0m\n\u001b[1;32m      8\u001b[0m \u001b[0;34m\u001b[0m\u001b[0m\n",
            "\u001b[0;32m/usr/local/lib/python3.10/dist-packages/keras/src/models/sequential.py\u001b[0m in \u001b[0;36madd\u001b[0;34m(self, layer, rebuild)\u001b[0m\n\u001b[1;32m    118\u001b[0m         \u001b[0mself\u001b[0m\u001b[0;34m.\u001b[0m\u001b[0m_layers\u001b[0m\u001b[0;34m.\u001b[0m\u001b[0mappend\u001b[0m\u001b[0;34m(\u001b[0m\u001b[0mlayer\u001b[0m\u001b[0;34m)\u001b[0m\u001b[0;34m\u001b[0m\u001b[0;34m\u001b[0m\u001b[0m\n\u001b[1;32m    119\u001b[0m         \u001b[0;32mif\u001b[0m \u001b[0mrebuild\u001b[0m\u001b[0;34m:\u001b[0m\u001b[0;34m\u001b[0m\u001b[0;34m\u001b[0m\u001b[0m\n\u001b[0;32m--> 120\u001b[0;31m             \u001b[0mself\u001b[0m\u001b[0;34m.\u001b[0m\u001b[0m_maybe_rebuild\u001b[0m\u001b[0;34m(\u001b[0m\u001b[0;34m)\u001b[0m\u001b[0;34m\u001b[0m\u001b[0;34m\u001b[0m\u001b[0m\n\u001b[0m\u001b[1;32m    121\u001b[0m         \u001b[0;32melse\u001b[0m\u001b[0;34m:\u001b[0m\u001b[0;34m\u001b[0m\u001b[0;34m\u001b[0m\u001b[0m\n\u001b[1;32m    122\u001b[0m             \u001b[0mself\u001b[0m\u001b[0;34m.\u001b[0m\u001b[0mbuilt\u001b[0m \u001b[0;34m=\u001b[0m \u001b[0;32mFalse\u001b[0m\u001b[0;34m\u001b[0m\u001b[0;34m\u001b[0m\u001b[0m\n",
            "\u001b[0;32m/usr/local/lib/python3.10/dist-packages/keras/src/models/sequential.py\u001b[0m in \u001b[0;36m_maybe_rebuild\u001b[0;34m(self)\u001b[0m\n\u001b[1;32m    137\u001b[0m         \u001b[0;32mif\u001b[0m \u001b[0misinstance\u001b[0m\u001b[0;34m(\u001b[0m\u001b[0mself\u001b[0m\u001b[0;34m.\u001b[0m\u001b[0m_layers\u001b[0m\u001b[0;34m[\u001b[0m\u001b[0;36m0\u001b[0m\u001b[0;34m]\u001b[0m\u001b[0;34m,\u001b[0m \u001b[0mInputLayer\u001b[0m\u001b[0;34m)\u001b[0m \u001b[0;32mand\u001b[0m \u001b[0mlen\u001b[0m\u001b[0;34m(\u001b[0m\u001b[0mself\u001b[0m\u001b[0;34m.\u001b[0m\u001b[0m_layers\u001b[0m\u001b[0;34m)\u001b[0m \u001b[0;34m>\u001b[0m \u001b[0;36m1\u001b[0m\u001b[0;34m:\u001b[0m\u001b[0;34m\u001b[0m\u001b[0;34m\u001b[0m\u001b[0m\n\u001b[1;32m    138\u001b[0m             \u001b[0minput_shape\u001b[0m \u001b[0;34m=\u001b[0m \u001b[0mself\u001b[0m\u001b[0;34m.\u001b[0m\u001b[0m_layers\u001b[0m\u001b[0;34m[\u001b[0m\u001b[0;36m0\u001b[0m\u001b[0;34m]\u001b[0m\u001b[0;34m.\u001b[0m\u001b[0mbatch_shape\u001b[0m\u001b[0;34m\u001b[0m\u001b[0;34m\u001b[0m\u001b[0m\n\u001b[0;32m--> 139\u001b[0;31m             \u001b[0mself\u001b[0m\u001b[0;34m.\u001b[0m\u001b[0mbuild\u001b[0m\u001b[0;34m(\u001b[0m\u001b[0minput_shape\u001b[0m\u001b[0;34m)\u001b[0m\u001b[0;34m\u001b[0m\u001b[0;34m\u001b[0m\u001b[0m\n\u001b[0m\u001b[1;32m    140\u001b[0m \u001b[0;34m\u001b[0m\u001b[0m\n\u001b[1;32m    141\u001b[0m     \u001b[0;32mdef\u001b[0m \u001b[0m_lock_state\u001b[0m\u001b[0;34m(\u001b[0m\u001b[0mself\u001b[0m\u001b[0;34m)\u001b[0m\u001b[0;34m:\u001b[0m\u001b[0;34m\u001b[0m\u001b[0;34m\u001b[0m\u001b[0m\n",
            "\u001b[0;32m/usr/local/lib/python3.10/dist-packages/keras/src/layers/layer.py\u001b[0m in \u001b[0;36mbuild_wrapper\u001b[0;34m(*args, **kwargs)\u001b[0m\n\u001b[1;32m    223\u001b[0m             \u001b[0;32mwith\u001b[0m \u001b[0mobj\u001b[0m\u001b[0;34m.\u001b[0m\u001b[0m_open_name_scope\u001b[0m\u001b[0;34m(\u001b[0m\u001b[0;34m)\u001b[0m\u001b[0;34m:\u001b[0m\u001b[0;34m\u001b[0m\u001b[0;34m\u001b[0m\u001b[0m\n\u001b[1;32m    224\u001b[0m                 \u001b[0mobj\u001b[0m\u001b[0;34m.\u001b[0m\u001b[0m_path\u001b[0m \u001b[0;34m=\u001b[0m \u001b[0mcurrent_path\u001b[0m\u001b[0;34m(\u001b[0m\u001b[0;34m)\u001b[0m\u001b[0;34m\u001b[0m\u001b[0;34m\u001b[0m\u001b[0m\n\u001b[0;32m--> 225\u001b[0;31m                 \u001b[0moriginal_build_method\u001b[0m\u001b[0;34m(\u001b[0m\u001b[0;34m*\u001b[0m\u001b[0margs\u001b[0m\u001b[0;34m,\u001b[0m \u001b[0;34m**\u001b[0m\u001b[0mkwargs\u001b[0m\u001b[0;34m)\u001b[0m\u001b[0;34m\u001b[0m\u001b[0;34m\u001b[0m\u001b[0m\n\u001b[0m\u001b[1;32m    226\u001b[0m             \u001b[0;31m# Record build config.\u001b[0m\u001b[0;34m\u001b[0m\u001b[0;34m\u001b[0m\u001b[0m\n\u001b[1;32m    227\u001b[0m             \u001b[0msignature\u001b[0m \u001b[0;34m=\u001b[0m \u001b[0minspect\u001b[0m\u001b[0;34m.\u001b[0m\u001b[0msignature\u001b[0m\u001b[0;34m(\u001b[0m\u001b[0moriginal_build_method\u001b[0m\u001b[0;34m)\u001b[0m\u001b[0;34m\u001b[0m\u001b[0;34m\u001b[0m\u001b[0m\n",
            "\u001b[0;32m/usr/local/lib/python3.10/dist-packages/keras/src/models/sequential.py\u001b[0m in \u001b[0;36mbuild\u001b[0;34m(self, input_shape)\u001b[0m\n\u001b[1;32m    181\u001b[0m         \u001b[0;32mfor\u001b[0m \u001b[0mlayer\u001b[0m \u001b[0;32min\u001b[0m \u001b[0mself\u001b[0m\u001b[0;34m.\u001b[0m\u001b[0m_layers\u001b[0m\u001b[0;34m[\u001b[0m\u001b[0;36m1\u001b[0m\u001b[0;34m:\u001b[0m\u001b[0;34m]\u001b[0m\u001b[0;34m:\u001b[0m\u001b[0;34m\u001b[0m\u001b[0;34m\u001b[0m\u001b[0m\n\u001b[1;32m    182\u001b[0m             \u001b[0;32mtry\u001b[0m\u001b[0;34m:\u001b[0m\u001b[0;34m\u001b[0m\u001b[0;34m\u001b[0m\u001b[0m\n\u001b[0;32m--> 183\u001b[0;31m                 \u001b[0mx\u001b[0m \u001b[0;34m=\u001b[0m \u001b[0mlayer\u001b[0m\u001b[0;34m(\u001b[0m\u001b[0mx\u001b[0m\u001b[0;34m)\u001b[0m\u001b[0;34m\u001b[0m\u001b[0;34m\u001b[0m\u001b[0m\n\u001b[0m\u001b[1;32m    184\u001b[0m             \u001b[0;32mexcept\u001b[0m \u001b[0mNotImplementedError\u001b[0m\u001b[0;34m:\u001b[0m\u001b[0;34m\u001b[0m\u001b[0;34m\u001b[0m\u001b[0m\n\u001b[1;32m    185\u001b[0m                 \u001b[0;31m# Can happen if shape inference is not implemented.\u001b[0m\u001b[0;34m\u001b[0m\u001b[0;34m\u001b[0m\u001b[0m\n",
            "\u001b[0;32m/usr/local/lib/python3.10/dist-packages/keras/src/utils/traceback_utils.py\u001b[0m in \u001b[0;36merror_handler\u001b[0;34m(*args, **kwargs)\u001b[0m\n\u001b[1;32m    120\u001b[0m             \u001b[0;31m# To get the full stack trace, call:\u001b[0m\u001b[0;34m\u001b[0m\u001b[0;34m\u001b[0m\u001b[0m\n\u001b[1;32m    121\u001b[0m             \u001b[0;31m# `keras.config.disable_traceback_filtering()`\u001b[0m\u001b[0;34m\u001b[0m\u001b[0;34m\u001b[0m\u001b[0m\n\u001b[0;32m--> 122\u001b[0;31m             \u001b[0;32mraise\u001b[0m \u001b[0me\u001b[0m\u001b[0;34m.\u001b[0m\u001b[0mwith_traceback\u001b[0m\u001b[0;34m(\u001b[0m\u001b[0mfiltered_tb\u001b[0m\u001b[0;34m)\u001b[0m \u001b[0;32mfrom\u001b[0m \u001b[0;32mNone\u001b[0m\u001b[0;34m\u001b[0m\u001b[0;34m\u001b[0m\u001b[0m\n\u001b[0m\u001b[1;32m    123\u001b[0m         \u001b[0;32mfinally\u001b[0m\u001b[0;34m:\u001b[0m\u001b[0;34m\u001b[0m\u001b[0;34m\u001b[0m\u001b[0m\n\u001b[1;32m    124\u001b[0m             \u001b[0;32mdel\u001b[0m \u001b[0mfiltered_tb\u001b[0m\u001b[0;34m\u001b[0m\u001b[0;34m\u001b[0m\u001b[0m\n",
            "\u001b[0;32m/usr/local/lib/python3.10/dist-packages/keras/src/layers/input_spec.py\u001b[0m in \u001b[0;36massert_input_compatibility\u001b[0;34m(input_spec, inputs, layer_name)\u001b[0m\n\u001b[1;32m    184\u001b[0m         \u001b[0;32mif\u001b[0m \u001b[0mspec\u001b[0m\u001b[0;34m.\u001b[0m\u001b[0mndim\u001b[0m \u001b[0;32mis\u001b[0m \u001b[0;32mnot\u001b[0m \u001b[0;32mNone\u001b[0m \u001b[0;32mand\u001b[0m \u001b[0;32mnot\u001b[0m \u001b[0mspec\u001b[0m\u001b[0;34m.\u001b[0m\u001b[0mallow_last_axis_squeeze\u001b[0m\u001b[0;34m:\u001b[0m\u001b[0;34m\u001b[0m\u001b[0;34m\u001b[0m\u001b[0m\n\u001b[1;32m    185\u001b[0m             \u001b[0;32mif\u001b[0m \u001b[0mndim\u001b[0m \u001b[0;34m!=\u001b[0m \u001b[0mspec\u001b[0m\u001b[0;34m.\u001b[0m\u001b[0mndim\u001b[0m\u001b[0;34m:\u001b[0m\u001b[0;34m\u001b[0m\u001b[0;34m\u001b[0m\u001b[0m\n\u001b[0;32m--> 186\u001b[0;31m                 raise ValueError(\n\u001b[0m\u001b[1;32m    187\u001b[0m                     \u001b[0;34mf'Input {input_index} of layer \"{layer_name}\" '\u001b[0m\u001b[0;34m\u001b[0m\u001b[0;34m\u001b[0m\u001b[0m\n\u001b[1;32m    188\u001b[0m                     \u001b[0;34m\"is incompatible with the layer: \"\u001b[0m\u001b[0;34m\u001b[0m\u001b[0;34m\u001b[0m\u001b[0m\n",
            "\u001b[0;31mValueError\u001b[0m: Input 0 of layer \"lstm_6\" is incompatible with the layer: expected ndim=3, found ndim=2. Full shape received: (None, 25)"
          ]
        }
      ]
    },
    {
      "cell_type": "code",
      "source": [
        "model.fit(X,y, batch_size=128, epochs=5, verbose=1)"
      ],
      "metadata": {
        "colab": {
          "base_uri": "https://localhost:8080/",
          "height": 443
        },
        "id": "lOXrT7HrSAQ4",
        "outputId": "d2723e8b-ecee-4d77-dbbf-224662d33313"
      },
      "execution_count": null,
      "outputs": [
        {
          "output_type": "stream",
          "name": "stdout",
          "text": [
            "Epoch 1/5\n"
          ]
        },
        {
          "output_type": "error",
          "ename": "ValueError",
          "evalue": "Exception encountered when calling Sequential.call().\n\n\u001b[1mInvalid input shape for input Tensor(\"sequential_3_1/Cast:0\", shape=(None, 25), dtype=float32). Expected shape (None, 2718, 25), but input has incompatible shape (None, 25)\u001b[0m\n\nArguments received by Sequential.call():\n  • inputs=tf.Tensor(shape=(None, 25), dtype=int64)\n  • training=True\n  • mask=None",
          "traceback": [
            "\u001b[0;31m---------------------------------------------------------------------------\u001b[0m",
            "\u001b[0;31mValueError\u001b[0m                                Traceback (most recent call last)",
            "\u001b[0;32m<ipython-input-35-cce00632258f>\u001b[0m in \u001b[0;36m<cell line: 1>\u001b[0;34m()\u001b[0m\n\u001b[0;32m----> 1\u001b[0;31m \u001b[0mmodel\u001b[0m\u001b[0;34m.\u001b[0m\u001b[0mfit\u001b[0m\u001b[0;34m(\u001b[0m\u001b[0mX\u001b[0m\u001b[0;34m,\u001b[0m\u001b[0my\u001b[0m\u001b[0;34m,\u001b[0m \u001b[0mbatch_size\u001b[0m\u001b[0;34m=\u001b[0m\u001b[0;36m128\u001b[0m\u001b[0;34m,\u001b[0m \u001b[0mepochs\u001b[0m\u001b[0;34m=\u001b[0m\u001b[0;36m5\u001b[0m\u001b[0;34m,\u001b[0m \u001b[0mverbose\u001b[0m\u001b[0;34m=\u001b[0m\u001b[0;36m1\u001b[0m\u001b[0;34m)\u001b[0m\u001b[0;34m\u001b[0m\u001b[0;34m\u001b[0m\u001b[0m\n\u001b[0m",
            "\u001b[0;32m/usr/local/lib/python3.10/dist-packages/keras/src/utils/traceback_utils.py\u001b[0m in \u001b[0;36merror_handler\u001b[0;34m(*args, **kwargs)\u001b[0m\n\u001b[1;32m    120\u001b[0m             \u001b[0;31m# To get the full stack trace, call:\u001b[0m\u001b[0;34m\u001b[0m\u001b[0;34m\u001b[0m\u001b[0m\n\u001b[1;32m    121\u001b[0m             \u001b[0;31m# `keras.config.disable_traceback_filtering()`\u001b[0m\u001b[0;34m\u001b[0m\u001b[0;34m\u001b[0m\u001b[0m\n\u001b[0;32m--> 122\u001b[0;31m             \u001b[0;32mraise\u001b[0m \u001b[0me\u001b[0m\u001b[0;34m.\u001b[0m\u001b[0mwith_traceback\u001b[0m\u001b[0;34m(\u001b[0m\u001b[0mfiltered_tb\u001b[0m\u001b[0;34m)\u001b[0m \u001b[0;32mfrom\u001b[0m \u001b[0;32mNone\u001b[0m\u001b[0;34m\u001b[0m\u001b[0;34m\u001b[0m\u001b[0m\n\u001b[0m\u001b[1;32m    123\u001b[0m         \u001b[0;32mfinally\u001b[0m\u001b[0;34m:\u001b[0m\u001b[0;34m\u001b[0m\u001b[0;34m\u001b[0m\u001b[0m\n\u001b[1;32m    124\u001b[0m             \u001b[0;32mdel\u001b[0m \u001b[0mfiltered_tb\u001b[0m\u001b[0;34m\u001b[0m\u001b[0;34m\u001b[0m\u001b[0m\n",
            "\u001b[0;32m/usr/local/lib/python3.10/dist-packages/keras/src/models/functional.py\u001b[0m in \u001b[0;36m_adjust_input_rank\u001b[0;34m(self, flat_inputs)\u001b[0m\n\u001b[1;32m    242\u001b[0m                     \u001b[0madjusted\u001b[0m\u001b[0;34m.\u001b[0m\u001b[0mappend\u001b[0m\u001b[0;34m(\u001b[0m\u001b[0mops\u001b[0m\u001b[0;34m.\u001b[0m\u001b[0mexpand_dims\u001b[0m\u001b[0;34m(\u001b[0m\u001b[0mx\u001b[0m\u001b[0;34m,\u001b[0m \u001b[0maxis\u001b[0m\u001b[0;34m=\u001b[0m\u001b[0;34m-\u001b[0m\u001b[0;36m1\u001b[0m\u001b[0;34m)\u001b[0m\u001b[0;34m)\u001b[0m\u001b[0;34m\u001b[0m\u001b[0;34m\u001b[0m\u001b[0m\n\u001b[1;32m    243\u001b[0m                     \u001b[0;32mcontinue\u001b[0m\u001b[0;34m\u001b[0m\u001b[0;34m\u001b[0m\u001b[0m\n\u001b[0;32m--> 244\u001b[0;31m             raise ValueError(\n\u001b[0m\u001b[1;32m    245\u001b[0m                 \u001b[0;34mf\"Invalid input shape for input {x}. Expected shape \"\u001b[0m\u001b[0;34m\u001b[0m\u001b[0;34m\u001b[0m\u001b[0m\n\u001b[1;32m    246\u001b[0m                 \u001b[0;34mf\"{ref_shape}, but input has incompatible shape {x.shape}\"\u001b[0m\u001b[0;34m\u001b[0m\u001b[0;34m\u001b[0m\u001b[0m\n",
            "\u001b[0;31mValueError\u001b[0m: Exception encountered when calling Sequential.call().\n\n\u001b[1mInvalid input shape for input Tensor(\"sequential_3_1/Cast:0\", shape=(None, 25), dtype=float32). Expected shape (None, 2718, 25), but input has incompatible shape (None, 25)\u001b[0m\n\nArguments received by Sequential.call():\n  • inputs=tf.Tensor(shape=(None, 25), dtype=int64)\n  • training=True\n  • mask=None"
          ]
        }
      ]
    },
    {
      "cell_type": "markdown",
      "source": [
        "# ***Solution***"
      ],
      "metadata": {
        "id": "i77-lwWUblFQ"
      }
    },
    {
      "cell_type": "code",
      "source": [
        "# Creating a Data Structure with 24 timesteps and 1 output\n",
        "X_train = []\n",
        "for i in range(26, len(tokens)):\n",
        "  X_train.append(tokens[i-26:i])"
      ],
      "metadata": {
        "id": "X5OLi3XcW60S"
      },
      "execution_count": null,
      "outputs": []
    },
    {
      "cell_type": "code",
      "source": [
        "type(X_train)"
      ],
      "metadata": {
        "colab": {
          "base_uri": "https://localhost:8080/"
        },
        "id": "-ZkTFOqTcR-x",
        "outputId": "06c39e3f-476d-476e-9887-70ec59512c9a"
      },
      "execution_count": null,
      "outputs": [
        {
          "output_type": "execute_result",
          "data": {
            "text/plain": [
              "list"
            ]
          },
          "metadata": {},
          "execution_count": 49
        }
      ]
    },
    {
      "cell_type": "code",
      "source": [
        "from tensorflow.keras.preprocessing.text import Tokenizer"
      ],
      "metadata": {
        "id": "QA1qiyvGdE-r"
      },
      "execution_count": null,
      "outputs": []
    },
    {
      "cell_type": "code",
      "source": [
        "tokenizer = Tokenizer()\n",
        "tokenizer.fit_on_texts(X_train)\n",
        "X_train = tokenizer.texts_to_sequences(X_train)"
      ],
      "metadata": {
        "id": "502NwDqIdSVz"
      },
      "execution_count": null,
      "outputs": []
    },
    {
      "cell_type": "code",
      "source": [
        "vocab_size = len(tokenizer.word_counts)\n",
        "vocab_size"
      ],
      "metadata": {
        "colab": {
          "base_uri": "https://localhost:8080/"
        },
        "id": "WNxhdif5dutX",
        "outputId": "2949e7c1-b149-4505-fdd1-213580417760"
      },
      "execution_count": null,
      "outputs": [
        {
          "output_type": "execute_result",
          "data": {
            "text/plain": [
              "2718"
            ]
          },
          "metadata": {},
          "execution_count": 52
        }
      ]
    },
    {
      "cell_type": "code",
      "source": [
        "X_train = np.array(X_train)"
      ],
      "metadata": {
        "id": "Dw2ciwxneO1h"
      },
      "execution_count": null,
      "outputs": []
    },
    {
      "cell_type": "code",
      "source": [
        "X_train[1]"
      ],
      "metadata": {
        "colab": {
          "base_uri": "https://localhost:8080/"
        },
        "id": "kDVijupqeV8O",
        "outputId": "75a43532-ef82-4651-cb50-8e20d9207447"
      },
      "execution_count": null,
      "outputs": [
        {
          "output_type": "execute_result",
          "data": {
            "text/plain": [
              "array([  14,  263,   51,  261,  408,   87,  219,  129,  111,  954,  260,\n",
              "         50,   43,   38,  314,    7,   23,  546,    3,  150,  259,    6,\n",
              "       2713,   14,   24,  957])"
            ]
          },
          "metadata": {},
          "execution_count": 54
        }
      ]
    },
    {
      "cell_type": "code",
      "source": [
        "type(X_train)"
      ],
      "metadata": {
        "colab": {
          "base_uri": "https://localhost:8080/"
        },
        "id": "AONyp64jfJ1i",
        "outputId": "93bbefb4-0f0f-4955-fb2e-35295cfdbbf7"
      },
      "execution_count": null,
      "outputs": [
        {
          "output_type": "execute_result",
          "data": {
            "text/plain": [
              "numpy.ndarray"
            ]
          },
          "metadata": {},
          "execution_count": 55
        }
      ]
    },
    {
      "cell_type": "code",
      "source": [
        "from keras.utils import to_categorical"
      ],
      "metadata": {
        "id": "m4ZNScPGeu3U"
      },
      "execution_count": null,
      "outputs": []
    },
    {
      "cell_type": "code",
      "source": [
        "X = X_train[:,:-1]\n",
        "y = X_train[:,-1]"
      ],
      "metadata": {
        "id": "Yqiiip1ofAOT"
      },
      "execution_count": null,
      "outputs": []
    },
    {
      "cell_type": "code",
      "source": [
        "y = to_categorical(y, num_classes=vocab_size+1)"
      ],
      "metadata": {
        "id": "xsPM_4Hnf-CB"
      },
      "execution_count": null,
      "outputs": []
    },
    {
      "cell_type": "code",
      "source": [
        "seq_len = X.shape[1]"
      ],
      "metadata": {
        "id": "b4EMKYRGgGwN"
      },
      "execution_count": null,
      "outputs": []
    },
    {
      "cell_type": "code",
      "source": [
        "X.shape, y.shape"
      ],
      "metadata": {
        "colab": {
          "base_uri": "https://localhost:8080/"
        },
        "id": "lODA8ETZghau",
        "outputId": "d280ca27-e61f-4199-87f7-a8d96616d294"
      },
      "execution_count": null,
      "outputs": [
        {
          "output_type": "execute_result",
          "data": {
            "text/plain": [
              "((11312, 25), (11312, 2719))"
            ]
          },
          "metadata": {},
          "execution_count": 60
        }
      ]
    },
    {
      "cell_type": "code",
      "source": [
        "from keras.models import Sequential\n",
        "from keras.layers import Embedding, LSTM, Dropout, Dense"
      ],
      "metadata": {
        "id": "r03a2Hywgjff"
      },
      "execution_count": null,
      "outputs": []
    },
    {
      "cell_type": "code",
      "source": [
        "model = Sequential()\n",
        "\n",
        "model.add(Embedding(vocab_size+1, seq_len, input_length=seq_len))\n",
        "model.add(LSTM(50,return_sequences=True))\n",
        "model.add(LSTM(50))\n",
        "model.add(Dense(50, activation='relu'))\n",
        "\n",
        "model.add(Dense(vocab_size+1, activation='softmax'))\n",
        "\n",
        "model.compile(loss='categorical_crossentropy', optimizer='adam', metrics=['accuracy'])\n",
        "\n",
        "model.summary()"
      ],
      "metadata": {
        "colab": {
          "base_uri": "https://localhost:8080/",
          "height": 328
        },
        "id": "ZA8buQRFg83e",
        "outputId": "2b484d98-fe94-44dc-807b-e71ad652eac3"
      },
      "execution_count": null,
      "outputs": [
        {
          "output_type": "stream",
          "name": "stderr",
          "text": [
            "/usr/local/lib/python3.10/dist-packages/keras/src/layers/core/embedding.py:90: UserWarning: Argument `input_length` is deprecated. Just remove it.\n",
            "  warnings.warn(\n"
          ]
        },
        {
          "output_type": "display_data",
          "data": {
            "text/plain": [
              "\u001b[1mModel: \"sequential\"\u001b[0m\n"
            ],
            "text/html": [
              "<pre style=\"white-space:pre;overflow-x:auto;line-height:normal;font-family:Menlo,'DejaVu Sans Mono',consolas,'Courier New',monospace\"><span style=\"font-weight: bold\">Model: \"sequential\"</span>\n",
              "</pre>\n"
            ]
          },
          "metadata": {}
        },
        {
          "output_type": "display_data",
          "data": {
            "text/plain": [
              "┏━━━━━━━━━━━━━━━━━━━━━━━━━━━━━━━━━━━━━━┳━━━━━━━━━━━━━━━━━━━━━━━━━━━━━┳━━━━━━━━━━━━━━━━━┓\n",
              "┃\u001b[1m \u001b[0m\u001b[1mLayer (type)                        \u001b[0m\u001b[1m \u001b[0m┃\u001b[1m \u001b[0m\u001b[1mOutput Shape               \u001b[0m\u001b[1m \u001b[0m┃\u001b[1m \u001b[0m\u001b[1m        Param #\u001b[0m\u001b[1m \u001b[0m┃\n",
              "┡━━━━━━━━━━━━━━━━━━━━━━━━━━━━━━━━━━━━━━╇━━━━━━━━━━━━━━━━━━━━━━━━━━━━━╇━━━━━━━━━━━━━━━━━┩\n",
              "│ embedding (\u001b[38;5;33mEmbedding\u001b[0m)                │ ?                           │     \u001b[38;5;34m0\u001b[0m (unbuilt) │\n",
              "├──────────────────────────────────────┼─────────────────────────────┼─────────────────┤\n",
              "│ lstm (\u001b[38;5;33mLSTM\u001b[0m)                          │ ?                           │     \u001b[38;5;34m0\u001b[0m (unbuilt) │\n",
              "├──────────────────────────────────────┼─────────────────────────────┼─────────────────┤\n",
              "│ lstm_1 (\u001b[38;5;33mLSTM\u001b[0m)                        │ ?                           │     \u001b[38;5;34m0\u001b[0m (unbuilt) │\n",
              "├──────────────────────────────────────┼─────────────────────────────┼─────────────────┤\n",
              "│ dense (\u001b[38;5;33mDense\u001b[0m)                        │ ?                           │     \u001b[38;5;34m0\u001b[0m (unbuilt) │\n",
              "├──────────────────────────────────────┼─────────────────────────────┼─────────────────┤\n",
              "│ dense_1 (\u001b[38;5;33mDense\u001b[0m)                      │ ?                           │     \u001b[38;5;34m0\u001b[0m (unbuilt) │\n",
              "└──────────────────────────────────────┴─────────────────────────────┴─────────────────┘\n"
            ],
            "text/html": [
              "<pre style=\"white-space:pre;overflow-x:auto;line-height:normal;font-family:Menlo,'DejaVu Sans Mono',consolas,'Courier New',monospace\">┏━━━━━━━━━━━━━━━━━━━━━━━━━━━━━━━━━━━━━━┳━━━━━━━━━━━━━━━━━━━━━━━━━━━━━┳━━━━━━━━━━━━━━━━━┓\n",
              "┃<span style=\"font-weight: bold\"> Layer (type)                         </span>┃<span style=\"font-weight: bold\"> Output Shape                </span>┃<span style=\"font-weight: bold\">         Param # </span>┃\n",
              "┡━━━━━━━━━━━━━━━━━━━━━━━━━━━━━━━━━━━━━━╇━━━━━━━━━━━━━━━━━━━━━━━━━━━━━╇━━━━━━━━━━━━━━━━━┩\n",
              "│ embedding (<span style=\"color: #0087ff; text-decoration-color: #0087ff\">Embedding</span>)                │ ?                           │     <span style=\"color: #00af00; text-decoration-color: #00af00\">0</span> (unbuilt) │\n",
              "├──────────────────────────────────────┼─────────────────────────────┼─────────────────┤\n",
              "│ lstm (<span style=\"color: #0087ff; text-decoration-color: #0087ff\">LSTM</span>)                          │ ?                           │     <span style=\"color: #00af00; text-decoration-color: #00af00\">0</span> (unbuilt) │\n",
              "├──────────────────────────────────────┼─────────────────────────────┼─────────────────┤\n",
              "│ lstm_1 (<span style=\"color: #0087ff; text-decoration-color: #0087ff\">LSTM</span>)                        │ ?                           │     <span style=\"color: #00af00; text-decoration-color: #00af00\">0</span> (unbuilt) │\n",
              "├──────────────────────────────────────┼─────────────────────────────┼─────────────────┤\n",
              "│ dense (<span style=\"color: #0087ff; text-decoration-color: #0087ff\">Dense</span>)                        │ ?                           │     <span style=\"color: #00af00; text-decoration-color: #00af00\">0</span> (unbuilt) │\n",
              "├──────────────────────────────────────┼─────────────────────────────┼─────────────────┤\n",
              "│ dense_1 (<span style=\"color: #0087ff; text-decoration-color: #0087ff\">Dense</span>)                      │ ?                           │     <span style=\"color: #00af00; text-decoration-color: #00af00\">0</span> (unbuilt) │\n",
              "└──────────────────────────────────────┴─────────────────────────────┴─────────────────┘\n",
              "</pre>\n"
            ]
          },
          "metadata": {}
        },
        {
          "output_type": "display_data",
          "data": {
            "text/plain": [
              "\u001b[1m Total params: \u001b[0m\u001b[38;5;34m0\u001b[0m (0.00 B)\n"
            ],
            "text/html": [
              "<pre style=\"white-space:pre;overflow-x:auto;line-height:normal;font-family:Menlo,'DejaVu Sans Mono',consolas,'Courier New',monospace\"><span style=\"font-weight: bold\"> Total params: </span><span style=\"color: #00af00; text-decoration-color: #00af00\">0</span> (0.00 B)\n",
              "</pre>\n"
            ]
          },
          "metadata": {}
        },
        {
          "output_type": "display_data",
          "data": {
            "text/plain": [
              "\u001b[1m Trainable params: \u001b[0m\u001b[38;5;34m0\u001b[0m (0.00 B)\n"
            ],
            "text/html": [
              "<pre style=\"white-space:pre;overflow-x:auto;line-height:normal;font-family:Menlo,'DejaVu Sans Mono',consolas,'Courier New',monospace\"><span style=\"font-weight: bold\"> Trainable params: </span><span style=\"color: #00af00; text-decoration-color: #00af00\">0</span> (0.00 B)\n",
              "</pre>\n"
            ]
          },
          "metadata": {}
        },
        {
          "output_type": "display_data",
          "data": {
            "text/plain": [
              "\u001b[1m Non-trainable params: \u001b[0m\u001b[38;5;34m0\u001b[0m (0.00 B)\n"
            ],
            "text/html": [
              "<pre style=\"white-space:pre;overflow-x:auto;line-height:normal;font-family:Menlo,'DejaVu Sans Mono',consolas,'Courier New',monospace\"><span style=\"font-weight: bold\"> Non-trainable params: </span><span style=\"color: #00af00; text-decoration-color: #00af00\">0</span> (0.00 B)\n",
              "</pre>\n"
            ]
          },
          "metadata": {}
        }
      ]
    },
    {
      "cell_type": "code",
      "source": [
        "model.fit(X,y,batch_size=128, epochs=5, verbose=1)"
      ],
      "metadata": {
        "colab": {
          "base_uri": "https://localhost:8080/"
        },
        "id": "CIilqijuh9Cw",
        "outputId": "c8467c29-52df-44db-932e-ea03b1b7950b"
      },
      "execution_count": null,
      "outputs": [
        {
          "output_type": "stream",
          "name": "stdout",
          "text": [
            "Epoch 1/5\n",
            "\u001b[1m89/89\u001b[0m \u001b[32m━━━━━━━━━━━━━━━━━━━━\u001b[0m\u001b[37m\u001b[0m \u001b[1m11s\u001b[0m 71ms/step - accuracy: 0.0308 - loss: 7.4624\n",
            "Epoch 2/5\n",
            "\u001b[1m89/89\u001b[0m \u001b[32m━━━━━━━━━━━━━━━━━━━━\u001b[0m\u001b[37m\u001b[0m \u001b[1m7s\u001b[0m 78ms/step - accuracy: 0.0562 - loss: 6.3437\n",
            "Epoch 3/5\n",
            "\u001b[1m89/89\u001b[0m \u001b[32m━━━━━━━━━━━━━━━━━━━━\u001b[0m\u001b[37m\u001b[0m \u001b[1m9s\u001b[0m 61ms/step - accuracy: 0.0491 - loss: 6.3229\n",
            "Epoch 4/5\n",
            "\u001b[1m89/89\u001b[0m \u001b[32m━━━━━━━━━━━━━━━━━━━━\u001b[0m\u001b[37m\u001b[0m \u001b[1m10s\u001b[0m 57ms/step - accuracy: 0.0529 - loss: 6.2177\n",
            "Epoch 5/5\n",
            "\u001b[1m89/89\u001b[0m \u001b[32m━━━━━━━━━━━━━━━━━━━━\u001b[0m\u001b[37m\u001b[0m \u001b[1m7s\u001b[0m 76ms/step - accuracy: 0.0516 - loss: 6.1564\n"
          ]
        },
        {
          "output_type": "execute_result",
          "data": {
            "text/plain": [
              "<keras.src.callbacks.history.History at 0x7d93f0b5be20>"
            ]
          },
          "metadata": {},
          "execution_count": 63
        }
      ]
    },
    {
      "cell_type": "markdown",
      "source": [
        "# ***Practice***"
      ],
      "metadata": {
        "id": "GQzixs4hkm81"
      }
    },
    {
      "cell_type": "code",
      "source": [
        "print(tokens)"
      ],
      "metadata": {
        "colab": {
          "base_uri": "https://localhost:8080/"
        },
        "id": "9pXIheAWjJpD",
        "outputId": "62b57e45-94d2-48e2-a8c6-4d70b957de63"
      },
      "execution_count": null,
      "outputs": [
        {
          "output_type": "stream",
          "name": "stdout",
          "text": [
            "['call', 'me', 'ishmael', 'some', 'years', 'ago', 'never', 'mind', 'how', 'long', 'precisely', 'having', 'little', 'or', 'no', 'money', 'in', 'my', 'purse', 'and', 'nothing', 'particular', 'to', 'interest', 'me', 'on', 'shore', 'i', 'thought', 'i', 'would', 'sail', 'about', 'a', 'little', 'and', 'see', 'the', 'watery', 'part', 'of', 'the', 'world', 'it', 'is', 'a', 'way', 'i', 'have', 'of', 'driving', 'off', 'the', 'spleen', 'and', 'regulating', 'the', 'circulation', 'whenever', 'i', 'find', 'myself', 'growing', 'grim', 'about', 'the', 'mouth', 'whenever', 'it', 'is', 'a', 'damp', 'drizzly', 'november', 'in', 'my', 'soul', 'whenever', 'i', 'find', 'myself', 'involuntarily', 'pausing', 'before', 'coffin', 'warehouses', 'and', 'bringing', 'up', 'the', 'rear', 'of', 'every', 'funeral', 'i', 'meet', 'and', 'especially', 'whenever', 'my', 'hypos', 'get', 'such', 'an', 'upper', 'hand', 'of', 'me', 'that', 'it', 'requires', 'a', 'strong', 'moral', 'principle', 'to', 'prevent', 'me', 'from', 'deliberately', 'stepping', 'into', 'the', 'street', 'and', 'methodically', 'knocking', 'people', \"'s\", 'hats', 'off', 'then', 'i', 'account', 'it', 'high', 'time', 'to', 'get', 'to', 'sea', 'as', 'soon', 'as', 'i', 'can', 'this', 'is', 'my', 'substitute', 'for', 'pistol', 'and', 'ball', 'with', 'a', 'philosophical', 'flourish', 'cato', 'throws', 'himself', 'upon', 'his', 'sword', 'i', 'quietly', 'take', 'to', 'the', 'ship', 'there', 'is', 'nothing', 'surprising', 'in', 'this', 'if', 'they', 'but', 'knew', 'it', 'almost', 'all', 'men', 'in', 'their', 'degree', 'some', 'time', 'or', 'other', 'cherish', 'very', 'nearly', 'the', 'same', 'feelings', 'towards', 'the', 'ocean', 'with', 'me', 'there', 'now', 'is', 'your', 'insular', 'city', 'of', 'the', 'manhattoes', 'belted', 'round', 'by', 'wharves', 'as', 'indian', 'isles', 'by', 'coral', 'reefs', 'commerce', 'surrounds', 'it', 'with', 'her', 'surf', 'right', 'and', 'left', 'the', 'streets', 'take', 'you', 'waterward', 'its', 'extreme', 'downtown', 'is', 'the', 'battery', 'where', 'that', 'noble', 'mole', 'is', 'washed', 'by', 'waves', 'and', 'cooled', 'by', 'breezes', 'which', 'a', 'few', 'hours', 'previous', 'were', 'out', 'of', 'sight', 'of', 'land', 'look', 'at', 'the', 'crowds', 'of', 'water', 'gazers', 'there', 'circumambulate', 'the', 'city', 'of', 'a', 'dreamy', 'sabbath', 'afternoon', 'go', 'from', 'corlears', 'hook', 'to', 'coenties', 'slip', 'and', 'from', 'thence', 'by', 'whitehall', 'northward', 'what', 'do', 'you', 'see?--posted', 'like', 'silent', 'sentinels', 'all', 'around', 'the', 'town', 'stand', 'thousands', 'upon', 'thousands', 'of', 'mortal', 'men', 'fixed', 'in', 'ocean', 'reveries', 'some', 'leaning', 'against', 'the', 'spiles', 'some', 'seated', 'upon', 'the', 'pier', 'heads', 'some', 'looking', 'over', 'the', 'bulwarks', 'of', 'ships', 'from', 'china', 'some', 'high', 'aloft', 'in', 'the', 'rigging', 'as', 'if', 'striving', 'to', 'get', 'a', 'still', 'better', 'seaward', 'peep', 'but', 'these', 'are', 'all', 'landsmen', 'of', 'week', 'days', 'pent', 'up', 'in', 'lath', 'and', 'plaster', 'tied', 'to', 'counters', 'nailed', 'to', 'benches', 'clinched', 'to', 'desks', 'how', 'then', 'is', 'this', 'are', 'the', 'green', 'fields', 'gone', 'what', 'do', 'they', 'here', 'but', 'look', 'here', 'come', 'more', 'crowds', 'pacing', 'straight', 'for', 'the', 'water', 'and', 'seemingly', 'bound', 'for', 'a', 'dive', 'strange', 'nothing', 'will', 'content', 'them', 'but', 'the', 'extremest', 'limit', 'of', 'the', 'land', 'loitering', 'under', 'the', 'shady', 'lee', 'of', 'yonder', 'warehouses', 'will', 'not', 'suffice', 'no', 'they', 'must', 'get', 'just', 'as', 'nigh', 'the', 'water', 'as', 'they', 'possibly', 'can', 'without', 'falling', 'in', 'and', 'there', 'they', 'stand', 'miles', 'of', 'them', 'leagues', 'inlanders', 'all', 'they', 'come', 'from', 'lanes', 'and', 'alleys', 'streets', 'and', 'avenues', 'north', 'east', 'south', 'and', 'west', 'yet', 'here', 'they', 'all', 'unite', 'tell', 'me', 'does', 'the', 'magnetic', 'virtue', 'of', 'the', 'needles', 'of', 'the', 'compasses', 'of', 'all', 'those', 'ships', 'attract', 'them', 'thither', 'once', 'more', 'say', 'you', 'are', 'in', 'the', 'country', 'in', 'some', 'high', 'land', 'of', 'lakes', 'take', 'almost', 'any', 'path', 'you', 'please', 'and', 'ten', 'to', 'one', 'it', 'carries', 'you', 'down', 'in', 'a', 'dale', 'and', 'leaves', 'you', 'there', 'by', 'a', 'pool', 'in', 'the', 'stream', 'there', 'is', 'magic', 'in', 'it', 'let', 'the', 'most', 'absent', 'minded', 'of', 'men', 'be', 'plunged', 'in', 'his', 'deepest', 'reveries', 'stand', 'that', 'man', 'on', 'his', 'legs', 'set', 'his', 'feet', 'a', 'going', 'and', 'he', 'will', 'infallibly', 'lead', 'you', 'to', 'water', 'if', 'water', 'there', 'be', 'in', 'all', 'that', 'region', 'should', 'you', 'ever', 'be', 'athirst', 'in', 'the', 'great', 'american', 'desert', 'try', 'this', 'experiment', 'if', 'your', 'caravan', 'happen', 'to', 'be', 'supplied', 'with', 'a', 'metaphysical', 'professor', 'yes', 'as', 'every', 'one', 'knows', 'meditation', 'and', 'water', 'are', 'wedded', 'for', 'ever', 'but', 'here', 'is', 'an', 'artist', 'he', 'desires', 'to', 'paint', 'you', 'the', 'dreamiest', 'shadiest', 'quietest', 'most', 'enchanting', 'bit', 'of', 'romantic', 'landscape', 'in', 'all', 'the', 'valley', 'of', 'the', 'saco', 'what', 'is', 'the', 'chief', 'element', 'he', 'employs', 'there', 'stand', 'his', 'trees', 'each', 'with', 'a', 'hollow', 'trunk', 'as', 'if', 'a', 'hermit', 'and', 'a', 'crucifix', 'were', 'within', 'and', 'here', 'sleeps', 'his', 'meadow', 'and', 'there', 'sleep', 'his', 'cattle', 'and', 'up', 'from', 'yonder', 'cottage', 'goes', 'a', 'sleepy', 'smoke', 'deep', 'into', 'distant', 'woodlands', 'winds', 'a', 'mazy', 'way', 'reaching', 'to', 'overlapping', 'spurs', 'of', 'mountains', 'bathed', 'in', 'their', 'hill', 'side', 'blue', 'but', 'though', 'the', 'picture', 'lies', 'thus', 'tranced', 'and', 'though', 'this', 'pine', 'tree', 'shakes', 'down', 'its', 'sighs', 'like', 'leaves', 'upon', 'this', 'shepherd', \"'s\", 'head', 'yet', 'all', 'were', 'vain', 'unless', 'the', 'shepherd', \"'s\", 'eye', 'were', 'fixed', 'upon', 'the', 'magic', 'stream', 'before', 'him', 'go', 'visit', 'the', 'prairies', 'in', 'june', 'when', 'for', 'scores', 'on', 'scores', 'of', 'miles', 'you', 'wade', 'knee', 'deep', 'among', 'tiger', 'lilies', 'what', 'is', 'the', 'one', 'charm', 'wanting?--water', 'there', 'is', 'not', 'a', 'drop', 'of', 'water', 'there', 'were', 'niagara', 'but', 'a', 'cataract', 'of', 'sand', 'would', 'you', 'travel', 'your', 'thousand', 'miles', 'to', 'see', 'it', 'why', 'did', 'the', 'poor', 'poet', 'of', 'tennessee', 'upon', 'suddenly', 'receiving', 'two', 'handfuls', 'of', 'silver', 'deliberate', 'whether', 'to', 'buy', 'him', 'a', 'coat', 'which', 'he', 'sadly', 'needed', 'or', 'invest', 'his', 'money', 'in', 'a', 'pedestrian', 'trip', 'to', 'rockaway', 'beach', 'why', 'is', 'almost', 'every', 'robust', 'healthy', 'boy', 'with', 'a', 'robust', 'healthy', 'soul', 'in', 'him', 'at', 'some', 'time', 'or', 'other', 'crazy', 'to', 'go', 'to', 'sea', 'why', 'upon', 'your', 'first', 'voyage', 'as', 'a', 'passenger', 'did', 'you', 'yourself', 'feel', 'such', 'a', 'mystical', 'vibration', 'when', 'first', 'told', 'that', 'you', 'and', 'your', 'ship', 'were', 'now', 'out', 'of', 'sight', 'of', 'land', 'why', 'did', 'the', 'old', 'persians', 'hold', 'the', 'sea', 'holy', 'why', 'did', 'the', 'greeks', 'give', 'it', 'a', 'separate', 'deity', 'and', 'own', 'brother', 'of', 'jove', 'surely', 'all', 'this', 'is', 'not', 'without', 'meaning', 'and', 'still', 'deeper', 'the', 'meaning', 'of', 'that', 'story', 'of', 'narcissus', 'who', 'because', 'he', 'could', 'not', 'grasp', 'the', 'tormenting', 'mild', 'image', 'he', 'saw', 'in', 'the', 'fountain', 'plunged', 'into', 'it', 'and', 'was', 'drowned', 'but', 'that', 'same', 'image', 'we', 'ourselves', 'see', 'in', 'all', 'rivers', 'and', 'oceans', 'it', 'is', 'the', 'image', 'of', 'the', 'ungraspable', 'phantom', 'of', 'life', 'and', 'this', 'is', 'the', 'key', 'to', 'it', 'all', 'now', 'when', 'i', 'say', 'that', 'i', 'am', 'in', 'the', 'habit', 'of', 'going', 'to', 'sea', 'whenever', 'i', 'begin', 'to', 'grow', 'hazy', 'about', 'the', 'eyes', 'and', 'begin', 'to', 'be', 'over', 'conscious', 'of', 'my', 'lungs', 'i', 'do', 'not', 'mean', 'to', 'have', 'it', 'inferred', 'that', 'i', 'ever', 'go', 'to', 'sea', 'as', 'a', 'passenger', 'for', 'to', 'go', 'as', 'a', 'passenger', 'you', 'must', 'needs', 'have', 'a', 'purse', 'and', 'a', 'purse', 'is', 'but', 'a', 'rag', 'unless', 'you', 'have', 'something', 'in', 'it', 'besides', 'passengers', 'get', 'sea', 'sick', 'grow', 'quarrelsome', \"don't\", 'sleep', 'of', 'nights', 'do', 'not', 'enjoy', 'themselves', 'much', 'as', 'a', 'general', 'thing;--no', 'i', 'never', 'go', 'as', 'a', 'passenger', 'nor', 'though', 'i', 'am', 'something', 'of', 'a', 'salt', 'do', 'i', 'ever', 'go', 'to', 'sea', 'as', 'a', 'commodore', 'or', 'a', 'captain', 'or', 'a', 'cook', 'i', 'abandon', 'the', 'glory', 'and', 'distinction', 'of', 'such', 'offices', 'to', 'those', 'who', 'like', 'them', 'for', 'my', 'part', 'i', 'abominate', 'all', 'honourable', 'respectable', 'toils', 'trials', 'and', 'tribulations', 'of', 'every', 'kind', 'whatsoever', 'it', 'is', 'quite', 'as', 'much', 'as', 'i', 'can', 'do', 'to', 'take', 'care', 'of', 'myself', 'without', 'taking', 'care', 'of', 'ships', 'barques', 'brigs', 'schooners', 'and', 'what', 'not', 'and', 'as', 'for', 'going', 'as', 'cook,--though', 'i', 'confess', 'there', 'is', 'considerable', 'glory', 'in', 'that', 'a', 'cook', 'being', 'a', 'sort', 'of', 'officer', 'on', 'ship', 'board', 'yet', 'somehow', 'i', 'never', 'fancied', 'broiling', 'fowls;--though', 'once', 'broiled', 'judiciously', 'buttered', 'and', 'judgmatically', 'salted', 'and', 'peppered', 'there', 'is', 'no', 'one', 'who', 'will', 'speak', 'more', 'respectfully', 'not', 'to', 'say', 'reverentially', 'of', 'a', 'broiled', 'fowl', 'than', 'i', 'will', 'it', 'is', 'out', 'of', 'the', 'idolatrous', 'dotings', 'of', 'the', 'old', 'egyptians', 'upon', 'broiled', 'ibis', 'and', 'roasted', 'river', 'horse', 'that', 'you', 'see', 'the', 'mummies', 'of', 'those', 'creatures', 'in', 'their', 'huge', 'bake', 'houses', 'the', 'pyramids', 'no', 'when', 'i', 'go', 'to', 'sea', 'i', 'go', 'as', 'a', 'simple', 'sailor', 'right', 'before', 'the', 'mast', 'plumb', 'down', 'into', 'the', 'forecastle', 'aloft', 'there', 'to', 'the', 'royal', 'mast', 'head', 'true', 'they', 'rather', 'order', 'me', 'about', 'some', 'and', 'make', 'me', 'jump', 'from', 'spar', 'to', 'spar', 'like', 'a', 'grasshopper', 'in', 'a', 'may', 'meadow', 'and', 'at', 'first', 'this', 'sort', 'of', 'thing', 'is', 'unpleasant', 'enough', 'it', 'touches', 'one', \"'s\", 'sense', 'of', 'honour', 'particularly', 'if', 'you', 'come', 'of', 'an', 'old', 'established', 'family', 'in', 'the', 'land', 'the', 'van', 'rensselaers', 'or', 'randolphs', 'or', 'hardicanutes', 'and', 'more', 'than', 'all', 'if', 'just', 'previous', 'to', 'putting', 'your', 'hand', 'into', 'the', 'tar', 'pot', 'you', 'have', 'been', 'lording', 'it', 'as', 'a', 'country', 'schoolmaster', 'making', 'the', 'tallest', 'boys', 'stand', 'in', 'awe', 'of', 'you', 'the', 'transition', 'is', 'a', 'keen', 'one', 'i', 'assure', 'you', 'from', 'a', 'schoolmaster', 'to', 'a', 'sailor', 'and', 'requires', 'a', 'strong', 'decoction', 'of', 'seneca', 'and', 'the', 'stoics', 'to', 'enable', 'you', 'to', 'grin', 'and', 'bear', 'it', 'but', 'even', 'this', 'wears', 'off', 'in', 'time', 'what', 'of', 'it', 'if', 'some', 'old', 'hunks', 'of', 'a', 'sea', 'captain', 'orders', 'me', 'to', 'get', 'a', 'broom', 'and', 'sweep', 'down', 'the', 'decks', 'what', 'does', 'that', 'indignity', 'amount', 'to', 'weighed', 'i', 'mean', 'in', 'the', 'scales', 'of', 'the', 'new', 'testament', 'do', 'you', 'think', 'the', 'archangel', 'gabriel', 'thinks', 'anything', 'the', 'less', 'of', 'me', 'because', 'i', 'promptly', 'and', 'respectfully', 'obey', 'that', 'old', 'hunks', 'in', 'that', 'particular', 'instance', 'who', 'ai', \"n't\", 'a', 'slave', 'tell', 'me', 'that', 'well', 'then', 'however', 'the', 'old', 'sea', 'captains', 'may', 'order', 'me', 'about', 'however', 'they', 'may', 'thump', 'and', 'punch', 'me', 'about', 'i', 'have', 'the', 'satisfaction', 'of', 'knowing', 'that', 'it', 'is', 'all', 'right', 'that', 'everybody', 'else', 'is', 'one', 'way', 'or', 'other', 'served', 'in', 'much', 'the', 'same', 'way', 'either', 'in', 'a', 'physical', 'or', 'metaphysical', 'point', 'of', 'view', 'that', 'is', 'and', 'so', 'the', 'universal', 'thump', 'is', 'passed', 'round', 'and', 'all', 'hands', 'should', 'rub', 'each', 'other', \"'s\", 'shoulder', 'blades', 'and', 'be', 'content', 'again', 'i', 'always', 'go', 'to', 'sea', 'as', 'a', 'sailor', 'because', 'they', 'make', 'a', 'point', 'of', 'paying', 'me', 'for', 'my', 'trouble', 'whereas', 'they', 'never', 'pay', 'passengers', 'a', 'single', 'penny', 'that', 'i', 'ever', 'heard', 'of', 'on', 'the', 'contrary', 'passengers', 'themselves', 'must', 'pay', 'and', 'there', 'is', 'all', 'the', 'difference', 'in', 'the', 'world', 'between', 'paying', 'and', 'being', 'paid', 'the', 'act', 'of', 'paying', 'is', 'perhaps', 'the', 'most', 'uncomfortable', 'infliction', 'that', 'the', 'two', 'orchard', 'thieves', 'entailed', 'upon', 'us', 'but', 'being', 'paid,--what', 'will', 'compare', 'with', 'it', 'the', 'urbane', 'activity', 'with', 'which', 'a', 'man', 'receives', 'money', 'is', 'really', 'marvellous', 'considering', 'that', 'we', 'so', 'earnestly', 'believe', 'money', 'to', 'be', 'the', 'root', 'of', 'all', 'earthly', 'ills', 'and', 'that', 'on', 'no', 'account', 'can', 'a', 'monied', 'man', 'enter', 'heaven', 'ah', 'how', 'cheerfully', 'we', 'consign', 'ourselves', 'to', 'perdition', 'finally', 'i', 'always', 'go', 'to', 'sea', 'as', 'a', 'sailor', 'because', 'of', 'the', 'wholesome', 'exercise', 'and', 'pure', 'air', 'of', 'the', 'fore', 'castle', 'deck', 'for', 'as', 'in', 'this', 'world', 'head', 'winds', 'are', 'far', 'more', 'prevalent', 'than', 'winds', 'from', 'astern', 'that', 'is', 'if', 'you', 'never', 'violate', 'the', 'pythagorean', 'maxim', 'so', 'for', 'the', 'most', 'part', 'the', 'commodore', 'on', 'the', 'quarter', 'deck', 'gets', 'his', 'atmosphere', 'at', 'second', 'hand', 'from', 'the', 'sailors', 'on', 'the', 'forecastle', 'he', 'thinks', 'he', 'breathes', 'it', 'first', 'but', 'not', 'so', 'in', 'much', 'the', 'same', 'way', 'do', 'the', 'commonalty', 'lead', 'their', 'leaders', 'in', 'many', 'other', 'things', 'at', 'the', 'same', 'time', 'that', 'the', 'leaders', 'little', 'suspect', 'it', 'but', 'wherefore', 'it', 'was', 'that', 'after', 'having', 'repeatedly', 'smelt', 'the', 'sea', 'as', 'a', 'merchant', 'sailor', 'i', 'should', 'now', 'take', 'it', 'into', 'my', 'head', 'to', 'go', 'on', 'a', 'whaling', 'voyage', 'this', 'the', 'invisible', 'police', 'officer', 'of', 'the', 'fates', 'who', 'has', 'the', 'constant', 'surveillance', 'of', 'me', 'and', 'secretly', 'dogs', 'me', 'and', 'influences', 'me', 'in', 'some', 'unaccountable', 'way', 'he', 'can', 'better', 'answer', 'than', 'any', 'one', 'else', 'and', 'doubtless', 'my', 'going', 'on', 'this', 'whaling', 'voyage', 'formed', 'part', 'of', 'the', 'grand', 'programme', 'of', 'providence', 'that', 'was', 'drawn', 'up', 'a', 'long', 'time', 'ago', 'it', 'came', 'in', 'as', 'a', 'sort', 'of', 'brief', 'interlude', 'and', 'solo', 'between', 'more', 'extensive', 'performances', 'i', 'take', 'it', 'that', 'this', 'part', 'of', 'the', 'bill', 'must', 'have', 'run', 'something', 'like', 'this', 'grand', 'contested', 'election', 'for', 'the', 'presidency', 'of', 'the', 'united', 'states', 'whaling', 'voyage', 'by', 'one', 'ishmael', 'bloody', 'battle', 'in', 'affghanistan', 'though', 'i', 'can', 'not', 'tell', 'why', 'it', 'was', 'exactly', 'that', 'those', 'stage', 'managers', 'the', 'fates', 'put', 'me', 'down', 'for', 'this', 'shabby', 'part', 'of', 'a', 'whaling', 'voyage', 'when', 'others', 'were', 'set', 'down', 'for', 'magnificent', 'parts', 'in', 'high', 'tragedies', 'and', 'short', 'and', 'easy', 'parts', 'in', 'genteel', 'comedies', 'and', 'jolly', 'parts', 'in', 'farces', 'though', 'i', 'can', 'not', 'tell', 'why', 'this', 'was', 'exactly', 'yet', 'now', 'that', 'i', 'recall', 'all', 'the', 'circumstances', 'i', 'think', 'i', 'can', 'see', 'a', 'little', 'into', 'the', 'springs', 'and', 'motives', 'which', 'being', 'cunningly', 'presented', 'to', 'me', 'under', 'various', 'disguises', 'induced', 'me', 'to', 'set', 'about', 'performing', 'the', 'part', 'i', 'did', 'besides', 'cajoling', 'me', 'into', 'the', 'delusion', 'that', 'it', 'was', 'a', 'choice', 'resulting', 'from', 'my', 'own', 'unbiased', 'freewill', 'and', 'discriminating', 'judgment', 'chief', 'among', 'these', 'motives', 'was', 'the', 'overwhelming', 'idea', 'of', 'the', 'great', 'whale', 'himself', 'such', 'a', 'portentous', 'and', 'mysterious', 'monster', 'roused', 'all', 'my', 'curiosity', 'then', 'the', 'wild', 'and', 'distant', 'seas', 'where', 'he', 'rolled', 'his', 'island', 'bulk', 'the', 'undeliverable', 'nameless', 'perils', 'of', 'the', 'whale', 'these', 'with', 'all', 'the', 'attending', 'marvels', 'of', 'a', 'thousand', 'patagonian', 'sights', 'and', 'sounds', 'helped', 'to', 'sway', 'me', 'to', 'my', 'wish', 'with', 'other', 'men', 'perhaps', 'such', 'things', 'would', 'not', 'have', 'been', 'inducements', 'but', 'as', 'for', 'me', 'i', 'am', 'tormented', 'with', 'an', 'everlasting', 'itch', 'for', 'things', 'remote', 'i', 'love', 'to', 'sail', 'forbidden', 'seas', 'and', 'land', 'on', 'barbarous', 'coasts', 'not', 'ignoring', 'what', 'is', 'good', 'i', 'am', 'quick', 'to', 'perceive', 'a', 'horror', 'and', 'could', 'still', 'be', 'social', 'with', 'it', 'would', 'they', 'let', 'me', 'since', 'it', 'is', 'but', 'well', 'to', 'be', 'on', 'friendly', 'terms', 'with', 'all', 'the', 'inmates', 'of', 'the', 'place', 'one', 'lodges', 'in', 'by', 'reason', 'of', 'these', 'things', 'then', 'the', 'whaling', 'voyage', 'was', 'welcome', 'the', 'great', 'flood', 'gates', 'of', 'the', 'wonder', 'world', 'swung', 'open', 'and', 'in', 'the', 'wild', 'conceits', 'that', 'swayed', 'me', 'to', 'my', 'purpose', 'two', 'and', 'two', 'there', 'floated', 'into', 'my', 'inmost', 'soul', 'endless', 'processions', 'of', 'the', 'whale', 'and', 'mid', 'most', 'of', 'them', 'all', 'one', 'grand', 'hooded', 'phantom', 'like', 'a', 'snow', 'hill', 'in', 'the', 'air', 'i', 'stuffed', 'a', 'shirt', 'or', 'two', 'into', 'my', 'old', 'carpet', 'bag', 'tucked', 'it', 'under', 'my', 'arm', 'and', 'started', 'for', 'cape', 'horn', 'and', 'the', 'pacific', 'quitting', 'the', 'good', 'city', 'of', 'old', 'manhatto', 'i', 'duly', 'arrived', 'in', 'new', 'bedford', 'it', 'was', 'a', 'saturday', 'night', 'in', 'december', 'much', 'was', 'i', 'disappointed', 'upon', 'learning', 'that', 'the', 'little', 'packet', 'for', 'nantucket', 'had', 'already', 'sailed', 'and', 'that', 'no', 'way', 'of', 'reaching', 'that', 'place', 'would', 'offer', 'till', 'the', 'following', 'monday', 'as', 'most', 'young', 'candidates', 'for', 'the', 'pains', 'and', 'penalties', 'of', 'whaling', 'stop', 'at', 'this', 'same', 'new', 'bedford', 'thence', 'to', 'embark', 'on', 'their', 'voyage', 'it', 'may', 'as', 'well', 'be', 'related', 'that', 'i', 'for', 'one', 'had', 'no', 'idea', 'of', 'so', 'doing', 'for', 'my', 'mind', 'was', 'made', 'up', 'to', 'sail', 'in', 'no', 'other', 'than', 'a', 'nantucket', 'craft', 'because', 'there', 'was', 'a', 'fine', 'boisterous', 'something', 'about', 'everything', 'connected', 'with', 'that', 'famous', 'old', 'island', 'which', 'amazingly', 'pleased', 'me', 'besides', 'though', 'new', 'bedford', 'has', 'of', 'late', 'been', 'gradually', 'monopolising', 'the', 'business', 'of', 'whaling', 'and', 'though', 'in', 'this', 'matter', 'poor', 'old', 'nantucket', 'is', 'now', 'much', 'behind', 'her', 'yet', 'nantucket', 'was', 'her', 'great', 'original', 'the', 'tyre', 'of', 'this', 'carthage;--the', 'place', 'where', 'the', 'first', 'dead', 'american', 'whale', 'was', 'stranded', 'where', 'else', 'but', 'from', 'nantucket', 'did', 'those', 'aboriginal', 'whalemen', 'the', 'red', 'men', 'first', 'sally', 'out', 'in', 'canoes', 'to', 'give', 'chase', 'to', 'the', 'leviathan', 'and', 'where', 'but', 'from', 'nantucket', 'too', 'did', 'that', 'first', 'adventurous', 'little', 'sloop', 'put', 'forth', 'partly', 'laden', 'with', 'imported', 'cobblestones', 'so', 'goes', 'the', 'story', 'to', 'throw', 'at', 'the', 'whales', 'in', 'order', 'to', 'discover', 'when', 'they', 'were', 'nigh', 'enough', 'to', 'risk', 'a', 'harpoon', 'from', 'the', 'bowsprit', 'now', 'having', 'a', 'night', 'a', 'day', 'and', 'still', 'another', 'night', 'following', 'before', 'me', 'in', 'new', 'bedford', 'ere', 'i', 'could', 'embark', 'for', 'my', 'destined', 'port', 'it', 'became', 'a', 'matter', 'of', 'concernment', 'where', 'i', 'was', 'to', 'eat', 'and', 'sleep', 'meanwhile', 'it', 'was', 'a', 'very', 'dubious', 'looking', 'nay', 'a', 'very', 'dark', 'and', 'dismal', 'night', 'bitingly', 'cold', 'and', 'cheerless', 'i', 'knew', 'no', 'one', 'in', 'the', 'place', 'with', 'anxious', 'grapnels', 'i', 'had', 'sounded', 'my', 'pocket', 'and', 'only', 'brought', 'up', 'a', 'few', 'pieces', 'of', 'silver,--so', 'wherever', 'you', 'go', 'ishmael', 'said', 'i', 'to', 'myself', 'as', 'i', 'stood', 'in', 'the', 'middle', 'of', 'a', 'dreary', 'street', 'shouldering', 'my', 'bag', 'and', 'comparing', 'the', 'gloom', 'towards', 'the', 'north', 'with', 'the', 'darkness', 'towards', 'the', 'south', 'wherever', 'in', 'your', 'wisdom', 'you', 'may', 'conclude', 'to', 'lodge', 'for', 'the', 'night', 'my', 'dear', 'ishmael', 'be', 'sure', 'to', 'inquire', 'the', 'price', 'and', 'do', \"n't\", 'be', 'too', 'particular', 'with', 'halting', 'steps', 'i', 'paced', 'the', 'streets', 'and', 'passed', 'the', 'sign', 'of', 'the', 'crossed', 'harpoons\"--but', 'it', 'looked', 'too', 'expensive', 'and', 'jolly', 'there', 'further', 'on', 'from', 'the', 'bright', 'red', 'windows', 'of', 'the', 'sword', 'fish', 'inn', 'there', 'came', 'such', 'fervent', 'rays', 'that', 'it', 'seemed', 'to', 'have', 'melted', 'the', 'packed', 'snow', 'and', 'ice', 'from', 'before', 'the', 'house', 'for', 'everywhere', 'else', 'the', 'congealed', 'frost', 'lay', 'ten', 'inches', 'thick', 'in', 'a', 'hard', 'asphaltic', 'pavement,--rather', 'weary', 'for', 'me', 'when', 'i', 'struck', 'my', 'foot', 'against', 'the', 'flinty', 'projections', 'because', 'from', 'hard', 'remorseless', 'service', 'the', 'soles', 'of', 'my', 'boots', 'were', 'in', 'a', 'most', 'miserable', 'plight', 'too', 'expensive', 'and', 'jolly', 'again', 'thought', 'i', 'pausing', 'one', 'moment', 'to', 'watch', 'the', 'broad', 'glare', 'in', 'the', 'street', 'and', 'hear', 'the', 'sounds', 'of', 'the', 'tinkling', 'glasses', 'within', 'but', 'go', 'on', 'ishmael', 'said', 'i', 'at', 'last', 'do', \"n't\", 'you', 'hear', 'get', 'away', 'from', 'before', 'the', 'door', 'your', 'patched', 'boots', 'are', 'stopping', 'the', 'way', 'so', 'on', 'i', 'went', 'i', 'now', 'by', 'instinct', 'followed', 'the', 'streets', 'that', 'took', 'me', 'waterward', 'for', 'there', 'doubtless', 'were', 'the', 'cheapest', 'if', 'not', 'the', 'cheeriest', 'inns', 'such', 'dreary', 'streets', 'blocks', 'of', 'blackness', 'not', 'houses', 'on', 'either', 'hand', 'and', 'here', 'and', 'there', 'a', 'candle', 'like', 'a', 'candle', 'moving', 'about', 'in', 'a', 'tomb', 'at', 'this', 'hour', 'of', 'the', 'night', 'of', 'the', 'last', 'day', 'of', 'the', 'week', 'that', 'quarter', 'of', 'the', 'town', 'proved', 'all', 'but', 'deserted', 'but', 'presently', 'i', 'came', 'to', 'a', 'smoky', 'light', 'proceeding', 'from', 'a', 'low', 'wide', 'building', 'the', 'door', 'of', 'which', 'stood', 'invitingly', 'open', 'it', 'had', 'a', 'careless', 'look', 'as', 'if', 'it', 'were', 'meant', 'for', 'the', 'uses', 'of', 'the', 'public', 'so', 'entering', 'the', 'first', 'thing', 'i', 'did', 'was', 'to', 'stumble', 'over', 'an', 'ash', 'box', 'in', 'the', 'porch', 'ha', 'thought', 'i', 'ha', 'as', 'the', 'flying', 'particles', 'almost', 'choked', 'me', 'are', 'these', 'ashes', 'from', 'that', 'destroyed', 'city', 'gomorrah', 'but', 'the', 'crossed', 'harpoons', 'and', 'the', 'sword', 'fish?\"--this', 'then', 'must', 'needs', 'be', 'the', 'sign', 'of', 'the', 'trap', 'however', 'i', 'picked', 'myself', 'up', 'and', 'hearing', 'a', 'loud', 'voice', 'within', 'pushed', 'on', 'and', 'opened', 'a', 'second', 'interior', 'door', 'it', 'seemed', 'the', 'great', 'black', 'parliament', 'sitting', 'in', 'tophet', 'a', 'hundred', 'black', 'faces', 'turned', 'round', 'in', 'their', 'rows', 'to', 'peer', 'and', 'beyond', 'a', 'black', 'angel', 'of', 'doom', 'was', 'beating', 'a', 'book', 'in', 'a', 'pulpit', 'it', 'was', 'a', 'negro', 'church', 'and', 'the', 'preacher', \"'s\", 'text', 'was', 'about', 'the', 'blackness', 'of', 'darkness', 'and', 'the', 'weeping', 'and', 'wailing', 'and', 'teeth', 'gnashing', 'there', 'ha', 'ishmael', 'muttered', 'i', 'backing', 'out', 'wretched', 'entertainment', 'at', 'the', 'sign', 'of', \"'\", 'the', 'trap', \"'\", 'moving', 'on', 'i', 'at', 'last', 'came', 'to', 'a', 'dim', 'sort', 'of', 'light', 'not', 'far', 'from', 'the', 'docks', 'and', 'heard', 'a', 'forlorn', 'creaking', 'in', 'the', 'air', 'and', 'looking', 'up', 'saw', 'a', 'swinging', 'sign', 'over', 'the', 'door', 'with', 'a', 'white', 'painting', 'upon', 'it', 'faintly', 'representing', 'a', 'tall', 'straight', 'jet', 'of', 'misty', 'spray', 'and', 'these', 'words', 'underneath--\"the', 'spouter', 'inn:--peter', 'coffin', 'coffin?--spouter?--rather', 'ominous', 'in', 'that', 'particular', 'connexion', 'thought', 'i.', 'but', 'it', 'is', 'a', 'common', 'name', 'in', 'nantucket', 'they', 'say', 'and', 'i', 'suppose', 'this', 'peter', 'here', 'is', 'an', 'emigrant', 'from', 'there', 'as', 'the', 'light', 'looked', 'so', 'dim', 'and', 'the', 'place', 'for', 'the', 'time', 'looked', 'quiet', 'enough', 'and', 'the', 'dilapidated', 'little', 'wooden', 'house', 'itself', 'looked', 'as', 'if', 'it', 'might', 'have', 'been', 'carted', 'here', 'from', 'the', 'ruins', 'of', 'some', 'burnt', 'district', 'and', 'as', 'the', 'swinging', 'sign', 'had', 'a', 'poverty', 'stricken', 'sort', 'of', 'creak', 'to', 'it', 'i', 'thought', 'that', 'here', 'was', 'the', 'very', 'spot', 'for', 'cheap', 'lodgings', 'and', 'the', 'best', 'of', 'pea', 'coffee', 'it', 'was', 'a', 'queer', 'sort', 'of', 'place', 'a', 'gable', 'ended', 'old', 'house', 'one', 'side', 'palsied', 'as', 'it', 'were', 'and', 'leaning', 'over', 'sadly', 'it', 'stood', 'on', 'a', 'sharp', 'bleak', 'corner', 'where', 'that', 'tempestuous', 'wind', 'euroclydon', 'kept', 'up', 'a', 'worse', 'howling', 'than', 'ever', 'it', 'did', 'about', 'poor', 'paul', \"'s\", 'tossed', 'craft', 'euroclydon', 'nevertheless', 'is', 'a', 'mighty', 'pleasant', 'zephyr', 'to', 'any', 'one', 'in', 'doors', 'with', 'his', 'feet', 'on', 'the', 'hob', 'quietly', 'toasting', 'for', 'bed', 'in', 'judging', 'of', 'that', 'tempestuous', 'wind', 'called', 'euroclydon', 'says', 'an', 'old', 'writer', 'of', 'whose', 'works', 'i', 'possess', 'the', 'only', 'copy', 'extant--\"it', 'maketh', 'a', 'marvellous', 'difference', 'whether', 'thou', 'lookest', 'out', 'at', 'it', 'from', 'a', 'glass', 'window', 'where', 'the', 'frost', 'is', 'all', 'on', 'the', 'outside', 'or', 'whether', 'thou', 'observest', 'it', 'from', 'that', 'sashless', 'window', 'where', 'the', 'frost', 'is', 'on', 'both', 'sides', 'and', 'of', 'which', 'the', 'wight', 'death', 'is', 'the', 'only', 'glazier', 'true', 'enough', 'thought', 'i', 'as', 'this', 'passage', 'occurred', 'to', 'my', 'mind', 'old', 'black', 'letter', 'thou', 'reasonest', 'well', 'yes', 'these', 'eyes', 'are', 'windows', 'and', 'this', 'body', 'of', 'mine', 'is', 'the', 'house', 'what', 'a', 'pity', 'they', 'did', \"n't\", 'stop', 'up', 'the', 'chinks', 'and', 'the', 'crannies', 'though', 'and', 'thrust', 'in', 'a', 'little', 'lint', 'here', 'and', 'there', 'but', 'it', \"'s\", 'too', 'late', 'to', 'make', 'any', 'improvements', 'now', 'the', 'universe', 'is', 'finished', 'the', 'copestone', 'is', 'on', 'and', 'the', 'chips', 'were', 'carted', 'off', 'a', 'million', 'years', 'ago', 'poor', 'lazarus', 'there', 'chattering', 'his', 'teeth', 'against', 'the', 'curbstone', 'for', 'his', 'pillow', 'and', 'shaking', 'off', 'his', 'tatters', 'with', 'his', 'shiverings', 'he', 'might', 'plug', 'up', 'both', 'ears', 'with', 'rags', 'and', 'put', 'a', 'corn', 'cob', 'into', 'his', 'mouth', 'and', 'yet', 'that', 'would', 'not', 'keep', 'out', 'the', 'tempestuous', 'euroclydon', 'euroclydon', 'says', 'old', 'dives', 'in', 'his', 'red', 'silken', 'wrapper--(he', 'had', 'a', 'redder', 'one', 'afterwards', 'pooh', 'pooh', 'what', 'a', 'fine', 'frosty', 'night', 'how', 'orion', 'glitters', 'what', 'northern', 'lights', 'let', 'them', 'talk', 'of', 'their', 'oriental', 'summer', 'climes', 'of', 'everlasting', 'conservatories', 'give', 'me', 'the', 'privilege', 'of', 'making', 'my', 'own', 'summer', 'with', 'my', 'own', 'coals', 'but', 'what', 'thinks', 'lazarus', 'can', 'he', 'warm', 'his', 'blue', 'hands', 'by', 'holding', 'them', 'up', 'to', 'the', 'grand', 'northern', 'lights', 'would', 'not', 'lazarus', 'rather', 'be', 'in', 'sumatra', 'than', 'here', 'would', 'he', 'not', 'far', 'rather', 'lay', 'him', 'down', 'lengthwise', 'along', 'the', 'line', 'of', 'the', 'equator', 'yea', 'ye', 'gods', 'go', 'down', 'to', 'the', 'fiery', 'pit', 'itself', 'in', 'order', 'to', 'keep', 'out', 'this', 'frost', 'now', 'that', 'lazarus', 'should', 'lie', 'stranded', 'there', 'on', 'the', 'curbstone', 'before', 'the', 'door', 'of', 'dives', 'this', 'is', 'more', 'wonderful', 'than', 'that', 'an', 'iceberg', 'should', 'be', 'moored', 'to', 'one', 'of', 'the', 'moluccas', 'yet', 'dives', 'himself', 'he', 'too', 'lives', 'like', 'a', 'czar', 'in', 'an', 'ice', 'palace', 'made', 'of', 'frozen', 'sighs', 'and', 'being', 'a', 'president', 'of', 'a', 'temperance', 'society', 'he', 'only', 'drinks', 'the', 'tepid', 'tears', 'of', 'orphans', 'but', 'no', 'more', 'of', 'this', 'blubbering', 'now', 'we', 'are', 'going', 'a', 'whaling', 'and', 'there', 'is', 'plenty', 'of', 'that', 'yet', 'to', 'come', 'let', 'us', 'scrape', 'the', 'ice', 'from', 'our', 'frosted', 'feet', 'and', 'see', 'what', 'sort', 'of', 'a', 'place', 'this', 'spouter', 'may', 'be', 'entering', 'that', 'gable', 'ended', 'spouter', 'inn', 'you', 'found', 'yourself', 'in', 'a', 'wide', 'low', 'straggling', 'entry', 'with', 'old', 'fashioned', 'wainscots', 'reminding', 'one', 'of', 'the', 'bulwarks', 'of', 'some', 'condemned', 'old', 'craft', 'on', 'one', 'side', 'hung', 'a', 'very', 'large', 'oilpainting', 'so', 'thoroughly', 'besmoked', 'and', 'every', 'way', 'defaced', 'that', 'in', 'the', 'unequal', 'crosslights', 'by', 'which', 'you', 'viewed', 'it', 'it', 'was', 'only', 'by', 'diligent', 'study', 'and', 'a', 'series', 'of', 'systematic', 'visits', 'to', 'it', 'and', 'careful', 'inquiry', 'of', 'the', 'neighbors', 'that', 'you', 'could', 'any', 'way', 'arrive', 'at', 'an', 'understanding', 'of', 'its', 'purpose', 'such', 'unaccountable', 'masses', 'of', 'shades', 'and', 'shadows', 'that', 'at', 'first', 'you', 'almost', 'thought', 'some', 'ambitious', 'young', 'artist', 'in', 'the', 'time', 'of', 'the', 'new', 'england', 'hags', 'had', 'endeavored', 'to', 'delineate', 'chaos', 'bewitched', 'but', 'by', 'dint', 'of', 'much', 'and', 'earnest', 'contemplation', 'and', 'oft', 'repeated', 'ponderings', 'and', 'especially', 'by', 'throwing', 'open', 'the', 'little', 'window', 'towards', 'the', 'back', 'of', 'the', 'entry', 'you', 'at', 'last', 'come', 'to', 'the', 'conclusion', 'that', 'such', 'an', 'idea', 'however', 'wild', 'might', 'not', 'be', 'altogether', 'unwarranted', 'but', 'what', 'most', 'puzzled', 'and', 'confounded', 'you', 'was', 'a', 'long', 'limber', 'portentous', 'black', 'mass', 'of', 'something', 'hovering', 'in', 'the', 'centre', 'of', 'the', 'picture', 'over', 'three', 'blue', 'dim', 'perpendicular', 'lines', 'floating', 'in', 'a', 'nameless', 'yeast', 'a', 'boggy', 'soggy', 'squitchy', 'picture', 'truly', 'enough', 'to', 'drive', 'a', 'nervous', 'man', 'distracted', 'yet', 'was', 'there', 'a', 'sort', 'of', 'indefinite', 'half', 'attained', 'unimaginable', 'sublimity', 'about', 'it', 'that', 'fairly', 'froze', 'you', 'to', 'it', 'till', 'you', 'involuntarily', 'took', 'an', 'oath', 'with', 'yourself', 'to', 'find', 'out', 'what', 'that', 'marvellous', 'painting', 'meant', 'ever', 'and', 'anon', 'a', 'bright', 'but', 'alas', 'deceptive', 'idea', 'would', 'dart', 'you', 'through.--it', \"'s\", 'the', 'black', 'sea', 'in', 'a', 'midnight', 'gale.--it', \"'s\", 'the', 'unnatural', 'combat', 'of', 'the', 'four', 'primal', 'elements.--it', \"'s\", 'a', 'blasted', 'heath.--it', \"'s\", 'a', 'hyperborean', 'winter', 'scene.--it', \"'s\", 'the', 'breaking', 'up', 'of', 'the', 'icebound', 'stream', 'of', 'time', 'but', 'at', 'last', 'all', 'these', 'fancies', 'yielded', 'to', 'that', 'one', 'portentous', 'something', 'in', 'the', 'picture', \"'s\", 'midst', 'that', 'once', 'found', 'out', 'and', 'all', 'the', 'rest', 'were', 'plain', 'but', 'stop', 'does', 'it', 'not', 'bear', 'a', 'faint', 'resemblance', 'to', 'a', 'gigantic', 'fish', 'even', 'the', 'great', 'leviathan', 'himself', 'in', 'fact', 'the', 'artist', \"'s\", 'design', 'seemed', 'this', 'a', 'final', 'theory', 'of', 'my', 'own', 'partly', 'based', 'upon', 'the', 'aggregated', 'opinions', 'of', 'many', 'aged', 'persons', 'with', 'whom', 'i', 'conversed', 'upon', 'the', 'subject', 'the', 'picture', 'represents', 'a', 'cape', 'horner', 'in', 'a', 'great', 'hurricane', 'the', 'half', 'foundered', 'ship', 'weltering', 'there', 'with', 'its', 'three', 'dismantled', 'masts', 'alone', 'visible', 'and', 'an', 'exasperated', 'whale', 'purposing', 'to', 'spring', 'clean', 'over', 'the', 'craft', 'is', 'in', 'the', 'enormous', 'act', 'of', 'impaling', 'himself', 'upon', 'the', 'three', 'mast', 'heads', 'the', 'opposite', 'wall', 'of', 'this', 'entry', 'was', 'hung', 'all', 'over', 'with', 'a', 'heathenish', 'array', 'of', 'monstrous', 'clubs', 'and', 'spears', 'some', 'were', 'thickly', 'set', 'with', 'glittering', 'teeth', 'resembling', 'ivory', 'saws', 'others', 'were', 'tufted', 'with', 'knots', 'of', 'human', 'hair', 'and', 'one', 'was', 'sickle', 'shaped', 'with', 'a', 'vast', 'handle', 'sweeping', 'round', 'like', 'the', 'segment', 'made', 'in', 'the', 'new', 'mown', 'grass', 'by', 'a', 'long', 'armed', 'mower', 'you', 'shuddered', 'as', 'you', 'gazed', 'and', 'wondered', 'what', 'monstrous', 'cannibal', 'and', 'savage', 'could', 'ever', 'have', 'gone', 'a', 'death', 'harvesting', 'with', 'such', 'a', 'hacking', 'horrifying', 'implement', 'mixed', 'with', 'these', 'were', 'rusty', 'old', 'whaling', 'lances', 'and', 'harpoons', 'all', 'broken', 'and', 'deformed', 'some', 'were', 'storied', 'weapons', 'with', 'this', 'once', 'long', 'lance', 'now', 'wildly', 'elbowed', 'fifty', 'years', 'ago', 'did', 'nathan', 'swain', 'kill', 'fifteen', 'whales', 'between', 'a', 'sunrise', 'and', 'a', 'sunset', 'and', 'that', 'harpoon', 'so', 'like', 'a', 'corkscrew', 'now', 'was', 'flung', 'in', 'javan', 'seas', 'and', 'run', 'away', 'with', 'by', 'a', 'whale', 'years', 'afterwards', 'slain', 'off', 'the', 'cape', 'of', 'blanco', 'the', 'original', 'iron', 'entered', 'nigh', 'the', 'tail', 'and', 'like', 'a', 'restless', 'needle', 'sojourning', 'in', 'the', 'body', 'of', 'a', 'man', 'travelled', 'full', 'forty', 'feet', 'and', 'at', 'last', 'was', 'found', 'imbedded', 'in', 'the', 'hump', 'crossing', 'this', 'dusky', 'entry', 'and', 'on', 'through', 'yon', 'low', 'arched', 'way', 'cut', 'through', 'what', 'in', 'old', 'times', 'must', 'have', 'been', 'a', 'great', 'central', 'chimney', 'with', 'fireplaces', 'all', 'round', 'you', 'enter', 'the', 'public', 'room', 'a', 'still', 'duskier', 'place', 'is', 'this', 'with', 'such', 'low', 'ponderous', 'beams', 'above', 'and', 'such', 'old', 'wrinkled', 'planks', 'beneath', 'that', 'you', 'would', 'almost', 'fancy', 'you', 'trod', 'some', 'old', 'craft', \"'s\", 'cockpits', 'especially', 'of', 'such', 'a', 'howling', 'night', 'when', 'this', 'corner', 'anchored', 'old', 'ark', 'rocked', 'so', 'furiously', 'on', 'one', 'side', 'stood', 'a', 'long', 'low', 'shelf', 'like', 'table', 'covered', 'with', 'cracked', 'glass', 'cases', 'filled', 'with', 'dusty', 'rarities', 'gathered', 'from', 'this', 'wide', 'world', \"'s\", 'remotest', 'nooks', 'projecting', 'from', 'the', 'further', 'angle', 'of', 'the', 'room', 'stands', 'a', 'dark', 'looking', 'den', 'the', 'bar', 'a', 'rude', 'attempt', 'at', 'a', 'right', 'whale', \"'s\", 'head', 'be', 'that', 'how', 'it', 'may', 'there', 'stands', 'the', 'vast', 'arched', 'bone', 'of', 'the', 'whale', \"'s\", 'jaw', 'so', 'wide', 'a', 'coach', 'might', 'almost', 'drive', 'beneath', 'it', 'within', 'are', 'shabby', 'shelves', 'ranged', 'round', 'with', 'old', 'decanters', 'bottles', 'flasks', 'and', 'in', 'those', 'jaws', 'of', 'swift', 'destruction', 'like', 'another', 'cursed', 'jonah', 'by', 'which', 'name', 'indeed', 'they', 'called', 'him', 'bustles', 'a', 'little', 'withered', 'old', 'man', 'who', 'for', 'their', 'money', 'dearly', 'sells', 'the', 'sailors', 'deliriums', 'and', 'death', 'abominable', 'are', 'the', 'tumblers', 'into', 'which', 'he', 'pours', 'his', 'poison', 'though', 'true', 'cylinders', 'without', 'within', 'the', 'villanous', 'green', 'goggling', 'glasses', 'deceitfully', 'tapered', 'downwards', 'to', 'a', 'cheating', 'bottom', 'parallel', 'meridians', 'rudely', 'pecked', 'into', 'the', 'glass', 'surround', 'these', 'footpads', \"'\", 'goblets', 'fill', 'to', 'this', 'mark', 'and', 'your', 'charge', 'is', 'but', 'a', 'penny', 'to', 'this', 'a', 'penny', 'more', 'and', 'so', 'on', 'to', 'the', 'full', 'glass', 'the', 'cape', 'horn', 'measure', 'which', 'you', 'may', 'gulp', 'down', 'for', 'a', 'shilling', 'upon', 'entering', 'the', 'place', 'i', 'found', 'a', 'number', 'of', 'young', 'seamen', 'gathered', 'about', 'a', 'table', 'examining', 'by', 'a', 'dim', 'light', 'divers', 'specimens', 'of', 'skrimshander', 'i', 'sought', 'the', 'landlord', 'and', 'telling', 'him', 'i', 'desired', 'to', 'be', 'accommodated', 'with', 'a', 'room', 'received', 'for', 'answer', 'that', 'his', 'house', 'was', 'full', 'not', 'a', 'bed', 'unoccupied', 'but', 'avast', 'he', 'added', 'tapping', 'his', 'forehead', 'you', 'haint', 'no', 'objections', 'to', 'sharing', 'a', 'harpooneer', \"'s\", 'blanket', 'have', 'ye', 'i', \"s'pose\", 'you', 'are', \"goin'\", 'a', 'whalin', \"'\", 'so', 'you', \"'d\", 'better', 'get', 'used', 'to', 'that', 'sort', 'of', 'thing', 'i', 'told', 'him', 'that', 'i', 'never', 'liked', 'to', 'sleep', 'two', 'in', 'a', 'bed', 'that', 'if', 'i', 'should', 'ever', 'do', 'so', 'it', 'would', 'depend', 'upon', 'who', 'the', 'harpooneer', 'might', 'be', 'and', 'that', 'if', 'he', 'the', 'landlord', 'really', 'had', 'no', 'other', 'place', 'for', 'me', 'and', 'the', 'harpooneer', 'was', 'not', 'decidedly', 'objectionable', 'why', 'rather', 'than', 'wander', 'further', 'about', 'a', 'strange', 'town', 'on', 'so', 'bitter', 'a', 'night', 'i', 'would', 'put', 'up', 'with', 'the', 'half', 'of', 'any', 'decent', 'man', \"'s\", 'blanket', 'i', 'thought', 'so', 'all', 'right', 'take', 'a', 'seat', 'supper?--you', 'want', 'supper', \"supper'll\", 'be', 'ready', 'directly', 'i', 'sat', 'down', 'on', 'an', 'old', 'wooden', 'settle', 'carved', 'all', 'over', 'like', 'a', 'bench', 'on', 'the', 'battery', 'at', 'one', 'end', 'a', 'ruminating', 'tar', 'was', 'still', 'further', 'adorning', 'it', 'with', 'his', 'jack', 'knife', 'stooping', 'over', 'and', 'diligently', 'working', 'away', 'at', 'the', 'space', 'between', 'his', 'legs', 'he', 'was', 'trying', 'his', 'hand', 'at', 'a', 'ship', 'under', 'full', 'sail', 'but', 'he', 'did', \"n't\", 'make', 'much', 'headway', 'i', 'thought', 'at', 'last', 'some', 'four', 'or', 'five', 'of', 'us', 'were', 'summoned', 'to', 'our', 'meal', 'in', 'an', 'adjoining', 'room', 'it', 'was', 'cold', 'as', 'iceland', 'no', 'fire', 'at', 'all', 'the', 'landlord', 'said', 'he', 'could', \"n't\", 'afford', 'it', 'nothing', 'but', 'two', 'dismal', 'tallow', 'candles', 'each', 'in', 'a', 'winding', 'sheet', 'we', 'were', 'fain', 'to', 'button', 'up', 'our', 'monkey', 'jackets', 'and', 'hold', 'to', 'our', 'lips', 'cups', 'of', 'scalding', 'tea', 'with', 'our', 'half', 'frozen', 'fingers', 'but', 'the', 'fare', 'was', 'of', 'the', 'most', 'substantial', 'kind', 'not', 'only', 'meat', 'and', 'potatoes', 'but', 'dumplings', 'good', 'heavens', 'dumplings', 'for', 'supper', 'one', 'young', 'fellow', 'in', 'a', 'green', 'box', 'coat', 'addressed', 'himself', 'to', 'these', 'dumplings', 'in', 'a', 'most', 'direful', 'manner', 'my', 'boy', 'said', 'the', 'landlord', 'you', \"'ll\", 'have', 'the', 'nightmare', 'to', 'a', 'dead', 'sartainty', 'landlord', 'i', 'whispered', 'that', 'ai', 'nt', 'the', 'harpooneer', 'is', 'it', 'oh', 'no', 'said', 'he', 'looking', 'a', 'sort', 'of', 'diabolically', 'funny', 'the', 'harpooneer', 'is', 'a', 'dark', 'complexioned', 'chap', 'he', 'never', 'eats', 'dumplings', 'he', \"don't\", 'he', 'eats', 'nothing', 'but', 'steaks', 'and', 'he', 'likes', \"'em\", 'rare', 'the', 'devil', 'he', 'does', 'says', 'i.', 'where', 'is', 'that', 'harpooneer', 'is', 'he', 'here', 'he', \"'ll\", 'be', 'here', 'afore', 'long', 'was', 'the', 'answer', 'i', 'could', 'not', 'help', 'it', 'but', 'i', 'began', 'to', 'feel', 'suspicious', 'of', 'this', 'dark', 'complexioned', 'harpooneer', 'at', 'any', 'rate', 'i', 'made', 'up', 'my', 'mind', 'that', 'if', 'it', 'so', 'turned', 'out', 'that', 'we', 'should', 'sleep', 'together', 'he', 'must', 'undress', 'and', 'get', 'into', 'bed', 'before', 'i', 'did', 'supper', 'over', 'the', 'company', 'went', 'back', 'to', 'the', 'bar', 'room', 'when', 'knowing', 'not', 'what', 'else', 'to', 'do', 'with', 'myself', 'i', 'resolved', 'to', 'spend', 'the', 'rest', 'of', 'the', 'evening', 'as', 'a', 'looker', 'on', 'presently', 'a', 'rioting', 'noise', 'was', 'heard', 'without', 'starting', 'up', 'the', 'landlord', 'cried', 'that', \"'s\", 'the', 'grampus', \"'s\", 'crew', 'i', 'seed', 'her', 'reported', 'in', 'the', 'offing', 'this', 'morning', 'a', 'three', 'years', \"'\", 'voyage', 'and', 'a', 'full', 'ship', 'hurrah', 'boys', 'now', 'we', \"'ll\", 'have', 'the', 'latest', 'news', 'from', 'the', 'feegees', 'a', 'tramping', 'of', 'sea', 'boots', 'was', 'heard', 'in', 'the', 'entry', 'the', 'door', 'was', 'flung', 'open', 'and', 'in', 'rolled', 'a', 'wild', 'set', 'of', 'mariners', 'enough', 'enveloped', 'in', 'their', 'shaggy', 'watch', 'coats', 'and', 'with', 'their', 'heads', 'muffled', 'in', 'woollen', 'comforters', 'all', 'bedarned', 'and', 'ragged', 'and', 'their', 'beards', 'stiff', 'with', 'icicles', 'they', 'seemed', 'an', 'eruption', 'of', 'bears', 'from', 'labrador', 'they', 'had', 'just', 'landed', 'from', 'their', 'boat', 'and', 'this', 'was', 'the', 'first', 'house', 'they', 'entered', 'no', 'wonder', 'then', 'that', 'they', 'made', 'a', 'straight', 'wake', 'for', 'the', 'whale', \"'s\", 'mouth', 'the', 'bar', 'when', 'the', 'wrinkled', 'little', 'old', 'jonah', 'there', 'officiating', 'soon', 'poured', 'them', 'out', 'brimmers', 'all', 'round', 'one', 'complained', 'of', 'a', 'bad', 'cold', 'in', 'his', 'head', 'upon', 'which', 'jonah', 'mixed', 'him', 'a', 'pitch', 'like', 'potion', 'of', 'gin', 'and', 'molasses', 'which', 'he', 'swore', 'was', 'a', 'sovereign', 'cure', 'for', 'all', 'colds', 'and', 'catarrhs', 'whatsoever', 'never', 'mind', 'of', 'how', 'long', 'standing', 'or', 'whether', 'caught', 'off', 'the', 'coast', 'of', 'labrador', 'or', 'on', 'the', 'weather', 'side', 'of', 'an', 'ice', 'island', 'the', 'liquor', 'soon', 'mounted', 'into', 'their', 'heads', 'as', 'it', 'generally', 'does', 'even', 'with', 'the', 'arrantest', 'topers', 'newly', 'landed', 'from', 'sea', 'and', 'they', 'began', 'capering', 'about', 'most', 'obstreperously', 'i', 'observed', 'however', 'that', 'one', 'of', 'them', 'held', 'somewhat', 'aloof', 'and', 'though', 'he', 'seemed', 'desirous', 'not', 'to', 'spoil', 'the', 'hilarity', 'of', 'his', 'shipmates', 'by', 'his', 'own', 'sober', 'face', 'yet', 'upon', 'the', 'whole', 'he', 'refrained', 'from', 'making', 'as', 'much', 'noise', 'as', 'the', 'rest', 'this', 'man', 'interested', 'me', 'at', 'once', 'and', 'since', 'the', 'sea', 'gods', 'had', 'ordained', 'that', 'he', 'should', 'soon', 'become', 'my', 'shipmate', 'though', 'but', 'a', 'sleeping', 'partner', 'one', 'so', 'far', 'as', 'this', 'narrative', 'is', 'concerned', 'i', 'will', 'here', 'venture', 'upon', 'a', 'little', 'description', 'of', 'him', 'he', 'stood', 'full', 'six', 'feet', 'in', 'height', 'with', 'noble', 'shoulders', 'and', 'a', 'chest', 'like', 'a', 'coffer', 'dam', 'i', 'have', 'seldom', 'seen', 'such', 'brawn', 'in', 'a', 'man', 'his', 'face', 'was', 'deeply', 'brown', 'and', 'burnt', 'making', 'his', 'white', 'teeth', 'dazzling', 'by', 'the', 'contrast', 'while', 'in', 'the', 'deep', 'shadows', 'of', 'his', 'eyes', 'floated', 'some', 'reminiscences', 'that', 'did', 'not', 'seem', 'to', 'give', 'him', 'much', 'joy', 'his', 'voice', 'at', 'once', 'announced', 'that', 'he', 'was', 'a', 'southerner', 'and', 'from', 'his', 'fine', 'stature', 'i', 'thought', 'he', 'must', 'be', 'one', 'of', 'those', 'tall', 'mountaineers', 'from', 'the', 'alleghanian', 'ridge', 'in', 'virginia', 'when', 'the', 'revelry', 'of', 'his', 'companions', 'had', 'mounted', 'to', 'its', 'height', 'this', 'man', 'slipped', 'away', 'unobserved', 'and', 'i', 'saw', 'no', 'more', 'of', 'him', 'till', 'he', 'became', 'my', 'comrade', 'on', 'the', 'sea', 'in', 'a', 'few', 'minutes', 'however', 'he', 'was', 'missed', 'by', 'his', 'shipmates', 'and', 'being', 'it', 'seems', 'for', 'some', 'reason', 'a', 'huge', 'favourite', 'with', 'them', 'they', 'raised', 'a', 'cry', 'of', 'bulkington', 'bulkington', 'where', \"'s\", 'bulkington', 'and', 'darted', 'out', 'of', 'the', 'house', 'in', 'pursuit', 'of', 'him', 'it', 'was', 'now', 'about', 'nine', \"o'clock\", 'and', 'the', 'room', 'seeming', 'almost', 'supernaturally', 'quiet', 'after', 'these', 'orgies', 'i', 'began', 'to', 'congratulate', 'myself', 'upon', 'a', 'little', 'plan', 'that', 'had', 'occurred', 'to', 'me', 'just', 'previous', 'to', 'the', 'entrance', 'of', 'the', 'seamen', 'no', 'man', 'prefers', 'to', 'sleep', 'two', 'in', 'a', 'bed', 'in', 'fact', 'you', 'would', 'a', 'good', 'deal', 'rather', 'not', 'sleep', 'with', 'your', 'own', 'brother', 'i', 'do', \"n't\", 'know', 'how', 'it', 'is', 'but', 'people', 'like', 'to', 'be', 'private', 'when', 'they', 'are', 'sleeping', 'and', 'when', 'it', 'comes', 'to', 'sleeping', 'with', 'an', 'unknown', 'stranger', 'in', 'a', 'strange', 'inn', 'in', 'a', 'strange', 'town', 'and', 'that', 'stranger', 'a', 'harpooneer', 'then', 'your', 'objections', 'indefinitely', 'multiply', 'nor', 'was', 'there', 'any', 'earthly', 'reason', 'why', 'i', 'as', 'a', 'sailor', 'should', 'sleep', 'two', 'in', 'a', 'bed', 'more', 'than', 'anybody', 'else', 'for', 'sailors', 'no', 'more', 'sleep', 'two', 'in', 'a', 'bed', 'at', 'sea', 'than', 'bachelor', 'kings', 'do', 'ashore', 'to', 'be', 'sure', 'they', 'all', 'sleep', 'together', 'in', 'one', 'apartment', 'but', 'you', 'have', 'your', 'own', 'hammock', 'and', 'cover', 'yourself', 'with', 'your', 'own', 'blanket', 'and', 'sleep', 'in', 'your', 'own', 'skin', 'the', 'more', 'i', 'pondered', 'over', 'this', 'harpooneer', 'the', 'more', 'i', 'abominated', 'the', 'thought', 'of', 'sleeping', 'with', 'him', 'it', 'was', 'fair', 'to', 'presume', 'that', 'being', 'a', 'harpooneer', 'his', 'linen', 'or', 'woollen', 'as', 'the', 'case', 'might', 'be', 'would', 'not', 'be', 'of', 'the', 'tidiest', 'certainly', 'none', 'of', 'the', 'finest', 'i', 'began', 'to', 'twitch', 'all', 'over', 'besides', 'it', 'was', 'getting', 'late', 'and', 'my', 'decent', 'harpooneer', 'ought', 'to', 'be', 'home', 'and', 'going', 'bedwards', 'suppose', 'now', 'he', 'should', 'tumble', 'in', 'upon', 'me', 'at', 'midnight', 'how', 'could', 'i', 'tell', 'from', 'what', 'vile', 'hole', 'he', 'had', 'been', 'coming', 'landlord', 'i', \"'ve\", 'changed', 'my', 'mind', 'about', 'that', 'harpooneer.--i', 'sha', \"n't\", 'sleep', 'with', 'him', 'i', \"'ll\", 'try', 'the', 'bench', 'here', 'just', 'as', 'you', 'please', 'i', \"'m\", 'sorry', 'i', 'ca', 'nt', 'spare', 'ye', 'a', 'tablecloth', 'for', 'a', 'mattress', 'and', 'it', \"'s\", 'a', 'plaguy', 'rough', 'board', 'here\"--feeling', 'of', 'the', 'knots', 'and', 'notches', 'but', 'wait', 'a', 'bit', 'skrimshander', 'i', \"'ve\", 'got', 'a', 'carpenter', \"'s\", 'plane', 'there', 'in', 'the', 'bar', 'wait', 'i', 'say', 'and', 'i', \"'ll\", 'make', 'ye', 'snug', 'enough', 'so', 'saying', 'he', 'procured', 'the', 'plane', 'and', 'with', 'his', 'old', 'silk', 'handkerchief', 'first', 'dusting', 'the', 'bench', 'vigorously', 'set', 'to', 'planing', 'away', 'at', 'my', 'bed', 'the', 'while', 'grinning', 'like', 'an', 'ape', 'the', 'shavings', 'flew', 'right', 'and', 'left', 'till', 'at', 'last', 'the', 'plane', 'iron', 'came', 'bump', 'against', 'an', 'indestructible', 'knot', 'the', 'landlord', 'was', 'near', 'spraining', 'his', 'wrist', 'and', 'i', 'told', 'him', 'for', 'heaven', \"'s\", 'sake', 'to', 'quit', 'the', 'bed', 'was', 'soft', 'enough', 'to', 'suit', 'me', 'and', 'i', 'did', 'not', 'know', 'how', 'all', 'the', 'planing', 'in', 'the', 'world', 'could', 'make', 'eider', 'down', 'of', 'a', 'pine', 'plank', 'so', 'gathering', 'up', 'the', 'shavings', 'with', 'another', 'grin', 'and', 'throwing', 'them', 'into', 'the', 'great', 'stove', 'in', 'the', 'middle', 'of', 'the', 'room', 'he', 'went', 'about', 'his', 'business', 'and', 'left', 'me', 'in', 'a', 'brown', 'study', 'i', 'now', 'took', 'the', 'measure', 'of', 'the', 'bench', 'and', 'found', 'that', 'it', 'was', 'a', 'foot', 'too', 'short', 'but', 'that', 'could', 'be', 'mended', 'with', 'a', 'chair', 'but', 'it', 'was', 'a', 'foot', 'too', 'narrow', 'and', 'the', 'other', 'bench', 'in', 'the', 'room', 'was', 'about', 'four', 'inches', 'higher', 'than', 'the', 'planed', 'one', 'so', 'there', 'was', 'no', 'yoking', 'them', 'i', 'then', 'placed', 'the', 'first', 'bench', 'lengthwise', 'along', 'the', 'only', 'clear', 'space', 'against', 'the', 'wall', 'leaving', 'a', 'little', 'interval', 'between', 'for', 'my', 'back', 'to', 'settle', 'down', 'in', 'but', 'i', 'soon', 'found', 'that', 'there', 'came', 'such', 'a', 'draught', 'of', 'cold', 'air', 'over', 'me', 'from', 'under', 'the', 'sill', 'of', 'the', 'window', 'that', 'this', 'plan', 'would', 'never', 'do', 'at', 'all', 'especially', 'as', 'another', 'current', 'from', 'the', 'rickety', 'door', 'met', 'the', 'one', 'from', 'the', 'window', 'and', 'both', 'together', 'formed', 'a', 'series', 'of', 'small', 'whirlwinds', 'in', 'the', 'immediate', 'vicinity', 'of', 'the', 'spot', 'where', 'i', 'had', 'thought', 'to', 'spend', 'the', 'night', 'the', 'devil', 'fetch', 'that', 'harpooneer', 'thought', 'i', 'but', 'stop', 'could', \"n't\", 'i', 'steal', 'a', 'march', 'on', 'him', 'bolt', 'his', 'door', 'inside', 'and', 'jump', 'into', 'his', 'bed', 'not', 'to', 'be', 'wakened', 'by', 'the', 'most', 'violent', 'knockings', 'it', 'seemed', 'no', 'bad', 'idea', 'but', 'upon', 'second', 'thoughts', 'i', 'dismissed', 'it', 'for', 'who', 'could', 'tell', 'but', 'what', 'the', 'next', 'morning', 'so', 'soon', 'as', 'i', 'popped', 'out', 'of', 'the', 'room', 'the', 'harpooneer', 'might', 'be', 'standing', 'in', 'the', 'entry', 'all', 'ready', 'to', 'knock', 'me', 'down', 'still', 'looking', 'round', 'me', 'again', 'and', 'seeing', 'no', 'possible', 'chance', 'of', 'spending', 'a', 'sufferable', 'night', 'unless', 'in', 'some', 'other', 'person', \"'s\", 'bed', 'i', 'began', 'to', 'think', 'that', 'after', 'all', 'i', 'might', 'be', 'cherishing', 'unwarrantable', 'prejudices', 'against', 'this', 'unknown', 'harpooneer', 'thinks', 'i', 'i', \"'ll\", 'wait', 'awhile', 'he', 'must', 'be', 'dropping', 'in', 'before', 'long', 'i', \"'ll\", 'have', 'a', 'good', 'look', 'at', 'him', 'then', 'and', 'perhaps', 'we', 'may', 'become', 'jolly', 'good', 'bedfellows', 'after', 'all', 'there', \"'s\", 'no', 'telling', 'but', 'though', 'the', 'other', 'boarders', 'kept', 'coming', 'in', 'by', 'ones', 'twos', 'and', 'threes', 'and', 'going', 'to', 'bed', 'yet', 'no', 'sign', 'of', 'my', 'harpooneer', 'landlord', 'said', 'i', 'what', 'sort', 'of', 'a', 'chap', 'is', 'he', 'does', 'he', 'always', 'keep', 'such', 'late', 'hours', 'it', 'was', 'now', 'hard', 'upon', 'twelve', \"o'clock\", 'the', 'landlord', 'chuckled', 'again', 'with', 'his', 'lean', 'chuckle', 'and', 'seemed', 'to', 'be', 'mightily', 'tickled', 'at', 'something', 'beyond', 'my', 'comprehension', 'no', 'he', 'answered', 'generally', 'he', \"'s\", 'an', 'early', 'bird', 'airley', 'to', 'bed', 'and', 'airley', 'to', 'rise', 'yes', 'he', \"'s\", 'the', 'bird', 'what', 'catches', 'the', 'worm', 'but', 'to', 'night', 'he', 'went', 'out', 'a', 'peddling', 'you', 'see', 'and', 'i', 'do', \"n't\", 'see', 'what', 'on', 'airth', 'keeps', 'him', 'so', 'late', 'unless', 'may', 'be', 'he', 'ca', \"n't\", 'sell', 'his', 'head', 'ca', \"n't\", 'sell', 'his', 'head?--what', 'sort', 'of', 'a', 'bamboozingly', 'story', 'is', 'this', 'you', 'are', 'telling', 'me', 'getting', 'into', 'a', 'towering', 'rage', 'do', 'you', 'pretend', 'to', 'say', 'landlord', 'that', 'this', 'harpooneer', 'is', 'actually', 'engaged', 'this', 'blessed', 'saturday', 'night', 'or', 'rather', 'sunday', 'morning', 'in', 'peddling', 'his', 'head', 'around', 'this', 'town', 'that', \"'s\", 'precisely', 'it', 'said', 'the', 'landlord', 'and', 'i', 'told', 'him', 'he', 'could', \"n't\", 'sell', 'it', 'here', 'the', 'market', \"'s\", 'overstocked', 'with', 'what', 'shouted', 'i.', 'with', 'heads', 'to', 'be', 'sure', 'ai', \"n't\", 'there', 'too', 'many', 'heads', 'in', 'the', 'world', 'i', 'tell', 'you', 'what', 'it', 'is', 'landlord', 'said', 'i', 'quite', 'calmly', 'you', \"'d\", 'better', 'stop', 'spinning', 'that', 'yarn', 'to', 'me', \"i'm\", 'not', 'green', 'may', 'be', 'not', 'taking', 'out', 'a', 'stick', 'and', 'whittling', 'a', 'toothpick', 'but', 'i', 'rayther', 'guess', 'you', \"'ll\", 'be', 'done', 'brown', 'if', 'that', 'ere', 'harpooneer', 'hears', 'you', 'a', 'slanderin', \"'\", 'his', 'head', 'i', \"'ll\", 'break', 'it', 'for', 'him', 'said', 'i', 'now', 'flying', 'into', 'a', 'passion', 'again', 'at', 'this', 'unaccountable', 'farrago', 'of', 'the', 'landlord', \"'s\", 'it', \"'s\", 'broke', \"a'ready\", 'said', 'he', 'broke', 'said', 'i--\"broke', 'do', 'you', 'mean', 'sartain', 'and', 'that', \"'s\", 'the', 'very', 'reason', 'he', 'ca', \"n't\", 'sell', 'it', 'i', 'guess', 'landlord', 'said', 'i', 'going', 'up', 'to', 'him', 'as', 'cool', 'as', 'mt.', 'hecla', 'in', 'a', 'snow', 'storm--\"landlord', 'stop', 'whittling', 'you', 'and', 'i', 'must', 'understand', 'one', 'another', 'and', 'that', 'too', 'without', 'delay', 'i', 'come', 'to', 'your', 'house', 'and', 'want', 'a', 'bed', 'you', 'tell', 'me', 'you', 'can', 'only', 'give', 'me', 'half', 'a', 'one', 'that', 'the', 'other', 'half', 'belongs', 'to', 'a', 'certain', 'harpooneer', 'and', 'about', 'this', 'harpooneer', 'whom', 'i', 'have', 'not', 'yet', 'seen', 'you', 'persist', 'in', 'telling', 'me', 'the', 'most', 'mystifying', 'and', 'exasperating', 'stories', 'tending', 'to', 'beget', 'in', 'me', 'an', 'uncomfortable', 'feeling', 'towards', 'the', 'man', 'whom', 'you', 'design', 'for', 'my', 'bedfellow', 'a', 'sort', 'of', 'connexion', 'landlord', 'which', 'is', 'an', 'intimate', 'and', 'confidential', 'one', 'in', 'the', 'highest', 'degree', 'i', 'now', 'demand', 'of', 'you', 'to', 'speak', 'out', 'and', 'tell', 'me', 'who', 'and', 'what', 'this', 'harpooneer', 'is', 'and', 'whether', 'i', 'shall', 'be', 'in', 'all', 'respects', 'safe', 'to', 'spend', 'the', 'night', 'with', 'him', 'and', 'in', 'the', 'first', 'place', 'you', 'will', 'be', 'so', 'good', 'as', 'to', 'unsay', 'that', 'story', 'about', 'selling', 'his', 'head', 'which', 'if', 'true', 'i', 'take', 'to', 'be', 'good', 'evidence', 'that', 'this', 'harpooneer', 'is', 'stark', 'mad', 'and', 'i', \"'ve\", 'no', 'idea', 'of', 'sleeping', 'with', 'a', 'madman', 'and', 'you', 'sir', 'you', 'i', 'mean', 'landlord', 'you', 'sir', 'by', 'trying', 'to', 'induce', 'me', 'to', 'do', 'so', 'knowingly', 'would', 'thereby', 'render', 'yourself', 'liable', 'to', 'a', 'criminal', 'prosecution', 'wall', 'said', 'the', 'landlord', 'fetching', 'a', 'long', 'breath', 'that', \"'s\", 'a', 'purty', 'long', 'sarmon', 'for', 'a', 'chap', 'that', 'rips', 'a', 'little', 'now', 'and', 'then', 'but', 'be', 'easy', 'be', 'easy', 'this', 'here', 'harpooneer', 'i', 'have', 'been', 'tellin', \"'\", 'you', 'of', 'has', 'just', 'arrived', 'from', 'the', 'south', 'seas', 'where', 'he', 'bought', 'up', 'a', 'lot', 'of', \"'\", 'balmed', 'new', 'zealand', 'heads', 'great', 'curios', 'you', 'know', 'and', 'he', \"'s\", 'sold', 'all', 'on', \"'em\", 'but', 'one', 'and', 'that', 'one', 'he', \"'s\", 'trying', 'to', 'sell', 'to', 'night', 'cause', 'to', 'morrow', \"'s\", 'sunday', 'and', 'it', 'would', 'not', 'do', 'to', 'be', 'sellin', \"'\", 'human', 'heads', 'about', 'the', 'streets', 'when', 'folks', 'is', \"goin'\", 'to', 'churches', 'he', 'wanted', 'to', 'last', 'sunday', 'but', 'i', 'stopped', 'him', 'just', 'as', 'he', 'was', \"goin'\", 'out', 'of', 'the', 'door', 'with', 'four', 'heads', 'strung', 'on', 'a', 'string', 'for', 'all', 'the', 'airth', 'like', 'a', 'string', 'of', 'inions', 'this', 'account', 'cleared', 'up', 'the', 'otherwise', 'unaccountable', 'mystery', 'and', 'showed', 'that', 'the', 'landlord', 'after', 'all', 'had', 'had', 'no', 'idea', 'of', 'fooling', 'me', 'but', 'at', 'the', 'same', 'time', 'what', 'could', 'i', 'think', 'of', 'a', 'harpooneer', 'who', 'stayed', 'out', 'of', 'a', 'saturday', 'night', 'clean', 'into', 'the', 'holy', 'sabbath', 'engaged', 'in', 'such', 'a', 'cannibal', 'business', 'as', 'selling', 'the', 'heads', 'of', 'dead', 'idolators', 'depend', 'upon', 'it', 'landlord', 'that', 'harpooneer', 'is', 'a', 'dangerous', 'man', 'he', 'pays', \"reg'lar\", 'was', 'the', 'rejoinder', 'but', 'come', 'it', \"'s\", 'getting', 'dreadful', 'late', 'you', 'had', 'better', 'be', 'turning', 'flukes', 'it', \"'s\", 'a', 'nice', 'bed', 'sal', 'and', 'me', 'slept', 'in', 'that', 'ere', 'bed', 'the', 'night', 'we', 'were', 'spliced', 'there', \"'s\", 'plenty', 'of', 'room', 'for', 'two', 'to', 'kick', 'about', 'in', 'that', 'bed', 'it', \"'s\", 'an', 'almighty', 'big', 'bed', 'that', 'why', 'afore', 'we', 'give', 'it', 'up', 'sal', 'used', 'to', 'put', 'our', 'sam', 'and', 'little', 'johnny', 'in', 'the', 'foot', 'of', 'it', 'but', 'i', 'got', 'a', 'dreaming', 'and', 'sprawling', 'about', 'one', 'night', 'and', 'somehow', 'sam', 'got', 'pitched', 'on', 'the', 'floor', 'and', 'came', 'near', 'breaking', 'his', 'arm', 'arter', 'that', 'sal', 'said', 'it', 'would', \"n't\", 'do', 'come', 'along', 'here', 'i', \"'ll\", 'give', 'ye', 'a', 'glim', 'in', 'a', 'jiffy', 'and', 'so', 'saying', 'he', 'lighted', 'a', 'candle', 'and', 'held', 'it', 'towards', 'me', 'offering', 'to', 'lead', 'the', 'way', 'but', 'i', 'stood', 'irresolute', 'when', 'looking', 'at', 'a', 'clock', 'in', 'the', 'corner', 'he', 'exclaimed', 'i', 'vum', 'it', \"'s\", 'sunday', 'you', 'wo', \"n't\", 'see', 'that', 'harpooneer', 'to', 'night', 'he', \"'s\", 'come', 'to', 'anchor', 'somewhere', 'come', 'along', 'then', 'do', 'come', \"won't\", 'ye', 'come', 'i', 'considered', 'the', 'matter', 'a', 'moment', 'and', 'then', 'up', 'stairs', 'we', 'went', 'and', 'i', 'was', 'ushered', 'into', 'a', 'small', 'room', 'cold', 'as', 'a', 'clam', 'and', 'furnished', 'sure', 'enough', 'with', 'a', 'prodigious', 'bed', 'almost', 'big', 'enough', 'indeed', 'for', 'any', 'four', 'harpooneers', 'to', 'sleep', 'abreast', 'there', 'said', 'the', 'landlord', 'placing', 'the', 'candle', 'on', 'a', 'crazy', 'old', 'sea', 'chest', 'that', 'did', 'double', 'duty', 'as', 'a', 'wash', 'stand', 'and', 'centre', 'table', 'there', 'make', 'yourself', 'comfortable', 'now', 'and', 'good', 'night', 'to', 'ye', 'i', 'turned', 'round', 'from', 'eyeing', 'the', 'bed', 'but', 'he', 'had', 'disappeared', 'folding', 'back', 'the', 'counterpane', 'i', 'stooped', 'over', 'the', 'bed', 'though', 'none', 'of', 'the', 'most', 'elegant', 'it', 'yet', 'stood', 'the', 'scrutiny', 'tolerably', 'well', 'i', 'then', 'glanced', 'round', 'the', 'room', 'and', 'besides', 'the', 'bedstead', 'and', 'centre', 'table', 'could', 'see', 'no', 'other', 'furniture', 'belonging', 'to', 'the', 'place', 'but', 'a', 'rude', 'shelf', 'the', 'four', 'walls', 'and', 'a', 'papered', 'fireboard', 'representing', 'a', 'man', 'striking', 'a', 'whale', 'of', 'things', 'not', 'properly', 'belonging', 'to', 'the', 'room', 'there', 'was', 'a', 'hammock', 'lashed', 'up', 'and', 'thrown', 'upon', 'the', 'floor', 'in', 'one', 'corner', 'also', 'a', 'large', 'seaman', \"'s\", 'bag', 'containing', 'the', 'harpooneer', \"'s\", 'wardrobe', 'no', 'doubt', 'in', 'lieu', 'of', 'a', 'land', 'trunk', 'likewise', 'there', 'was', 'a', 'parcel', 'of', 'outlandish', 'bone', 'fish', 'hooks', 'on', 'the', 'shelf', 'over', 'the', 'fire', 'place', 'and', 'a', 'tall', 'harpoon', 'standing', 'at', 'the', 'head', 'of', 'the', 'bed', 'but', 'what', 'is', 'this', 'on', 'the', 'chest', 'i', 'took', 'it', 'up', 'and', 'held', 'it', 'close', 'to', 'the', 'light', 'and', 'felt', 'it', 'and', 'smelt', 'it', 'and', 'tried', 'every', 'way', 'possible', 'to', 'arrive', 'at', 'some', 'satisfactory', 'conclusion', 'concerning', 'it', 'i', 'can', 'compare', 'it', 'to', 'nothing', 'but', 'a', 'large', 'door', 'mat', 'ornamented', 'at', 'the', 'edges', 'with', 'little', 'tinkling', 'tags', 'something', 'like', 'the', 'stained', 'porcupine', 'quills', 'round', 'an', 'indian', 'moccasin', 'there', 'was', 'a', 'hole', 'or', 'slit', 'in', 'the', 'middle', 'of', 'this', 'mat', 'as', 'you', 'see', 'the', 'same', 'in', 'south', 'american', 'ponchos', 'but', 'could', 'it', 'be', 'possible', 'that', 'any', 'sober', 'harpooneer', 'would', 'get', 'into', 'a', 'door', 'mat', 'and', 'parade', 'the', 'streets', 'of', 'any', 'christian', 'town', 'in', 'that', 'sort', 'of', 'guise', 'i', 'put', 'it', 'on', 'to', 'try', 'it', 'and', 'it', 'weighed', 'me', 'down', 'like', 'a', 'hamper', 'being', 'uncommonly', 'shaggy', 'and', 'thick', 'and', 'i', 'thought', 'a', 'little', 'damp', 'as', 'though', 'this', 'mysterious', 'harpooneer', 'had', 'been', 'wearing', 'it', 'of', 'a', 'rainy', 'day', 'i', 'went', 'up', 'in', 'it', 'to', 'a', 'bit', 'of', 'glass', 'stuck', 'against', 'the', 'wall', 'and', 'i', 'never', 'saw', 'such', 'a', 'sight', 'in', 'my', 'life', 'i', 'tore', 'myself', 'out', 'of', 'it', 'in', 'such', 'a', 'hurry', 'that', 'i', 'gave', 'myself', 'a', 'kink', 'in', 'the', 'neck', 'i', 'sat', 'down', 'on', 'the', 'side', 'of', 'the', 'bed', 'and', 'commenced', 'thinking', 'about', 'this', 'head', 'peddling', 'harpooneer', 'and', 'his', 'door', 'mat', 'after', 'thinking', 'some', 'time', 'on', 'the', 'bed', 'side', 'i', 'got', 'up', 'and', 'took', 'off', 'my', 'monkey', 'jacket', 'and', 'then', 'stood', 'in', 'the', 'middle', 'of', 'the', 'room', 'thinking', 'i', 'then', 'took', 'off', 'my', 'coat', 'and', 'thought', 'a', 'little', 'more', 'in', 'my', 'shirt', 'sleeves', 'but', 'beginning', 'to', 'feel', 'very', 'cold', 'now', 'half', 'undressed', 'as', 'i', 'was', 'and', 'remembering', 'what', 'the', 'landlord', 'said', 'about', 'the', 'harpooneer', \"'s\", 'not', 'coming', 'home', 'at', 'all', 'that', 'night', 'it', 'being', 'so', 'very', 'late', 'i', 'made', 'no', 'more', 'ado', 'but', 'jumped', 'out', 'of', 'my', 'pantaloons', 'and', 'boots', 'and', 'then', 'blowing', 'out', 'the', 'light', 'tumbled', 'into', 'bed', 'and', 'commended', 'myself', 'to', 'the', 'care', 'of', 'heaven', 'whether', 'that', 'mattress', 'was', 'stuffed', 'with', 'corn', 'cobs', 'or', 'broken', 'crockery', 'there', 'is', 'no', 'telling', 'but', 'i', 'rolled', 'about', 'a', 'good', 'deal', 'and', 'could', 'not', 'sleep', 'for', 'a', 'long', 'time', 'at', 'last', 'i', 'slid', 'off', 'into', 'a', 'light', 'doze', 'and', 'had', 'pretty', 'nearly', 'made', 'a', 'good', 'offing', 'towards', 'the', 'land', 'of', 'nod', 'when', 'i', 'heard', 'a', 'heavy', 'footfall', 'in', 'the', 'passage', 'and', 'saw', 'a', 'glimmer', 'of', 'light', 'come', 'into', 'the', 'room', 'from', 'under', 'the', 'door', 'lord', 'save', 'me', 'thinks', 'i', 'that', 'must', 'be', 'the', 'harpooneer', 'the', 'infernal', 'head', 'peddler', 'but', 'i', 'lay', 'perfectly', 'still', 'and', 'resolved', 'not', 'to', 'say', 'a', 'word', 'till', 'spoken', 'to', 'holding', 'a', 'light', 'in', 'one', 'hand', 'and', 'that', 'identical', 'new', 'zealand', 'head', 'in', 'the', 'other', 'the', 'stranger', 'entered', 'the', 'room', 'and', 'without', 'looking', 'towards', 'the', 'bed', 'placed', 'his', 'candle', 'a', 'good', 'way', 'off', 'from', 'me', 'on', 'the', 'floor', 'in', 'one', 'corner', 'and', 'then', 'began', 'working', 'away', 'at', 'the', 'knotted', 'cords', 'of', 'the', 'large', 'bag', 'i', 'before', 'spoke', 'of', 'as', 'being', 'in', 'the', 'room', 'i', 'was', 'all', 'eagerness', 'to', 'see', 'his', 'face', 'but', 'he', 'kept', 'it', 'averted', 'for', 'some', 'time', 'while', 'employed', 'in', 'unlacing', 'the', 'bag', \"'s\", 'mouth', 'this', 'accomplished', 'however', 'he', 'turned', 'round', 'when', 'good', 'heavens', 'what', 'a', 'sight', 'such', 'a', 'face', 'it', 'was', 'of', 'a', 'dark', 'purplish', 'yellow', 'colour', 'here', 'and', 'there', 'stuck', 'over', 'with', 'large', 'blackish', 'looking', 'squares', 'yes', 'it', \"'s\", 'just', 'as', 'i', 'thought', 'he', \"'s\", 'a', 'terrible', 'bedfellow', 'he', \"'s\", 'been', 'in', 'a', 'fight', 'got', 'dreadfully', 'cut', 'and', 'here', 'he', 'is', 'just', 'from', 'the', 'surgeon', 'but', 'at', 'that', 'moment', 'he', 'chanced', 'to', 'turn', 'his', 'face', 'so', 'towards', 'the', 'light', 'that', 'i', 'plainly', 'saw', 'they', 'could', 'not', 'be', 'sticking', 'plasters', 'at', 'all', 'those', 'black', 'squares', 'on', 'his', 'cheeks', 'they', 'were', 'stains', 'of', 'some', 'sort', 'or', 'other', 'at', 'first', 'i', 'knew', 'not', 'what', 'to', 'make', 'of', 'this', 'but', 'soon', 'an', 'inkling', 'of', 'the', 'truth', 'occurred', 'to', 'me', 'i', 'remembered', 'a', 'story', 'of', 'a', 'white', 'man', 'a', 'whaleman', 'too', 'who', 'falling', 'among', 'the', 'cannibals', 'had', 'been', 'tattooed', 'by', 'them', 'i', 'concluded', 'that', 'this', 'harpooneer', 'in', 'the', 'course', 'of', 'his', 'distant', 'voyages', 'must', 'have', 'met', 'with', 'a', 'similar', 'adventure', 'and', 'what', 'is', 'it', 'thought', 'i', 'after', 'all', 'it', \"'s\", 'only', 'his', 'outside', 'a', 'man', 'can', 'be', 'honest', 'in', 'any', 'sort', 'of', 'skin', 'but', 'then', 'what', 'to', 'make', 'of', 'his', 'unearthly', 'complexion', 'that', 'part', 'of', 'it', 'i', 'mean', 'lying', 'round', 'about', 'and', 'completely', 'independent', 'of', 'the', 'squares', 'of', 'tattooing', 'to', 'be', 'sure', 'it', 'might', 'be', 'nothing', 'but', 'a', 'good', 'coat', 'of', 'tropical', 'tanning', 'but', 'i', 'never', 'heard', 'of', 'a', 'hot', 'sun', \"'s\", 'tanning', 'a', 'white', 'man', 'into', 'a', 'purplish', 'yellow', 'one', 'however', 'i', 'had', 'never', 'been', 'in', 'the', 'south', 'seas', 'and', 'perhaps', 'the', 'sun', 'there', 'produced', 'these', 'extraordinary', 'effects', 'upon', 'the', 'skin', 'now', 'while', 'all', 'these', 'ideas', 'were', 'passing', 'through', 'me', 'like', 'lightning', 'this', 'harpooneer', 'never', 'noticed', 'me', 'at', 'all', 'but', 'after', 'some', 'difficulty', 'having', 'opened', 'his', 'bag', 'he', 'commenced', 'fumbling', 'in', 'it', 'and', 'presently', 'pulled', 'out', 'a', 'sort', 'of', 'tomahawk', 'and', 'a', 'seal', 'skin', 'wallet', 'with', 'the', 'hair', 'on', 'placing', 'these', 'on', 'the', 'old', 'chest', 'in', 'the', 'middle', 'of', 'the', 'room', 'he', 'then', 'took', 'the', 'new', 'zealand', 'head', 'a', 'ghastly', 'thing', 'enough', 'and', 'crammed', 'it', 'down', 'into', 'the', 'bag', 'he', 'now', 'took', 'off', 'his', 'hat', 'a', 'new', 'beaver', 'hat', 'when', 'i', 'came', 'nigh', 'singing', 'out', 'with', 'fresh', 'surprise', 'there', 'was', 'no', 'hair', 'on', 'his', 'head', 'none', 'to', 'speak', 'of', 'at', 'least', 'nothing', 'but', 'a', 'small', 'scalp', 'knot', 'twisted', 'up', 'on', 'his', 'forehead', 'his', 'bald', 'purplish', 'head', 'now', 'looked', 'for', 'all', 'the', 'world', 'like', 'a', 'mildewed', 'skull', 'had', 'not', 'the', 'stranger', 'stood', 'between', 'me', 'and', 'the', 'door', 'i', 'would', 'have', 'bolted', 'out', 'of', 'it', 'quicker', 'than', 'ever', 'i', 'bolted', 'a', 'dinner', 'even', 'as', 'it', 'was', 'i', 'thought', 'something', 'of', 'slipping', 'out', 'of', 'the', 'window', 'but', 'it', 'was', 'the', 'second', 'floor', 'back', 'i', 'am', 'no', 'coward', 'but', 'what', 'to', 'make', 'of', 'this', 'head', 'peddling', 'purple', 'rascal', 'altogether', 'passed', 'my', 'comprehension', 'ignorance', 'is', 'the', 'parent', 'of', 'fear', 'and', 'being', 'completely', 'nonplussed', 'and', 'confounded', 'about', 'the', 'stranger', 'i', 'confess', 'i', 'was', 'now', 'as', 'much', 'afraid', 'of', 'him', 'as', 'if', 'it', 'was', 'the', 'devil', 'himself', 'who', 'had', 'thus', 'broken', 'into', 'my', 'room', 'at', 'the', 'dead', 'of', 'night', 'in', 'fact', 'i', 'was', 'so', 'afraid', 'of', 'him', 'that', 'i', 'was', 'not', 'game', 'enough', 'just', 'then', 'to', 'address', 'him', 'and', 'demand', 'a', 'satisfactory', 'answer', 'concerning', 'what', 'seemed', 'inexplicable', 'in', 'him', 'meanwhile', 'he', 'continued', 'the', 'business', 'of', 'undressing', 'and', 'at', 'last', 'showed', 'his', 'chest', 'and', 'arms', 'as', 'i', 'live', 'these', 'covered', 'parts', 'of', 'him', 'were', 'checkered', 'with', 'the', 'same', 'squares', 'as', 'his', 'face', 'his', 'back', 'too', 'was', 'all', 'over', 'the', 'same', 'dark', 'squares', 'he', 'seemed', 'to', 'have', 'been', 'in', 'a', 'thirty', 'years', \"'\", 'war', 'and', 'just', 'escaped', 'from', 'it', 'with', 'a', 'sticking', 'plaster', 'shirt', 'still', 'more', 'his', 'very', 'legs', 'were', 'marked', 'as', 'if', 'a', 'parcel', 'of', 'dark', 'green', 'frogs', 'were', 'running', 'up', 'the', 'trunks', 'of', 'young', 'palms', 'it', 'was', 'now', 'quite', 'plain', 'that', 'he', 'must', 'be', 'some', 'abominable', 'savage', 'or', 'other', 'shipped', 'aboard', 'of', 'a', 'whaleman', 'in', 'the', 'south', 'seas', 'and', 'so', 'landed', 'in', 'this', 'christian', 'country', 'i', 'quaked', 'to', 'think', 'of', 'it', 'a', 'peddler', 'of', 'heads', 'too', 'perhaps', 'the', 'heads', 'of', 'his', 'own', 'brothers', 'he', 'might', 'take', 'a', 'fancy', 'to', 'mine', 'heavens', 'look', 'at', 'that', 'tomahawk', 'but', 'there', 'was', 'no', 'time', 'for', 'shuddering', 'for', 'now', 'the', 'savage', 'went', 'about', 'something', 'that', 'completely', 'fascinated', 'my', 'attention', 'and', 'convinced', 'me', 'that', 'he', 'must', 'indeed', 'be', 'a', 'heathen', 'going', 'to', 'his', 'heavy', 'grego', 'or', 'wrapall', 'or', 'dreadnaught', 'which', 'he', 'had', 'previously', 'hung', 'on', 'a', 'chair', 'he', 'fumbled', 'in', 'the', 'pockets', 'and', 'produced', 'at', 'length', 'a', 'curious', 'little', 'deformed', 'image', 'with', 'a', 'hunch', 'on', 'its', 'back', 'and', 'exactly', 'the', 'colour', 'of', 'a', 'three', 'days', \"'\", 'old', 'congo', 'baby', 'remembering', 'the', 'embalmed', 'head', 'at', 'first', 'i', 'almost', 'thought', 'that', 'this', 'black', 'manikin', 'was', 'a', 'real', 'baby', 'preserved', 'in', 'some', 'similar', 'manner', 'but', 'seeing', 'that', 'it', 'was', 'not', 'at', 'all', 'limber', 'and', 'that', 'it', 'glistened', 'a', 'good', 'deal', 'like', 'polished', 'ebony', 'i', 'concluded', 'that', 'it', 'must', 'be', 'nothing', 'but', 'a', 'wooden', 'idol', 'which', 'indeed', 'it', 'proved', 'to', 'be', 'for', 'now', 'the', 'savage', 'goes', 'up', 'to', 'the', 'empty', 'fire', 'place', 'and', 'removing', 'the', 'papered', 'fire', 'board', 'sets', 'up', 'this', 'little', 'hunch', 'backed', 'image', 'like', 'a', 'tenpin', 'between', 'the', 'andirons', 'the', 'chimney', 'jambs', 'and', 'all', 'the', 'bricks', 'inside', 'were', 'very', 'sooty', 'so', 'that', 'i', 'thought', 'this', 'fire', 'place', 'made', 'a', 'very', 'appropriate', 'little', 'shrine', 'or', 'chapel', 'for', 'his', 'congo', 'idol', 'i', 'now', 'screwed', 'my', 'eyes', 'hard', 'towards', 'the', 'half', 'hidden', 'image', 'feeling', 'but', 'ill', 'at', 'ease', 'meantime', 'to', 'see', 'what', 'was', 'next', 'to', 'follow', 'first', 'he', 'takes', 'about', 'a', 'double', 'handful', 'of', 'shavings', 'out', 'of', 'his', 'grego', 'pocket', 'and', 'places', 'them', 'carefully', 'before', 'the', 'idol', 'then', 'laying', 'a', 'bit', 'of', 'ship', 'biscuit', 'on', 'top', 'and', 'applying', 'the', 'flame', 'from', 'the', 'lamp', 'he', 'kindled', 'the', 'shavings', 'into', 'a', 'sacrificial', 'blaze', 'presently', 'after', 'many', 'hasty', 'snatches', 'into', 'the', 'fire', 'and', 'still', 'hastier', 'withdrawals', 'of', 'his', 'fingers', 'whereby', 'he', 'seemed', 'to', 'be', 'scorching', 'them', 'badly', 'he', 'at', 'last', 'succeeded', 'in', 'drawing', 'out', 'the', 'biscuit', 'then', 'blowing', 'off', 'the', 'heat', 'and', 'ashes', 'a', 'little', 'he', 'made', 'a', 'polite', 'offer', 'of', 'it', 'to', 'the', 'little', 'negro', 'but', 'the', 'little', 'devil', 'did', 'not', 'seem', 'to', 'fancy', 'such', 'dry', 'sort', 'of', 'fare', 'at', 'all', 'he', 'never', 'moved', 'his', 'lips', 'all', 'these', 'strange', 'antics', 'were', 'accompanied', 'by', 'still', 'stranger', 'guttural', 'noises', 'from', 'the', 'devotee', 'who', 'seemed', 'to', 'be', 'praying', 'in', 'a', 'sing', 'song', 'or', 'else', 'singing', 'some', 'pagan', 'psalmody', 'or', 'other', 'during', 'which', 'his', 'face', 'twitched', 'about', 'in', 'the', 'most', 'unnatural', 'manner', 'at', 'last', 'extinguishing', 'the', 'fire', 'he', 'took', 'the', 'idol', 'up', 'very', 'unceremoniously', 'and', 'bagged', 'it', 'again', 'in', 'his', 'grego', 'pocket', 'as', 'carelessly', 'as', 'if', 'he', 'were', 'a', 'sportsman', 'bagging', 'a', 'dead', 'woodcock', 'all', 'these', 'queer', 'proceedings', 'increased', 'my', 'uncomfortableness', 'and', 'seeing', 'him', 'now', 'exhibiting', 'strong', 'symptoms', 'of', 'concluding', 'his', 'business', 'operations', 'and', 'jumping', 'into', 'bed', 'with', 'me', 'i', 'thought', 'it', 'was', 'high', 'time', 'now', 'or', 'never', 'before', 'the', 'light', 'was', 'put', 'out', 'to', 'break', 'the', 'spell', 'in', 'which', 'i', 'had', 'so', 'long', 'been', 'bound', 'but', 'the', 'interval', 'i', 'spent', 'in', 'deliberating', 'what', 'to', 'say', 'was', 'a', 'fatal', 'one', 'taking', 'up', 'his', 'tomahawk', 'from', 'the', 'table', 'he', 'examined', 'the', 'head', 'of', 'it', 'for', 'an', 'instant', 'and', 'then', 'holding', 'it', 'to', 'the', 'light', 'with', 'his', 'mouth', 'at', 'the', 'handle', 'he', 'puffed', 'out', 'great', 'clouds', 'of', 'tobacco', 'smoke', 'the', 'next', 'moment', 'the', 'light', 'was', 'extinguished', 'and', 'this', 'wild', 'cannibal', 'tomahawk', 'between', 'his', 'teeth', 'sprang', 'into', 'bed', 'with', 'me', 'i', 'sang', 'out', 'i', 'could', 'not', 'help', 'it', 'now', 'and', 'giving', 'a', 'sudden', 'grunt', 'of', 'astonishment', 'he', 'began', 'feeling', 'me', 'stammering', 'out', 'something', 'i', 'knew', 'not', 'what', 'i', 'rolled', 'away', 'from', 'him', 'against', 'the', 'wall', 'and', 'then', 'conjured', 'him', 'whoever', 'or', 'whatever', 'he', 'might', 'be', 'to', 'keep', 'quiet', 'and', 'let', 'me', 'get', 'up', 'and', 'light', 'the', 'lamp', 'again', 'but', 'his', 'guttural', 'responses', 'satisfied', 'me', 'at', 'once', 'that', 'he', 'but', 'ill', 'comprehended', 'my', 'meaning', 'who', 'e', 'debel', 'you?\"--he', 'at', 'last', 'said--\"you', 'no', 'speak', 'e', 'dam', 'me', 'i', 'kill', 'e.', 'and', 'so', 'saying', 'the', 'lighted', 'tomahawk', 'began', 'flourishing', 'about', 'me', 'in', 'the', 'dark', 'landlord', 'for', 'god', \"'s\", 'sake', 'peter', 'coffin', 'shouted', 'i.', 'landlord', 'watch', 'coffin', 'angels', 'save', 'me', 'speak', 'e', 'tell', 'ee', 'me', 'who', 'ee', 'be', 'or', 'dam', 'me', 'i', 'kill', 'e', 'again', 'growled', 'the', 'cannibal', 'while', 'his', 'horrid', 'flourishings', 'of', 'the', 'tomahawk', 'scattered', 'the', 'hot', 'tobacco', 'ashes', 'about', 'me', 'till', 'i', 'thought', 'my', 'linen', 'would', 'get', 'on', 'fire', 'but', 'thank', 'heaven', 'at', 'that', 'moment', 'the', 'landlord', 'came', 'into', 'the', 'room', 'light', 'in', 'hand', 'and', 'leaping', 'from', 'the', 'bed', 'i', 'ran', 'up', 'to', 'him', 'do', \"n't\", 'be', 'afraid', 'now', 'said', 'he', 'grinning', 'again', 'queequeg', 'here', 'would', \"n't\", 'harm', 'a', 'hair', 'of', 'your', 'head', 'stop', 'your', 'grinning', 'shouted', 'i', 'and', 'why', 'did', \"n't\", 'you', 'tell', 'me', 'that', 'that', 'infernal', 'harpooneer', 'was', 'a', 'cannibal', 'i', 'thought', 'ye', \"know'd\", \"it;--didn't\", 'i', 'tell', 'ye', 'he', 'was', 'a', 'peddlin', \"'\", 'heads', 'around', 'town?--but', 'turn', 'flukes', 'again', 'and', 'go', 'to', 'sleep', 'queequeg', 'look', 'here', 'you', 'sabbee', 'me', 'i', 'sabbee', 'you', 'this', 'man', 'sleepe', 'you', 'you', 'sabbee', 'me', 'sabbee', 'plenty\"--grunted', 'queequeg', 'puffing', 'away', 'at', 'his', 'pipe', 'and', 'sitting', 'up', 'in', 'bed', 'you', 'gettee', 'in', 'he', 'added', 'motioning', 'to', 'me', 'with', 'his', 'tomahawk', 'and', 'throwing', 'the', 'clothes', 'to', 'one', 'side', 'he', 'really', 'did', 'this', 'in', 'not', 'only', 'a', 'civil', 'but', 'a', 'really', 'kind', 'and', 'charitable', 'way', 'i', 'stood', 'looking', 'at', 'him', 'a', 'moment', 'for', 'all', 'his', 'tattooings', 'he', 'was', 'on', 'the', 'whole', 'a', 'clean', 'comely', 'looking', 'cannibal', 'what', \"'s\", 'all', 'this', 'fuss', 'i', 'have', 'been', 'making', 'about', 'thought', 'i', 'to', 'myself', 'the', 'man', \"'s\", 'a', 'human', 'being', 'just', 'as', 'i', 'am', 'he', 'has', 'just', 'as', 'much', 'reason', 'to', 'fear', 'me', 'as', 'i', 'have', 'to', 'be', 'afraid', 'of', 'him', 'better', 'sleep', 'with', 'a', 'sober', 'cannibal', 'than', 'a', 'drunken', 'christian', 'landlord', 'said', 'i', 'tell', 'him', 'to', 'stash', 'his', 'tomahawk', 'there', 'or', 'pipe', 'or', 'whatever', 'you', 'call', 'it', 'tell', 'him', 'to', 'stop', 'smoking', 'in', 'short', 'and', 'i', 'will', 'turn', 'in', 'with', 'him', 'but', 'i', 'do', \"n't\", 'fancy', 'having', 'a', 'man', 'smoking', 'in', 'bed', 'with', 'me', 'it', \"'s\", 'dangerous', 'besides', 'i', 'ai', \"n't\", 'insured', 'this', 'being', 'told', 'to', 'queequeg', 'he', 'at', 'once', 'complied', 'and', 'again', 'politely', 'motioned', 'me', 'to', 'get', 'into', 'bed', 'rolling', 'over', 'to', 'one', 'side', 'as', 'much', 'as', 'to', 'say', 'i', 'wo', \"n't\", 'touch', 'a', 'leg', 'of', 'ye', 'good', 'night', 'landlord', 'said', 'i', 'you', 'may', 'go', 'i', 'turned', 'in', 'and', 'never', 'slept', 'better', 'in', 'my', 'life', 'upon', 'waking', 'next', 'morning', 'about', 'daylight', 'i', 'found', 'queequeg', \"'s\", 'arm', 'thrown', 'over', 'me', 'in', 'the', 'most', 'loving', 'and', 'affectionate', 'manner', 'you', 'had', 'almost', 'thought', 'i', 'had', 'been', 'his', 'wife', 'the', 'counterpane', 'was', 'of', 'patchwork', 'full', 'of', 'odd', 'little', 'parti', 'coloured', 'squares', 'and', 'triangles', 'and', 'this', 'arm', 'of', 'his', 'tattooed', 'all', 'over', 'with', 'an', 'interminable', 'cretan', 'labyrinth', 'of', 'a', 'figure', 'no', 'two', 'parts', 'of', 'which', 'were', 'of', 'one', 'precise', 'shade', 'owing', 'i', 'suppose', 'to', 'his', 'keeping', 'his', 'arm', 'at', 'sea', 'unmethodically', 'in', 'sun', 'and', 'shade', 'his', 'shirt', 'sleeves', 'irregularly', 'rolled', 'up', 'at', 'various', 'times', 'this', 'same', 'arm', 'of', 'his', 'i', 'say', 'looked', 'for', 'all', 'the', 'world', 'like', 'a', 'strip', 'of', 'that', 'same', 'patchwork', 'quilt', 'indeed', 'partly', 'lying', 'on', 'it', 'as', 'the', 'arm', 'did', 'when', 'i', 'first', 'awoke', 'i', 'could', 'hardly', 'tell', 'it', 'from', 'the', 'quilt', 'they', 'so', 'blended', 'their', 'hues', 'together', 'and', 'it', 'was', 'only', 'by', 'the', 'sense', 'of', 'weight', 'and', 'pressure', 'that', 'i', 'could', 'tell', 'that', 'queequeg', 'was', 'hugging', 'me', 'my', 'sensations', 'were', 'strange', 'let', 'me', 'try', 'to', 'explain', 'them', 'when', 'i', 'was', 'a', 'child', 'i', 'well', 'remember', 'a', 'somewhat', 'similar', 'circumstance', 'that', 'befell', 'me', 'whether', 'it', 'was', 'a', 'reality', 'or', 'a', 'dream', 'i', 'never', 'could', 'entirely', 'settle', 'the', 'circumstance', 'was', 'this', 'i', 'had', 'been', 'cutting', 'up', 'some', 'caper', 'or', 'other', 'i', 'think', 'it', 'was', 'trying', 'to', 'crawl', 'up', 'the', 'chimney', 'as', 'i', 'had', 'seen', 'a', 'little', 'sweep', 'do', 'a', 'few', 'days', 'previous', 'and', 'my', 'stepmother', 'who', 'somehow', 'or', 'other', 'was', 'all', 'the', 'time', 'whipping', 'me', 'or', 'sending', 'me', 'to', 'bed', 'supperless,--my', 'mother', 'dragged', 'me', 'by', 'the', 'legs', 'out', 'of', 'the', 'chimney', 'and', 'packed', 'me', 'off', 'to', 'bed', 'though', 'it', 'was', 'only', 'two', \"o'clock\", 'in', 'the', 'afternoon', 'of', 'the', '21st', 'june', 'the', 'longest', 'day', 'in', 'the', 'year', 'in', 'our', 'hemisphere', 'i', 'felt', 'dreadfully', 'but', 'there', 'was', 'no', 'help', 'for', 'it', 'so', 'up', 'stairs', 'i', 'went', 'to', 'my', 'little', 'room', 'in', 'the', 'third', 'floor', 'undressed', 'myself', 'as', 'slowly', 'as', 'possible', 'so', 'as', 'to', 'kill', 'time', 'and', 'with', 'a', 'bitter', 'sigh', 'got', 'between', 'the', 'sheets', 'i', 'lay', 'there', 'dismally', 'calculating', 'that', 'sixteen', 'entire', 'hours', 'must', 'elapse', 'before', 'i', 'could', 'hope', 'for', 'a', 'resurrection', 'sixteen', 'hours', 'in', 'bed', 'the', 'small', 'of', 'my', 'back', 'ached', 'to', 'think', 'of', 'it', 'and', 'it', 'was', 'so', 'light', 'too', 'the', 'sun', 'shining', 'in', 'at', 'the', 'window', 'and', 'a', 'great', 'rattling', 'of', 'coaches', 'in', 'the', 'streets', 'and', 'the', 'sound', 'of', 'gay', 'voices', 'all', 'over', 'the', 'house', 'i', 'felt', 'worse', 'and', 'worse', 'at', 'last', 'i', 'got', 'up', 'dressed', 'and', 'softly', 'going', 'down', 'in', 'my', 'stockinged', 'feet', 'sought', 'out', 'my', 'stepmother', 'and', 'suddenly', 'threw', 'myself', 'at', 'her', 'feet', 'beseeching', 'her', 'as', 'a', 'particular', 'favour', 'to', 'give', 'me', 'a', 'good', 'slippering', 'for', 'my', 'misbehaviour', 'anything', 'indeed', 'but', 'condemning', 'me', 'to', 'lie', 'abed', 'such', 'an', 'unendurable', 'length', 'of', 'time', 'but', 'she', 'was', 'the', 'best', 'and', 'most', 'conscientious', 'of', 'stepmothers', 'and', 'back', 'i', 'had', 'to', 'go', 'to', 'my', 'room', 'for', 'several', 'hours', 'i', 'lay', 'there', 'broad', 'awake', 'feeling', 'a', 'great', 'deal', 'worse', 'than', 'i', 'have', 'ever', 'done', 'since', 'even', 'from', 'the', 'greatest', 'subsequent', 'misfortunes', 'at', 'last', 'i', 'must', 'have', 'fallen', 'into', 'a', 'troubled', 'nightmare', 'of', 'a', 'doze', 'and', 'slowly', 'waking', 'from', 'it', 'half', 'steeped', 'in', 'dreams', 'i', 'opened', 'my', 'eyes', 'and', 'the', 'before', 'sun', 'lit', 'room', 'was', 'now', 'wrapped', 'in', 'outer', 'darkness', 'instantly', 'i', 'felt', 'a', 'shock', 'running', 'through', 'all', 'my', 'frame', 'nothing', 'was', 'to', 'be', 'seen', 'and', 'nothing', 'was', 'to', 'be', 'heard', 'but', 'a', 'supernatural', 'hand', 'seemed', 'placed', 'in', 'mine', 'my', 'arm', 'hung', 'over', 'the', 'counterpane', 'and', 'the', 'nameless', 'unimaginable', 'silent', 'form', 'or', 'phantom', 'to', 'which', 'the', 'hand', 'belonged', 'seemed', 'closely', 'seated', 'by', 'my', 'bed', 'side', 'for', 'what', 'seemed', 'ages', 'piled', 'on', 'ages', 'i', 'lay', 'there', 'frozen', 'with', 'the', 'most', 'awful', 'fears', 'not', 'daring', 'to', 'drag', 'away', 'my', 'hand', 'yet', 'ever', 'thinking', 'that', 'if', 'i', 'could', 'but', 'stir', 'it', 'one', 'single', 'inch', 'the', 'horrid', 'spell', 'would', 'be', 'broken', 'i', 'knew', 'not', 'how', 'this', 'consciousness', 'at', 'last', 'glided', 'away', 'from', 'me', 'but', 'waking', 'in', 'the', 'morning', 'i', 'shudderingly', 'remembered', 'it', 'all', 'and', 'for', 'days', 'and', 'weeks', 'and', 'months', 'afterwards', 'i', 'lost', 'myself', 'in', 'confounding', 'attempts', 'to', 'explain', 'the', 'mystery', 'nay', 'to', 'this', 'very', 'hour', 'i', 'often', 'puzzle', 'myself', 'with', 'it', 'now', 'take', 'away', 'the', 'awful', 'fear', 'and', 'my', 'sensations', 'at', 'feeling', 'the', 'supernatural', 'hand', 'in', 'mine', 'were', 'very', 'similar', 'in', 'their', 'strangeness', 'to', 'those', 'which', 'i', 'experienced', 'on', 'waking', 'up', 'and', 'seeing', 'queequeg', \"'s\", 'pagan', 'arm', 'thrown', 'round', 'me', 'but', 'at', 'length', 'all', 'the', 'past', 'night', \"'s\", 'events', 'soberly', 'recurred', 'one', 'by', 'one', 'in', 'fixed', 'reality', 'and', 'then', 'i', 'lay', 'only', 'alive', 'to', 'the', 'comical', 'predicament', 'for', 'though', 'i', 'tried', 'to', 'move', 'his', 'arm', 'unlock', 'his', 'bridegroom', 'clasp', 'yet', 'sleeping', 'as', 'he', 'was', 'he', 'still', 'hugged', 'me', 'tightly', 'as', 'though', 'naught', 'but', 'death', 'should', 'part', 'us', 'twain', 'i', 'now', 'strove', 'to', 'rouse', 'him--\"queequeg!\"--but', 'his', 'only', 'answer', 'was', 'a', 'snore', 'i', 'then', 'rolled', 'over', 'my', 'neck', 'feeling', 'as', 'if', 'it', 'were', 'in', 'a', 'horse', 'collar', 'and', 'suddenly', 'felt', 'a', 'slight', 'scratch', 'throwing', 'aside', 'the', 'counterpane', 'there', 'lay', 'the', 'tomahawk', 'sleeping', 'by', 'the', 'savage', \"'s\", 'side', 'as', 'if', 'it', 'were', 'a', 'hatchet', 'faced', 'baby', 'a', 'pretty', 'pickle', 'truly', 'thought', 'i', 'abed', 'here', 'in', 'a', 'strange', 'house', 'in', 'the', 'broad', 'day', 'with', 'a', 'cannibal', 'and', 'a', 'tomahawk', 'queequeg!--in', 'the', 'name', 'of', 'goodness', 'queequeg', 'wake', 'at', 'length', 'by', 'dint', 'of', 'much', 'wriggling', 'and', 'loud', 'and', 'incessant', 'expostulations', 'upon', 'the', 'unbecomingness', 'of', 'his', 'hugging', 'a', 'fellow', 'male', 'in', 'that', 'matrimonial', 'sort', 'of', 'style', 'i', 'succeeded', 'in', 'extracting', 'a', 'grunt', 'and', 'presently', 'he', 'drew', 'back', 'his', 'arm', 'shook', 'himself', 'all', 'over', 'like', 'a', 'newfoundland', 'dog', 'just', 'from', 'the', 'water', 'and', 'sat', 'up', 'in', 'bed', 'stiff', 'as', 'a', 'pike', 'staff', 'looking', 'at', 'me', 'and', 'rubbing', 'his', 'eyes', 'as', 'if', 'he', 'did', 'not', 'altogether', 'remember', 'how', 'i', 'came', 'to', 'be', 'there', 'though', 'a', 'dim', 'consciousness', 'of', 'knowing', 'something', 'about', 'me', 'seemed', 'slowly', 'dawning', 'over', 'him', 'meanwhile', 'i', 'lay', 'quietly', 'eyeing', 'him', 'having', 'no', 'serious', 'misgivings', 'now', 'and', 'bent', 'upon', 'narrowly', 'observing', 'so', 'curious', 'a', 'creature', 'when', 'at', 'last', 'his', 'mind', 'seemed', 'made', 'up', 'touching', 'the', 'character', 'of', 'his', 'bedfellow', 'and', 'he', 'became', 'as', 'it', 'were', 'reconciled', 'to', 'the', 'fact', 'he', 'jumped', 'out', 'upon', 'the', 'floor', 'and', 'by', 'certain', 'signs', 'and', 'sounds', 'gave', 'me', 'to', 'understand', 'that', 'if', 'it', 'pleased', 'me', 'he', 'would', 'dress', 'first', 'and', 'then', 'leave', 'me', 'to', 'dress', 'afterwards', 'leaving', 'the', 'whole', 'apartment', 'to', 'myself', 'thinks', 'i', 'queequeg', 'under', 'the', 'circumstances', 'this', 'is', 'a', 'very', 'civilized', 'overture', 'but', 'the', 'truth', 'is', 'these', 'savages', 'have', 'an', 'innate', 'sense', 'of', 'delicacy', 'say', 'what', 'you', 'will', 'it', 'is', 'marvellous', 'how', 'essentially', 'polite', 'they', 'are', 'i', 'pay', 'this', 'particular', 'compliment', 'to', 'queequeg', 'because', 'he', 'treated', 'me', 'with', 'so', 'much', 'civility', 'and', 'consideration', 'while', 'i', 'was', 'guilty', 'of', 'great', 'rudeness', 'staring', 'at', 'him', 'from', 'the', 'bed', 'and', 'watching', 'all', 'his', 'toilette', 'motions', 'for', 'the', 'time', 'my', 'curiosity', 'getting', 'the', 'better', 'of', 'my', 'breeding', 'nevertheless', 'a', 'man', 'like', 'queequeg', 'you', 'do', \"n't\", 'see', 'every', 'day', 'he', 'and', 'his', 'ways', 'were', 'well', 'worth', 'unusual', 'regarding', 'he', 'commenced', 'dressing', 'at', 'top', 'by', 'donning', 'his', 'beaver', 'hat', 'a', 'very', 'tall', 'one', 'by', 'the', 'by', 'and', 'then', 'still', 'minus', 'his', 'trowsers', 'he', 'hunted', 'up', 'his', 'boots', 'what', 'under', 'the', 'heavens', 'he', 'did', 'it', 'for', 'i', 'can', 'not', 'tell', 'but', 'his', 'next', 'movement', 'was', 'to', 'crush', 'himself', 'boots', 'in', 'hand', 'and', 'hat', 'on', 'under', 'the', 'bed', 'when', 'from', 'sundry', 'violent', 'gaspings', 'and', 'strainings', 'i', 'inferred', 'he', 'was', 'hard', 'at', 'work', 'booting', 'himself', 'though', 'by', 'no', 'law', 'of', 'propriety', 'that', 'i', 'ever', 'heard', 'of', 'is', 'any', 'man', 'required', 'to', 'be', 'private', 'when', 'putting', 'on', 'his', 'boots', 'but', 'queequeg', 'do', 'you', 'see', 'was', 'a', 'creature', 'in', 'the', 'transition', 'stage', 'neither', 'caterpillar', 'nor', 'butterfly', 'he', 'was', 'just', 'enough', 'civilized', 'to', 'show', 'off', 'his', 'outlandishness', 'in', 'the', 'strangest', 'possible', 'manners', 'his', 'education', 'was', 'not', 'yet', 'completed', 'he', 'was', 'an', 'undergraduate', 'if', 'he', 'had', 'not', 'been', 'a', 'small', 'degree', 'civilized', 'he', 'very', 'probably', 'would', 'not', 'have', 'troubled', 'himself', 'with', 'boots', 'at', 'all', 'but', 'then', 'if', 'he', 'had', 'not', 'been', 'still', 'a', 'savage', 'he', 'never', 'would', 'have', 'dreamt', 'of', 'getting', 'under', 'the', 'bed', 'to', 'put', 'them', 'on', 'at', 'last', 'he', 'emerged', 'with', 'his', 'hat', 'very', 'much', 'dented', 'and', 'crushed', 'down', 'over', 'his', 'eyes', 'and', 'began', 'creaking', 'and', 'limping', 'about', 'the', 'room', 'as', 'if', 'not', 'being', 'much', 'accustomed', 'to', 'boots', 'his', 'pair', 'of', 'damp', 'wrinkled', 'cowhide', 'ones', 'probably', 'not', 'made', 'to', 'order', 'either', 'rather', 'pinched', 'and', 'tormented', 'him', 'at', 'the', 'first', 'go', 'off', 'of', 'a', 'bitter', 'cold', 'morning', 'seeing', 'now', 'that', 'there', 'were', 'no', 'curtains', 'to', 'the', 'window', 'and', 'that', 'the', 'street', 'being', 'very', 'narrow', 'the', 'house', 'opposite', 'commanded', 'a', 'plain', 'view', 'into', 'the', 'room', 'and', 'observing', 'more', 'and', 'more', 'the', 'indecorous', 'figure', 'that', 'queequeg', 'made', 'staving', 'about', 'with', 'little', 'else', 'but', 'his', 'hat', 'and', 'boots', 'on', 'i', 'begged', 'him', 'as', 'well', 'as', 'i', 'could', 'to', 'accelerate', 'his', 'toilet', 'somewhat', 'and', 'particularly', 'to', 'get', 'into', 'his', 'pantaloons', 'as', 'soon', 'as', 'possible', 'he', 'complied', 'and', 'then', 'proceeded', 'to', 'wash', 'himself', 'at', 'that', 'time', 'in', 'the', 'morning', 'any', 'christian', 'would', 'have', 'washed', 'his', 'face', 'but', 'queequeg', 'to', 'my', 'amazement', 'contented', 'himself', 'with', 'restricting', 'his', 'ablutions', 'to', 'his', 'chest', 'arms', 'and', 'hands', 'he', 'then', 'donned', 'his', 'waistcoat', 'and', 'taking', 'up', 'a', 'piece', 'of', 'hard', 'soap', 'on', 'the', 'wash', 'stand', 'centre', 'table', 'dipped', 'it', 'into', 'water', 'and', 'commenced', 'lathering', 'his', 'face', 'i', 'was', 'watching', 'to', 'see', 'where', 'he', 'kept', 'his', 'razor', 'when', 'lo', 'and', 'behold', 'he', 'takes', 'the', 'harpoon', 'from', 'the', 'bed', 'corner', 'slips', 'out', 'the', 'long', 'wooden', 'stock', 'unsheathes', 'the', 'head', 'whets', 'it', 'a', 'little', 'on', 'his', 'boot', 'and', 'striding', 'up', 'to', 'the', 'bit', 'of', 'mirror', 'against', 'the', 'wall', 'begins', 'a', 'vigorous', 'scraping', 'or', 'rather', 'harpooning', 'of', 'his', 'cheeks', 'thinks', 'i', 'queequeg', 'this', 'is', 'using', 'rogers', \"'s\", 'best', 'cutlery', 'with', 'a', 'vengeance', 'afterwards', 'i', 'wondered', 'the', 'less', 'at', 'this', 'operation', 'when', 'i', 'came', 'to', 'know', 'of', 'what', 'fine', 'steel', 'the', 'head', 'of', 'a', 'harpoon', 'is', 'made', 'and', 'how', 'exceedingly', 'sharp', 'the', 'long', 'straight', 'edges', 'are', 'always', 'kept', 'the', 'rest', 'of', 'his', 'toilet', 'was', 'soon', 'achieved', 'and', 'he', 'proudly', 'marched', 'out', 'of', 'the', 'room', 'wrapped', 'up', 'in', 'his', 'great', 'pilot', 'monkey', 'jacket', 'and', 'sporting', 'his', 'harpoon', 'like', 'a', 'marshal', \"'s\", 'baton']\n"
          ]
        }
      ]
    },
    {
      "cell_type": "code",
      "source": [
        "tokens = np.array(tokens)"
      ],
      "metadata": {
        "id": "U6TG9ygVkzAD"
      },
      "execution_count": null,
      "outputs": []
    },
    {
      "cell_type": "code",
      "source": [
        "tokens"
      ],
      "metadata": {
        "colab": {
          "base_uri": "https://localhost:8080/"
        },
        "id": "NZu-26xjlAYX",
        "outputId": "ee9f18d0-6706-40ae-96ff-11916167cf2b"
      },
      "execution_count": null,
      "outputs": [
        {
          "output_type": "execute_result",
          "data": {
            "text/plain": [
              "array(['call', 'me', 'ishmael', ..., 'marshal', \"'s\", 'baton'],\n",
              "      dtype='<U25')"
            ]
          },
          "metadata": {},
          "execution_count": 10
        }
      ]
    },
    {
      "cell_type": "code",
      "source": [
        "from tensorflow.keras.preprocessing.text import Tokenizer"
      ],
      "metadata": {
        "id": "m2TnCRilW671"
      },
      "execution_count": null,
      "outputs": []
    },
    {
      "cell_type": "code",
      "source": [
        "tokenizer = Tokenizer()\n",
        "tokenizer.fit_on_texts(tokens)\n",
        "tokens = tokenizer.texts_to_sequences(tokens)"
      ],
      "metadata": {
        "id": "HIZPJycIlBr0"
      },
      "execution_count": null,
      "outputs": []
    },
    {
      "cell_type": "code",
      "source": [
        "tokens[0]"
      ],
      "metadata": {
        "colab": {
          "base_uri": "https://localhost:8080/"
        },
        "collapsed": true,
        "id": "CZTnZ5JRXBSa",
        "outputId": "a668d002-e590-4f45-eed6-df4c5d57f3f8"
      },
      "execution_count": null,
      "outputs": [
        {
          "output_type": "execute_result",
          "data": {
            "text/plain": [
              "[552]"
            ]
          },
          "metadata": {},
          "execution_count": 13
        }
      ]
    },
    {
      "cell_type": "code",
      "source": [
        "new_tokens = [token[0] for token in tokens if token]"
      ],
      "metadata": {
        "collapsed": true,
        "id": "ps61XhAXrF4q"
      },
      "execution_count": null,
      "outputs": []
    },
    {
      "cell_type": "code",
      "source": [
        "new_tokens"
      ],
      "metadata": {
        "colab": {
          "base_uri": "https://localhost:8080/"
        },
        "collapsed": true,
        "id": "ItgwGF_2s39y",
        "outputId": "4253fa47-e599-4115-aac3-4c3b4d224dc6"
      },
      "execution_count": null,
      "outputs": [
        {
          "output_type": "execute_result",
          "data": {
            "text/plain": [
              "[552,\n",
              " 14,\n",
              " 222,\n",
              " 49,\n",
              " 223,\n",
              " 319,\n",
              " 84,\n",
              " 197,\n",
              " 121,\n",
              " 104,\n",
              " 553,\n",
              " 224,\n",
              " 50,\n",
              " 40,\n",
              " 36,\n",
              " 264,\n",
              " 7,\n",
              " 22,\n",
              " 412,\n",
              " 3,\n",
              " 136,\n",
              " 225,\n",
              " 6,\n",
              " 958,\n",
              " 14,\n",
              " 24,\n",
              " 959,\n",
              " 5,\n",
              " 60,\n",
              " 5,\n",
              " 57,\n",
              " 320,\n",
              " 38,\n",
              " 2,\n",
              " 50,\n",
              " 3,\n",
              " 88,\n",
              " 1,\n",
              " 960,\n",
              " 166,\n",
              " 4,\n",
              " 1,\n",
              " 167,\n",
              " 8,\n",
              " 20,\n",
              " 2,\n",
              " 105,\n",
              " 5,\n",
              " 47,\n",
              " 4,\n",
              " 961,\n",
              " 96,\n",
              " 1,\n",
              " 962,\n",
              " 3,\n",
              " 963,\n",
              " 1,\n",
              " 964,\n",
              " 265,\n",
              " 5,\n",
              " 413,\n",
              " 97,\n",
              " 965,\n",
              " 966,\n",
              " 38,\n",
              " 1,\n",
              " 266,\n",
              " 265,\n",
              " 8,\n",
              " 20,\n",
              " 2,\n",
              " 414,\n",
              " 967,\n",
              " 968,\n",
              " 7,\n",
              " 22,\n",
              " 415,\n",
              " 265,\n",
              " 5,\n",
              " 413,\n",
              " 97,\n",
              " 554,\n",
              " 555,\n",
              " 112,\n",
              " 267,\n",
              " 556,\n",
              " 3,\n",
              " 969,\n",
              " 31,\n",
              " 1,\n",
              " 970,\n",
              " 4,\n",
              " 198,\n",
              " 971,\n",
              " 5,\n",
              " 972,\n",
              " 3,\n",
              " 321,\n",
              " 265,\n",
              " 22,\n",
              " 973,\n",
              " 113,\n",
              " 68,\n",
              " 48,\n",
              " 974,\n",
              " 130,\n",
              " 4,\n",
              " 14,\n",
              " 9,\n",
              " 8,\n",
              " 557,\n",
              " 2,\n",
              " 416,\n",
              " 975,\n",
              " 976,\n",
              " 6,\n",
              " 977,\n",
              " 14,\n",
              " 28,\n",
              " 978,\n",
              " 979,\n",
              " 39,\n",
              " 1,\n",
              " 322,\n",
              " 3,\n",
              " 980,\n",
              " 981,\n",
              " 558,\n",
              " 25,\n",
              " 982,\n",
              " 96,\n",
              " 46,\n",
              " 5,\n",
              " 417,\n",
              " 8,\n",
              " 268,\n",
              " 74,\n",
              " 6,\n",
              " 113,\n",
              " 6,\n",
              " 72,\n",
              " 16,\n",
              " 168,\n",
              " 16,\n",
              " 5,\n",
              " 122,\n",
              " 18,\n",
              " 20,\n",
              " 22,\n",
              " 983,\n",
              " 23,\n",
              " 984,\n",
              " 3,\n",
              " 985,\n",
              " 15,\n",
              " 2,\n",
              " 986,\n",
              " 987,\n",
              " 988,\n",
              " 989,\n",
              " 123,\n",
              " 51,\n",
              " 11,\n",
              " 418,\n",
              " 5,\n",
              " 419,\n",
              " 151,\n",
              " 6,\n",
              " 1,\n",
              " 199,\n",
              " 29,\n",
              " 20,\n",
              " 136,\n",
              " 990,\n",
              " 7,\n",
              " 18,\n",
              " 54,\n",
              " 55,\n",
              " 13,\n",
              " 269,\n",
              " 8,\n",
              " 137,\n",
              " 21,\n",
              " 270,\n",
              " 7,\n",
              " 106,\n",
              " 420,\n",
              " 49,\n",
              " 74,\n",
              " 40,\n",
              " 76,\n",
              " 991,\n",
              " 77,\n",
              " 559,\n",
              " 1,\n",
              " 131,\n",
              " 992,\n",
              " 152,\n",
              " 1,\n",
              " 560,\n",
              " 15,\n",
              " 14,\n",
              " 29,\n",
              " 37,\n",
              " 20,\n",
              " 89,\n",
              " 993,\n",
              " 323,\n",
              " 4,\n",
              " 1,\n",
              " 994,\n",
              " 995,\n",
              " 114,\n",
              " 41,\n",
              " 996,\n",
              " 16,\n",
              " 561,\n",
              " 997,\n",
              " 41,\n",
              " 998,\n",
              " 999,\n",
              " 1000,\n",
              " 1001,\n",
              " 8,\n",
              " 15,\n",
              " 226,\n",
              " 1002,\n",
              " 227,\n",
              " 3,\n",
              " 421,\n",
              " 1,\n",
              " 179,\n",
              " 151,\n",
              " 17,\n",
              " 562,\n",
              " 228,\n",
              " 1003,\n",
              " 1004,\n",
              " 20,\n",
              " 1,\n",
              " 563,\n",
              " 115,\n",
              " 9,\n",
              " 564,\n",
              " 1005,\n",
              " 20,\n",
              " 565,\n",
              " 41,\n",
              " 1006,\n",
              " 3,\n",
              " 1007,\n",
              " 41,\n",
              " 1008,\n",
              " 69,\n",
              " 2,\n",
              " 324,\n",
              " 271,\n",
              " 325,\n",
              " 42,\n",
              " 43,\n",
              " 4,\n",
              " 326,\n",
              " 4,\n",
              " 180,\n",
              " 229,\n",
              " 19,\n",
              " 1,\n",
              " 566,\n",
              " 4,\n",
              " 153,\n",
              " 1009,\n",
              " 29,\n",
              " 1010,\n",
              " 1,\n",
              " 323,\n",
              " 4,\n",
              " 2,\n",
              " 1011,\n",
              " 567,\n",
              " 568,\n",
              " 78,\n",
              " 28,\n",
              " 1012,\n",
              " 1013,\n",
              " 6,\n",
              " 1014,\n",
              " 1015,\n",
              " 3,\n",
              " 28,\n",
              " 569,\n",
              " 41,\n",
              " 1016,\n",
              " 1017,\n",
              " 32,\n",
              " 58,\n",
              " 17,\n",
              " 88,\n",
              " 52,\n",
              " 570,\n",
              " 1019,\n",
              " 21,\n",
              " 422,\n",
              " 1,\n",
              " 200,\n",
              " 201,\n",
              " 571,\n",
              " 51,\n",
              " 571,\n",
              " 4,\n",
              " 1020,\n",
              " 270,\n",
              " 423,\n",
              " 7,\n",
              " 560,\n",
              " 572,\n",
              " 49,\n",
              " 573,\n",
              " 169,\n",
              " 1,\n",
              " 1021,\n",
              " 49,\n",
              " 574,\n",
              " 51,\n",
              " 1,\n",
              " 1022,\n",
              " 124,\n",
              " 49,\n",
              " 132,\n",
              " 59,\n",
              " 1,\n",
              " 575,\n",
              " 4,\n",
              " 424,\n",
              " 28,\n",
              " 1023,\n",
              " 49,\n",
              " 268,\n",
              " 576,\n",
              " 7,\n",
              " 1,\n",
              " 1024,\n",
              " 16,\n",
              " 54,\n",
              " 1025,\n",
              " 6,\n",
              " 113,\n",
              " 2,\n",
              " 116,\n",
              " 181,\n",
              " 1026,\n",
              " 1027,\n",
              " 13,\n",
              " 79,\n",
              " 98,\n",
              " 21,\n",
              " 1028,\n",
              " 4,\n",
              " 577,\n",
              " 327,\n",
              " 1029,\n",
              " 31,\n",
              " 7,\n",
              " 1030,\n",
              " 3,\n",
              " 578,\n",
              " 1031,\n",
              " 6,\n",
              " 1032,\n",
              " 1033,\n",
              " 6,\n",
              " 1034,\n",
              " 1035,\n",
              " 6,\n",
              " 1036,\n",
              " 121,\n",
              " 46,\n",
              " 20,\n",
              " 18,\n",
              " 98,\n",
              " 1,\n",
              " 272,\n",
              " 1037,\n",
              " 579,\n",
              " 32,\n",
              " 58,\n",
              " 55,\n",
              " 64,\n",
              " 13,\n",
              " 229,\n",
              " 64,\n",
              " 125,\n",
              " 80,\n",
              " 566,\n",
              " 1038,\n",
              " 328,\n",
              " 23,\n",
              " 1,\n",
              " 153,\n",
              " 3,\n",
              " 1039,\n",
              " 580,\n",
              " 23,\n",
              " 2,\n",
              " 1040,\n",
              " 202,\n",
              " 136,\n",
              " 154,\n",
              " 581,\n",
              " 90,\n",
              " 13,\n",
              " 1,\n",
              " 1041,\n",
              " 1042,\n",
              " 4,\n",
              " 1,\n",
              " 180,\n",
              " 1043,\n",
              " 155,\n",
              " 1,\n",
              " 1044,\n",
              " 1045,\n",
              " 4,\n",
              " 582,\n",
              " 556,\n",
              " 154,\n",
              " 27,\n",
              " 1046,\n",
              " 36,\n",
              " 55,\n",
              " 91,\n",
              " 113,\n",
              " 107,\n",
              " 16,\n",
              " 329,\n",
              " 1,\n",
              " 153,\n",
              " 16,\n",
              " 55,\n",
              " 1047,\n",
              " 122,\n",
              " 203,\n",
              " 583,\n",
              " 7,\n",
              " 3,\n",
              " 29,\n",
              " 55,\n",
              " 201,\n",
              " 425,\n",
              " 4,\n",
              " 90,\n",
              " 1048,\n",
              " 1049,\n",
              " 21,\n",
              " 55,\n",
              " 125,\n",
              " 28,\n",
              " 1050,\n",
              " 3,\n",
              " 1051,\n",
              " 179,\n",
              " 3,\n",
              " 1052,\n",
              " 584,\n",
              " 1053,\n",
              " 230,\n",
              " 3,\n",
              " 1054,\n",
              " 99,\n",
              " 64,\n",
              " 55,\n",
              " 21,\n",
              " 1055,\n",
              " 92,\n",
              " 14,\n",
              " 231,\n",
              " 1,\n",
              " 1056,\n",
              " 1057,\n",
              " 4,\n",
              " 1,\n",
              " 1058,\n",
              " 4,\n",
              " 1,\n",
              " 1059,\n",
              " 4,\n",
              " 21,\n",
              " 170,\n",
              " 424,\n",
              " 1060,\n",
              " 90,\n",
              " 1061,\n",
              " 182,\n",
              " 80,\n",
              " 138,\n",
              " 17,\n",
              " 98,\n",
              " 7,\n",
              " 1,\n",
              " 426,\n",
              " 7,\n",
              " 49,\n",
              " 268,\n",
              " 180,\n",
              " 4,\n",
              " 1062,\n",
              " 151,\n",
              " 137,\n",
              " 117,\n",
              " 1063,\n",
              " 17,\n",
              " 585,\n",
              " 3,\n",
              " 586,\n",
              " 6,\n",
              " 30,\n",
              " 8,\n",
              " 1064,\n",
              " 17,\n",
              " 85,\n",
              " 7,\n",
              " 2,\n",
              " 1065,\n",
              " 3,\n",
              " 587,\n",
              " 17,\n",
              " 29,\n",
              " 41,\n",
              " 2,\n",
              " 1066,\n",
              " 7,\n",
              " 1,\n",
              " 427,\n",
              " 29,\n",
              " 20,\n",
              " 588,\n",
              " 7,\n",
              " 8,\n",
              " 232,\n",
              " 1,\n",
              " 86,\n",
              " 1067,\n",
              " 1068,\n",
              " 4,\n",
              " 270,\n",
              " 26,\n",
              " 589,\n",
              " 7,\n",
              " 11,\n",
              " 1069,\n",
              " 572,\n",
              " 201,\n",
              " 9,\n",
              " 70,\n",
              " 24,\n",
              " 11,\n",
              " 330,\n",
              " 233,\n",
              " 11,\n",
              " 204,\n",
              " 2,\n",
              " 156,\n",
              " 3,\n",
              " 10,\n",
              " 154,\n",
              " 1070,\n",
              " 428,\n",
              " 17,\n",
              " 6,\n",
              " 153,\n",
              " 54,\n",
              " 153,\n",
              " 29,\n",
              " 26,\n",
              " 7,\n",
              " 21,\n",
              " 9,\n",
              " 1071,\n",
              " 139,\n",
              " 17,\n",
              " 126,\n",
              " 26,\n",
              " 1072,\n",
              " 7,\n",
              " 1,\n",
              " 108,\n",
              " 429,\n",
              " 1073,\n",
              " 331,\n",
              " 18,\n",
              " 1074,\n",
              " 54,\n",
              " 89,\n",
              " 1075,\n",
              " 1076,\n",
              " 6,\n",
              " 26,\n",
              " 1077,\n",
              " 15,\n",
              " 2,\n",
              " 590,\n",
              " 1078,\n",
              " 332,\n",
              " 16,\n",
              " 198,\n",
              " 30,\n",
              " 1079,\n",
              " 1080,\n",
              " 3,\n",
              " 153,\n",
              " 98,\n",
              " 1081,\n",
              " 23,\n",
              " 126,\n",
              " 13,\n",
              " 64,\n",
              " 20,\n",
              " 48,\n",
              " 430,\n",
              " 10,\n",
              " 1082,\n",
              " 6,\n",
              " 1083,\n",
              " 17,\n",
              " 1,\n",
              " 1084,\n",
              " 1085,\n",
              " 1086,\n",
              " 86,\n",
              " 1087,\n",
              " 273,\n",
              " 4,\n",
              " 1088,\n",
              " 1089,\n",
              " 7,\n",
              " 21,\n",
              " 1,\n",
              " 1090,\n",
              " 4,\n",
              " 1,\n",
              " 1091,\n",
              " 32,\n",
              " 20,\n",
              " 1,\n",
              " 591,\n",
              " 1092,\n",
              " 10,\n",
              " 1093,\n",
              " 29,\n",
              " 201,\n",
              " 11,\n",
              " 1094,\n",
              " 431,\n",
              " 15,\n",
              " 2,\n",
              " 1095,\n",
              " 592,\n",
              " 16,\n",
              " 54,\n",
              " 2,\n",
              " 1096,\n",
              " 3,\n",
              " 2,\n",
              " 1097,\n",
              " 42,\n",
              " 274,\n",
              " 3,\n",
              " 64,\n",
              " 1098,\n",
              " 11,\n",
              " 593,\n",
              " 3,\n",
              " 29,\n",
              " 100,\n",
              " 11,\n",
              " 1099,\n",
              " 3,\n",
              " 31,\n",
              " 28,\n",
              " 582,\n",
              " 1100,\n",
              " 432,\n",
              " 2,\n",
              " 1101,\n",
              " 594,\n",
              " 433,\n",
              " 39,\n",
              " 434,\n",
              " 1102,\n",
              " 435,\n",
              " 2,\n",
              " 1103,\n",
              " 105,\n",
              " 595,\n",
              " 6,\n",
              " 1104,\n",
              " 1105,\n",
              " 4,\n",
              " 1106,\n",
              " 1107,\n",
              " 7,\n",
              " 106,\n",
              " 596,\n",
              " 140,\n",
              " 436,\n",
              " 13,\n",
              " 73,\n",
              " 1,\n",
              " 275,\n",
              " 1108,\n",
              " 597,\n",
              " 1109,\n",
              " 3,\n",
              " 73,\n",
              " 18,\n",
              " 598,\n",
              " 1110,\n",
              " 1111,\n",
              " 85,\n",
              " 228,\n",
              " 599,\n",
              " 52,\n",
              " 587,\n",
              " 51,\n",
              " 18,\n",
              " 600,\n",
              " 25,\n",
              " 65,\n",
              " 99,\n",
              " 21,\n",
              " 42,\n",
              " 1112,\n",
              " 333,\n",
              " 1,\n",
              " 600,\n",
              " 25,\n",
              " 1113,\n",
              " 42,\n",
              " 423,\n",
              " 51,\n",
              " 1,\n",
              " 588,\n",
              " 427,\n",
              " 112,\n",
              " 33,\n",
              " 78,\n",
              " 1114,\n",
              " 1,\n",
              " 1115,\n",
              " 7,\n",
              " 601,\n",
              " 62,\n",
              " 23,\n",
              " 602,\n",
              " 24,\n",
              " 602,\n",
              " 4,\n",
              " 425,\n",
              " 17,\n",
              " 1116,\n",
              " 1117,\n",
              " 433,\n",
              " 437,\n",
              " 1118,\n",
              " 1119,\n",
              " 32,\n",
              " 20,\n",
              " 1,\n",
              " 30,\n",
              " 1120,\n",
              " 1121,\n",
              " 29,\n",
              " 20,\n",
              " 27,\n",
              " 2,\n",
              " 1122,\n",
              " 4,\n",
              " 153,\n",
              " 29,\n",
              " 42,\n",
              " 1123,\n",
              " 13,\n",
              " 2,\n",
              " 1124,\n",
              " 4,\n",
              " 1125,\n",
              " 57,\n",
              " 17,\n",
              " 1126,\n",
              " 89,\n",
              " 603,\n",
              " 425,\n",
              " 6,\n",
              " 88,\n",
              " 8,\n",
              " 141,\n",
              " 71,\n",
              " 1,\n",
              " 334,\n",
              " 1127,\n",
              " 4,\n",
              " 1128,\n",
              " 51,\n",
              " 438,\n",
              " 1129,\n",
              " 127,\n",
              " 1130,\n",
              " 4,\n",
              " 604,\n",
              " 1131,\n",
              " 205,\n",
              " 6,\n",
              " 1132,\n",
              " 33,\n",
              " 2,\n",
              " 335,\n",
              " 69,\n",
              " 10,\n",
              " 605,\n",
              " 1133,\n",
              " 40,\n",
              " 1134,\n",
              " 11,\n",
              " 264,\n",
              " 7,\n",
              " 2,\n",
              " 1135,\n",
              " 1136,\n",
              " 6,\n",
              " 1137,\n",
              " 1138,\n",
              " 141,\n",
              " 20,\n",
              " 137,\n",
              " 198,\n",
              " 606,\n",
              " 607,\n",
              " 608,\n",
              " 15,\n",
              " 2,\n",
              " 606,\n",
              " 607,\n",
              " 415,\n",
              " 7,\n",
              " 33,\n",
              " 19,\n",
              " 49,\n",
              " 74,\n",
              " 40,\n",
              " 76,\n",
              " 609,\n",
              " 6,\n",
              " 78,\n",
              " 6,\n",
              " 72,\n",
              " 141,\n",
              " 51,\n",
              " 89,\n",
              " 81,\n",
              " 183,\n",
              " 16,\n",
              " 2,\n",
              " 336,\n",
              " 71,\n",
              " 17,\n",
              " 234,\n",
              " 439,\n",
              " 68,\n",
              " 2,\n",
              " 1139,\n",
              " 1140,\n",
              " 62,\n",
              " 81,\n",
              " 276,\n",
              " 9,\n",
              " 17,\n",
              " 3,\n",
              " 89,\n",
              " 199,\n",
              " 42,\n",
              " 37,\n",
              " 43,\n",
              " 4,\n",
              " 326,\n",
              " 4,\n",
              " 180,\n",
              " 141,\n",
              " 71,\n",
              " 1,\n",
              " 53,\n",
              " 1141,\n",
              " 610,\n",
              " 1,\n",
              " 72,\n",
              " 611,\n",
              " 141,\n",
              " 71,\n",
              " 1,\n",
              " 1142,\n",
              " 184,\n",
              " 8,\n",
              " 2,\n",
              " 1143,\n",
              " 1144,\n",
              " 3,\n",
              " 142,\n",
              " 612,\n",
              " 4,\n",
              " 1145,\n",
              " 1146,\n",
              " 21,\n",
              " 18,\n",
              " 20,\n",
              " 27,\n",
              " 203,\n",
              " 440,\n",
              " 3,\n",
              " 116,\n",
              " 1147,\n",
              " 1,\n",
              " 440,\n",
              " 4,\n",
              " 9,\n",
              " 277,\n",
              " 4,\n",
              " 1148,\n",
              " 101,\n",
              " 206,\n",
              " 10,\n",
              " 63,\n",
              " 27,\n",
              " 1149,\n",
              " 1,\n",
              " 1150,\n",
              " 1151,\n",
              " 235,\n",
              " 10,\n",
              " 236,\n",
              " 7,\n",
              " 1,\n",
              " 1152,\n",
              " 589,\n",
              " 39,\n",
              " 8,\n",
              " 3,\n",
              " 12,\n",
              " 1153,\n",
              " 13,\n",
              " 9,\n",
              " 131,\n",
              " 235,\n",
              " 143,\n",
              " 613,\n",
              " 88,\n",
              " 7,\n",
              " 21,\n",
              " 1154,\n",
              " 3,\n",
              " 1155,\n",
              " 8,\n",
              " 20,\n",
              " 1,\n",
              " 235,\n",
              " 4,\n",
              " 1,\n",
              " 1156,\n",
              " 441,\n",
              " 4,\n",
              " 442,\n",
              " 3,\n",
              " 18,\n",
              " 20,\n",
              " 1,\n",
              " 1157,\n",
              " 6,\n",
              " 8,\n",
              " 21,\n",
              " 37,\n",
              " 62,\n",
              " 5,\n",
              " 138,\n",
              " 9,\n",
              " 5,\n",
              " 237,\n",
              " 7,\n",
              " 1,\n",
              " 1158,\n",
              " 4,\n",
              " 156,\n",
              " 6,\n",
              " 72,\n",
              " 265,\n",
              " 5,\n",
              " 614,\n",
              " 6,\n",
              " 615,\n",
              " 1159,\n",
              " 38,\n",
              " 1,\n",
              " 207,\n",
              " 3,\n",
              " ...]"
            ]
          },
          "metadata": {},
          "execution_count": 15
        }
      ]
    },
    {
      "cell_type": "code",
      "source": [
        "training_set = np.array(new_tokens)\n",
        "training_set"
      ],
      "metadata": {
        "colab": {
          "base_uri": "https://localhost:8080/"
        },
        "id": "pVoKNv3JrBBc",
        "outputId": "1bc3dd63-1369-4e48-9dd3-f8f6dd317ab4"
      },
      "execution_count": null,
      "outputs": [
        {
          "output_type": "execute_result",
          "data": {
            "text/plain": [
              "array([ 552,   14,  222, ..., 2697,   25, 2698])"
            ]
          },
          "metadata": {},
          "execution_count": 16
        }
      ]
    },
    {
      "cell_type": "code",
      "source": [
        "type(training_set)"
      ],
      "metadata": {
        "colab": {
          "base_uri": "https://localhost:8080/"
        },
        "id": "LUVIzN3bpnOK",
        "outputId": "9e5492fe-19c7-476a-c671-ef020ec62ddf"
      },
      "execution_count": null,
      "outputs": [
        {
          "output_type": "execute_result",
          "data": {
            "text/plain": [
              "numpy.ndarray"
            ]
          },
          "metadata": {},
          "execution_count": 17
        }
      ]
    },
    {
      "cell_type": "code",
      "source": [
        "training_set = training_set.reshape(-1, 1)\n",
        "training_set.shape"
      ],
      "metadata": {
        "colab": {
          "base_uri": "https://localhost:8080/"
        },
        "id": "I3FZe2u6nu6B",
        "outputId": "b75e02f2-6459-4828-89a9-06da9fb125c6"
      },
      "execution_count": null,
      "outputs": [
        {
          "output_type": "execute_result",
          "data": {
            "text/plain": [
              "(11338, 1)"
            ]
          },
          "metadata": {},
          "execution_count": 18
        }
      ]
    },
    {
      "cell_type": "code",
      "source": [
        "# Creating a Data Structure with 60 timesteps and 1 output\n",
        "X_train = []\n",
        "y_train = []\n",
        "for i in range(60, len(training_set)):\n",
        "  X_train.append(training_set[i-60:i, 0])\n",
        "  y_train.append(training_set[i, 0])\n",
        "X_train, y_train = np.array(X_train), np.array(y_train)"
      ],
      "metadata": {
        "id": "MrsBEt4RqFvS"
      },
      "execution_count": null,
      "outputs": []
    },
    {
      "cell_type": "code",
      "source": [
        "X_train.shape[0], X_train.shape[1]"
      ],
      "metadata": {
        "colab": {
          "base_uri": "https://localhost:8080/"
        },
        "id": "VenDoS4xqMv4",
        "outputId": "de5e8e96-bc55-4e02-a7ee-3ad10847c5f0"
      },
      "execution_count": null,
      "outputs": [
        {
          "output_type": "execute_result",
          "data": {
            "text/plain": [
              "(11278, 60)"
            ]
          },
          "metadata": {},
          "execution_count": 92
        }
      ]
    },
    {
      "cell_type": "code",
      "source": [
        "X_train.shape"
      ],
      "metadata": {
        "colab": {
          "base_uri": "https://localhost:8080/"
        },
        "id": "-PvRVMEFqP42",
        "outputId": "770a1391-12e0-4d8d-9420-b470ab00fb4c"
      },
      "execution_count": null,
      "outputs": [
        {
          "output_type": "execute_result",
          "data": {
            "text/plain": [
              "(11278, 60)"
            ]
          },
          "metadata": {},
          "execution_count": 93
        }
      ]
    },
    {
      "cell_type": "code",
      "source": [
        "X_train.shape[1]"
      ],
      "metadata": {
        "colab": {
          "base_uri": "https://localhost:8080/"
        },
        "id": "f8q4jyOa5ZGG",
        "outputId": "ed977497-b4e8-42ee-c0c8-17a47e6928f7"
      },
      "execution_count": null,
      "outputs": [
        {
          "output_type": "execute_result",
          "data": {
            "text/plain": [
              "60"
            ]
          },
          "metadata": {},
          "execution_count": 94
        }
      ]
    },
    {
      "cell_type": "code",
      "source": [
        "seq_len = X_train.shape[1]"
      ],
      "metadata": {
        "id": "2qe78AQw5Va8"
      },
      "execution_count": null,
      "outputs": []
    },
    {
      "cell_type": "code",
      "source": [
        "X_train"
      ],
      "metadata": {
        "colab": {
          "base_uri": "https://localhost:8080/"
        },
        "id": "LFi3kk5dqTr6",
        "outputId": "ae90b62e-64f5-4fde-9fac-e5b4f4d28cdb"
      },
      "execution_count": null,
      "outputs": [
        {
          "output_type": "execute_result",
          "data": {
            "text/plain": [
              "array([[ 552,   14,  222, ...,  964,  265,    5],\n",
              "       [  14,  222,   49, ...,  265,    5,  413],\n",
              "       [ 222,   49,  223, ...,    5,  413,   97],\n",
              "       ...,\n",
              "       [  19,   18, 2689, ...,  243,   52,    2],\n",
              "       [  18, 2689,   62, ...,   52,    2, 2697],\n",
              "       [2689,   62,    5, ...,    2, 2697,   25]])"
            ]
          },
          "metadata": {},
          "execution_count": 96
        }
      ]
    },
    {
      "cell_type": "code",
      "source": [
        "X_train = np.reshape(X_train, (X_train.shape[0], X_train.shape[1], 1))"
      ],
      "metadata": {
        "id": "lRW0aEqAqanp"
      },
      "execution_count": null,
      "outputs": []
    },
    {
      "cell_type": "code",
      "source": [
        "X_train"
      ],
      "metadata": {
        "colab": {
          "base_uri": "https://localhost:8080/"
        },
        "collapsed": true,
        "id": "QCdUkVzRRACO",
        "outputId": "a4b6e9ae-1e70-42bf-b9af-94e2d632b6e2"
      },
      "execution_count": null,
      "outputs": [
        {
          "output_type": "execute_result",
          "data": {
            "text/plain": [
              "array([[[ 552],\n",
              "        [  14],\n",
              "        [ 222],\n",
              "        ...,\n",
              "        [ 964],\n",
              "        [ 265],\n",
              "        [   5]],\n",
              "\n",
              "       [[  14],\n",
              "        [ 222],\n",
              "        [  49],\n",
              "        ...,\n",
              "        [ 265],\n",
              "        [   5],\n",
              "        [ 413]],\n",
              "\n",
              "       [[ 222],\n",
              "        [  49],\n",
              "        [ 223],\n",
              "        ...,\n",
              "        [   5],\n",
              "        [ 413],\n",
              "        [  97]],\n",
              "\n",
              "       ...,\n",
              "\n",
              "       [[  19],\n",
              "        [  18],\n",
              "        [2689],\n",
              "        ...,\n",
              "        [ 243],\n",
              "        [  52],\n",
              "        [   2]],\n",
              "\n",
              "       [[  18],\n",
              "        [2689],\n",
              "        [  62],\n",
              "        ...,\n",
              "        [  52],\n",
              "        [   2],\n",
              "        [2697]],\n",
              "\n",
              "       [[2689],\n",
              "        [  62],\n",
              "        [   5],\n",
              "        ...,\n",
              "        [   2],\n",
              "        [2697],\n",
              "        [  25]]])"
            ]
          },
          "metadata": {},
          "execution_count": 98
        }
      ]
    },
    {
      "cell_type": "code",
      "source": [
        "X_train.shape"
      ],
      "metadata": {
        "colab": {
          "base_uri": "https://localhost:8080/"
        },
        "id": "N-uqzoLItX_b",
        "outputId": "82f25976-2095-46e7-82fa-48b6a0507afa",
        "collapsed": true
      },
      "execution_count": null,
      "outputs": [
        {
          "output_type": "execute_result",
          "data": {
            "text/plain": [
              "(11278, 60, 1)"
            ]
          },
          "metadata": {},
          "execution_count": 99
        }
      ]
    },
    {
      "cell_type": "code",
      "source": [
        "y_train.shape"
      ],
      "metadata": {
        "colab": {
          "base_uri": "https://localhost:8080/"
        },
        "id": "J4-yhZdeDyf_",
        "outputId": "4ac92c42-6932-46b7-e226-e1024f0064c4"
      },
      "execution_count": null,
      "outputs": [
        {
          "output_type": "execute_result",
          "data": {
            "text/plain": [
              "(11278,)"
            ]
          },
          "metadata": {},
          "execution_count": 100
        }
      ]
    },
    {
      "cell_type": "code",
      "source": [
        "vocabulary_size = len(tokenizer.word_counts) + 1"
      ],
      "metadata": {
        "id": "eQ4pQ-UPYkye"
      },
      "execution_count": null,
      "outputs": []
    },
    {
      "cell_type": "code",
      "source": [
        "from keras.models import Sequential\n",
        "from keras.layers import Dense, LSTM, Dropout, Input"
      ],
      "metadata": {
        "id": "ZbeDbvhPulnE"
      },
      "execution_count": null,
      "outputs": []
    },
    {
      "cell_type": "code",
      "source": [
        "model = Sequential()\n",
        "\n",
        "# Directly use LSTM layers without an Embedding layer\n",
        "model.add(Input(shape=(X_train.shape[1], 1)))\n",
        "\n",
        "model.add(LSTM(units=128, return_sequences=True))\n",
        "model.add(Dropout(rate=0.1))\n",
        "\n",
        "model.add(LSTM(units=64, return_sequences=True))\n",
        "model.add(Dropout(rate=0.1))\n",
        "\n",
        "model.add(LSTM(units=32))\n",
        "model.add(Dropout(rate=0.1))\n",
        "\n",
        "model.add(Dense(32, activation='relu'))\n",
        "model.add(Dropout(rate=0.1))\n",
        "\n",
        "model.add(Dense(vocabulary_size, activation='softmax'))\n",
        "\n",
        "model.compile(loss='categorical_crossentropy', optimizer='adam', metrics=['accuracy'])\n",
        "\n",
        "model.summary()"
      ],
      "metadata": {
        "colab": {
          "base_uri": "https://localhost:8080/",
          "height": 423
        },
        "id": "lnJK4BPKtap0",
        "outputId": "70bca207-612a-4b46-aa97-a977f29d0acb"
      },
      "execution_count": null,
      "outputs": [
        {
          "output_type": "display_data",
          "data": {
            "text/plain": [
              "\u001b[1mModel: \"sequential_1\"\u001b[0m\n"
            ],
            "text/html": [
              "<pre style=\"white-space:pre;overflow-x:auto;line-height:normal;font-family:Menlo,'DejaVu Sans Mono',consolas,'Courier New',monospace\"><span style=\"font-weight: bold\">Model: \"sequential_1\"</span>\n",
              "</pre>\n"
            ]
          },
          "metadata": {}
        },
        {
          "output_type": "display_data",
          "data": {
            "text/plain": [
              "┏━━━━━━━━━━━━━━━━━━━━━━━━━━━━━━━━━━━━━━┳━━━━━━━━━━━━━━━━━━━━━━━━━━━━━┳━━━━━━━━━━━━━━━━━┓\n",
              "┃\u001b[1m \u001b[0m\u001b[1mLayer (type)                        \u001b[0m\u001b[1m \u001b[0m┃\u001b[1m \u001b[0m\u001b[1mOutput Shape               \u001b[0m\u001b[1m \u001b[0m┃\u001b[1m \u001b[0m\u001b[1m        Param #\u001b[0m\u001b[1m \u001b[0m┃\n",
              "┡━━━━━━━━━━━━━━━━━━━━━━━━━━━━━━━━━━━━━━╇━━━━━━━━━━━━━━━━━━━━━━━━━━━━━╇━━━━━━━━━━━━━━━━━┩\n",
              "│ lstm_3 (\u001b[38;5;33mLSTM\u001b[0m)                        │ (\u001b[38;5;45mNone\u001b[0m, \u001b[38;5;34m60\u001b[0m, \u001b[38;5;34m128\u001b[0m)             │          \u001b[38;5;34m66,560\u001b[0m │\n",
              "├──────────────────────────────────────┼─────────────────────────────┼─────────────────┤\n",
              "│ dropout_4 (\u001b[38;5;33mDropout\u001b[0m)                  │ (\u001b[38;5;45mNone\u001b[0m, \u001b[38;5;34m60\u001b[0m, \u001b[38;5;34m128\u001b[0m)             │               \u001b[38;5;34m0\u001b[0m │\n",
              "├──────────────────────────────────────┼─────────────────────────────┼─────────────────┤\n",
              "│ lstm_4 (\u001b[38;5;33mLSTM\u001b[0m)                        │ (\u001b[38;5;45mNone\u001b[0m, \u001b[38;5;34m60\u001b[0m, \u001b[38;5;34m64\u001b[0m)              │          \u001b[38;5;34m49,408\u001b[0m │\n",
              "├──────────────────────────────────────┼─────────────────────────────┼─────────────────┤\n",
              "│ dropout_5 (\u001b[38;5;33mDropout\u001b[0m)                  │ (\u001b[38;5;45mNone\u001b[0m, \u001b[38;5;34m60\u001b[0m, \u001b[38;5;34m64\u001b[0m)              │               \u001b[38;5;34m0\u001b[0m │\n",
              "├──────────────────────────────────────┼─────────────────────────────┼─────────────────┤\n",
              "│ lstm_5 (\u001b[38;5;33mLSTM\u001b[0m)                        │ (\u001b[38;5;45mNone\u001b[0m, \u001b[38;5;34m32\u001b[0m)                  │          \u001b[38;5;34m12,416\u001b[0m │\n",
              "├──────────────────────────────────────┼─────────────────────────────┼─────────────────┤\n",
              "│ dropout_6 (\u001b[38;5;33mDropout\u001b[0m)                  │ (\u001b[38;5;45mNone\u001b[0m, \u001b[38;5;34m32\u001b[0m)                  │               \u001b[38;5;34m0\u001b[0m │\n",
              "├──────────────────────────────────────┼─────────────────────────────┼─────────────────┤\n",
              "│ dense_2 (\u001b[38;5;33mDense\u001b[0m)                      │ (\u001b[38;5;45mNone\u001b[0m, \u001b[38;5;34m32\u001b[0m)                  │           \u001b[38;5;34m1,056\u001b[0m │\n",
              "├──────────────────────────────────────┼─────────────────────────────┼─────────────────┤\n",
              "│ dropout_7 (\u001b[38;5;33mDropout\u001b[0m)                  │ (\u001b[38;5;45mNone\u001b[0m, \u001b[38;5;34m32\u001b[0m)                  │               \u001b[38;5;34m0\u001b[0m │\n",
              "├──────────────────────────────────────┼─────────────────────────────┼─────────────────┤\n",
              "│ dense_3 (\u001b[38;5;33mDense\u001b[0m)                      │ (\u001b[38;5;45mNone\u001b[0m, \u001b[38;5;34m2699\u001b[0m)                │          \u001b[38;5;34m89,067\u001b[0m │\n",
              "└──────────────────────────────────────┴─────────────────────────────┴─────────────────┘\n"
            ],
            "text/html": [
              "<pre style=\"white-space:pre;overflow-x:auto;line-height:normal;font-family:Menlo,'DejaVu Sans Mono',consolas,'Courier New',monospace\">┏━━━━━━━━━━━━━━━━━━━━━━━━━━━━━━━━━━━━━━┳━━━━━━━━━━━━━━━━━━━━━━━━━━━━━┳━━━━━━━━━━━━━━━━━┓\n",
              "┃<span style=\"font-weight: bold\"> Layer (type)                         </span>┃<span style=\"font-weight: bold\"> Output Shape                </span>┃<span style=\"font-weight: bold\">         Param # </span>┃\n",
              "┡━━━━━━━━━━━━━━━━━━━━━━━━━━━━━━━━━━━━━━╇━━━━━━━━━━━━━━━━━━━━━━━━━━━━━╇━━━━━━━━━━━━━━━━━┩\n",
              "│ lstm_3 (<span style=\"color: #0087ff; text-decoration-color: #0087ff\">LSTM</span>)                        │ (<span style=\"color: #00d7ff; text-decoration-color: #00d7ff\">None</span>, <span style=\"color: #00af00; text-decoration-color: #00af00\">60</span>, <span style=\"color: #00af00; text-decoration-color: #00af00\">128</span>)             │          <span style=\"color: #00af00; text-decoration-color: #00af00\">66,560</span> │\n",
              "├──────────────────────────────────────┼─────────────────────────────┼─────────────────┤\n",
              "│ dropout_4 (<span style=\"color: #0087ff; text-decoration-color: #0087ff\">Dropout</span>)                  │ (<span style=\"color: #00d7ff; text-decoration-color: #00d7ff\">None</span>, <span style=\"color: #00af00; text-decoration-color: #00af00\">60</span>, <span style=\"color: #00af00; text-decoration-color: #00af00\">128</span>)             │               <span style=\"color: #00af00; text-decoration-color: #00af00\">0</span> │\n",
              "├──────────────────────────────────────┼─────────────────────────────┼─────────────────┤\n",
              "│ lstm_4 (<span style=\"color: #0087ff; text-decoration-color: #0087ff\">LSTM</span>)                        │ (<span style=\"color: #00d7ff; text-decoration-color: #00d7ff\">None</span>, <span style=\"color: #00af00; text-decoration-color: #00af00\">60</span>, <span style=\"color: #00af00; text-decoration-color: #00af00\">64</span>)              │          <span style=\"color: #00af00; text-decoration-color: #00af00\">49,408</span> │\n",
              "├──────────────────────────────────────┼─────────────────────────────┼─────────────────┤\n",
              "│ dropout_5 (<span style=\"color: #0087ff; text-decoration-color: #0087ff\">Dropout</span>)                  │ (<span style=\"color: #00d7ff; text-decoration-color: #00d7ff\">None</span>, <span style=\"color: #00af00; text-decoration-color: #00af00\">60</span>, <span style=\"color: #00af00; text-decoration-color: #00af00\">64</span>)              │               <span style=\"color: #00af00; text-decoration-color: #00af00\">0</span> │\n",
              "├──────────────────────────────────────┼─────────────────────────────┼─────────────────┤\n",
              "│ lstm_5 (<span style=\"color: #0087ff; text-decoration-color: #0087ff\">LSTM</span>)                        │ (<span style=\"color: #00d7ff; text-decoration-color: #00d7ff\">None</span>, <span style=\"color: #00af00; text-decoration-color: #00af00\">32</span>)                  │          <span style=\"color: #00af00; text-decoration-color: #00af00\">12,416</span> │\n",
              "├──────────────────────────────────────┼─────────────────────────────┼─────────────────┤\n",
              "│ dropout_6 (<span style=\"color: #0087ff; text-decoration-color: #0087ff\">Dropout</span>)                  │ (<span style=\"color: #00d7ff; text-decoration-color: #00d7ff\">None</span>, <span style=\"color: #00af00; text-decoration-color: #00af00\">32</span>)                  │               <span style=\"color: #00af00; text-decoration-color: #00af00\">0</span> │\n",
              "├──────────────────────────────────────┼─────────────────────────────┼─────────────────┤\n",
              "│ dense_2 (<span style=\"color: #0087ff; text-decoration-color: #0087ff\">Dense</span>)                      │ (<span style=\"color: #00d7ff; text-decoration-color: #00d7ff\">None</span>, <span style=\"color: #00af00; text-decoration-color: #00af00\">32</span>)                  │           <span style=\"color: #00af00; text-decoration-color: #00af00\">1,056</span> │\n",
              "├──────────────────────────────────────┼─────────────────────────────┼─────────────────┤\n",
              "│ dropout_7 (<span style=\"color: #0087ff; text-decoration-color: #0087ff\">Dropout</span>)                  │ (<span style=\"color: #00d7ff; text-decoration-color: #00d7ff\">None</span>, <span style=\"color: #00af00; text-decoration-color: #00af00\">32</span>)                  │               <span style=\"color: #00af00; text-decoration-color: #00af00\">0</span> │\n",
              "├──────────────────────────────────────┼─────────────────────────────┼─────────────────┤\n",
              "│ dense_3 (<span style=\"color: #0087ff; text-decoration-color: #0087ff\">Dense</span>)                      │ (<span style=\"color: #00d7ff; text-decoration-color: #00d7ff\">None</span>, <span style=\"color: #00af00; text-decoration-color: #00af00\">2699</span>)                │          <span style=\"color: #00af00; text-decoration-color: #00af00\">89,067</span> │\n",
              "└──────────────────────────────────────┴─────────────────────────────┴─────────────────┘\n",
              "</pre>\n"
            ]
          },
          "metadata": {}
        },
        {
          "output_type": "display_data",
          "data": {
            "text/plain": [
              "\u001b[1m Total params: \u001b[0m\u001b[38;5;34m218,507\u001b[0m (853.54 KB)\n"
            ],
            "text/html": [
              "<pre style=\"white-space:pre;overflow-x:auto;line-height:normal;font-family:Menlo,'DejaVu Sans Mono',consolas,'Courier New',monospace\"><span style=\"font-weight: bold\"> Total params: </span><span style=\"color: #00af00; text-decoration-color: #00af00\">218,507</span> (853.54 KB)\n",
              "</pre>\n"
            ]
          },
          "metadata": {}
        },
        {
          "output_type": "display_data",
          "data": {
            "text/plain": [
              "\u001b[1m Trainable params: \u001b[0m\u001b[38;5;34m218,507\u001b[0m (853.54 KB)\n"
            ],
            "text/html": [
              "<pre style=\"white-space:pre;overflow-x:auto;line-height:normal;font-family:Menlo,'DejaVu Sans Mono',consolas,'Courier New',monospace\"><span style=\"font-weight: bold\"> Trainable params: </span><span style=\"color: #00af00; text-decoration-color: #00af00\">218,507</span> (853.54 KB)\n",
              "</pre>\n"
            ]
          },
          "metadata": {}
        },
        {
          "output_type": "display_data",
          "data": {
            "text/plain": [
              "\u001b[1m Non-trainable params: \u001b[0m\u001b[38;5;34m0\u001b[0m (0.00 B)\n"
            ],
            "text/html": [
              "<pre style=\"white-space:pre;overflow-x:auto;line-height:normal;font-family:Menlo,'DejaVu Sans Mono',consolas,'Courier New',monospace\"><span style=\"font-weight: bold\"> Non-trainable params: </span><span style=\"color: #00af00; text-decoration-color: #00af00\">0</span> (0.00 B)\n",
              "</pre>\n"
            ]
          },
          "metadata": {}
        }
      ]
    },
    {
      "cell_type": "code",
      "source": [
        "from tensorflow.keras.utils import to_categorical"
      ],
      "metadata": {
        "id": "1o0rbWs4Zfdo"
      },
      "execution_count": null,
      "outputs": []
    },
    {
      "cell_type": "code",
      "source": [
        "y_train_one_hot = to_categorical(y_train, num_classes=vocabulary_size)"
      ],
      "metadata": {
        "id": "tnhyopjvZafL"
      },
      "execution_count": null,
      "outputs": []
    },
    {
      "cell_type": "code",
      "source": [
        "history = model.fit(X_train, y_train_one_hot, batch_size=128, epochs=50, verbose=1)"
      ],
      "metadata": {
        "id": "BQ2RyvG1t_KN",
        "collapsed": true,
        "colab": {
          "base_uri": "https://localhost:8080/"
        },
        "outputId": "2ca5e6d1-7623-4a2f-ff4a-343afaaea515"
      },
      "execution_count": null,
      "outputs": [
        {
          "output_type": "stream",
          "name": "stdout",
          "text": [
            "Epoch 1/50\n",
            "\u001b[1m89/89\u001b[0m \u001b[32m━━━━━━━━━━━━━━━━━━━━\u001b[0m\u001b[37m\u001b[0m \u001b[1m32s\u001b[0m 356ms/step - accuracy: 0.0631 - loss: 6.0499\n",
            "Epoch 2/50\n",
            "\u001b[1m89/89\u001b[0m \u001b[32m━━━━━━━━━━━━━━━━━━━━\u001b[0m\u001b[37m\u001b[0m \u001b[1m35s\u001b[0m 391ms/step - accuracy: 0.0619 - loss: 6.0732\n",
            "Epoch 3/50\n",
            "\u001b[1m89/89\u001b[0m \u001b[32m━━━━━━━━━━━━━━━━━━━━\u001b[0m\u001b[37m\u001b[0m \u001b[1m32s\u001b[0m 358ms/step - accuracy: 0.0643 - loss: 6.0001\n",
            "Epoch 4/50\n",
            "\u001b[1m89/89\u001b[0m \u001b[32m━━━━━━━━━━━━━━━━━━━━\u001b[0m\u001b[37m\u001b[0m \u001b[1m41s\u001b[0m 359ms/step - accuracy: 0.0674 - loss: 6.0041\n",
            "Epoch 5/50\n",
            "\u001b[1m89/89\u001b[0m \u001b[32m━━━━━━━━━━━━━━━━━━━━\u001b[0m\u001b[37m\u001b[0m \u001b[1m40s\u001b[0m 352ms/step - accuracy: 0.0655 - loss: 6.0145\n",
            "Epoch 6/50\n",
            "\u001b[1m89/89\u001b[0m \u001b[32m━━━━━━━━━━━━━━━━━━━━\u001b[0m\u001b[37m\u001b[0m \u001b[1m44s\u001b[0m 383ms/step - accuracy: 0.0654 - loss: 5.9804\n",
            "Epoch 7/50\n",
            "\u001b[1m89/89\u001b[0m \u001b[32m━━━━━━━━━━━━━━━━━━━━\u001b[0m\u001b[37m\u001b[0m \u001b[1m38s\u001b[0m 353ms/step - accuracy: 0.0618 - loss: 5.9731\n",
            "Epoch 8/50\n",
            "\u001b[1m89/89\u001b[0m \u001b[32m━━━━━━━━━━━━━━━━━━━━\u001b[0m\u001b[37m\u001b[0m \u001b[1m41s\u001b[0m 357ms/step - accuracy: 0.0645 - loss: 5.9455\n",
            "Epoch 9/50\n",
            "\u001b[1m89/89\u001b[0m \u001b[32m━━━━━━━━━━━━━━━━━━━━\u001b[0m\u001b[37m\u001b[0m \u001b[1m40s\u001b[0m 353ms/step - accuracy: 0.0692 - loss: 5.9031\n",
            "Epoch 10/50\n",
            "\u001b[1m89/89\u001b[0m \u001b[32m━━━━━━━━━━━━━━━━━━━━\u001b[0m\u001b[37m\u001b[0m \u001b[1m44s\u001b[0m 385ms/step - accuracy: 0.0662 - loss: 5.9329\n",
            "Epoch 11/50\n",
            "\u001b[1m89/89\u001b[0m \u001b[32m━━━━━━━━━━━━━━━━━━━━\u001b[0m\u001b[37m\u001b[0m \u001b[1m39s\u001b[0m 357ms/step - accuracy: 0.0667 - loss: 5.9089\n",
            "Epoch 12/50\n",
            "\u001b[1m89/89\u001b[0m \u001b[32m━━━━━━━━━━━━━━━━━━━━\u001b[0m\u001b[37m\u001b[0m \u001b[1m42s\u001b[0m 369ms/step - accuracy: 0.0666 - loss: 5.8949\n",
            "Epoch 13/50\n",
            "\u001b[1m89/89\u001b[0m \u001b[32m━━━━━━━━━━━━━━━━━━━━\u001b[0m\u001b[37m\u001b[0m \u001b[1m40s\u001b[0m 358ms/step - accuracy: 0.0703 - loss: 5.8701\n",
            "Epoch 14/50\n",
            "\u001b[1m89/89\u001b[0m \u001b[32m━━━━━━━━━━━━━━━━━━━━\u001b[0m\u001b[37m\u001b[0m \u001b[1m41s\u001b[0m 358ms/step - accuracy: 0.0667 - loss: 5.8901\n",
            "Epoch 15/50\n",
            "\u001b[1m89/89\u001b[0m \u001b[32m━━━━━━━━━━━━━━━━━━━━\u001b[0m\u001b[37m\u001b[0m \u001b[1m41s\u001b[0m 356ms/step - accuracy: 0.0658 - loss: 5.8356\n",
            "Epoch 16/50\n",
            "\u001b[1m89/89\u001b[0m \u001b[32m━━━━━━━━━━━━━━━━━━━━\u001b[0m\u001b[37m\u001b[0m \u001b[1m42s\u001b[0m 362ms/step - accuracy: 0.0669 - loss: 5.8294\n",
            "Epoch 17/50\n",
            "\u001b[1m89/89\u001b[0m \u001b[32m━━━━━━━━━━━━━━━━━━━━\u001b[0m\u001b[37m\u001b[0m \u001b[1m40s\u001b[0m 356ms/step - accuracy: 0.0660 - loss: 5.8273\n",
            "Epoch 18/50\n",
            "\u001b[1m89/89\u001b[0m \u001b[32m━━━━━━━━━━━━━━━━━━━━\u001b[0m\u001b[37m\u001b[0m \u001b[1m34s\u001b[0m 384ms/step - accuracy: 0.0668 - loss: 5.7891\n",
            "Epoch 19/50\n",
            "\u001b[1m89/89\u001b[0m \u001b[32m━━━━━━━━━━━━━━━━━━━━\u001b[0m\u001b[37m\u001b[0m \u001b[1m39s\u001b[0m 358ms/step - accuracy: 0.0699 - loss: 5.7787\n",
            "Epoch 20/50\n",
            "\u001b[1m89/89\u001b[0m \u001b[32m━━━━━━━━━━━━━━━━━━━━\u001b[0m\u001b[37m\u001b[0m \u001b[1m32s\u001b[0m 358ms/step - accuracy: 0.0700 - loss: 5.7916\n",
            "Epoch 21/50\n",
            "\u001b[1m89/89\u001b[0m \u001b[32m━━━━━━━━━━━━━━━━━━━━\u001b[0m\u001b[37m\u001b[0m \u001b[1m32s\u001b[0m 358ms/step - accuracy: 0.0680 - loss: 5.7703\n",
            "Epoch 22/50\n",
            "\u001b[1m89/89\u001b[0m \u001b[32m━━━━━━━━━━━━━━━━━━━━\u001b[0m\u001b[37m\u001b[0m \u001b[1m43s\u001b[0m 384ms/step - accuracy: 0.0716 - loss: 5.7330\n",
            "Epoch 23/50\n",
            "\u001b[1m89/89\u001b[0m \u001b[32m━━━━━━━━━━━━━━━━━━━━\u001b[0m\u001b[37m\u001b[0m \u001b[1m39s\u001b[0m 361ms/step - accuracy: 0.0668 - loss: 5.7275\n",
            "Epoch 24/50\n",
            "\u001b[1m89/89\u001b[0m \u001b[32m━━━━━━━━━━━━━━━━━━━━\u001b[0m\u001b[37m\u001b[0m \u001b[1m32s\u001b[0m 360ms/step - accuracy: 0.0655 - loss: 5.7338\n",
            "Epoch 25/50\n",
            "\u001b[1m89/89\u001b[0m \u001b[32m━━━━━━━━━━━━━━━━━━━━\u001b[0m\u001b[37m\u001b[0m \u001b[1m40s\u001b[0m 356ms/step - accuracy: 0.0684 - loss: 5.7103\n",
            "Epoch 26/50\n",
            "\u001b[1m89/89\u001b[0m \u001b[32m━━━━━━━━━━━━━━━━━━━━\u001b[0m\u001b[37m\u001b[0m \u001b[1m43s\u001b[0m 383ms/step - accuracy: 0.0677 - loss: 5.6806\n",
            "Epoch 27/50\n",
            "\u001b[1m89/89\u001b[0m \u001b[32m━━━━━━━━━━━━━━━━━━━━\u001b[0m\u001b[37m\u001b[0m \u001b[1m39s\u001b[0m 357ms/step - accuracy: 0.0642 - loss: 5.7025\n",
            "Epoch 28/50\n",
            "\u001b[1m89/89\u001b[0m \u001b[32m━━━━━━━━━━━━━━━━━━━━\u001b[0m\u001b[37m\u001b[0m \u001b[1m32s\u001b[0m 356ms/step - accuracy: 0.0677 - loss: 5.6725\n",
            "Epoch 29/50\n",
            "\u001b[1m89/89\u001b[0m \u001b[32m━━━━━━━━━━━━━━━━━━━━\u001b[0m\u001b[37m\u001b[0m \u001b[1m41s\u001b[0m 359ms/step - accuracy: 0.0662 - loss: 5.6567\n",
            "Epoch 30/50\n",
            "\u001b[1m89/89\u001b[0m \u001b[32m━━━━━━━━━━━━━━━━━━━━\u001b[0m\u001b[37m\u001b[0m \u001b[1m44s\u001b[0m 393ms/step - accuracy: 0.0697 - loss: 5.6520\n",
            "Epoch 31/50\n",
            "\u001b[1m89/89\u001b[0m \u001b[32m━━━━━━━━━━━━━━━━━━━━\u001b[0m\u001b[37m\u001b[0m \u001b[1m32s\u001b[0m 359ms/step - accuracy: 0.0661 - loss: 5.6486\n",
            "Epoch 32/50\n",
            "\u001b[1m89/89\u001b[0m \u001b[32m━━━━━━━━━━━━━━━━━━━━\u001b[0m\u001b[37m\u001b[0m \u001b[1m41s\u001b[0m 357ms/step - accuracy: 0.0665 - loss: 5.6130\n",
            "Epoch 33/50\n",
            "\u001b[1m89/89\u001b[0m \u001b[32m━━━━━━━━━━━━━━━━━━━━\u001b[0m\u001b[37m\u001b[0m \u001b[1m41s\u001b[0m 358ms/step - accuracy: 0.0697 - loss: 5.6279\n",
            "Epoch 34/50\n",
            "\u001b[1m89/89\u001b[0m \u001b[32m━━━━━━━━━━━━━━━━━━━━\u001b[0m\u001b[37m\u001b[0m \u001b[1m32s\u001b[0m 355ms/step - accuracy: 0.0721 - loss: 5.5949\n",
            "Epoch 35/50\n",
            "\u001b[1m89/89\u001b[0m \u001b[32m━━━━━━━━━━━━━━━━━━━━\u001b[0m\u001b[37m\u001b[0m \u001b[1m41s\u001b[0m 360ms/step - accuracy: 0.0679 - loss: 5.5699\n",
            "Epoch 36/50\n",
            "\u001b[1m89/89\u001b[0m \u001b[32m━━━━━━━━━━━━━━━━━━━━\u001b[0m\u001b[37m\u001b[0m \u001b[1m32s\u001b[0m 358ms/step - accuracy: 0.0709 - loss: 5.5613\n",
            "Epoch 37/50\n",
            "\u001b[1m89/89\u001b[0m \u001b[32m━━━━━━━━━━━━━━━━━━━━\u001b[0m\u001b[37m\u001b[0m \u001b[1m32s\u001b[0m 358ms/step - accuracy: 0.0682 - loss: 5.5511\n",
            "Epoch 38/50\n",
            "\u001b[1m89/89\u001b[0m \u001b[32m━━━━━━━━━━━━━━━━━━━━\u001b[0m\u001b[37m\u001b[0m \u001b[1m41s\u001b[0m 356ms/step - accuracy: 0.0709 - loss: 5.5588\n",
            "Epoch 39/50\n",
            "\u001b[1m89/89\u001b[0m \u001b[32m━━━━━━━━━━━━━━━━━━━━\u001b[0m\u001b[37m\u001b[0m \u001b[1m45s\u001b[0m 400ms/step - accuracy: 0.0746 - loss: 5.5341\n",
            "Epoch 40/50\n",
            "\u001b[1m89/89\u001b[0m \u001b[32m━━━━━━━━━━━━━━━━━━━━\u001b[0m\u001b[37m\u001b[0m \u001b[1m37s\u001b[0m 358ms/step - accuracy: 0.0658 - loss: 5.5523\n",
            "Epoch 41/50\n",
            "\u001b[1m89/89\u001b[0m \u001b[32m━━━━━━━━━━━━━━━━━━━━\u001b[0m\u001b[37m\u001b[0m \u001b[1m41s\u001b[0m 362ms/step - accuracy: 0.0685 - loss: 5.5302\n",
            "Epoch 42/50\n",
            "\u001b[1m89/89\u001b[0m \u001b[32m━━━━━━━━━━━━━━━━━━━━\u001b[0m\u001b[37m\u001b[0m \u001b[1m41s\u001b[0m 363ms/step - accuracy: 0.0696 - loss: 5.5073\n",
            "Epoch 43/50\n",
            "\u001b[1m89/89\u001b[0m \u001b[32m━━━━━━━━━━━━━━━━━━━━\u001b[0m\u001b[37m\u001b[0m \u001b[1m34s\u001b[0m 388ms/step - accuracy: 0.0654 - loss: 5.5323\n",
            "Epoch 44/50\n",
            "\u001b[1m89/89\u001b[0m \u001b[32m━━━━━━━━━━━━━━━━━━━━\u001b[0m\u001b[37m\u001b[0m \u001b[1m39s\u001b[0m 363ms/step - accuracy: 0.0712 - loss: 5.5003\n",
            "Epoch 45/50\n",
            "\u001b[1m89/89\u001b[0m \u001b[32m━━━━━━━━━━━━━━━━━━━━\u001b[0m\u001b[37m\u001b[0m \u001b[1m33s\u001b[0m 372ms/step - accuracy: 0.0660 - loss: 5.4859\n",
            "Epoch 46/50\n",
            "\u001b[1m89/89\u001b[0m \u001b[32m━━━━━━━━━━━━━━━━━━━━\u001b[0m\u001b[37m\u001b[0m \u001b[1m40s\u001b[0m 360ms/step - accuracy: 0.0674 - loss: 5.4992\n",
            "Epoch 47/50\n",
            "\u001b[1m89/89\u001b[0m \u001b[32m━━━━━━━━━━━━━━━━━━━━\u001b[0m\u001b[37m\u001b[0m \u001b[1m43s\u001b[0m 383ms/step - accuracy: 0.0734 - loss: 5.4308\n",
            "Epoch 48/50\n",
            "\u001b[1m89/89\u001b[0m \u001b[32m━━━━━━━━━━━━━━━━━━━━\u001b[0m\u001b[37m\u001b[0m \u001b[1m39s\u001b[0m 358ms/step - accuracy: 0.0640 - loss: 5.4572\n",
            "Epoch 49/50\n",
            "\u001b[1m89/89\u001b[0m \u001b[32m━━━━━━━━━━━━━━━━━━━━\u001b[0m\u001b[37m\u001b[0m \u001b[1m41s\u001b[0m 359ms/step - accuracy: 0.0698 - loss: 5.4516\n",
            "Epoch 50/50\n",
            "\u001b[1m89/89\u001b[0m \u001b[32m━━━━━━━━━━━━━━━━━━━━\u001b[0m\u001b[37m\u001b[0m \u001b[1m41s\u001b[0m 361ms/step - accuracy: 0.0699 - loss: 5.4132\n"
          ]
        }
      ]
    },
    {
      "cell_type": "code",
      "source": [
        "from pickle import dump, load"
      ],
      "metadata": {
        "id": "Rfiw-I0bu2f6"
      },
      "execution_count": null,
      "outputs": []
    },
    {
      "cell_type": "code",
      "source": [
        "model.save('/content/drive/MyDrive/Data Science/Text Generation with LSTM/Text-Generation.keras')"
      ],
      "metadata": {
        "id": "idT78Cgh1SJJ"
      },
      "execution_count": null,
      "outputs": []
    },
    {
      "cell_type": "code",
      "source": [
        "dump(tokenizer,open('Text-Generation-Tokenizer', 'wb'))"
      ],
      "metadata": {
        "id": "p5cZE2xt1ism"
      },
      "execution_count": null,
      "outputs": []
    },
    {
      "cell_type": "code",
      "source": [
        "from keras.preprocessing.sequence import pad_sequences"
      ],
      "metadata": {
        "id": "JWEsJpIC1yM3"
      },
      "execution_count": null,
      "outputs": []
    },
    {
      "cell_type": "code",
      "source": [
        "seed_text = 'and throwing the clothes to one side he really did this in not only a civil but a really kind and charitable way i stood looking'"
      ],
      "metadata": {
        "id": "_qV22kB38A_H"
      },
      "execution_count": null,
      "outputs": []
    },
    {
      "cell_type": "code",
      "source": [
        "seed_text2 = 'As the sun began to set behind the mountains, casting long shadows across the valley, the wind picked up, rustling the leaves in the ancient oak trees that lined the narrow path. The sound of distant thunder echoed through the hills, a storm brewing on the horizon, while the travelers hurried to find shelter before the rain began to pour down'"
      ],
      "metadata": {
        "id": "kAVtvNYw9cLB"
      },
      "execution_count": null,
      "outputs": []
    },
    {
      "cell_type": "code",
      "source": [
        "def generate_text(model, tokenizer, seq_len, seed_text, num_gen_words):\n",
        "    output_text = []\n",
        "    input_text = seed_text\n",
        "\n",
        "    for _ in range(num_gen_words):\n",
        "        # Encode the input text\n",
        "        encoded_text = tokenizer.texts_to_sequences([input_text])[0]\n",
        "\n",
        "        # Pad the encoded text to the required sequence length\n",
        "        if len(encoded_text) != 60:\n",
        "          encoded_text = pad_sequences([encoded_text], maxlen=seq_len, truncating='pre')\n",
        "\n",
        "        in_text = np.array(encoded_text)\n",
        "        in_text = in_text.reshape(1, 60, 1)\n",
        "\n",
        "        # Predict the next word's index\n",
        "        pred_probs = model.predict(in_text, verbose=0)[0]\n",
        "\n",
        "        # Get the index of the word with the highest probability\n",
        "        pred_word_index = np.argmax(pred_probs)\n",
        "\n",
        "        # Retrieve the corresponding word from the tokenizer's index_word dictionary\n",
        "        pred_word = tokenizer.index_word.get(pred_word_index, '')\n",
        "\n",
        "        # Append the predicted word to the input text\n",
        "        input_text += ' ' + pred_word\n",
        "\n",
        "        # Store the predicted word in the output text\n",
        "        output_text.append(pred_word)\n",
        "\n",
        "    return ' '.join(output_text)"
      ],
      "metadata": {
        "id": "J7sWZjNj2pXm"
      },
      "execution_count": null,
      "outputs": []
    },
    {
      "cell_type": "code",
      "source": [
        "generate_text(model, tokenizer=tokenizer, seq_len=seq_len, seed_text=seed_text2, num_gen_words=20)"
      ],
      "metadata": {
        "colab": {
          "base_uri": "https://localhost:8080/",
          "height": 36
        },
        "id": "bYAmKrLMutiu",
        "outputId": "cf90717c-ce7e-4320-da3d-b6f769caaf55"
      },
      "execution_count": null,
      "outputs": [
        {
          "output_type": "execute_result",
          "data": {
            "text/plain": [
              "'the little and the room of the room of the room of the room of the room of the room'"
            ],
            "application/vnd.google.colaboratory.intrinsic+json": {
              "type": "string"
            }
          },
          "metadata": {},
          "execution_count": 119
        }
      ]
    },
    {
      "cell_type": "code",
      "source": [
        "model.save('/content/drive/MyDrive/Data Science/Text Generation with LSTM/andtheroom.keras')"
      ],
      "metadata": {
        "id": "aUnXcswwzC4o"
      },
      "execution_count": null,
      "outputs": []
    },
    {
      "cell_type": "code",
      "source": [
        "dump(tokenizer,open('/content/drive/MyDrive/Data Science/Text Generation with LSTM/androomtokenizer', 'wb'))"
      ],
      "metadata": {
        "id": "1u_IJn99zytV"
      },
      "execution_count": null,
      "outputs": []
    },
    {
      "cell_type": "markdown",
      "source": [
        "## ***Testing***"
      ],
      "metadata": {
        "id": "cr3SFGL4vk53"
      }
    },
    {
      "cell_type": "code",
      "source": [
        "encoded_text = tokenizer.texts_to_sequences([seed_text])[0]\n",
        "encoded_text = pad_sequences([encoded_text], maxlen=seq_len, truncating='pre')"
      ],
      "metadata": {
        "id": "cnuHgKwVsOdG"
      },
      "execution_count": null,
      "outputs": []
    },
    {
      "cell_type": "code",
      "source": [
        "print(encoded_text)"
      ],
      "metadata": {
        "colab": {
          "base_uri": "https://localhost:8080/"
        },
        "id": "gZ8oqHQLsVEs",
        "outputId": "5b1f702f-36a2-43fc-d43c-3d8d6d4b5ccb"
      },
      "execution_count": null,
      "outputs": [
        {
          "output_type": "stream",
          "name": "stdout",
          "text": [
            "[[ 376    1 2435    6   30  140   10  342   71   18    7   27  119    2\n",
            "  2436   13    2  342  446    3 2437  105    5  160  132]]\n"
          ]
        }
      ]
    },
    {
      "cell_type": "code",
      "source": [
        "input_text = np.array(encoded_text)"
      ],
      "metadata": {
        "id": "Fu_uGYXIsXQP"
      },
      "execution_count": null,
      "outputs": []
    },
    {
      "cell_type": "code",
      "source": [
        "input_text.shape"
      ],
      "metadata": {
        "colab": {
          "base_uri": "https://localhost:8080/"
        },
        "id": "PoAa4RznsfDH",
        "outputId": "c5ec94d3-27b3-449d-be53-a2807be2262e"
      },
      "execution_count": null,
      "outputs": [
        {
          "output_type": "execute_result",
          "data": {
            "text/plain": [
              "(1, 25)"
            ]
          },
          "metadata": {},
          "execution_count": 61
        }
      ]
    },
    {
      "cell_type": "code",
      "source": [
        "input_text = input_text.reshape(1, 25, 1)"
      ],
      "metadata": {
        "id": "eK7mRroWssYx"
      },
      "execution_count": null,
      "outputs": []
    },
    {
      "cell_type": "code",
      "source": [
        "input_text.shape"
      ],
      "metadata": {
        "colab": {
          "base_uri": "https://localhost:8080/"
        },
        "id": "7bUt7Tk-tHLK",
        "outputId": "949a2cf2-34a9-4662-cc2f-88e4a6708a29"
      },
      "execution_count": null,
      "outputs": [
        {
          "output_type": "execute_result",
          "data": {
            "text/plain": [
              "(1, 25, 1)"
            ]
          },
          "metadata": {},
          "execution_count": 63
        }
      ]
    },
    {
      "cell_type": "code",
      "source": [
        "pred_probs = model.predict(input_text, verbose=0)[0]\n",
        "print(pred_probs)"
      ],
      "metadata": {
        "colab": {
          "base_uri": "https://localhost:8080/"
        },
        "id": "FSxRGugwtJ1A",
        "outputId": "e6360a56-5b62-4b90-a141-15dcbbb2bca7"
      },
      "execution_count": null,
      "outputs": [
        {
          "output_type": "stream",
          "name": "stdout",
          "text": [
            "[9.00787089e-09 4.94035855e-02 2.85572633e-02 ... 2.13851649e-07\n",
            " 1.38735405e-08 1.42094257e-06]\n"
          ]
        }
      ]
    },
    {
      "cell_type": "code",
      "source": [
        "# Get the index of the word with the highest probability\n",
        "pred_word_index = np.argmax(pred_probs)\n",
        "\n",
        "# Retrieve the corresponding word from the tokenizer's index_word dictionary\n",
        "pred_word = tokenizer.index_word.get(pred_word_index, '')\n",
        "\n",
        "# Debugging: Print the predicted word and its index\n",
        "print(f\"Predicted index: {pred_word_index}, Predicted word: '{pred_word}'\")"
      ],
      "metadata": {
        "colab": {
          "base_uri": "https://localhost:8080/"
        },
        "id": "kwuoNB0xtLFn",
        "outputId": "218621ef-640c-4226-c2ec-3d029a1a2b3b"
      },
      "execution_count": null,
      "outputs": [
        {
          "output_type": "stream",
          "name": "stdout",
          "text": [
            "Predicted index: 3, Predicted word: 'and'\n"
          ]
        }
      ]
    },
    {
      "cell_type": "markdown",
      "source": [
        "# ***New Testing***"
      ],
      "metadata": {
        "id": "m1B0qrI3vov6"
      }
    },
    {
      "cell_type": "code",
      "source": [
        "from tensorflow.keras.models import load_model"
      ],
      "metadata": {
        "id": "P3VUkEwdwMlG"
      },
      "execution_count": null,
      "outputs": []
    },
    {
      "cell_type": "code",
      "source": [
        "n_model = load_model('/content/drive/MyDrive/Data Science/Text Generation with LSTM/Text-Generation.h5')\n",
        "# n_tokenizer = load(open('/content/drive/MyDrive/Data Science/Text Generation with LSTM/epochBIG', 'rb'))"
      ],
      "metadata": {
        "colab": {
          "base_uri": "https://localhost:8080/"
        },
        "id": "3P7_CxOTtgKE",
        "outputId": "36d60ce0-e0b0-4bcd-d0b9-c38ff8055bc2"
      },
      "execution_count": null,
      "outputs": [
        {
          "output_type": "stream",
          "name": "stderr",
          "text": [
            "WARNING:absl:Compiled the loaded model, but the compiled metrics have yet to be built. `model.compile_metrics` will be empty until you train or evaluate the model.\n"
          ]
        }
      ]
    },
    {
      "cell_type": "code",
      "source": [
        "n_model.predict(input_text, verbose=0)"
      ],
      "metadata": {
        "colab": {
          "base_uri": "https://localhost:8080/"
        },
        "id": "Fkjn3YWgvzFU",
        "outputId": "22ff3689-11c8-4424-b3e3-07d85aa607d1"
      },
      "execution_count": null,
      "outputs": [
        {
          "output_type": "stream",
          "name": "stderr",
          "text": [
            "/usr/local/lib/python3.10/dist-packages/keras/src/ops/nn.py:545: UserWarning: You are using a softmax over axis -1 of a tensor of shape (1, 1). This axis has size 1. The softmax operation will always return the value 1, which is likely not what you intended. Did you mean to use a sigmoid instead?\n",
            "  warnings.warn(\n"
          ]
        },
        {
          "output_type": "execute_result",
          "data": {
            "text/plain": [
              "array([[1.]], dtype=float32)"
            ]
          },
          "metadata": {},
          "execution_count": 87
        }
      ]
    },
    {
      "cell_type": "code",
      "source": [
        "generate_text(n_model, tokenizer=tokenizer, seq_len=seq_len, seed_text=seed_text, num_gen_words=10)"
      ],
      "metadata": {
        "colab": {
          "base_uri": "https://localhost:8080/",
          "height": 36
        },
        "id": "cH-J4_UpwV_8",
        "outputId": "35c6f6ba-cd12-4f2b-fbb6-e2055969f9fe"
      },
      "execution_count": null,
      "outputs": [
        {
          "output_type": "execute_result",
          "data": {
            "text/plain": [
              "'         '"
            ],
            "application/vnd.google.colaboratory.intrinsic+json": {
              "type": "string"
            }
          },
          "metadata": {},
          "execution_count": 88
        }
      ]
    },
    {
      "cell_type": "code",
      "source": [],
      "metadata": {
        "id": "zmLspoxlwfJZ"
      },
      "execution_count": null,
      "outputs": []
    }
  ]
}