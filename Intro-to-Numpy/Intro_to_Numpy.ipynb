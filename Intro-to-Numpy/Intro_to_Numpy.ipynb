{
  "nbformat": 4,
  "nbformat_minor": 0,
  "metadata": {
    "colab": {
      "provenance": []
    },
    "kernelspec": {
      "name": "python3",
      "display_name": "Python 3"
    },
    "language_info": {
      "name": "python"
    }
  },
  "cells": [
    {
      "cell_type": "code",
      "execution_count": null,
      "metadata": {
        "id": "HU3jdtNjUT7C"
      },
      "outputs": [],
      "source": [
        "import pandas as pd\n",
        "import numpy as np"
      ]
    },
    {
      "cell_type": "markdown",
      "source": [
        "# **Datatypes and Attributes**"
      ],
      "metadata": {
        "id": "qC_1GI4YUuqA"
      }
    },
    {
      "cell_type": "code",
      "source": [
        "# NumPy's main datatype is ndarray\n",
        "\n",
        "a1 = np.array([1, 2, 3])\n",
        "a1"
      ],
      "metadata": {
        "colab": {
          "base_uri": "https://localhost:8080/"
        },
        "id": "SLa1sn0CU6bP",
        "outputId": "fd5b966b-97d0-4856-eb63-0c1ef0a34e29"
      },
      "execution_count": null,
      "outputs": [
        {
          "output_type": "execute_result",
          "data": {
            "text/plain": [
              "array([1, 2, 3])"
            ]
          },
          "metadata": {},
          "execution_count": 2
        }
      ]
    },
    {
      "cell_type": "code",
      "source": [
        "type(a1)"
      ],
      "metadata": {
        "colab": {
          "base_uri": "https://localhost:8080/"
        },
        "id": "FAPtH4xcVYKf",
        "outputId": "ef2de270-c24c-482b-e5f3-e831a9635b3e"
      },
      "execution_count": null,
      "outputs": [
        {
          "output_type": "execute_result",
          "data": {
            "text/plain": [
              "numpy.ndarray"
            ]
          },
          "metadata": {},
          "execution_count": 3
        }
      ]
    },
    {
      "cell_type": "code",
      "source": [
        "a2 = np.array([[1,2.0,3.3],\n",
        "               [4,5,6.5]])\n",
        "\n",
        "a3 = np.array([[[1,2,3],\n",
        "               [4,5,6],\n",
        "               [7,8,9]],\n",
        "               [[10,11,12],\n",
        "                [13,14,15],\n",
        "                [16,17,18]]])\n"
      ],
      "metadata": {
        "id": "-pwYdl5SV7cI"
      },
      "execution_count": null,
      "outputs": []
    },
    {
      "cell_type": "code",
      "source": [
        "a2.dtype"
      ],
      "metadata": {
        "colab": {
          "base_uri": "https://localhost:8080/"
        },
        "id": "xc1BOPzBWrXP",
        "outputId": "f7065f9e-70ac-4b0b-cbcc-6ba81f1173ab"
      },
      "execution_count": null,
      "outputs": [
        {
          "output_type": "execute_result",
          "data": {
            "text/plain": [
              "dtype('float64')"
            ]
          },
          "metadata": {},
          "execution_count": 5
        }
      ]
    },
    {
      "cell_type": "code",
      "source": [
        "a3.shape"
      ],
      "metadata": {
        "colab": {
          "base_uri": "https://localhost:8080/"
        },
        "id": "ZbAvV9yoWswX",
        "outputId": "e0bbd2ed-e031-4c5b-e513-84224d69f776"
      },
      "execution_count": null,
      "outputs": [
        {
          "output_type": "execute_result",
          "data": {
            "text/plain": [
              "(2, 3, 3)"
            ]
          },
          "metadata": {},
          "execution_count": 6
        }
      ]
    },
    {
      "cell_type": "code",
      "source": [
        "a1.size, a2.size, a3.size"
      ],
      "metadata": {
        "colab": {
          "base_uri": "https://localhost:8080/"
        },
        "id": "EVDpv1uAYnhy",
        "outputId": "29e4cd4a-848d-409f-9dae-50fb7782f341"
      },
      "execution_count": null,
      "outputs": [
        {
          "output_type": "execute_result",
          "data": {
            "text/plain": [
              "(3, 6, 18)"
            ]
          },
          "metadata": {},
          "execution_count": 7
        }
      ]
    },
    {
      "cell_type": "code",
      "source": [
        "df1 = pd.DataFrame(a1)\n",
        "df1"
      ],
      "metadata": {
        "colab": {
          "base_uri": "https://localhost:8080/",
          "height": 143
        },
        "id": "LqT3miKLYskT",
        "outputId": "c667f058-5fa3-4eff-cd14-27f0f4a848df"
      },
      "execution_count": null,
      "outputs": [
        {
          "output_type": "execute_result",
          "data": {
            "text/plain": [
              "   0\n",
              "0  1\n",
              "1  2\n",
              "2  3"
            ],
            "text/html": [
              "\n",
              "  <div id=\"df-7df72cbd-4731-4640-8371-8fc8838cbf9e\" class=\"colab-df-container\">\n",
              "    <div>\n",
              "<style scoped>\n",
              "    .dataframe tbody tr th:only-of-type {\n",
              "        vertical-align: middle;\n",
              "    }\n",
              "\n",
              "    .dataframe tbody tr th {\n",
              "        vertical-align: top;\n",
              "    }\n",
              "\n",
              "    .dataframe thead th {\n",
              "        text-align: right;\n",
              "    }\n",
              "</style>\n",
              "<table border=\"1\" class=\"dataframe\">\n",
              "  <thead>\n",
              "    <tr style=\"text-align: right;\">\n",
              "      <th></th>\n",
              "      <th>0</th>\n",
              "    </tr>\n",
              "  </thead>\n",
              "  <tbody>\n",
              "    <tr>\n",
              "      <th>0</th>\n",
              "      <td>1</td>\n",
              "    </tr>\n",
              "    <tr>\n",
              "      <th>1</th>\n",
              "      <td>2</td>\n",
              "    </tr>\n",
              "    <tr>\n",
              "      <th>2</th>\n",
              "      <td>3</td>\n",
              "    </tr>\n",
              "  </tbody>\n",
              "</table>\n",
              "</div>\n",
              "    <div class=\"colab-df-buttons\">\n",
              "\n",
              "  <div class=\"colab-df-container\">\n",
              "    <button class=\"colab-df-convert\" onclick=\"convertToInteractive('df-7df72cbd-4731-4640-8371-8fc8838cbf9e')\"\n",
              "            title=\"Convert this dataframe to an interactive table.\"\n",
              "            style=\"display:none;\">\n",
              "\n",
              "  <svg xmlns=\"http://www.w3.org/2000/svg\" height=\"24px\" viewBox=\"0 -960 960 960\">\n",
              "    <path d=\"M120-120v-720h720v720H120Zm60-500h600v-160H180v160Zm220 220h160v-160H400v160Zm0 220h160v-160H400v160ZM180-400h160v-160H180v160Zm440 0h160v-160H620v160ZM180-180h160v-160H180v160Zm440 0h160v-160H620v160Z\"/>\n",
              "  </svg>\n",
              "    </button>\n",
              "\n",
              "  <style>\n",
              "    .colab-df-container {\n",
              "      display:flex;\n",
              "      gap: 12px;\n",
              "    }\n",
              "\n",
              "    .colab-df-convert {\n",
              "      background-color: #E8F0FE;\n",
              "      border: none;\n",
              "      border-radius: 50%;\n",
              "      cursor: pointer;\n",
              "      display: none;\n",
              "      fill: #1967D2;\n",
              "      height: 32px;\n",
              "      padding: 0 0 0 0;\n",
              "      width: 32px;\n",
              "    }\n",
              "\n",
              "    .colab-df-convert:hover {\n",
              "      background-color: #E2EBFA;\n",
              "      box-shadow: 0px 1px 2px rgba(60, 64, 67, 0.3), 0px 1px 3px 1px rgba(60, 64, 67, 0.15);\n",
              "      fill: #174EA6;\n",
              "    }\n",
              "\n",
              "    .colab-df-buttons div {\n",
              "      margin-bottom: 4px;\n",
              "    }\n",
              "\n",
              "    [theme=dark] .colab-df-convert {\n",
              "      background-color: #3B4455;\n",
              "      fill: #D2E3FC;\n",
              "    }\n",
              "\n",
              "    [theme=dark] .colab-df-convert:hover {\n",
              "      background-color: #434B5C;\n",
              "      box-shadow: 0px 1px 3px 1px rgba(0, 0, 0, 0.15);\n",
              "      filter: drop-shadow(0px 1px 2px rgba(0, 0, 0, 0.3));\n",
              "      fill: #FFFFFF;\n",
              "    }\n",
              "  </style>\n",
              "\n",
              "    <script>\n",
              "      const buttonEl =\n",
              "        document.querySelector('#df-7df72cbd-4731-4640-8371-8fc8838cbf9e button.colab-df-convert');\n",
              "      buttonEl.style.display =\n",
              "        google.colab.kernel.accessAllowed ? 'block' : 'none';\n",
              "\n",
              "      async function convertToInteractive(key) {\n",
              "        const element = document.querySelector('#df-7df72cbd-4731-4640-8371-8fc8838cbf9e');\n",
              "        const dataTable =\n",
              "          await google.colab.kernel.invokeFunction('convertToInteractive',\n",
              "                                                    [key], {});\n",
              "        if (!dataTable) return;\n",
              "\n",
              "        const docLinkHtml = 'Like what you see? Visit the ' +\n",
              "          '<a target=\"_blank\" href=https://colab.research.google.com/notebooks/data_table.ipynb>data table notebook</a>'\n",
              "          + ' to learn more about interactive tables.';\n",
              "        element.innerHTML = '';\n",
              "        dataTable['output_type'] = 'display_data';\n",
              "        await google.colab.output.renderOutput(dataTable, element);\n",
              "        const docLink = document.createElement('div');\n",
              "        docLink.innerHTML = docLinkHtml;\n",
              "        element.appendChild(docLink);\n",
              "      }\n",
              "    </script>\n",
              "  </div>\n",
              "\n",
              "\n",
              "<div id=\"df-d62457d9-022b-4fb7-9d22-192216894396\">\n",
              "  <button class=\"colab-df-quickchart\" onclick=\"quickchart('df-d62457d9-022b-4fb7-9d22-192216894396')\"\n",
              "            title=\"Suggest charts\"\n",
              "            style=\"display:none;\">\n",
              "\n",
              "<svg xmlns=\"http://www.w3.org/2000/svg\" height=\"24px\"viewBox=\"0 0 24 24\"\n",
              "     width=\"24px\">\n",
              "    <g>\n",
              "        <path d=\"M19 3H5c-1.1 0-2 .9-2 2v14c0 1.1.9 2 2 2h14c1.1 0 2-.9 2-2V5c0-1.1-.9-2-2-2zM9 17H7v-7h2v7zm4 0h-2V7h2v10zm4 0h-2v-4h2v4z\"/>\n",
              "    </g>\n",
              "</svg>\n",
              "  </button>\n",
              "\n",
              "<style>\n",
              "  .colab-df-quickchart {\n",
              "      --bg-color: #E8F0FE;\n",
              "      --fill-color: #1967D2;\n",
              "      --hover-bg-color: #E2EBFA;\n",
              "      --hover-fill-color: #174EA6;\n",
              "      --disabled-fill-color: #AAA;\n",
              "      --disabled-bg-color: #DDD;\n",
              "  }\n",
              "\n",
              "  [theme=dark] .colab-df-quickchart {\n",
              "      --bg-color: #3B4455;\n",
              "      --fill-color: #D2E3FC;\n",
              "      --hover-bg-color: #434B5C;\n",
              "      --hover-fill-color: #FFFFFF;\n",
              "      --disabled-bg-color: #3B4455;\n",
              "      --disabled-fill-color: #666;\n",
              "  }\n",
              "\n",
              "  .colab-df-quickchart {\n",
              "    background-color: var(--bg-color);\n",
              "    border: none;\n",
              "    border-radius: 50%;\n",
              "    cursor: pointer;\n",
              "    display: none;\n",
              "    fill: var(--fill-color);\n",
              "    height: 32px;\n",
              "    padding: 0;\n",
              "    width: 32px;\n",
              "  }\n",
              "\n",
              "  .colab-df-quickchart:hover {\n",
              "    background-color: var(--hover-bg-color);\n",
              "    box-shadow: 0 1px 2px rgba(60, 64, 67, 0.3), 0 1px 3px 1px rgba(60, 64, 67, 0.15);\n",
              "    fill: var(--button-hover-fill-color);\n",
              "  }\n",
              "\n",
              "  .colab-df-quickchart-complete:disabled,\n",
              "  .colab-df-quickchart-complete:disabled:hover {\n",
              "    background-color: var(--disabled-bg-color);\n",
              "    fill: var(--disabled-fill-color);\n",
              "    box-shadow: none;\n",
              "  }\n",
              "\n",
              "  .colab-df-spinner {\n",
              "    border: 2px solid var(--fill-color);\n",
              "    border-color: transparent;\n",
              "    border-bottom-color: var(--fill-color);\n",
              "    animation:\n",
              "      spin 1s steps(1) infinite;\n",
              "  }\n",
              "\n",
              "  @keyframes spin {\n",
              "    0% {\n",
              "      border-color: transparent;\n",
              "      border-bottom-color: var(--fill-color);\n",
              "      border-left-color: var(--fill-color);\n",
              "    }\n",
              "    20% {\n",
              "      border-color: transparent;\n",
              "      border-left-color: var(--fill-color);\n",
              "      border-top-color: var(--fill-color);\n",
              "    }\n",
              "    30% {\n",
              "      border-color: transparent;\n",
              "      border-left-color: var(--fill-color);\n",
              "      border-top-color: var(--fill-color);\n",
              "      border-right-color: var(--fill-color);\n",
              "    }\n",
              "    40% {\n",
              "      border-color: transparent;\n",
              "      border-right-color: var(--fill-color);\n",
              "      border-top-color: var(--fill-color);\n",
              "    }\n",
              "    60% {\n",
              "      border-color: transparent;\n",
              "      border-right-color: var(--fill-color);\n",
              "    }\n",
              "    80% {\n",
              "      border-color: transparent;\n",
              "      border-right-color: var(--fill-color);\n",
              "      border-bottom-color: var(--fill-color);\n",
              "    }\n",
              "    90% {\n",
              "      border-color: transparent;\n",
              "      border-bottom-color: var(--fill-color);\n",
              "    }\n",
              "  }\n",
              "</style>\n",
              "\n",
              "  <script>\n",
              "    async function quickchart(key) {\n",
              "      const quickchartButtonEl =\n",
              "        document.querySelector('#' + key + ' button');\n",
              "      quickchartButtonEl.disabled = true;  // To prevent multiple clicks.\n",
              "      quickchartButtonEl.classList.add('colab-df-spinner');\n",
              "      try {\n",
              "        const charts = await google.colab.kernel.invokeFunction(\n",
              "            'suggestCharts', [key], {});\n",
              "      } catch (error) {\n",
              "        console.error('Error during call to suggestCharts:', error);\n",
              "      }\n",
              "      quickchartButtonEl.classList.remove('colab-df-spinner');\n",
              "      quickchartButtonEl.classList.add('colab-df-quickchart-complete');\n",
              "    }\n",
              "    (() => {\n",
              "      let quickchartButtonEl =\n",
              "        document.querySelector('#df-d62457d9-022b-4fb7-9d22-192216894396 button');\n",
              "      quickchartButtonEl.style.display =\n",
              "        google.colab.kernel.accessAllowed ? 'block' : 'none';\n",
              "    })();\n",
              "  </script>\n",
              "</div>\n",
              "\n",
              "  <div id=\"id_e1dec8a9-9c88-4479-98f7-97c586141b62\">\n",
              "    <style>\n",
              "      .colab-df-generate {\n",
              "        background-color: #E8F0FE;\n",
              "        border: none;\n",
              "        border-radius: 50%;\n",
              "        cursor: pointer;\n",
              "        display: none;\n",
              "        fill: #1967D2;\n",
              "        height: 32px;\n",
              "        padding: 0 0 0 0;\n",
              "        width: 32px;\n",
              "      }\n",
              "\n",
              "      .colab-df-generate:hover {\n",
              "        background-color: #E2EBFA;\n",
              "        box-shadow: 0px 1px 2px rgba(60, 64, 67, 0.3), 0px 1px 3px 1px rgba(60, 64, 67, 0.15);\n",
              "        fill: #174EA6;\n",
              "      }\n",
              "\n",
              "      [theme=dark] .colab-df-generate {\n",
              "        background-color: #3B4455;\n",
              "        fill: #D2E3FC;\n",
              "      }\n",
              "\n",
              "      [theme=dark] .colab-df-generate:hover {\n",
              "        background-color: #434B5C;\n",
              "        box-shadow: 0px 1px 3px 1px rgba(0, 0, 0, 0.15);\n",
              "        filter: drop-shadow(0px 1px 2px rgba(0, 0, 0, 0.3));\n",
              "        fill: #FFFFFF;\n",
              "      }\n",
              "    </style>\n",
              "    <button class=\"colab-df-generate\" onclick=\"generateWithVariable('df1')\"\n",
              "            title=\"Generate code using this dataframe.\"\n",
              "            style=\"display:none;\">\n",
              "\n",
              "  <svg xmlns=\"http://www.w3.org/2000/svg\" height=\"24px\"viewBox=\"0 0 24 24\"\n",
              "       width=\"24px\">\n",
              "    <path d=\"M7,19H8.4L18.45,9,17,7.55,7,17.6ZM5,21V16.75L18.45,3.32a2,2,0,0,1,2.83,0l1.4,1.43a1.91,1.91,0,0,1,.58,1.4,1.91,1.91,0,0,1-.58,1.4L9.25,21ZM18.45,9,17,7.55Zm-12,3A5.31,5.31,0,0,0,4.9,8.1,5.31,5.31,0,0,0,1,6.5,5.31,5.31,0,0,0,4.9,4.9,5.31,5.31,0,0,0,6.5,1,5.31,5.31,0,0,0,8.1,4.9,5.31,5.31,0,0,0,12,6.5,5.46,5.46,0,0,0,6.5,12Z\"/>\n",
              "  </svg>\n",
              "    </button>\n",
              "    <script>\n",
              "      (() => {\n",
              "      const buttonEl =\n",
              "        document.querySelector('#id_e1dec8a9-9c88-4479-98f7-97c586141b62 button.colab-df-generate');\n",
              "      buttonEl.style.display =\n",
              "        google.colab.kernel.accessAllowed ? 'block' : 'none';\n",
              "\n",
              "      buttonEl.onclick = () => {\n",
              "        google.colab.notebook.generateWithVariable('df1');\n",
              "      }\n",
              "      })();\n",
              "    </script>\n",
              "  </div>\n",
              "\n",
              "    </div>\n",
              "  </div>\n"
            ],
            "application/vnd.google.colaboratory.intrinsic+json": {
              "type": "dataframe",
              "variable_name": "df1",
              "summary": "{\n  \"name\": \"df1\",\n  \"rows\": 3,\n  \"fields\": [\n    {\n      \"column\": 0,\n      \"properties\": {\n        \"dtype\": \"number\",\n        \"std\": 1,\n        \"min\": 1,\n        \"max\": 3,\n        \"num_unique_values\": 3,\n        \"samples\": [\n          1,\n          2,\n          3\n        ],\n        \"semantic_type\": \"\",\n        \"description\": \"\"\n      }\n    }\n  ]\n}"
            }
          },
          "metadata": {},
          "execution_count": 8
        }
      ]
    },
    {
      "cell_type": "code",
      "source": [
        "df2 = pd.DataFrame(a2)\n",
        "df2"
      ],
      "metadata": {
        "colab": {
          "base_uri": "https://localhost:8080/",
          "height": 125
        },
        "id": "HjQBJdHHZaDt",
        "outputId": "4a5109cb-6655-4a4b-bfb2-c8ac3bff045e"
      },
      "execution_count": null,
      "outputs": [
        {
          "output_type": "execute_result",
          "data": {
            "text/plain": [
              "     0    1    2\n",
              "0  1.0  2.0  3.3\n",
              "1  4.0  5.0  6.5"
            ],
            "text/html": [
              "\n",
              "  <div id=\"df-a4bf653f-f92d-45f0-ade1-ac258ee4ef06\" class=\"colab-df-container\">\n",
              "    <div>\n",
              "<style scoped>\n",
              "    .dataframe tbody tr th:only-of-type {\n",
              "        vertical-align: middle;\n",
              "    }\n",
              "\n",
              "    .dataframe tbody tr th {\n",
              "        vertical-align: top;\n",
              "    }\n",
              "\n",
              "    .dataframe thead th {\n",
              "        text-align: right;\n",
              "    }\n",
              "</style>\n",
              "<table border=\"1\" class=\"dataframe\">\n",
              "  <thead>\n",
              "    <tr style=\"text-align: right;\">\n",
              "      <th></th>\n",
              "      <th>0</th>\n",
              "      <th>1</th>\n",
              "      <th>2</th>\n",
              "    </tr>\n",
              "  </thead>\n",
              "  <tbody>\n",
              "    <tr>\n",
              "      <th>0</th>\n",
              "      <td>1.0</td>\n",
              "      <td>2.0</td>\n",
              "      <td>3.3</td>\n",
              "    </tr>\n",
              "    <tr>\n",
              "      <th>1</th>\n",
              "      <td>4.0</td>\n",
              "      <td>5.0</td>\n",
              "      <td>6.5</td>\n",
              "    </tr>\n",
              "  </tbody>\n",
              "</table>\n",
              "</div>\n",
              "    <div class=\"colab-df-buttons\">\n",
              "\n",
              "  <div class=\"colab-df-container\">\n",
              "    <button class=\"colab-df-convert\" onclick=\"convertToInteractive('df-a4bf653f-f92d-45f0-ade1-ac258ee4ef06')\"\n",
              "            title=\"Convert this dataframe to an interactive table.\"\n",
              "            style=\"display:none;\">\n",
              "\n",
              "  <svg xmlns=\"http://www.w3.org/2000/svg\" height=\"24px\" viewBox=\"0 -960 960 960\">\n",
              "    <path d=\"M120-120v-720h720v720H120Zm60-500h600v-160H180v160Zm220 220h160v-160H400v160Zm0 220h160v-160H400v160ZM180-400h160v-160H180v160Zm440 0h160v-160H620v160ZM180-180h160v-160H180v160Zm440 0h160v-160H620v160Z\"/>\n",
              "  </svg>\n",
              "    </button>\n",
              "\n",
              "  <style>\n",
              "    .colab-df-container {\n",
              "      display:flex;\n",
              "      gap: 12px;\n",
              "    }\n",
              "\n",
              "    .colab-df-convert {\n",
              "      background-color: #E8F0FE;\n",
              "      border: none;\n",
              "      border-radius: 50%;\n",
              "      cursor: pointer;\n",
              "      display: none;\n",
              "      fill: #1967D2;\n",
              "      height: 32px;\n",
              "      padding: 0 0 0 0;\n",
              "      width: 32px;\n",
              "    }\n",
              "\n",
              "    .colab-df-convert:hover {\n",
              "      background-color: #E2EBFA;\n",
              "      box-shadow: 0px 1px 2px rgba(60, 64, 67, 0.3), 0px 1px 3px 1px rgba(60, 64, 67, 0.15);\n",
              "      fill: #174EA6;\n",
              "    }\n",
              "\n",
              "    .colab-df-buttons div {\n",
              "      margin-bottom: 4px;\n",
              "    }\n",
              "\n",
              "    [theme=dark] .colab-df-convert {\n",
              "      background-color: #3B4455;\n",
              "      fill: #D2E3FC;\n",
              "    }\n",
              "\n",
              "    [theme=dark] .colab-df-convert:hover {\n",
              "      background-color: #434B5C;\n",
              "      box-shadow: 0px 1px 3px 1px rgba(0, 0, 0, 0.15);\n",
              "      filter: drop-shadow(0px 1px 2px rgba(0, 0, 0, 0.3));\n",
              "      fill: #FFFFFF;\n",
              "    }\n",
              "  </style>\n",
              "\n",
              "    <script>\n",
              "      const buttonEl =\n",
              "        document.querySelector('#df-a4bf653f-f92d-45f0-ade1-ac258ee4ef06 button.colab-df-convert');\n",
              "      buttonEl.style.display =\n",
              "        google.colab.kernel.accessAllowed ? 'block' : 'none';\n",
              "\n",
              "      async function convertToInteractive(key) {\n",
              "        const element = document.querySelector('#df-a4bf653f-f92d-45f0-ade1-ac258ee4ef06');\n",
              "        const dataTable =\n",
              "          await google.colab.kernel.invokeFunction('convertToInteractive',\n",
              "                                                    [key], {});\n",
              "        if (!dataTable) return;\n",
              "\n",
              "        const docLinkHtml = 'Like what you see? Visit the ' +\n",
              "          '<a target=\"_blank\" href=https://colab.research.google.com/notebooks/data_table.ipynb>data table notebook</a>'\n",
              "          + ' to learn more about interactive tables.';\n",
              "        element.innerHTML = '';\n",
              "        dataTable['output_type'] = 'display_data';\n",
              "        await google.colab.output.renderOutput(dataTable, element);\n",
              "        const docLink = document.createElement('div');\n",
              "        docLink.innerHTML = docLinkHtml;\n",
              "        element.appendChild(docLink);\n",
              "      }\n",
              "    </script>\n",
              "  </div>\n",
              "\n",
              "\n",
              "<div id=\"df-cd4b8b72-11ee-4256-8726-1bf40a06d9fa\">\n",
              "  <button class=\"colab-df-quickchart\" onclick=\"quickchart('df-cd4b8b72-11ee-4256-8726-1bf40a06d9fa')\"\n",
              "            title=\"Suggest charts\"\n",
              "            style=\"display:none;\">\n",
              "\n",
              "<svg xmlns=\"http://www.w3.org/2000/svg\" height=\"24px\"viewBox=\"0 0 24 24\"\n",
              "     width=\"24px\">\n",
              "    <g>\n",
              "        <path d=\"M19 3H5c-1.1 0-2 .9-2 2v14c0 1.1.9 2 2 2h14c1.1 0 2-.9 2-2V5c0-1.1-.9-2-2-2zM9 17H7v-7h2v7zm4 0h-2V7h2v10zm4 0h-2v-4h2v4z\"/>\n",
              "    </g>\n",
              "</svg>\n",
              "  </button>\n",
              "\n",
              "<style>\n",
              "  .colab-df-quickchart {\n",
              "      --bg-color: #E8F0FE;\n",
              "      --fill-color: #1967D2;\n",
              "      --hover-bg-color: #E2EBFA;\n",
              "      --hover-fill-color: #174EA6;\n",
              "      --disabled-fill-color: #AAA;\n",
              "      --disabled-bg-color: #DDD;\n",
              "  }\n",
              "\n",
              "  [theme=dark] .colab-df-quickchart {\n",
              "      --bg-color: #3B4455;\n",
              "      --fill-color: #D2E3FC;\n",
              "      --hover-bg-color: #434B5C;\n",
              "      --hover-fill-color: #FFFFFF;\n",
              "      --disabled-bg-color: #3B4455;\n",
              "      --disabled-fill-color: #666;\n",
              "  }\n",
              "\n",
              "  .colab-df-quickchart {\n",
              "    background-color: var(--bg-color);\n",
              "    border: none;\n",
              "    border-radius: 50%;\n",
              "    cursor: pointer;\n",
              "    display: none;\n",
              "    fill: var(--fill-color);\n",
              "    height: 32px;\n",
              "    padding: 0;\n",
              "    width: 32px;\n",
              "  }\n",
              "\n",
              "  .colab-df-quickchart:hover {\n",
              "    background-color: var(--hover-bg-color);\n",
              "    box-shadow: 0 1px 2px rgba(60, 64, 67, 0.3), 0 1px 3px 1px rgba(60, 64, 67, 0.15);\n",
              "    fill: var(--button-hover-fill-color);\n",
              "  }\n",
              "\n",
              "  .colab-df-quickchart-complete:disabled,\n",
              "  .colab-df-quickchart-complete:disabled:hover {\n",
              "    background-color: var(--disabled-bg-color);\n",
              "    fill: var(--disabled-fill-color);\n",
              "    box-shadow: none;\n",
              "  }\n",
              "\n",
              "  .colab-df-spinner {\n",
              "    border: 2px solid var(--fill-color);\n",
              "    border-color: transparent;\n",
              "    border-bottom-color: var(--fill-color);\n",
              "    animation:\n",
              "      spin 1s steps(1) infinite;\n",
              "  }\n",
              "\n",
              "  @keyframes spin {\n",
              "    0% {\n",
              "      border-color: transparent;\n",
              "      border-bottom-color: var(--fill-color);\n",
              "      border-left-color: var(--fill-color);\n",
              "    }\n",
              "    20% {\n",
              "      border-color: transparent;\n",
              "      border-left-color: var(--fill-color);\n",
              "      border-top-color: var(--fill-color);\n",
              "    }\n",
              "    30% {\n",
              "      border-color: transparent;\n",
              "      border-left-color: var(--fill-color);\n",
              "      border-top-color: var(--fill-color);\n",
              "      border-right-color: var(--fill-color);\n",
              "    }\n",
              "    40% {\n",
              "      border-color: transparent;\n",
              "      border-right-color: var(--fill-color);\n",
              "      border-top-color: var(--fill-color);\n",
              "    }\n",
              "    60% {\n",
              "      border-color: transparent;\n",
              "      border-right-color: var(--fill-color);\n",
              "    }\n",
              "    80% {\n",
              "      border-color: transparent;\n",
              "      border-right-color: var(--fill-color);\n",
              "      border-bottom-color: var(--fill-color);\n",
              "    }\n",
              "    90% {\n",
              "      border-color: transparent;\n",
              "      border-bottom-color: var(--fill-color);\n",
              "    }\n",
              "  }\n",
              "</style>\n",
              "\n",
              "  <script>\n",
              "    async function quickchart(key) {\n",
              "      const quickchartButtonEl =\n",
              "        document.querySelector('#' + key + ' button');\n",
              "      quickchartButtonEl.disabled = true;  // To prevent multiple clicks.\n",
              "      quickchartButtonEl.classList.add('colab-df-spinner');\n",
              "      try {\n",
              "        const charts = await google.colab.kernel.invokeFunction(\n",
              "            'suggestCharts', [key], {});\n",
              "      } catch (error) {\n",
              "        console.error('Error during call to suggestCharts:', error);\n",
              "      }\n",
              "      quickchartButtonEl.classList.remove('colab-df-spinner');\n",
              "      quickchartButtonEl.classList.add('colab-df-quickchart-complete');\n",
              "    }\n",
              "    (() => {\n",
              "      let quickchartButtonEl =\n",
              "        document.querySelector('#df-cd4b8b72-11ee-4256-8726-1bf40a06d9fa button');\n",
              "      quickchartButtonEl.style.display =\n",
              "        google.colab.kernel.accessAllowed ? 'block' : 'none';\n",
              "    })();\n",
              "  </script>\n",
              "</div>\n",
              "\n",
              "  <div id=\"id_dc2f9660-70e5-4304-86b7-2e485c8201af\">\n",
              "    <style>\n",
              "      .colab-df-generate {\n",
              "        background-color: #E8F0FE;\n",
              "        border: none;\n",
              "        border-radius: 50%;\n",
              "        cursor: pointer;\n",
              "        display: none;\n",
              "        fill: #1967D2;\n",
              "        height: 32px;\n",
              "        padding: 0 0 0 0;\n",
              "        width: 32px;\n",
              "      }\n",
              "\n",
              "      .colab-df-generate:hover {\n",
              "        background-color: #E2EBFA;\n",
              "        box-shadow: 0px 1px 2px rgba(60, 64, 67, 0.3), 0px 1px 3px 1px rgba(60, 64, 67, 0.15);\n",
              "        fill: #174EA6;\n",
              "      }\n",
              "\n",
              "      [theme=dark] .colab-df-generate {\n",
              "        background-color: #3B4455;\n",
              "        fill: #D2E3FC;\n",
              "      }\n",
              "\n",
              "      [theme=dark] .colab-df-generate:hover {\n",
              "        background-color: #434B5C;\n",
              "        box-shadow: 0px 1px 3px 1px rgba(0, 0, 0, 0.15);\n",
              "        filter: drop-shadow(0px 1px 2px rgba(0, 0, 0, 0.3));\n",
              "        fill: #FFFFFF;\n",
              "      }\n",
              "    </style>\n",
              "    <button class=\"colab-df-generate\" onclick=\"generateWithVariable('df2')\"\n",
              "            title=\"Generate code using this dataframe.\"\n",
              "            style=\"display:none;\">\n",
              "\n",
              "  <svg xmlns=\"http://www.w3.org/2000/svg\" height=\"24px\"viewBox=\"0 0 24 24\"\n",
              "       width=\"24px\">\n",
              "    <path d=\"M7,19H8.4L18.45,9,17,7.55,7,17.6ZM5,21V16.75L18.45,3.32a2,2,0,0,1,2.83,0l1.4,1.43a1.91,1.91,0,0,1,.58,1.4,1.91,1.91,0,0,1-.58,1.4L9.25,21ZM18.45,9,17,7.55Zm-12,3A5.31,5.31,0,0,0,4.9,8.1,5.31,5.31,0,0,0,1,6.5,5.31,5.31,0,0,0,4.9,4.9,5.31,5.31,0,0,0,6.5,1,5.31,5.31,0,0,0,8.1,4.9,5.31,5.31,0,0,0,12,6.5,5.46,5.46,0,0,0,6.5,12Z\"/>\n",
              "  </svg>\n",
              "    </button>\n",
              "    <script>\n",
              "      (() => {\n",
              "      const buttonEl =\n",
              "        document.querySelector('#id_dc2f9660-70e5-4304-86b7-2e485c8201af button.colab-df-generate');\n",
              "      buttonEl.style.display =\n",
              "        google.colab.kernel.accessAllowed ? 'block' : 'none';\n",
              "\n",
              "      buttonEl.onclick = () => {\n",
              "        google.colab.notebook.generateWithVariable('df2');\n",
              "      }\n",
              "      })();\n",
              "    </script>\n",
              "  </div>\n",
              "\n",
              "    </div>\n",
              "  </div>\n"
            ],
            "application/vnd.google.colaboratory.intrinsic+json": {
              "type": "dataframe",
              "variable_name": "df2",
              "summary": "{\n  \"name\": \"df2\",\n  \"rows\": 2,\n  \"fields\": [\n    {\n      \"column\": 0,\n      \"properties\": {\n        \"dtype\": \"number\",\n        \"std\": 2.1213203435596424,\n        \"min\": 1.0,\n        \"max\": 4.0,\n        \"num_unique_values\": 2,\n        \"samples\": [\n          4.0,\n          1.0\n        ],\n        \"semantic_type\": \"\",\n        \"description\": \"\"\n      }\n    },\n    {\n      \"column\": 1,\n      \"properties\": {\n        \"dtype\": \"number\",\n        \"std\": 2.1213203435596424,\n        \"min\": 2.0,\n        \"max\": 5.0,\n        \"num_unique_values\": 2,\n        \"samples\": [\n          5.0,\n          2.0\n        ],\n        \"semantic_type\": \"\",\n        \"description\": \"\"\n      }\n    },\n    {\n      \"column\": 2,\n      \"properties\": {\n        \"dtype\": \"number\",\n        \"std\": 2.2627416997969525,\n        \"min\": 3.3,\n        \"max\": 6.5,\n        \"num_unique_values\": 2,\n        \"samples\": [\n          6.5,\n          3.3\n        ],\n        \"semantic_type\": \"\",\n        \"description\": \"\"\n      }\n    }\n  ]\n}"
            }
          },
          "metadata": {},
          "execution_count": 9
        }
      ]
    },
    {
      "cell_type": "markdown",
      "source": [
        "# **CREATING ARRAYS**"
      ],
      "metadata": {
        "id": "YPl_wHJEbIrW"
      }
    },
    {
      "cell_type": "code",
      "source": [
        "ones_array = np.ones((2,3), dtype = int)\n",
        "ones_array"
      ],
      "metadata": {
        "colab": {
          "base_uri": "https://localhost:8080/"
        },
        "id": "6MakV_tobQNC",
        "outputId": "5794aaa0-2a35-4e9e-d299-bd391a5606b2"
      },
      "execution_count": null,
      "outputs": [
        {
          "output_type": "execute_result",
          "data": {
            "text/plain": [
              "array([[1, 1, 1],\n",
              "       [1, 1, 1]])"
            ]
          },
          "metadata": {},
          "execution_count": 10
        }
      ]
    },
    {
      "cell_type": "code",
      "source": [
        "zeros_array = np.zeros((2,3), dtype=int)\n",
        "zeros_array"
      ],
      "metadata": {
        "colab": {
          "base_uri": "https://localhost:8080/"
        },
        "id": "HDSX64LmcQ-x",
        "outputId": "0b427693-59ca-4099-df62-f19026bdff07"
      },
      "execution_count": null,
      "outputs": [
        {
          "output_type": "execute_result",
          "data": {
            "text/plain": [
              "array([[0, 0, 0],\n",
              "       [0, 0, 0]])"
            ]
          },
          "metadata": {},
          "execution_count": 11
        }
      ]
    },
    {
      "cell_type": "code",
      "source": [
        "ranged_array = np.arange(1, 10, 1, dtype=int)\n",
        "ranged_array"
      ],
      "metadata": {
        "colab": {
          "base_uri": "https://localhost:8080/"
        },
        "id": "1CEgpE45csQ8",
        "outputId": "20a20e56-33f2-4588-a467-3e5f6c0ecd39"
      },
      "execution_count": null,
      "outputs": [
        {
          "output_type": "execute_result",
          "data": {
            "text/plain": [
              "array([1, 2, 3, 4, 5, 6, 7, 8, 9])"
            ]
          },
          "metadata": {},
          "execution_count": 12
        }
      ]
    },
    {
      "cell_type": "code",
      "source": [
        "random_array = np.random.randint(1,10, size = (3,5))\n",
        "random_array"
      ],
      "metadata": {
        "colab": {
          "base_uri": "https://localhost:8080/"
        },
        "id": "DpbBfQNldJ1d",
        "outputId": "e5839bd1-42ae-4410-d50b-95c37bc30712"
      },
      "execution_count": null,
      "outputs": [
        {
          "output_type": "execute_result",
          "data": {
            "text/plain": [
              "array([[5, 5, 9, 7, 7],\n",
              "       [4, 7, 1, 4, 7],\n",
              "       [8, 8, 4, 2, 4]])"
            ]
          },
          "metadata": {},
          "execution_count": 13
        }
      ]
    },
    {
      "cell_type": "code",
      "source": [
        "np.random.seed(2)\n",
        "r1 = np.random.randint(10)\n",
        "r1"
      ],
      "metadata": {
        "colab": {
          "base_uri": "https://localhost:8080/"
        },
        "id": "ouuqd2ZxfW3C",
        "outputId": "821c83f7-b429-4dc7-ffc2-b5018a0992c8"
      },
      "execution_count": null,
      "outputs": [
        {
          "output_type": "execute_result",
          "data": {
            "text/plain": [
              "8"
            ]
          },
          "metadata": {},
          "execution_count": 14
        }
      ]
    },
    {
      "cell_type": "code",
      "source": [
        "np.random.seed(2)\n",
        "r2 = np.random.randint(10)\n",
        "r2"
      ],
      "metadata": {
        "colab": {
          "base_uri": "https://localhost:8080/"
        },
        "id": "UfbdU0SMhTcc",
        "outputId": "17ed173d-c23c-4790-8cf8-4f07c39f125f"
      },
      "execution_count": null,
      "outputs": [
        {
          "output_type": "execute_result",
          "data": {
            "text/plain": [
              "8"
            ]
          },
          "metadata": {},
          "execution_count": 15
        }
      ]
    },
    {
      "cell_type": "markdown",
      "source": [
        "# **Viewing Arrays and Matrices**"
      ],
      "metadata": {
        "id": "K1MxVDz0K5T5"
      }
    },
    {
      "cell_type": "code",
      "source": [
        "np.unique(random_array)"
      ],
      "metadata": {
        "colab": {
          "base_uri": "https://localhost:8080/"
        },
        "id": "FiEVsYuAha_2",
        "outputId": "c57ff90e-9b46-4a51-b2eb-5ed03ea0c785"
      },
      "execution_count": null,
      "outputs": [
        {
          "output_type": "execute_result",
          "data": {
            "text/plain": [
              "array([1, 2, 4, 5, 7, 8, 9])"
            ]
          },
          "metadata": {},
          "execution_count": 16
        }
      ]
    },
    {
      "cell_type": "code",
      "source": [
        "a3"
      ],
      "metadata": {
        "colab": {
          "base_uri": "https://localhost:8080/"
        },
        "id": "PFXmuHAOMrGW",
        "outputId": "5e56323e-fdff-4531-e760-1bdc5f7d556a"
      },
      "execution_count": null,
      "outputs": [
        {
          "output_type": "execute_result",
          "data": {
            "text/plain": [
              "array([[[ 1,  2,  3],\n",
              "        [ 4,  5,  6],\n",
              "        [ 7,  8,  9]],\n",
              "\n",
              "       [[10, 11, 12],\n",
              "        [13, 14, 15],\n",
              "        [16, 17, 18]]])"
            ]
          },
          "metadata": {},
          "execution_count": 17
        }
      ]
    },
    {
      "cell_type": "code",
      "source": [
        "a3[1:2, :1, :1]"
      ],
      "metadata": {
        "colab": {
          "base_uri": "https://localhost:8080/"
        },
        "id": "LtQKhpCiMslk",
        "outputId": "f5b98230-155e-4e15-9202-67988061683b"
      },
      "execution_count": null,
      "outputs": [
        {
          "output_type": "execute_result",
          "data": {
            "text/plain": [
              "array([[[10]]])"
            ]
          },
          "metadata": {},
          "execution_count": 18
        }
      ]
    },
    {
      "cell_type": "code",
      "source": [
        "a4 = np.random.randint(10, size=(2,3,4,5))\n",
        "a4"
      ],
      "metadata": {
        "colab": {
          "base_uri": "https://localhost:8080/"
        },
        "id": "iJYqJs8TNtFG",
        "outputId": "e44bb5f1-68db-4b0a-d6ef-cb666d6f2fc8"
      },
      "execution_count": null,
      "outputs": [
        {
          "output_type": "execute_result",
          "data": {
            "text/plain": [
              "array([[[[8, 6, 2, 8, 7],\n",
              "         [2, 1, 5, 4, 4],\n",
              "         [5, 7, 3, 6, 4],\n",
              "         [3, 7, 6, 1, 3]],\n",
              "\n",
              "        [[5, 8, 4, 6, 3],\n",
              "         [9, 2, 0, 4, 2],\n",
              "         [4, 1, 7, 8, 2],\n",
              "         [9, 8, 7, 1, 6]],\n",
              "\n",
              "        [[8, 5, 9, 9, 9],\n",
              "         [3, 0, 0, 2, 8],\n",
              "         [8, 2, 9, 6, 5],\n",
              "         [6, 6, 6, 3, 8]]],\n",
              "\n",
              "\n",
              "       [[[2, 1, 4, 8, 1],\n",
              "         [6, 9, 5, 1, 2],\n",
              "         [4, 7, 6, 4, 5],\n",
              "         [8, 3, 0, 0, 5]],\n",
              "\n",
              "        [[7, 5, 0, 8, 6],\n",
              "         [5, 1, 7, 4, 3],\n",
              "         [6, 1, 4, 0, 8],\n",
              "         [5, 4, 2, 9, 7]],\n",
              "\n",
              "        [[1, 9, 2, 1, 0],\n",
              "         [7, 1, 8, 9, 0],\n",
              "         [7, 0, 5, 2, 5],\n",
              "         [1, 3, 3, 1, 8]]]])"
            ]
          },
          "metadata": {},
          "execution_count": 19
        }
      ]
    },
    {
      "cell_type": "code",
      "source": [
        "a4[1:2, 2:3, :1, :5]"
      ],
      "metadata": {
        "colab": {
          "base_uri": "https://localhost:8080/"
        },
        "id": "z5aC7ahKN8ts",
        "outputId": "4fd94017-e5b3-41b3-889c-201ca24b0362"
      },
      "execution_count": null,
      "outputs": [
        {
          "output_type": "execute_result",
          "data": {
            "text/plain": [
              "array([[[[1, 9, 2, 1, 0]]]])"
            ]
          },
          "metadata": {},
          "execution_count": 20
        }
      ]
    },
    {
      "cell_type": "markdown",
      "source": [
        "# **Manipulating & Comparing Arrays**"
      ],
      "metadata": {
        "id": "ZVt5-SDEQZCy"
      }
    },
    {
      "cell_type": "markdown",
      "source": [
        "## **Arithmetics**"
      ],
      "metadata": {
        "id": "hzms745xQwxk"
      }
    },
    {
      "cell_type": "code",
      "source": [
        "a1"
      ],
      "metadata": {
        "colab": {
          "base_uri": "https://localhost:8080/"
        },
        "id": "OrUXpu4CQlRh",
        "outputId": "790a3e64-bbc4-4a19-8863-b1ef2b1285c6"
      },
      "execution_count": null,
      "outputs": [
        {
          "output_type": "execute_result",
          "data": {
            "text/plain": [
              "array([1, 2, 3])"
            ]
          },
          "metadata": {},
          "execution_count": 21
        }
      ]
    },
    {
      "cell_type": "code",
      "source": [
        "ones_array"
      ],
      "metadata": {
        "colab": {
          "base_uri": "https://localhost:8080/"
        },
        "id": "qYPJp7OgRADp",
        "outputId": "a6d486ce-e419-450a-c23c-7eb23d015d45"
      },
      "execution_count": null,
      "outputs": [
        {
          "output_type": "execute_result",
          "data": {
            "text/plain": [
              "array([[1, 1, 1],\n",
              "       [1, 1, 1]])"
            ]
          },
          "metadata": {},
          "execution_count": 22
        }
      ]
    },
    {
      "cell_type": "code",
      "source": [
        "a1 + ones_array"
      ],
      "metadata": {
        "colab": {
          "base_uri": "https://localhost:8080/"
        },
        "id": "If5wg7jfRHd_",
        "outputId": "5deacb03-0aad-4b33-af9a-bd50e79186df"
      },
      "execution_count": null,
      "outputs": [
        {
          "output_type": "execute_result",
          "data": {
            "text/plain": [
              "array([[2, 3, 4],\n",
              "       [2, 3, 4]])"
            ]
          },
          "metadata": {},
          "execution_count": 23
        }
      ]
    },
    {
      "cell_type": "code",
      "source": [
        "a1 - ones_array"
      ],
      "metadata": {
        "colab": {
          "base_uri": "https://localhost:8080/"
        },
        "id": "L_v8SJGLRnVK",
        "outputId": "5e0b5c31-699e-4cbd-f23a-062fbddd29c4"
      },
      "execution_count": null,
      "outputs": [
        {
          "output_type": "execute_result",
          "data": {
            "text/plain": [
              "array([[0, 1, 2],\n",
              "       [0, 1, 2]])"
            ]
          },
          "metadata": {},
          "execution_count": 24
        }
      ]
    },
    {
      "cell_type": "code",
      "source": [
        "a1 * ones_array"
      ],
      "metadata": {
        "colab": {
          "base_uri": "https://localhost:8080/"
        },
        "id": "S6otm7r3Rqmu",
        "outputId": "96fd708d-f858-4dcc-8553-e9d3be4291fb"
      },
      "execution_count": null,
      "outputs": [
        {
          "output_type": "execute_result",
          "data": {
            "text/plain": [
              "array([[1, 2, 3],\n",
              "       [1, 2, 3]])"
            ]
          },
          "metadata": {},
          "execution_count": 25
        }
      ]
    },
    {
      "cell_type": "code",
      "source": [
        "a2"
      ],
      "metadata": {
        "colab": {
          "base_uri": "https://localhost:8080/"
        },
        "id": "48ruw1gFSNiL",
        "outputId": "36813fc3-5f3f-4609-9134-8f9cf1c3e08a"
      },
      "execution_count": null,
      "outputs": [
        {
          "output_type": "execute_result",
          "data": {
            "text/plain": [
              "array([[1. , 2. , 3.3],\n",
              "       [4. , 5. , 6.5]])"
            ]
          },
          "metadata": {},
          "execution_count": 26
        }
      ]
    },
    {
      "cell_type": "code",
      "source": [
        "a1 * a2"
      ],
      "metadata": {
        "colab": {
          "base_uri": "https://localhost:8080/"
        },
        "id": "9ugvDK0hSVHA",
        "outputId": "92aa6f93-857d-4523-b706-e51396aa3aa4"
      },
      "execution_count": null,
      "outputs": [
        {
          "output_type": "execute_result",
          "data": {
            "text/plain": [
              "array([[ 1. ,  4. ,  9.9],\n",
              "       [ 4. , 10. , 19.5]])"
            ]
          },
          "metadata": {},
          "execution_count": 27
        }
      ]
    },
    {
      "cell_type": "code",
      "source": [
        "a5 = np.random.randint(10, size=(3,2,3))\n",
        "a5"
      ],
      "metadata": {
        "colab": {
          "base_uri": "https://localhost:8080/"
        },
        "id": "vZ5tRrHeSSfV",
        "outputId": "c7df29ad-d873-42fb-acda-6779d918d852"
      },
      "execution_count": null,
      "outputs": [
        {
          "output_type": "execute_result",
          "data": {
            "text/plain": [
              "array([[[6, 8, 1],\n",
              "        [5, 7, 0]],\n",
              "\n",
              "       [[9, 1, 5],\n",
              "        [9, 2, 0]],\n",
              "\n",
              "       [[0, 4, 6],\n",
              "        [3, 1, 8]]])"
            ]
          },
          "metadata": {},
          "execution_count": 28
        }
      ]
    },
    {
      "cell_type": "code",
      "source": [
        "a6 = np.array([[[1,2,3],\n",
        "               [4,5,6]],\n",
        "               [[7,8,9],\n",
        "               [10,11,12]],\n",
        "               [[13,14,15],\n",
        "               [16,17,18]]])\n",
        "a6"
      ],
      "metadata": {
        "colab": {
          "base_uri": "https://localhost:8080/"
        },
        "id": "ouF-YF-oTgfI",
        "outputId": "6eb6737a-1034-44ad-9770-9c6176e97a47"
      },
      "execution_count": null,
      "outputs": [
        {
          "output_type": "execute_result",
          "data": {
            "text/plain": [
              "array([[[ 1,  2,  3],\n",
              "        [ 4,  5,  6]],\n",
              "\n",
              "       [[ 7,  8,  9],\n",
              "        [10, 11, 12]],\n",
              "\n",
              "       [[13, 14, 15],\n",
              "        [16, 17, 18]]])"
            ]
          },
          "metadata": {},
          "execution_count": 29
        }
      ]
    },
    {
      "cell_type": "code",
      "source": [
        "a2"
      ],
      "metadata": {
        "colab": {
          "base_uri": "https://localhost:8080/"
        },
        "id": "jRw3VkWGbnLb",
        "outputId": "374dacde-e135-4be9-b0e7-4972b2f7ebcd"
      },
      "execution_count": null,
      "outputs": [
        {
          "output_type": "execute_result",
          "data": {
            "text/plain": [
              "array([[1. , 2. , 3.3],\n",
              "       [4. , 5. , 6.5]])"
            ]
          },
          "metadata": {},
          "execution_count": 30
        }
      ]
    },
    {
      "cell_type": "code",
      "source": [
        "a3"
      ],
      "metadata": {
        "colab": {
          "base_uri": "https://localhost:8080/"
        },
        "id": "EaU1Ix5Rbs4b",
        "outputId": "55c46dc0-66d2-4458-e406-60c0619e3830"
      },
      "execution_count": null,
      "outputs": [
        {
          "output_type": "execute_result",
          "data": {
            "text/plain": [
              "array([[[ 1,  2,  3],\n",
              "        [ 4,  5,  6],\n",
              "        [ 7,  8,  9]],\n",
              "\n",
              "       [[10, 11, 12],\n",
              "        [13, 14, 15],\n",
              "        [16, 17, 18]]])"
            ]
          },
          "metadata": {},
          "execution_count": 31
        }
      ]
    },
    {
      "cell_type": "code",
      "source": [
        "a2[:, :, np.newaxis]*a3"
      ],
      "metadata": {
        "colab": {
          "base_uri": "https://localhost:8080/"
        },
        "id": "T5QASqT8bZpE",
        "outputId": "6d75f2fc-91e3-41f4-b666-ff607fa0301d"
      },
      "execution_count": null,
      "outputs": [
        {
          "output_type": "execute_result",
          "data": {
            "text/plain": [
              "array([[[  1. ,   2. ,   3. ],\n",
              "        [  8. ,  10. ,  12. ],\n",
              "        [ 23.1,  26.4,  29.7]],\n",
              "\n",
              "       [[ 40. ,  44. ,  48. ],\n",
              "        [ 65. ,  70. ,  75. ],\n",
              "        [104. , 110.5, 117. ]]])"
            ]
          },
          "metadata": {},
          "execution_count": 32
        }
      ]
    },
    {
      "cell_type": "code",
      "source": [
        "massive_array = np.random.random(100000)\n",
        "massive_array[:10]"
      ],
      "metadata": {
        "colab": {
          "base_uri": "https://localhost:8080/"
        },
        "id": "xR3dLQONgMiq",
        "outputId": "239b4a12-70af-41ae-82ee-686e46529039"
      },
      "execution_count": null,
      "outputs": [
        {
          "output_type": "execute_result",
          "data": {
            "text/plain": [
              "array([0.54790778, 0.69952062, 0.24581116, 0.18662715, 0.11058315,\n",
              "       0.27405925, 0.01025004, 0.62935972, 0.29517231, 0.18728654])"
            ]
          },
          "metadata": {},
          "execution_count": 33
        }
      ]
    },
    {
      "cell_type": "code",
      "source": [
        "%timeit sum(massive_array) # Python sum()"
      ],
      "metadata": {
        "colab": {
          "base_uri": "https://localhost:8080/"
        },
        "id": "lFD62aUXgdEe",
        "outputId": "7810bd73-42db-4b2f-eaac-09b8d1132b5c"
      },
      "execution_count": null,
      "outputs": [
        {
          "output_type": "stream",
          "name": "stdout",
          "text": [
            "14.6 ms ± 4.06 ms per loop (mean ± std. dev. of 7 runs, 100 loops each)\n"
          ]
        }
      ]
    },
    {
      "cell_type": "code",
      "source": [
        "%timeit np.sum(massive_array) # Numpy np.sum()"
      ],
      "metadata": {
        "colab": {
          "base_uri": "https://localhost:8080/"
        },
        "id": "ag3k2ScfhAge",
        "outputId": "3d6c0a99-d5ae-4b31-8cf8-0d10c834d7e8"
      },
      "execution_count": null,
      "outputs": [
        {
          "output_type": "stream",
          "name": "stdout",
          "text": [
            "40.6 µs ± 1.12 µs per loop (mean ± std. dev. of 7 runs, 10000 loops each)\n"
          ]
        }
      ]
    },
    {
      "cell_type": "code",
      "source": [
        "high_var_array = np.array([1,100,200,300,4000,5000])\n",
        "low_var_array = np.array([2,4,6,8,10])"
      ],
      "metadata": {
        "id": "mSN1aH2RhrhG"
      },
      "execution_count": null,
      "outputs": []
    },
    {
      "cell_type": "code",
      "source": [
        "np.var(high_var_array), np.var(low_var_array)"
      ],
      "metadata": {
        "colab": {
          "base_uri": "https://localhost:8080/"
        },
        "id": "q_Q6546kZJws",
        "outputId": "85378470-1b2b-4311-98ba-750aeb808e18"
      },
      "execution_count": null,
      "outputs": [
        {
          "output_type": "execute_result",
          "data": {
            "text/plain": [
              "(4296133.472222221, 8.0)"
            ]
          },
          "metadata": {},
          "execution_count": 37
        }
      ]
    },
    {
      "cell_type": "code",
      "source": [
        "np.std(high_var_array), np.std(low_var_array)"
      ],
      "metadata": {
        "colab": {
          "base_uri": "https://localhost:8080/"
        },
        "id": "_0LmgosuZPwL",
        "outputId": "267e9cce-7e47-4f2d-d65a-570974beea33"
      },
      "execution_count": null,
      "outputs": [
        {
          "output_type": "execute_result",
          "data": {
            "text/plain": [
              "(2072.711623024829, 2.8284271247461903)"
            ]
          },
          "metadata": {},
          "execution_count": 38
        }
      ]
    },
    {
      "cell_type": "code",
      "source": [
        "np.mean(high_var_array), np.mean(low_var_array)"
      ],
      "metadata": {
        "colab": {
          "base_uri": "https://localhost:8080/"
        },
        "id": "bnqNKfkBZXBk",
        "outputId": "81d2e4ef-4a36-4ce7-f976-b9da32eaa2cb"
      },
      "execution_count": null,
      "outputs": [
        {
          "output_type": "execute_result",
          "data": {
            "text/plain": [
              "(1600.1666666666667, 6.0)"
            ]
          },
          "metadata": {},
          "execution_count": 39
        }
      ]
    },
    {
      "cell_type": "code",
      "source": [
        "%matplotlib inline\n",
        "import matplotlib.pyplot as plt\n",
        "plt.hist(high_var_array)\n",
        "plt.show()"
      ],
      "metadata": {
        "colab": {
          "base_uri": "https://localhost:8080/",
          "height": 430
        },
        "id": "V7MEyfDHZ8j1",
        "outputId": "8d1ba3ea-e94b-4ee2-ce7c-825d63b4dfac"
      },
      "execution_count": null,
      "outputs": [
        {
          "output_type": "display_data",
          "data": {
            "text/plain": [
              "<Figure size 640x480 with 1 Axes>"
            ],
            "image/png": "[encoded data removed]"
          },
          "metadata": {}
        }
      ]
    },
    {
      "cell_type": "code",
      "source": [
        "plt.hist(low_var_array)\n",
        "plt.show()"
      ],
      "metadata": {
        "colab": {
          "base_uri": "https://localhost:8080/",
          "height": 430
        },
        "id": "49UPkVZyaGpj",
        "outputId": "c74ef1a4-34c5-464c-8292-89396d98cf51"
      },
      "execution_count": null,
      "outputs": [
        {
          "output_type": "display_data",
          "data": {
            "text/plain": [
              "<Figure size 640x480 with 1 Axes>"
            ],
            "image/png": "[encoded data removed]"
          },
          "metadata": {}
        }
      ]
    },
    {
      "cell_type": "markdown",
      "source": [
        "## **Reshaping and Transposing**"
      ],
      "metadata": {
        "id": "Q-SZLZQHbidw"
      }
    },
    {
      "cell_type": "code",
      "source": [
        "a1"
      ],
      "metadata": {
        "colab": {
          "base_uri": "https://localhost:8080/"
        },
        "id": "iOxtIrSsa_5J",
        "outputId": "9a2216ce-c963-400f-9e3c-3a969121085a"
      },
      "execution_count": null,
      "outputs": [
        {
          "output_type": "execute_result",
          "data": {
            "text/plain": [
              "array([1, 2, 3])"
            ]
          },
          "metadata": {},
          "execution_count": 42
        }
      ]
    },
    {
      "cell_type": "code",
      "source": [
        "a1[0]  = 1"
      ],
      "metadata": {
        "id": "8iAOq9Gtddat"
      },
      "execution_count": null,
      "outputs": []
    },
    {
      "cell_type": "code",
      "source": [
        "a2[1,0] = 4\n",
        "a2"
      ],
      "metadata": {
        "colab": {
          "base_uri": "https://localhost:8080/"
        },
        "id": "pOEzpYqtbBuj",
        "outputId": "11e12fc3-b056-46a0-c141-c7c1182408b2"
      },
      "execution_count": null,
      "outputs": [
        {
          "output_type": "execute_result",
          "data": {
            "text/plain": [
              "array([[1. , 2. , 3.3],\n",
              "       [4. , 5. , 6.5]])"
            ]
          },
          "metadata": {},
          "execution_count": 44
        }
      ]
    },
    {
      "cell_type": "code",
      "source": [
        "a3"
      ],
      "metadata": {
        "colab": {
          "base_uri": "https://localhost:8080/"
        },
        "id": "9VrxQh9ZbCw_",
        "outputId": "f1edb0ee-877c-4850-82bc-d939ef637af3"
      },
      "execution_count": null,
      "outputs": [
        {
          "output_type": "execute_result",
          "data": {
            "text/plain": [
              "array([[[ 1,  2,  3],\n",
              "        [ 4,  5,  6],\n",
              "        [ 7,  8,  9]],\n",
              "\n",
              "       [[10, 11, 12],\n",
              "        [13, 14, 15],\n",
              "        [16, 17, 18]]])"
            ]
          },
          "metadata": {},
          "execution_count": 45
        }
      ]
    },
    {
      "cell_type": "code",
      "source": [
        "a2[:,:, np.newaxis]"
      ],
      "metadata": {
        "colab": {
          "base_uri": "https://localhost:8080/"
        },
        "id": "53TcZzivbXua",
        "outputId": "5a2cd0c3-8644-406a-f322-aa5177613098"
      },
      "execution_count": null,
      "outputs": [
        {
          "output_type": "execute_result",
          "data": {
            "text/plain": [
              "array([[[1. ],\n",
              "        [2. ],\n",
              "        [3.3]],\n",
              "\n",
              "       [[4. ],\n",
              "        [5. ],\n",
              "        [6.5]]])"
            ]
          },
          "metadata": {},
          "execution_count": 46
        }
      ]
    },
    {
      "cell_type": "code",
      "source": [
        "a2_reshape = a2.reshape(2,3,1)\n",
        "a2_reshape"
      ],
      "metadata": {
        "colab": {
          "base_uri": "https://localhost:8080/"
        },
        "id": "8Oj8UHdyb0Qt",
        "outputId": "99b8c4e1-3d11-409d-a4b9-d03adaaf88a3"
      },
      "execution_count": null,
      "outputs": [
        {
          "output_type": "execute_result",
          "data": {
            "text/plain": [
              "array([[[1. ],\n",
              "        [2. ],\n",
              "        [3.3]],\n",
              "\n",
              "       [[4. ],\n",
              "        [5. ],\n",
              "        [6.5]]])"
            ]
          },
          "metadata": {},
          "execution_count": 47
        }
      ]
    },
    {
      "cell_type": "code",
      "source": [
        "a2_reshape*a3"
      ],
      "metadata": {
        "colab": {
          "base_uri": "https://localhost:8080/"
        },
        "id": "Qxp9sxD-cHfD",
        "outputId": "38c4f789-05dd-4a0b-a9b3-15756aba36bd"
      },
      "execution_count": null,
      "outputs": [
        {
          "output_type": "execute_result",
          "data": {
            "text/plain": [
              "array([[[  1. ,   2. ,   3. ],\n",
              "        [  8. ,  10. ,  12. ],\n",
              "        [ 23.1,  26.4,  29.7]],\n",
              "\n",
              "       [[ 40. ,  44. ,  48. ],\n",
              "        [ 65. ,  70. ,  75. ],\n",
              "        [104. , 110.5, 117. ]]])"
            ]
          },
          "metadata": {},
          "execution_count": 48
        }
      ]
    },
    {
      "cell_type": "code",
      "source": [
        "a3.shape, a3.T.shape"
      ],
      "metadata": {
        "colab": {
          "base_uri": "https://localhost:8080/"
        },
        "id": "AipPKqhseY2r",
        "outputId": "d943af24-3ac6-4e94-e106-38d79b6c42de"
      },
      "execution_count": null,
      "outputs": [
        {
          "output_type": "execute_result",
          "data": {
            "text/plain": [
              "((2, 3, 3), (3, 3, 2))"
            ]
          },
          "metadata": {},
          "execution_count": 49
        }
      ]
    },
    {
      "cell_type": "code",
      "source": [
        "a3"
      ],
      "metadata": {
        "colab": {
          "base_uri": "https://localhost:8080/"
        },
        "id": "JFxg7eR9efWJ",
        "outputId": "ca0f3325-b9eb-467c-bcf3-81bb580b69b6"
      },
      "execution_count": null,
      "outputs": [
        {
          "output_type": "execute_result",
          "data": {
            "text/plain": [
              "array([[[ 1,  2,  3],\n",
              "        [ 4,  5,  6],\n",
              "        [ 7,  8,  9]],\n",
              "\n",
              "       [[10, 11, 12],\n",
              "        [13, 14, 15],\n",
              "        [16, 17, 18]]])"
            ]
          },
          "metadata": {},
          "execution_count": 50
        }
      ]
    },
    {
      "cell_type": "code",
      "source": [
        "a3.T"
      ],
      "metadata": {
        "colab": {
          "base_uri": "https://localhost:8080/"
        },
        "id": "rteYFMsNevkx",
        "outputId": "fa1e70ba-6a94-48a1-ba4c-57ccca7c1ffe"
      },
      "execution_count": null,
      "outputs": [
        {
          "output_type": "execute_result",
          "data": {
            "text/plain": [
              "array([[[ 1, 10],\n",
              "        [ 4, 13],\n",
              "        [ 7, 16]],\n",
              "\n",
              "       [[ 2, 11],\n",
              "        [ 5, 14],\n",
              "        [ 8, 17]],\n",
              "\n",
              "       [[ 3, 12],\n",
              "        [ 6, 15],\n",
              "        [ 9, 18]]])"
            ]
          },
          "metadata": {},
          "execution_count": 51
        }
      ]
    },
    {
      "cell_type": "markdown",
      "source": [
        "# **Dot Product**"
      ],
      "metadata": {
        "id": "dypblwMtfel7"
      }
    },
    {
      "cell_type": "code",
      "source": [
        "np.random.seed(0)\n",
        "\n",
        "mat1 = np.random.randint(10, size=(5,3))\n",
        "mat2 = np.random.randint(10, size=(5,3))\n",
        "\n",
        "mat1"
      ],
      "metadata": {
        "colab": {
          "base_uri": "https://localhost:8080/"
        },
        "id": "1ojF61PpfdiT",
        "outputId": "1ab8857e-cd32-4704-9a2d-f09922f6f1d2"
      },
      "execution_count": null,
      "outputs": [
        {
          "output_type": "execute_result",
          "data": {
            "text/plain": [
              "array([[5, 0, 3],\n",
              "       [3, 7, 9],\n",
              "       [3, 5, 2],\n",
              "       [4, 7, 6],\n",
              "       [8, 8, 1]])"
            ]
          },
          "metadata": {},
          "execution_count": 53
        }
      ]
    },
    {
      "cell_type": "code",
      "source": [
        "mat2"
      ],
      "metadata": {
        "colab": {
          "base_uri": "https://localhost:8080/"
        },
        "id": "9MmE0trjexp_",
        "outputId": "a0c0bdb4-ad18-46c4-a98d-8625dabd46e5"
      },
      "execution_count": null,
      "outputs": [
        {
          "output_type": "execute_result",
          "data": {
            "text/plain": [
              "array([[6, 7, 7],\n",
              "       [8, 1, 5],\n",
              "       [9, 8, 9],\n",
              "       [4, 3, 0],\n",
              "       [3, 5, 0]])"
            ]
          },
          "metadata": {},
          "execution_count": 54
        }
      ]
    },
    {
      "cell_type": "code",
      "source": [
        "mat3 = np.dot(mat1, mat2.T)\n",
        "mat3"
      ],
      "metadata": {
        "colab": {
          "base_uri": "https://localhost:8080/"
        },
        "id": "jqNZxkRmgohF",
        "outputId": "b0959ca4-9505-40a0-a12f-90367c8cb963"
      },
      "execution_count": null,
      "outputs": [
        {
          "output_type": "execute_result",
          "data": {
            "text/plain": [
              "array([[ 51,  55,  72,  20,  15],\n",
              "       [130,  76, 164,  33,  44],\n",
              "       [ 67,  39,  85,  27,  34],\n",
              "       [115,  69, 146,  37,  47],\n",
              "       [111,  77, 145,  56,  64]])"
            ]
          },
          "metadata": {},
          "execution_count": 55
        }
      ]
    },
    {
      "cell_type": "code",
      "source": [
        "mat3.sort()\n",
        "mat3"
      ],
      "metadata": {
        "colab": {
          "base_uri": "https://localhost:8080/"
        },
        "id": "eEpI0RE8g7KH",
        "outputId": "41ead980-e102-4e3c-858a-154bcf53c254"
      },
      "execution_count": null,
      "outputs": [
        {
          "output_type": "execute_result",
          "data": {
            "text/plain": [
              "array([[ 15,  20,  51,  55,  72],\n",
              "       [ 33,  44,  76, 130, 164],\n",
              "       [ 27,  34,  39,  67,  85],\n",
              "       [ 37,  47,  69, 115, 146],\n",
              "       [ 56,  64,  77, 111, 145]])"
            ]
          },
          "metadata": {},
          "execution_count": 56
        }
      ]
    },
    {
      "cell_type": "code",
      "source": [
        "np.random.seed(0)\n",
        "\n",
        "sales_amounts = np.random.randint(20, size=(5,3))\n",
        "sales_amounts"
      ],
      "metadata": {
        "colab": {
          "base_uri": "https://localhost:8080/"
        },
        "id": "SgkY5G1DlgGa",
        "outputId": "784d765b-c200-41c3-8f63-d26c57311737"
      },
      "execution_count": null,
      "outputs": [
        {
          "output_type": "execute_result",
          "data": {
            "text/plain": [
              "array([[12, 15,  0],\n",
              "       [ 3,  3,  7],\n",
              "       [ 9, 19, 18],\n",
              "       [ 4,  6, 12],\n",
              "       [ 1,  6,  7]])"
            ]
          },
          "metadata": {},
          "execution_count": 57
        }
      ]
    },
    {
      "cell_type": "code",
      "source": [
        "weekly_sales = pd.DataFrame(sales_amounts,\n",
        "                            index=[\"Mon\",\"Tue\",\"Wed\", \"Thurs\", \"Fri\"],\n",
        "                            columns=[\"Almond Butter\",\"Peanut Butter\", \"Cashew Butter\"])\n",
        "weekly_sales"
      ],
      "metadata": {
        "colab": {
          "base_uri": "https://localhost:8080/",
          "height": 206
        },
        "id": "rar3rRZUmVKH",
        "outputId": "b2e2be62-8b6e-4640-c128-ca038172c207"
      },
      "execution_count": null,
      "outputs": [
        {
          "output_type": "execute_result",
          "data": {
            "text/plain": [
              "       Almond Butter  Peanut Butter  Cashew Butter\n",
              "Mon               12             15              0\n",
              "Tue                3              3              7\n",
              "Wed                9             19             18\n",
              "Thurs              4              6             12\n",
              "Fri                1              6              7"
            ],
            "text/html": [
              "\n",
              "  <div id=\"df-4e02adff-9712-4a2f-993b-960a9661b7eb\" class=\"colab-df-container\">\n",
              "    <div>\n",
              "<style scoped>\n",
              "    .dataframe tbody tr th:only-of-type {\n",
              "        vertical-align: middle;\n",
              "    }\n",
              "\n",
              "    .dataframe tbody tr th {\n",
              "        vertical-align: top;\n",
              "    }\n",
              "\n",
              "    .dataframe thead th {\n",
              "        text-align: right;\n",
              "    }\n",
              "</style>\n",
              "<table border=\"1\" class=\"dataframe\">\n",
              "  <thead>\n",
              "    <tr style=\"text-align: right;\">\n",
              "      <th></th>\n",
              "      <th>Almond Butter</th>\n",
              "      <th>Peanut Butter</th>\n",
              "      <th>Cashew Butter</th>\n",
              "    </tr>\n",
              "  </thead>\n",
              "  <tbody>\n",
              "    <tr>\n",
              "      <th>Mon</th>\n",
              "      <td>12</td>\n",
              "      <td>15</td>\n",
              "      <td>0</td>\n",
              "    </tr>\n",
              "    <tr>\n",
              "      <th>Tue</th>\n",
              "      <td>3</td>\n",
              "      <td>3</td>\n",
              "      <td>7</td>\n",
              "    </tr>\n",
              "    <tr>\n",
              "      <th>Wed</th>\n",
              "      <td>9</td>\n",
              "      <td>19</td>\n",
              "      <td>18</td>\n",
              "    </tr>\n",
              "    <tr>\n",
              "      <th>Thurs</th>\n",
              "      <td>4</td>\n",
              "      <td>6</td>\n",
              "      <td>12</td>\n",
              "    </tr>\n",
              "    <tr>\n",
              "      <th>Fri</th>\n",
              "      <td>1</td>\n",
              "      <td>6</td>\n",
              "      <td>7</td>\n",
              "    </tr>\n",
              "  </tbody>\n",
              "</table>\n",
              "</div>\n",
              "    <div class=\"colab-df-buttons\">\n",
              "\n",
              "  <div class=\"colab-df-container\">\n",
              "    <button class=\"colab-df-convert\" onclick=\"convertToInteractive('df-4e02adff-9712-4a2f-993b-960a9661b7eb')\"\n",
              "            title=\"Convert this dataframe to an interactive table.\"\n",
              "            style=\"display:none;\">\n",
              "\n",
              "  <svg xmlns=\"http://www.w3.org/2000/svg\" height=\"24px\" viewBox=\"0 -960 960 960\">\n",
              "    <path d=\"M120-120v-720h720v720H120Zm60-500h600v-160H180v160Zm220 220h160v-160H400v160Zm0 220h160v-160H400v160ZM180-400h160v-160H180v160Zm440 0h160v-160H620v160ZM180-180h160v-160H180v160Zm440 0h160v-160H620v160Z\"/>\n",
              "  </svg>\n",
              "    </button>\n",
              "\n",
              "  <style>\n",
              "    .colab-df-container {\n",
              "      display:flex;\n",
              "      gap: 12px;\n",
              "    }\n",
              "\n",
              "    .colab-df-convert {\n",
              "      background-color: #E8F0FE;\n",
              "      border: none;\n",
              "      border-radius: 50%;\n",
              "      cursor: pointer;\n",
              "      display: none;\n",
              "      fill: #1967D2;\n",
              "      height: 32px;\n",
              "      padding: 0 0 0 0;\n",
              "      width: 32px;\n",
              "    }\n",
              "\n",
              "    .colab-df-convert:hover {\n",
              "      background-color: #E2EBFA;\n",
              "      box-shadow: 0px 1px 2px rgba(60, 64, 67, 0.3), 0px 1px 3px 1px rgba(60, 64, 67, 0.15);\n",
              "      fill: #174EA6;\n",
              "    }\n",
              "\n",
              "    .colab-df-buttons div {\n",
              "      margin-bottom: 4px;\n",
              "    }\n",
              "\n",
              "    [theme=dark] .colab-df-convert {\n",
              "      background-color: #3B4455;\n",
              "      fill: #D2E3FC;\n",
              "    }\n",
              "\n",
              "    [theme=dark] .colab-df-convert:hover {\n",
              "      background-color: #434B5C;\n",
              "      box-shadow: 0px 1px 3px 1px rgba(0, 0, 0, 0.15);\n",
              "      filter: drop-shadow(0px 1px 2px rgba(0, 0, 0, 0.3));\n",
              "      fill: #FFFFFF;\n",
              "    }\n",
              "  </style>\n",
              "\n",
              "    <script>\n",
              "      const buttonEl =\n",
              "        document.querySelector('#df-4e02adff-9712-4a2f-993b-960a9661b7eb button.colab-df-convert');\n",
              "      buttonEl.style.display =\n",
              "        google.colab.kernel.accessAllowed ? 'block' : 'none';\n",
              "\n",
              "      async function convertToInteractive(key) {\n",
              "        const element = document.querySelector('#df-4e02adff-9712-4a2f-993b-960a9661b7eb');\n",
              "        const dataTable =\n",
              "          await google.colab.kernel.invokeFunction('convertToInteractive',\n",
              "                                                    [key], {});\n",
              "        if (!dataTable) return;\n",
              "\n",
              "        const docLinkHtml = 'Like what you see? Visit the ' +\n",
              "          '<a target=\"_blank\" href=https://colab.research.google.com/notebooks/data_table.ipynb>data table notebook</a>'\n",
              "          + ' to learn more about interactive tables.';\n",
              "        element.innerHTML = '';\n",
              "        dataTable['output_type'] = 'display_data';\n",
              "        await google.colab.output.renderOutput(dataTable, element);\n",
              "        const docLink = document.createElement('div');\n",
              "        docLink.innerHTML = docLinkHtml;\n",
              "        element.appendChild(docLink);\n",
              "      }\n",
              "    </script>\n",
              "  </div>\n",
              "\n",
              "\n",
              "<div id=\"df-8be79352-956b-4e01-9a76-eddce8c4a2a7\">\n",
              "  <button class=\"colab-df-quickchart\" onclick=\"quickchart('df-8be79352-956b-4e01-9a76-eddce8c4a2a7')\"\n",
              "            title=\"Suggest charts\"\n",
              "            style=\"display:none;\">\n",
              "\n",
              "<svg xmlns=\"http://www.w3.org/2000/svg\" height=\"24px\"viewBox=\"0 0 24 24\"\n",
              "     width=\"24px\">\n",
              "    <g>\n",
              "        <path d=\"M19 3H5c-1.1 0-2 .9-2 2v14c0 1.1.9 2 2 2h14c1.1 0 2-.9 2-2V5c0-1.1-.9-2-2-2zM9 17H7v-7h2v7zm4 0h-2V7h2v10zm4 0h-2v-4h2v4z\"/>\n",
              "    </g>\n",
              "</svg>\n",
              "  </button>\n",
              "\n",
              "<style>\n",
              "  .colab-df-quickchart {\n",
              "      --bg-color: #E8F0FE;\n",
              "      --fill-color: #1967D2;\n",
              "      --hover-bg-color: #E2EBFA;\n",
              "      --hover-fill-color: #174EA6;\n",
              "      --disabled-fill-color: #AAA;\n",
              "      --disabled-bg-color: #DDD;\n",
              "  }\n",
              "\n",
              "  [theme=dark] .colab-df-quickchart {\n",
              "      --bg-color: #3B4455;\n",
              "      --fill-color: #D2E3FC;\n",
              "      --hover-bg-color: #434B5C;\n",
              "      --hover-fill-color: #FFFFFF;\n",
              "      --disabled-bg-color: #3B4455;\n",
              "      --disabled-fill-color: #666;\n",
              "  }\n",
              "\n",
              "  .colab-df-quickchart {\n",
              "    background-color: var(--bg-color);\n",
              "    border: none;\n",
              "    border-radius: 50%;\n",
              "    cursor: pointer;\n",
              "    display: none;\n",
              "    fill: var(--fill-color);\n",
              "    height: 32px;\n",
              "    padding: 0;\n",
              "    width: 32px;\n",
              "  }\n",
              "\n",
              "  .colab-df-quickchart:hover {\n",
              "    background-color: var(--hover-bg-color);\n",
              "    box-shadow: 0 1px 2px rgba(60, 64, 67, 0.3), 0 1px 3px 1px rgba(60, 64, 67, 0.15);\n",
              "    fill: var(--button-hover-fill-color);\n",
              "  }\n",
              "\n",
              "  .colab-df-quickchart-complete:disabled,\n",
              "  .colab-df-quickchart-complete:disabled:hover {\n",
              "    background-color: var(--disabled-bg-color);\n",
              "    fill: var(--disabled-fill-color);\n",
              "    box-shadow: none;\n",
              "  }\n",
              "\n",
              "  .colab-df-spinner {\n",
              "    border: 2px solid var(--fill-color);\n",
              "    border-color: transparent;\n",
              "    border-bottom-color: var(--fill-color);\n",
              "    animation:\n",
              "      spin 1s steps(1) infinite;\n",
              "  }\n",
              "\n",
              "  @keyframes spin {\n",
              "    0% {\n",
              "      border-color: transparent;\n",
              "      border-bottom-color: var(--fill-color);\n",
              "      border-left-color: var(--fill-color);\n",
              "    }\n",
              "    20% {\n",
              "      border-color: transparent;\n",
              "      border-left-color: var(--fill-color);\n",
              "      border-top-color: var(--fill-color);\n",
              "    }\n",
              "    30% {\n",
              "      border-color: transparent;\n",
              "      border-left-color: var(--fill-color);\n",
              "      border-top-color: var(--fill-color);\n",
              "      border-right-color: var(--fill-color);\n",
              "    }\n",
              "    40% {\n",
              "      border-color: transparent;\n",
              "      border-right-color: var(--fill-color);\n",
              "      border-top-color: var(--fill-color);\n",
              "    }\n",
              "    60% {\n",
              "      border-color: transparent;\n",
              "      border-right-color: var(--fill-color);\n",
              "    }\n",
              "    80% {\n",
              "      border-color: transparent;\n",
              "      border-right-color: var(--fill-color);\n",
              "      border-bottom-color: var(--fill-color);\n",
              "    }\n",
              "    90% {\n",
              "      border-color: transparent;\n",
              "      border-bottom-color: var(--fill-color);\n",
              "    }\n",
              "  }\n",
              "</style>\n",
              "\n",
              "  <script>\n",
              "    async function quickchart(key) {\n",
              "      const quickchartButtonEl =\n",
              "        document.querySelector('#' + key + ' button');\n",
              "      quickchartButtonEl.disabled = true;  // To prevent multiple clicks.\n",
              "      quickchartButtonEl.classList.add('colab-df-spinner');\n",
              "      try {\n",
              "        const charts = await google.colab.kernel.invokeFunction(\n",
              "            'suggestCharts', [key], {});\n",
              "      } catch (error) {\n",
              "        console.error('Error during call to suggestCharts:', error);\n",
              "      }\n",
              "      quickchartButtonEl.classList.remove('colab-df-spinner');\n",
              "      quickchartButtonEl.classList.add('colab-df-quickchart-complete');\n",
              "    }\n",
              "    (() => {\n",
              "      let quickchartButtonEl =\n",
              "        document.querySelector('#df-8be79352-956b-4e01-9a76-eddce8c4a2a7 button');\n",
              "      quickchartButtonEl.style.display =\n",
              "        google.colab.kernel.accessAllowed ? 'block' : 'none';\n",
              "    })();\n",
              "  </script>\n",
              "</div>\n",
              "\n",
              "  <div id=\"id_24a4129f-2723-453b-a4d9-8322e3fca5fc\">\n",
              "    <style>\n",
              "      .colab-df-generate {\n",
              "        background-color: #E8F0FE;\n",
              "        border: none;\n",
              "        border-radius: 50%;\n",
              "        cursor: pointer;\n",
              "        display: none;\n",
              "        fill: #1967D2;\n",
              "        height: 32px;\n",
              "        padding: 0 0 0 0;\n",
              "        width: 32px;\n",
              "      }\n",
              "\n",
              "      .colab-df-generate:hover {\n",
              "        background-color: #E2EBFA;\n",
              "        box-shadow: 0px 1px 2px rgba(60, 64, 67, 0.3), 0px 1px 3px 1px rgba(60, 64, 67, 0.15);\n",
              "        fill: #174EA6;\n",
              "      }\n",
              "\n",
              "      [theme=dark] .colab-df-generate {\n",
              "        background-color: #3B4455;\n",
              "        fill: #D2E3FC;\n",
              "      }\n",
              "\n",
              "      [theme=dark] .colab-df-generate:hover {\n",
              "        background-color: #434B5C;\n",
              "        box-shadow: 0px 1px 3px 1px rgba(0, 0, 0, 0.15);\n",
              "        filter: drop-shadow(0px 1px 2px rgba(0, 0, 0, 0.3));\n",
              "        fill: #FFFFFF;\n",
              "      }\n",
              "    </style>\n",
              "    <button class=\"colab-df-generate\" onclick=\"generateWithVariable('weekly_sales')\"\n",
              "            title=\"Generate code using this dataframe.\"\n",
              "            style=\"display:none;\">\n",
              "\n",
              "  <svg xmlns=\"http://www.w3.org/2000/svg\" height=\"24px\"viewBox=\"0 0 24 24\"\n",
              "       width=\"24px\">\n",
              "    <path d=\"M7,19H8.4L18.45,9,17,7.55,7,17.6ZM5,21V16.75L18.45,3.32a2,2,0,0,1,2.83,0l1.4,1.43a1.91,1.91,0,0,1,.58,1.4,1.91,1.91,0,0,1-.58,1.4L9.25,21ZM18.45,9,17,7.55Zm-12,3A5.31,5.31,0,0,0,4.9,8.1,5.31,5.31,0,0,0,1,6.5,5.31,5.31,0,0,0,4.9,4.9,5.31,5.31,0,0,0,6.5,1,5.31,5.31,0,0,0,8.1,4.9,5.31,5.31,0,0,0,12,6.5,5.46,5.46,0,0,0,6.5,12Z\"/>\n",
              "  </svg>\n",
              "    </button>\n",
              "    <script>\n",
              "      (() => {\n",
              "      const buttonEl =\n",
              "        document.querySelector('#id_24a4129f-2723-453b-a4d9-8322e3fca5fc button.colab-df-generate');\n",
              "      buttonEl.style.display =\n",
              "        google.colab.kernel.accessAllowed ? 'block' : 'none';\n",
              "\n",
              "      buttonEl.onclick = () => {\n",
              "        google.colab.notebook.generateWithVariable('weekly_sales');\n",
              "      }\n",
              "      })();\n",
              "    </script>\n",
              "  </div>\n",
              "\n",
              "    </div>\n",
              "  </div>\n"
            ],
            "application/vnd.google.colaboratory.intrinsic+json": {
              "type": "dataframe",
              "variable_name": "weekly_sales",
              "summary": "{\n  \"name\": \"weekly_sales\",\n  \"rows\": 5,\n  \"fields\": [\n    {\n      \"column\": \"Almond Butter\",\n      \"properties\": {\n        \"dtype\": \"number\",\n        \"std\": 4,\n        \"min\": 1,\n        \"max\": 12,\n        \"num_unique_values\": 5,\n        \"samples\": [\n          3,\n          1,\n          9\n        ],\n        \"semantic_type\": \"\",\n        \"description\": \"\"\n      }\n    },\n    {\n      \"column\": \"Peanut Butter\",\n      \"properties\": {\n        \"dtype\": \"number\",\n        \"std\": 6,\n        \"min\": 3,\n        \"max\": 19,\n        \"num_unique_values\": 4,\n        \"samples\": [\n          3,\n          6,\n          15\n        ],\n        \"semantic_type\": \"\",\n        \"description\": \"\"\n      }\n    },\n    {\n      \"column\": \"Cashew Butter\",\n      \"properties\": {\n        \"dtype\": \"number\",\n        \"std\": 6,\n        \"min\": 0,\n        \"max\": 18,\n        \"num_unique_values\": 4,\n        \"samples\": [\n          7,\n          12,\n          0\n        ],\n        \"semantic_type\": \"\",\n        \"description\": \"\"\n      }\n    }\n  ]\n}"
            }
          },
          "metadata": {},
          "execution_count": 59
        }
      ]
    },
    {
      "cell_type": "code",
      "source": [
        "prices = np.array([10,8,12])\n",
        "prices"
      ],
      "metadata": {
        "colab": {
          "base_uri": "https://localhost:8080/"
        },
        "id": "gCYgpAxdnJru",
        "outputId": "943b3fe6-5dfc-4a0e-83a1-b482aa94e0a5"
      },
      "execution_count": null,
      "outputs": [
        {
          "output_type": "execute_result",
          "data": {
            "text/plain": [
              "array([10,  8, 12])"
            ]
          },
          "metadata": {},
          "execution_count": 60
        }
      ]
    },
    {
      "cell_type": "code",
      "source": [
        "butter_prices = pd.DataFrame(prices.reshape(1,3),\n",
        "                             index=[\"Price\"],\n",
        "                             columns=[\"Almond Butter\",\"Peanut Butter\", \"Cashew Butter\"])\n",
        "butter_prices"
      ],
      "metadata": {
        "colab": {
          "base_uri": "https://localhost:8080/",
          "height": 89
        },
        "id": "5FZKbKCunPzs",
        "outputId": "ce1f8f53-2ddf-4705-bc94-2aabd66de043"
      },
      "execution_count": null,
      "outputs": [
        {
          "output_type": "execute_result",
          "data": {
            "text/plain": [
              "       Almond Butter  Peanut Butter  Cashew Butter\n",
              "Price             10              8             12"
            ],
            "text/html": [
              "\n",
              "  <div id=\"df-294c6a17-8983-4830-a11c-0cf322495475\" class=\"colab-df-container\">\n",
              "    <div>\n",
              "<style scoped>\n",
              "    .dataframe tbody tr th:only-of-type {\n",
              "        vertical-align: middle;\n",
              "    }\n",
              "\n",
              "    .dataframe tbody tr th {\n",
              "        vertical-align: top;\n",
              "    }\n",
              "\n",
              "    .dataframe thead th {\n",
              "        text-align: right;\n",
              "    }\n",
              "</style>\n",
              "<table border=\"1\" class=\"dataframe\">\n",
              "  <thead>\n",
              "    <tr style=\"text-align: right;\">\n",
              "      <th></th>\n",
              "      <th>Almond Butter</th>\n",
              "      <th>Peanut Butter</th>\n",
              "      <th>Cashew Butter</th>\n",
              "    </tr>\n",
              "  </thead>\n",
              "  <tbody>\n",
              "    <tr>\n",
              "      <th>Price</th>\n",
              "      <td>10</td>\n",
              "      <td>8</td>\n",
              "      <td>12</td>\n",
              "    </tr>\n",
              "  </tbody>\n",
              "</table>\n",
              "</div>\n",
              "    <div class=\"colab-df-buttons\">\n",
              "\n",
              "  <div class=\"colab-df-container\">\n",
              "    <button class=\"colab-df-convert\" onclick=\"convertToInteractive('df-294c6a17-8983-4830-a11c-0cf322495475')\"\n",
              "            title=\"Convert this dataframe to an interactive table.\"\n",
              "            style=\"display:none;\">\n",
              "\n",
              "  <svg xmlns=\"http://www.w3.org/2000/svg\" height=\"24px\" viewBox=\"0 -960 960 960\">\n",
              "    <path d=\"M120-120v-720h720v720H120Zm60-500h600v-160H180v160Zm220 220h160v-160H400v160Zm0 220h160v-160H400v160ZM180-400h160v-160H180v160Zm440 0h160v-160H620v160ZM180-180h160v-160H180v160Zm440 0h160v-160H620v160Z\"/>\n",
              "  </svg>\n",
              "    </button>\n",
              "\n",
              "  <style>\n",
              "    .colab-df-container {\n",
              "      display:flex;\n",
              "      gap: 12px;\n",
              "    }\n",
              "\n",
              "    .colab-df-convert {\n",
              "      background-color: #E8F0FE;\n",
              "      border: none;\n",
              "      border-radius: 50%;\n",
              "      cursor: pointer;\n",
              "      display: none;\n",
              "      fill: #1967D2;\n",
              "      height: 32px;\n",
              "      padding: 0 0 0 0;\n",
              "      width: 32px;\n",
              "    }\n",
              "\n",
              "    .colab-df-convert:hover {\n",
              "      background-color: #E2EBFA;\n",
              "      box-shadow: 0px 1px 2px rgba(60, 64, 67, 0.3), 0px 1px 3px 1px rgba(60, 64, 67, 0.15);\n",
              "      fill: #174EA6;\n",
              "    }\n",
              "\n",
              "    .colab-df-buttons div {\n",
              "      margin-bottom: 4px;\n",
              "    }\n",
              "\n",
              "    [theme=dark] .colab-df-convert {\n",
              "      background-color: #3B4455;\n",
              "      fill: #D2E3FC;\n",
              "    }\n",
              "\n",
              "    [theme=dark] .colab-df-convert:hover {\n",
              "      background-color: #434B5C;\n",
              "      box-shadow: 0px 1px 3px 1px rgba(0, 0, 0, 0.15);\n",
              "      filter: drop-shadow(0px 1px 2px rgba(0, 0, 0, 0.3));\n",
              "      fill: #FFFFFF;\n",
              "    }\n",
              "  </style>\n",
              "\n",
              "    <script>\n",
              "      const buttonEl =\n",
              "        document.querySelector('#df-294c6a17-8983-4830-a11c-0cf322495475 button.colab-df-convert');\n",
              "      buttonEl.style.display =\n",
              "        google.colab.kernel.accessAllowed ? 'block' : 'none';\n",
              "\n",
              "      async function convertToInteractive(key) {\n",
              "        const element = document.querySelector('#df-294c6a17-8983-4830-a11c-0cf322495475');\n",
              "        const dataTable =\n",
              "          await google.colab.kernel.invokeFunction('convertToInteractive',\n",
              "                                                    [key], {});\n",
              "        if (!dataTable) return;\n",
              "\n",
              "        const docLinkHtml = 'Like what you see? Visit the ' +\n",
              "          '<a target=\"_blank\" href=https://colab.research.google.com/notebooks/data_table.ipynb>data table notebook</a>'\n",
              "          + ' to learn more about interactive tables.';\n",
              "        element.innerHTML = '';\n",
              "        dataTable['output_type'] = 'display_data';\n",
              "        await google.colab.output.renderOutput(dataTable, element);\n",
              "        const docLink = document.createElement('div');\n",
              "        docLink.innerHTML = docLinkHtml;\n",
              "        element.appendChild(docLink);\n",
              "      }\n",
              "    </script>\n",
              "  </div>\n",
              "\n",
              "\n",
              "  <div id=\"id_f6499965-60fe-49bc-81bc-73f9f6e31787\">\n",
              "    <style>\n",
              "      .colab-df-generate {\n",
              "        background-color: #E8F0FE;\n",
              "        border: none;\n",
              "        border-radius: 50%;\n",
              "        cursor: pointer;\n",
              "        display: none;\n",
              "        fill: #1967D2;\n",
              "        height: 32px;\n",
              "        padding: 0 0 0 0;\n",
              "        width: 32px;\n",
              "      }\n",
              "\n",
              "      .colab-df-generate:hover {\n",
              "        background-color: #E2EBFA;\n",
              "        box-shadow: 0px 1px 2px rgba(60, 64, 67, 0.3), 0px 1px 3px 1px rgba(60, 64, 67, 0.15);\n",
              "        fill: #174EA6;\n",
              "      }\n",
              "\n",
              "      [theme=dark] .colab-df-generate {\n",
              "        background-color: #3B4455;\n",
              "        fill: #D2E3FC;\n",
              "      }\n",
              "\n",
              "      [theme=dark] .colab-df-generate:hover {\n",
              "        background-color: #434B5C;\n",
              "        box-shadow: 0px 1px 3px 1px rgba(0, 0, 0, 0.15);\n",
              "        filter: drop-shadow(0px 1px 2px rgba(0, 0, 0, 0.3));\n",
              "        fill: #FFFFFF;\n",
              "      }\n",
              "    </style>\n",
              "    <button class=\"colab-df-generate\" onclick=\"generateWithVariable('butter_prices')\"\n",
              "            title=\"Generate code using this dataframe.\"\n",
              "            style=\"display:none;\">\n",
              "\n",
              "  <svg xmlns=\"http://www.w3.org/2000/svg\" height=\"24px\"viewBox=\"0 0 24 24\"\n",
              "       width=\"24px\">\n",
              "    <path d=\"M7,19H8.4L18.45,9,17,7.55,7,17.6ZM5,21V16.75L18.45,3.32a2,2,0,0,1,2.83,0l1.4,1.43a1.91,1.91,0,0,1,.58,1.4,1.91,1.91,0,0,1-.58,1.4L9.25,21ZM18.45,9,17,7.55Zm-12,3A5.31,5.31,0,0,0,4.9,8.1,5.31,5.31,0,0,0,1,6.5,5.31,5.31,0,0,0,4.9,4.9,5.31,5.31,0,0,0,6.5,1,5.31,5.31,0,0,0,8.1,4.9,5.31,5.31,0,0,0,12,6.5,5.46,5.46,0,0,0,6.5,12Z\"/>\n",
              "  </svg>\n",
              "    </button>\n",
              "    <script>\n",
              "      (() => {\n",
              "      const buttonEl =\n",
              "        document.querySelector('#id_f6499965-60fe-49bc-81bc-73f9f6e31787 button.colab-df-generate');\n",
              "      buttonEl.style.display =\n",
              "        google.colab.kernel.accessAllowed ? 'block' : 'none';\n",
              "\n",
              "      buttonEl.onclick = () => {\n",
              "        google.colab.notebook.generateWithVariable('butter_prices');\n",
              "      }\n",
              "      })();\n",
              "    </script>\n",
              "  </div>\n",
              "\n",
              "    </div>\n",
              "  </div>\n"
            ],
            "application/vnd.google.colaboratory.intrinsic+json": {
              "type": "dataframe",
              "variable_name": "butter_prices",
              "summary": "{\n  \"name\": \"butter_prices\",\n  \"rows\": 1,\n  \"fields\": [\n    {\n      \"column\": \"Almond Butter\",\n      \"properties\": {\n        \"dtype\": \"number\",\n        \"std\": null,\n        \"min\": 10,\n        \"max\": 10,\n        \"num_unique_values\": 1,\n        \"samples\": [\n          10\n        ],\n        \"semantic_type\": \"\",\n        \"description\": \"\"\n      }\n    },\n    {\n      \"column\": \"Peanut Butter\",\n      \"properties\": {\n        \"dtype\": \"number\",\n        \"std\": null,\n        \"min\": 8,\n        \"max\": 8,\n        \"num_unique_values\": 1,\n        \"samples\": [\n          8\n        ],\n        \"semantic_type\": \"\",\n        \"description\": \"\"\n      }\n    },\n    {\n      \"column\": \"Cashew Butter\",\n      \"properties\": {\n        \"dtype\": \"number\",\n        \"std\": null,\n        \"min\": 12,\n        \"max\": 12,\n        \"num_unique_values\": 1,\n        \"samples\": [\n          12\n        ],\n        \"semantic_type\": \"\",\n        \"description\": \"\"\n      }\n    }\n  ]\n}"
            }
          },
          "metadata": {},
          "execution_count": 62
        }
      ]
    },
    {
      "cell_type": "code",
      "source": [
        "total_sales = np.dot(sales_amounts, prices)"
      ],
      "metadata": {
        "id": "VYYZ7cQVoUka"
      },
      "execution_count": null,
      "outputs": []
    },
    {
      "cell_type": "code",
      "source": [
        "total_sales_df = pd.DataFrame(total_sales,\n",
        "                              columns=[\"Total ($)\"])\n",
        "total_sales_df"
      ],
      "metadata": {
        "colab": {
          "base_uri": "https://localhost:8080/",
          "height": 206
        },
        "id": "t6ePEZ0iowZR",
        "outputId": "c9fac80f-3a3a-4104-e6af-4b7ad702c2aa"
      },
      "execution_count": null,
      "outputs": [
        {
          "output_type": "execute_result",
          "data": {
            "text/plain": [
              "   Total ($)\n",
              "0        240\n",
              "1        138\n",
              "2        458\n",
              "3        232\n",
              "4        142"
            ],
            "text/html": [
              "\n",
              "  <div id=\"df-8c9b164b-31bc-42b7-948a-f254eae9bb88\" class=\"colab-df-container\">\n",
              "    <div>\n",
              "<style scoped>\n",
              "    .dataframe tbody tr th:only-of-type {\n",
              "        vertical-align: middle;\n",
              "    }\n",
              "\n",
              "    .dataframe tbody tr th {\n",
              "        vertical-align: top;\n",
              "    }\n",
              "\n",
              "    .dataframe thead th {\n",
              "        text-align: right;\n",
              "    }\n",
              "</style>\n",
              "<table border=\"1\" class=\"dataframe\">\n",
              "  <thead>\n",
              "    <tr style=\"text-align: right;\">\n",
              "      <th></th>\n",
              "      <th>Total ($)</th>\n",
              "    </tr>\n",
              "  </thead>\n",
              "  <tbody>\n",
              "    <tr>\n",
              "      <th>0</th>\n",
              "      <td>240</td>\n",
              "    </tr>\n",
              "    <tr>\n",
              "      <th>1</th>\n",
              "      <td>138</td>\n",
              "    </tr>\n",
              "    <tr>\n",
              "      <th>2</th>\n",
              "      <td>458</td>\n",
              "    </tr>\n",
              "    <tr>\n",
              "      <th>3</th>\n",
              "      <td>232</td>\n",
              "    </tr>\n",
              "    <tr>\n",
              "      <th>4</th>\n",
              "      <td>142</td>\n",
              "    </tr>\n",
              "  </tbody>\n",
              "</table>\n",
              "</div>\n",
              "    <div class=\"colab-df-buttons\">\n",
              "\n",
              "  <div class=\"colab-df-container\">\n",
              "    <button class=\"colab-df-convert\" onclick=\"convertToInteractive('df-8c9b164b-31bc-42b7-948a-f254eae9bb88')\"\n",
              "            title=\"Convert this dataframe to an interactive table.\"\n",
              "            style=\"display:none;\">\n",
              "\n",
              "  <svg xmlns=\"http://www.w3.org/2000/svg\" height=\"24px\" viewBox=\"0 -960 960 960\">\n",
              "    <path d=\"M120-120v-720h720v720H120Zm60-500h600v-160H180v160Zm220 220h160v-160H400v160Zm0 220h160v-160H400v160ZM180-400h160v-160H180v160Zm440 0h160v-160H620v160ZM180-180h160v-160H180v160Zm440 0h160v-160H620v160Z\"/>\n",
              "  </svg>\n",
              "    </button>\n",
              "\n",
              "  <style>\n",
              "    .colab-df-container {\n",
              "      display:flex;\n",
              "      gap: 12px;\n",
              "    }\n",
              "\n",
              "    .colab-df-convert {\n",
              "      background-color: #E8F0FE;\n",
              "      border: none;\n",
              "      border-radius: 50%;\n",
              "      cursor: pointer;\n",
              "      display: none;\n",
              "      fill: #1967D2;\n",
              "      height: 32px;\n",
              "      padding: 0 0 0 0;\n",
              "      width: 32px;\n",
              "    }\n",
              "\n",
              "    .colab-df-convert:hover {\n",
              "      background-color: #E2EBFA;\n",
              "      box-shadow: 0px 1px 2px rgba(60, 64, 67, 0.3), 0px 1px 3px 1px rgba(60, 64, 67, 0.15);\n",
              "      fill: #174EA6;\n",
              "    }\n",
              "\n",
              "    .colab-df-buttons div {\n",
              "      margin-bottom: 4px;\n",
              "    }\n",
              "\n",
              "    [theme=dark] .colab-df-convert {\n",
              "      background-color: #3B4455;\n",
              "      fill: #D2E3FC;\n",
              "    }\n",
              "\n",
              "    [theme=dark] .colab-df-convert:hover {\n",
              "      background-color: #434B5C;\n",
              "      box-shadow: 0px 1px 3px 1px rgba(0, 0, 0, 0.15);\n",
              "      filter: drop-shadow(0px 1px 2px rgba(0, 0, 0, 0.3));\n",
              "      fill: #FFFFFF;\n",
              "    }\n",
              "  </style>\n",
              "\n",
              "    <script>\n",
              "      const buttonEl =\n",
              "        document.querySelector('#df-8c9b164b-31bc-42b7-948a-f254eae9bb88 button.colab-df-convert');\n",
              "      buttonEl.style.display =\n",
              "        google.colab.kernel.accessAllowed ? 'block' : 'none';\n",
              "\n",
              "      async function convertToInteractive(key) {\n",
              "        const element = document.querySelector('#df-8c9b164b-31bc-42b7-948a-f254eae9bb88');\n",
              "        const dataTable =\n",
              "          await google.colab.kernel.invokeFunction('convertToInteractive',\n",
              "                                                    [key], {});\n",
              "        if (!dataTable) return;\n",
              "\n",
              "        const docLinkHtml = 'Like what you see? Visit the ' +\n",
              "          '<a target=\"_blank\" href=https://colab.research.google.com/notebooks/data_table.ipynb>data table notebook</a>'\n",
              "          + ' to learn more about interactive tables.';\n",
              "        element.innerHTML = '';\n",
              "        dataTable['output_type'] = 'display_data';\n",
              "        await google.colab.output.renderOutput(dataTable, element);\n",
              "        const docLink = document.createElement('div');\n",
              "        docLink.innerHTML = docLinkHtml;\n",
              "        element.appendChild(docLink);\n",
              "      }\n",
              "    </script>\n",
              "  </div>\n",
              "\n",
              "\n",
              "<div id=\"df-8c9f664d-cbcf-4583-b06c-11082dfc718b\">\n",
              "  <button class=\"colab-df-quickchart\" onclick=\"quickchart('df-8c9f664d-cbcf-4583-b06c-11082dfc718b')\"\n",
              "            title=\"Suggest charts\"\n",
              "            style=\"display:none;\">\n",
              "\n",
              "<svg xmlns=\"http://www.w3.org/2000/svg\" height=\"24px\"viewBox=\"0 0 24 24\"\n",
              "     width=\"24px\">\n",
              "    <g>\n",
              "        <path d=\"M19 3H5c-1.1 0-2 .9-2 2v14c0 1.1.9 2 2 2h14c1.1 0 2-.9 2-2V5c0-1.1-.9-2-2-2zM9 17H7v-7h2v7zm4 0h-2V7h2v10zm4 0h-2v-4h2v4z\"/>\n",
              "    </g>\n",
              "</svg>\n",
              "  </button>\n",
              "\n",
              "<style>\n",
              "  .colab-df-quickchart {\n",
              "      --bg-color: #E8F0FE;\n",
              "      --fill-color: #1967D2;\n",
              "      --hover-bg-color: #E2EBFA;\n",
              "      --hover-fill-color: #174EA6;\n",
              "      --disabled-fill-color: #AAA;\n",
              "      --disabled-bg-color: #DDD;\n",
              "  }\n",
              "\n",
              "  [theme=dark] .colab-df-quickchart {\n",
              "      --bg-color: #3B4455;\n",
              "      --fill-color: #D2E3FC;\n",
              "      --hover-bg-color: #434B5C;\n",
              "      --hover-fill-color: #FFFFFF;\n",
              "      --disabled-bg-color: #3B4455;\n",
              "      --disabled-fill-color: #666;\n",
              "  }\n",
              "\n",
              "  .colab-df-quickchart {\n",
              "    background-color: var(--bg-color);\n",
              "    border: none;\n",
              "    border-radius: 50%;\n",
              "    cursor: pointer;\n",
              "    display: none;\n",
              "    fill: var(--fill-color);\n",
              "    height: 32px;\n",
              "    padding: 0;\n",
              "    width: 32px;\n",
              "  }\n",
              "\n",
              "  .colab-df-quickchart:hover {\n",
              "    background-color: var(--hover-bg-color);\n",
              "    box-shadow: 0 1px 2px rgba(60, 64, 67, 0.3), 0 1px 3px 1px rgba(60, 64, 67, 0.15);\n",
              "    fill: var(--button-hover-fill-color);\n",
              "  }\n",
              "\n",
              "  .colab-df-quickchart-complete:disabled,\n",
              "  .colab-df-quickchart-complete:disabled:hover {\n",
              "    background-color: var(--disabled-bg-color);\n",
              "    fill: var(--disabled-fill-color);\n",
              "    box-shadow: none;\n",
              "  }\n",
              "\n",
              "  .colab-df-spinner {\n",
              "    border: 2px solid var(--fill-color);\n",
              "    border-color: transparent;\n",
              "    border-bottom-color: var(--fill-color);\n",
              "    animation:\n",
              "      spin 1s steps(1) infinite;\n",
              "  }\n",
              "\n",
              "  @keyframes spin {\n",
              "    0% {\n",
              "      border-color: transparent;\n",
              "      border-bottom-color: var(--fill-color);\n",
              "      border-left-color: var(--fill-color);\n",
              "    }\n",
              "    20% {\n",
              "      border-color: transparent;\n",
              "      border-left-color: var(--fill-color);\n",
              "      border-top-color: var(--fill-color);\n",
              "    }\n",
              "    30% {\n",
              "      border-color: transparent;\n",
              "      border-left-color: var(--fill-color);\n",
              "      border-top-color: var(--fill-color);\n",
              "      border-right-color: var(--fill-color);\n",
              "    }\n",
              "    40% {\n",
              "      border-color: transparent;\n",
              "      border-right-color: var(--fill-color);\n",
              "      border-top-color: var(--fill-color);\n",
              "    }\n",
              "    60% {\n",
              "      border-color: transparent;\n",
              "      border-right-color: var(--fill-color);\n",
              "    }\n",
              "    80% {\n",
              "      border-color: transparent;\n",
              "      border-right-color: var(--fill-color);\n",
              "      border-bottom-color: var(--fill-color);\n",
              "    }\n",
              "    90% {\n",
              "      border-color: transparent;\n",
              "      border-bottom-color: var(--fill-color);\n",
              "    }\n",
              "  }\n",
              "</style>\n",
              "\n",
              "  <script>\n",
              "    async function quickchart(key) {\n",
              "      const quickchartButtonEl =\n",
              "        document.querySelector('#' + key + ' button');\n",
              "      quickchartButtonEl.disabled = true;  // To prevent multiple clicks.\n",
              "      quickchartButtonEl.classList.add('colab-df-spinner');\n",
              "      try {\n",
              "        const charts = await google.colab.kernel.invokeFunction(\n",
              "            'suggestCharts', [key], {});\n",
              "      } catch (error) {\n",
              "        console.error('Error during call to suggestCharts:', error);\n",
              "      }\n",
              "      quickchartButtonEl.classList.remove('colab-df-spinner');\n",
              "      quickchartButtonEl.classList.add('colab-df-quickchart-complete');\n",
              "    }\n",
              "    (() => {\n",
              "      let quickchartButtonEl =\n",
              "        document.querySelector('#df-8c9f664d-cbcf-4583-b06c-11082dfc718b button');\n",
              "      quickchartButtonEl.style.display =\n",
              "        google.colab.kernel.accessAllowed ? 'block' : 'none';\n",
              "    })();\n",
              "  </script>\n",
              "</div>\n",
              "\n",
              "  <div id=\"id_6e65d497-25e3-4276-8736-9ea660a276f7\">\n",
              "    <style>\n",
              "      .colab-df-generate {\n",
              "        background-color: #E8F0FE;\n",
              "        border: none;\n",
              "        border-radius: 50%;\n",
              "        cursor: pointer;\n",
              "        display: none;\n",
              "        fill: #1967D2;\n",
              "        height: 32px;\n",
              "        padding: 0 0 0 0;\n",
              "        width: 32px;\n",
              "      }\n",
              "\n",
              "      .colab-df-generate:hover {\n",
              "        background-color: #E2EBFA;\n",
              "        box-shadow: 0px 1px 2px rgba(60, 64, 67, 0.3), 0px 1px 3px 1px rgba(60, 64, 67, 0.15);\n",
              "        fill: #174EA6;\n",
              "      }\n",
              "\n",
              "      [theme=dark] .colab-df-generate {\n",
              "        background-color: #3B4455;\n",
              "        fill: #D2E3FC;\n",
              "      }\n",
              "\n",
              "      [theme=dark] .colab-df-generate:hover {\n",
              "        background-color: #434B5C;\n",
              "        box-shadow: 0px 1px 3px 1px rgba(0, 0, 0, 0.15);\n",
              "        filter: drop-shadow(0px 1px 2px rgba(0, 0, 0, 0.3));\n",
              "        fill: #FFFFFF;\n",
              "      }\n",
              "    </style>\n",
              "    <button class=\"colab-df-generate\" onclick=\"generateWithVariable('total_sales_df')\"\n",
              "            title=\"Generate code using this dataframe.\"\n",
              "            style=\"display:none;\">\n",
              "\n",
              "  <svg xmlns=\"http://www.w3.org/2000/svg\" height=\"24px\"viewBox=\"0 0 24 24\"\n",
              "       width=\"24px\">\n",
              "    <path d=\"M7,19H8.4L18.45,9,17,7.55,7,17.6ZM5,21V16.75L18.45,3.32a2,2,0,0,1,2.83,0l1.4,1.43a1.91,1.91,0,0,1,.58,1.4,1.91,1.91,0,0,1-.58,1.4L9.25,21ZM18.45,9,17,7.55Zm-12,3A5.31,5.31,0,0,0,4.9,8.1,5.31,5.31,0,0,0,1,6.5,5.31,5.31,0,0,0,4.9,4.9,5.31,5.31,0,0,0,6.5,1,5.31,5.31,0,0,0,8.1,4.9,5.31,5.31,0,0,0,12,6.5,5.46,5.46,0,0,0,6.5,12Z\"/>\n",
              "  </svg>\n",
              "    </button>\n",
              "    <script>\n",
              "      (() => {\n",
              "      const buttonEl =\n",
              "        document.querySelector('#id_6e65d497-25e3-4276-8736-9ea660a276f7 button.colab-df-generate');\n",
              "      buttonEl.style.display =\n",
              "        google.colab.kernel.accessAllowed ? 'block' : 'none';\n",
              "\n",
              "      buttonEl.onclick = () => {\n",
              "        google.colab.notebook.generateWithVariable('total_sales_df');\n",
              "      }\n",
              "      })();\n",
              "    </script>\n",
              "  </div>\n",
              "\n",
              "    </div>\n",
              "  </div>\n"
            ],
            "application/vnd.google.colaboratory.intrinsic+json": {
              "type": "dataframe",
              "variable_name": "total_sales_df",
              "summary": "{\n  \"name\": \"total_sales_df\",\n  \"rows\": 5,\n  \"fields\": [\n    {\n      \"column\": \"Total ($)\",\n      \"properties\": {\n        \"dtype\": \"number\",\n        \"std\": 129,\n        \"min\": 138,\n        \"max\": 458,\n        \"num_unique_values\": 5,\n        \"samples\": [\n          138,\n          142,\n          458\n        ],\n        \"semantic_type\": \"\",\n        \"description\": \"\"\n      }\n    }\n  ]\n}"
            }
          },
          "metadata": {},
          "execution_count": 64
        }
      ]
    },
    {
      "cell_type": "code",
      "source": [
        "weekly_sales[\"Total ($)\"] = total_sales\n",
        "weekly_sales"
      ],
      "metadata": {
        "colab": {
          "base_uri": "https://localhost:8080/",
          "height": 206
        },
        "id": "t_ahGqUjp64T",
        "outputId": "233d38f3-1d16-4df2-dada-44f75150e0a8"
      },
      "execution_count": null,
      "outputs": [
        {
          "output_type": "execute_result",
          "data": {
            "text/plain": [
              "       Almond Butter  Peanut Butter  Cashew Butter  Total ($)\n",
              "Mon               12             15              0        240\n",
              "Tue                3              3              7        138\n",
              "Wed                9             19             18        458\n",
              "Thurs              4              6             12        232\n",
              "Fri                1              6              7        142"
            ],
            "text/html": [
              "\n",
              "  <div id=\"df-487fd756-842d-494d-a2ce-ad001e73381d\" class=\"colab-df-container\">\n",
              "    <div>\n",
              "<style scoped>\n",
              "    .dataframe tbody tr th:only-of-type {\n",
              "        vertical-align: middle;\n",
              "    }\n",
              "\n",
              "    .dataframe tbody tr th {\n",
              "        vertical-align: top;\n",
              "    }\n",
              "\n",
              "    .dataframe thead th {\n",
              "        text-align: right;\n",
              "    }\n",
              "</style>\n",
              "<table border=\"1\" class=\"dataframe\">\n",
              "  <thead>\n",
              "    <tr style=\"text-align: right;\">\n",
              "      <th></th>\n",
              "      <th>Almond Butter</th>\n",
              "      <th>Peanut Butter</th>\n",
              "      <th>Cashew Butter</th>\n",
              "      <th>Total ($)</th>\n",
              "    </tr>\n",
              "  </thead>\n",
              "  <tbody>\n",
              "    <tr>\n",
              "      <th>Mon</th>\n",
              "      <td>12</td>\n",
              "      <td>15</td>\n",
              "      <td>0</td>\n",
              "      <td>240</td>\n",
              "    </tr>\n",
              "    <tr>\n",
              "      <th>Tue</th>\n",
              "      <td>3</td>\n",
              "      <td>3</td>\n",
              "      <td>7</td>\n",
              "      <td>138</td>\n",
              "    </tr>\n",
              "    <tr>\n",
              "      <th>Wed</th>\n",
              "      <td>9</td>\n",
              "      <td>19</td>\n",
              "      <td>18</td>\n",
              "      <td>458</td>\n",
              "    </tr>\n",
              "    <tr>\n",
              "      <th>Thurs</th>\n",
              "      <td>4</td>\n",
              "      <td>6</td>\n",
              "      <td>12</td>\n",
              "      <td>232</td>\n",
              "    </tr>\n",
              "    <tr>\n",
              "      <th>Fri</th>\n",
              "      <td>1</td>\n",
              "      <td>6</td>\n",
              "      <td>7</td>\n",
              "      <td>142</td>\n",
              "    </tr>\n",
              "  </tbody>\n",
              "</table>\n",
              "</div>\n",
              "    <div class=\"colab-df-buttons\">\n",
              "\n",
              "  <div class=\"colab-df-container\">\n",
              "    <button class=\"colab-df-convert\" onclick=\"convertToInteractive('df-487fd756-842d-494d-a2ce-ad001e73381d')\"\n",
              "            title=\"Convert this dataframe to an interactive table.\"\n",
              "            style=\"display:none;\">\n",
              "\n",
              "  <svg xmlns=\"http://www.w3.org/2000/svg\" height=\"24px\" viewBox=\"0 -960 960 960\">\n",
              "    <path d=\"M120-120v-720h720v720H120Zm60-500h600v-160H180v160Zm220 220h160v-160H400v160Zm0 220h160v-160H400v160ZM180-400h160v-160H180v160Zm440 0h160v-160H620v160ZM180-180h160v-160H180v160Zm440 0h160v-160H620v160Z\"/>\n",
              "  </svg>\n",
              "    </button>\n",
              "\n",
              "  <style>\n",
              "    .colab-df-container {\n",
              "      display:flex;\n",
              "      gap: 12px;\n",
              "    }\n",
              "\n",
              "    .colab-df-convert {\n",
              "      background-color: #E8F0FE;\n",
              "      border: none;\n",
              "      border-radius: 50%;\n",
              "      cursor: pointer;\n",
              "      display: none;\n",
              "      fill: #1967D2;\n",
              "      height: 32px;\n",
              "      padding: 0 0 0 0;\n",
              "      width: 32px;\n",
              "    }\n",
              "\n",
              "    .colab-df-convert:hover {\n",
              "      background-color: #E2EBFA;\n",
              "      box-shadow: 0px 1px 2px rgba(60, 64, 67, 0.3), 0px 1px 3px 1px rgba(60, 64, 67, 0.15);\n",
              "      fill: #174EA6;\n",
              "    }\n",
              "\n",
              "    .colab-df-buttons div {\n",
              "      margin-bottom: 4px;\n",
              "    }\n",
              "\n",
              "    [theme=dark] .colab-df-convert {\n",
              "      background-color: #3B4455;\n",
              "      fill: #D2E3FC;\n",
              "    }\n",
              "\n",
              "    [theme=dark] .colab-df-convert:hover {\n",
              "      background-color: #434B5C;\n",
              "      box-shadow: 0px 1px 3px 1px rgba(0, 0, 0, 0.15);\n",
              "      filter: drop-shadow(0px 1px 2px rgba(0, 0, 0, 0.3));\n",
              "      fill: #FFFFFF;\n",
              "    }\n",
              "  </style>\n",
              "\n",
              "    <script>\n",
              "      const buttonEl =\n",
              "        document.querySelector('#df-487fd756-842d-494d-a2ce-ad001e73381d button.colab-df-convert');\n",
              "      buttonEl.style.display =\n",
              "        google.colab.kernel.accessAllowed ? 'block' : 'none';\n",
              "\n",
              "      async function convertToInteractive(key) {\n",
              "        const element = document.querySelector('#df-487fd756-842d-494d-a2ce-ad001e73381d');\n",
              "        const dataTable =\n",
              "          await google.colab.kernel.invokeFunction('convertToInteractive',\n",
              "                                                    [key], {});\n",
              "        if (!dataTable) return;\n",
              "\n",
              "        const docLinkHtml = 'Like what you see? Visit the ' +\n",
              "          '<a target=\"_blank\" href=https://colab.research.google.com/notebooks/data_table.ipynb>data table notebook</a>'\n",
              "          + ' to learn more about interactive tables.';\n",
              "        element.innerHTML = '';\n",
              "        dataTable['output_type'] = 'display_data';\n",
              "        await google.colab.output.renderOutput(dataTable, element);\n",
              "        const docLink = document.createElement('div');\n",
              "        docLink.innerHTML = docLinkHtml;\n",
              "        element.appendChild(docLink);\n",
              "      }\n",
              "    </script>\n",
              "  </div>\n",
              "\n",
              "\n",
              "<div id=\"df-742c49f0-01b8-4a2b-a6ae-8d08526cc6ac\">\n",
              "  <button class=\"colab-df-quickchart\" onclick=\"quickchart('df-742c49f0-01b8-4a2b-a6ae-8d08526cc6ac')\"\n",
              "            title=\"Suggest charts\"\n",
              "            style=\"display:none;\">\n",
              "\n",
              "<svg xmlns=\"http://www.w3.org/2000/svg\" height=\"24px\"viewBox=\"0 0 24 24\"\n",
              "     width=\"24px\">\n",
              "    <g>\n",
              "        <path d=\"M19 3H5c-1.1 0-2 .9-2 2v14c0 1.1.9 2 2 2h14c1.1 0 2-.9 2-2V5c0-1.1-.9-2-2-2zM9 17H7v-7h2v7zm4 0h-2V7h2v10zm4 0h-2v-4h2v4z\"/>\n",
              "    </g>\n",
              "</svg>\n",
              "  </button>\n",
              "\n",
              "<style>\n",
              "  .colab-df-quickchart {\n",
              "      --bg-color: #E8F0FE;\n",
              "      --fill-color: #1967D2;\n",
              "      --hover-bg-color: #E2EBFA;\n",
              "      --hover-fill-color: #174EA6;\n",
              "      --disabled-fill-color: #AAA;\n",
              "      --disabled-bg-color: #DDD;\n",
              "  }\n",
              "\n",
              "  [theme=dark] .colab-df-quickchart {\n",
              "      --bg-color: #3B4455;\n",
              "      --fill-color: #D2E3FC;\n",
              "      --hover-bg-color: #434B5C;\n",
              "      --hover-fill-color: #FFFFFF;\n",
              "      --disabled-bg-color: #3B4455;\n",
              "      --disabled-fill-color: #666;\n",
              "  }\n",
              "\n",
              "  .colab-df-quickchart {\n",
              "    background-color: var(--bg-color);\n",
              "    border: none;\n",
              "    border-radius: 50%;\n",
              "    cursor: pointer;\n",
              "    display: none;\n",
              "    fill: var(--fill-color);\n",
              "    height: 32px;\n",
              "    padding: 0;\n",
              "    width: 32px;\n",
              "  }\n",
              "\n",
              "  .colab-df-quickchart:hover {\n",
              "    background-color: var(--hover-bg-color);\n",
              "    box-shadow: 0 1px 2px rgba(60, 64, 67, 0.3), 0 1px 3px 1px rgba(60, 64, 67, 0.15);\n",
              "    fill: var(--button-hover-fill-color);\n",
              "  }\n",
              "\n",
              "  .colab-df-quickchart-complete:disabled,\n",
              "  .colab-df-quickchart-complete:disabled:hover {\n",
              "    background-color: var(--disabled-bg-color);\n",
              "    fill: var(--disabled-fill-color);\n",
              "    box-shadow: none;\n",
              "  }\n",
              "\n",
              "  .colab-df-spinner {\n",
              "    border: 2px solid var(--fill-color);\n",
              "    border-color: transparent;\n",
              "    border-bottom-color: var(--fill-color);\n",
              "    animation:\n",
              "      spin 1s steps(1) infinite;\n",
              "  }\n",
              "\n",
              "  @keyframes spin {\n",
              "    0% {\n",
              "      border-color: transparent;\n",
              "      border-bottom-color: var(--fill-color);\n",
              "      border-left-color: var(--fill-color);\n",
              "    }\n",
              "    20% {\n",
              "      border-color: transparent;\n",
              "      border-left-color: var(--fill-color);\n",
              "      border-top-color: var(--fill-color);\n",
              "    }\n",
              "    30% {\n",
              "      border-color: transparent;\n",
              "      border-left-color: var(--fill-color);\n",
              "      border-top-color: var(--fill-color);\n",
              "      border-right-color: var(--fill-color);\n",
              "    }\n",
              "    40% {\n",
              "      border-color: transparent;\n",
              "      border-right-color: var(--fill-color);\n",
              "      border-top-color: var(--fill-color);\n",
              "    }\n",
              "    60% {\n",
              "      border-color: transparent;\n",
              "      border-right-color: var(--fill-color);\n",
              "    }\n",
              "    80% {\n",
              "      border-color: transparent;\n",
              "      border-right-color: var(--fill-color);\n",
              "      border-bottom-color: var(--fill-color);\n",
              "    }\n",
              "    90% {\n",
              "      border-color: transparent;\n",
              "      border-bottom-color: var(--fill-color);\n",
              "    }\n",
              "  }\n",
              "</style>\n",
              "\n",
              "  <script>\n",
              "    async function quickchart(key) {\n",
              "      const quickchartButtonEl =\n",
              "        document.querySelector('#' + key + ' button');\n",
              "      quickchartButtonEl.disabled = true;  // To prevent multiple clicks.\n",
              "      quickchartButtonEl.classList.add('colab-df-spinner');\n",
              "      try {\n",
              "        const charts = await google.colab.kernel.invokeFunction(\n",
              "            'suggestCharts', [key], {});\n",
              "      } catch (error) {\n",
              "        console.error('Error during call to suggestCharts:', error);\n",
              "      }\n",
              "      quickchartButtonEl.classList.remove('colab-df-spinner');\n",
              "      quickchartButtonEl.classList.add('colab-df-quickchart-complete');\n",
              "    }\n",
              "    (() => {\n",
              "      let quickchartButtonEl =\n",
              "        document.querySelector('#df-742c49f0-01b8-4a2b-a6ae-8d08526cc6ac button');\n",
              "      quickchartButtonEl.style.display =\n",
              "        google.colab.kernel.accessAllowed ? 'block' : 'none';\n",
              "    })();\n",
              "  </script>\n",
              "</div>\n",
              "\n",
              "  <div id=\"id_80e91696-0fc4-4006-9dd8-2d3b6a21acc1\">\n",
              "    <style>\n",
              "      .colab-df-generate {\n",
              "        background-color: #E8F0FE;\n",
              "        border: none;\n",
              "        border-radius: 50%;\n",
              "        cursor: pointer;\n",
              "        display: none;\n",
              "        fill: #1967D2;\n",
              "        height: 32px;\n",
              "        padding: 0 0 0 0;\n",
              "        width: 32px;\n",
              "      }\n",
              "\n",
              "      .colab-df-generate:hover {\n",
              "        background-color: #E2EBFA;\n",
              "        box-shadow: 0px 1px 2px rgba(60, 64, 67, 0.3), 0px 1px 3px 1px rgba(60, 64, 67, 0.15);\n",
              "        fill: #174EA6;\n",
              "      }\n",
              "\n",
              "      [theme=dark] .colab-df-generate {\n",
              "        background-color: #3B4455;\n",
              "        fill: #D2E3FC;\n",
              "      }\n",
              "\n",
              "      [theme=dark] .colab-df-generate:hover {\n",
              "        background-color: #434B5C;\n",
              "        box-shadow: 0px 1px 3px 1px rgba(0, 0, 0, 0.15);\n",
              "        filter: drop-shadow(0px 1px 2px rgba(0, 0, 0, 0.3));\n",
              "        fill: #FFFFFF;\n",
              "      }\n",
              "    </style>\n",
              "    <button class=\"colab-df-generate\" onclick=\"generateWithVariable('weekly_sales')\"\n",
              "            title=\"Generate code using this dataframe.\"\n",
              "            style=\"display:none;\">\n",
              "\n",
              "  <svg xmlns=\"http://www.w3.org/2000/svg\" height=\"24px\"viewBox=\"0 0 24 24\"\n",
              "       width=\"24px\">\n",
              "    <path d=\"M7,19H8.4L18.45,9,17,7.55,7,17.6ZM5,21V16.75L18.45,3.32a2,2,0,0,1,2.83,0l1.4,1.43a1.91,1.91,0,0,1,.58,1.4,1.91,1.91,0,0,1-.58,1.4L9.25,21ZM18.45,9,17,7.55Zm-12,3A5.31,5.31,0,0,0,4.9,8.1,5.31,5.31,0,0,0,1,6.5,5.31,5.31,0,0,0,4.9,4.9,5.31,5.31,0,0,0,6.5,1,5.31,5.31,0,0,0,8.1,4.9,5.31,5.31,0,0,0,12,6.5,5.46,5.46,0,0,0,6.5,12Z\"/>\n",
              "  </svg>\n",
              "    </button>\n",
              "    <script>\n",
              "      (() => {\n",
              "      const buttonEl =\n",
              "        document.querySelector('#id_80e91696-0fc4-4006-9dd8-2d3b6a21acc1 button.colab-df-generate');\n",
              "      buttonEl.style.display =\n",
              "        google.colab.kernel.accessAllowed ? 'block' : 'none';\n",
              "\n",
              "      buttonEl.onclick = () => {\n",
              "        google.colab.notebook.generateWithVariable('weekly_sales');\n",
              "      }\n",
              "      })();\n",
              "    </script>\n",
              "  </div>\n",
              "\n",
              "    </div>\n",
              "  </div>\n"
            ],
            "application/vnd.google.colaboratory.intrinsic+json": {
              "type": "dataframe",
              "variable_name": "weekly_sales",
              "summary": "{\n  \"name\": \"weekly_sales\",\n  \"rows\": 5,\n  \"fields\": [\n    {\n      \"column\": \"Almond Butter\",\n      \"properties\": {\n        \"dtype\": \"number\",\n        \"std\": 4,\n        \"min\": 1,\n        \"max\": 12,\n        \"num_unique_values\": 5,\n        \"samples\": [\n          3,\n          1,\n          9\n        ],\n        \"semantic_type\": \"\",\n        \"description\": \"\"\n      }\n    },\n    {\n      \"column\": \"Peanut Butter\",\n      \"properties\": {\n        \"dtype\": \"number\",\n        \"std\": 6,\n        \"min\": 3,\n        \"max\": 19,\n        \"num_unique_values\": 4,\n        \"samples\": [\n          3,\n          6,\n          15\n        ],\n        \"semantic_type\": \"\",\n        \"description\": \"\"\n      }\n    },\n    {\n      \"column\": \"Cashew Butter\",\n      \"properties\": {\n        \"dtype\": \"number\",\n        \"std\": 6,\n        \"min\": 0,\n        \"max\": 18,\n        \"num_unique_values\": 4,\n        \"samples\": [\n          7,\n          12,\n          0\n        ],\n        \"semantic_type\": \"\",\n        \"description\": \"\"\n      }\n    },\n    {\n      \"column\": \"Total ($)\",\n      \"properties\": {\n        \"dtype\": \"number\",\n        \"std\": 129,\n        \"min\": 138,\n        \"max\": 458,\n        \"num_unique_values\": 5,\n        \"samples\": [\n          138,\n          142,\n          458\n        ],\n        \"semantic_type\": \"\",\n        \"description\": \"\"\n      }\n    }\n  ]\n}"
            }
          },
          "metadata": {},
          "execution_count": 65
        }
      ]
    },
    {
      "cell_type": "code",
      "source": [
        "weekly_sales_with_prices = pd.concat([weekly_sales, butter_prices])\n",
        "weekly_sales_with_prices"
      ],
      "metadata": {
        "colab": {
          "base_uri": "https://localhost:8080/",
          "height": 237
        },
        "id": "Ruq810MvsKI8",
        "outputId": "fe521e17-5a75-4503-d2fa-de1f74c68bb6"
      },
      "execution_count": null,
      "outputs": [
        {
          "output_type": "execute_result",
          "data": {
            "text/plain": [
              "       Almond Butter  Peanut Butter  Cashew Butter  Total ($)\n",
              "Mon               12             15              0      240.0\n",
              "Tue                3              3              7      138.0\n",
              "Wed                9             19             18      458.0\n",
              "Thurs              4              6             12      232.0\n",
              "Fri                1              6              7      142.0\n",
              "Price             10              8             12        NaN"
            ],
            "text/html": [
              "\n",
              "  <div id=\"df-c7ca37d5-f3e7-4dde-a44d-3e639927f8a9\" class=\"colab-df-container\">\n",
              "    <div>\n",
              "<style scoped>\n",
              "    .dataframe tbody tr th:only-of-type {\n",
              "        vertical-align: middle;\n",
              "    }\n",
              "\n",
              "    .dataframe tbody tr th {\n",
              "        vertical-align: top;\n",
              "    }\n",
              "\n",
              "    .dataframe thead th {\n",
              "        text-align: right;\n",
              "    }\n",
              "</style>\n",
              "<table border=\"1\" class=\"dataframe\">\n",
              "  <thead>\n",
              "    <tr style=\"text-align: right;\">\n",
              "      <th></th>\n",
              "      <th>Almond Butter</th>\n",
              "      <th>Peanut Butter</th>\n",
              "      <th>Cashew Butter</th>\n",
              "      <th>Total ($)</th>\n",
              "    </tr>\n",
              "  </thead>\n",
              "  <tbody>\n",
              "    <tr>\n",
              "      <th>Mon</th>\n",
              "      <td>12</td>\n",
              "      <td>15</td>\n",
              "      <td>0</td>\n",
              "      <td>240.0</td>\n",
              "    </tr>\n",
              "    <tr>\n",
              "      <th>Tue</th>\n",
              "      <td>3</td>\n",
              "      <td>3</td>\n",
              "      <td>7</td>\n",
              "      <td>138.0</td>\n",
              "    </tr>\n",
              "    <tr>\n",
              "      <th>Wed</th>\n",
              "      <td>9</td>\n",
              "      <td>19</td>\n",
              "      <td>18</td>\n",
              "      <td>458.0</td>\n",
              "    </tr>\n",
              "    <tr>\n",
              "      <th>Thurs</th>\n",
              "      <td>4</td>\n",
              "      <td>6</td>\n",
              "      <td>12</td>\n",
              "      <td>232.0</td>\n",
              "    </tr>\n",
              "    <tr>\n",
              "      <th>Fri</th>\n",
              "      <td>1</td>\n",
              "      <td>6</td>\n",
              "      <td>7</td>\n",
              "      <td>142.0</td>\n",
              "    </tr>\n",
              "    <tr>\n",
              "      <th>Price</th>\n",
              "      <td>10</td>\n",
              "      <td>8</td>\n",
              "      <td>12</td>\n",
              "      <td>NaN</td>\n",
              "    </tr>\n",
              "  </tbody>\n",
              "</table>\n",
              "</div>\n",
              "    <div class=\"colab-df-buttons\">\n",
              "\n",
              "  <div class=\"colab-df-container\">\n",
              "    <button class=\"colab-df-convert\" onclick=\"convertToInteractive('df-c7ca37d5-f3e7-4dde-a44d-3e639927f8a9')\"\n",
              "            title=\"Convert this dataframe to an interactive table.\"\n",
              "            style=\"display:none;\">\n",
              "\n",
              "  <svg xmlns=\"http://www.w3.org/2000/svg\" height=\"24px\" viewBox=\"0 -960 960 960\">\n",
              "    <path d=\"M120-120v-720h720v720H120Zm60-500h600v-160H180v160Zm220 220h160v-160H400v160Zm0 220h160v-160H400v160ZM180-400h160v-160H180v160Zm440 0h160v-160H620v160ZM180-180h160v-160H180v160Zm440 0h160v-160H620v160Z\"/>\n",
              "  </svg>\n",
              "    </button>\n",
              "\n",
              "  <style>\n",
              "    .colab-df-container {\n",
              "      display:flex;\n",
              "      gap: 12px;\n",
              "    }\n",
              "\n",
              "    .colab-df-convert {\n",
              "      background-color: #E8F0FE;\n",
              "      border: none;\n",
              "      border-radius: 50%;\n",
              "      cursor: pointer;\n",
              "      display: none;\n",
              "      fill: #1967D2;\n",
              "      height: 32px;\n",
              "      padding: 0 0 0 0;\n",
              "      width: 32px;\n",
              "    }\n",
              "\n",
              "    .colab-df-convert:hover {\n",
              "      background-color: #E2EBFA;\n",
              "      box-shadow: 0px 1px 2px rgba(60, 64, 67, 0.3), 0px 1px 3px 1px rgba(60, 64, 67, 0.15);\n",
              "      fill: #174EA6;\n",
              "    }\n",
              "\n",
              "    .colab-df-buttons div {\n",
              "      margin-bottom: 4px;\n",
              "    }\n",
              "\n",
              "    [theme=dark] .colab-df-convert {\n",
              "      background-color: #3B4455;\n",
              "      fill: #D2E3FC;\n",
              "    }\n",
              "\n",
              "    [theme=dark] .colab-df-convert:hover {\n",
              "      background-color: #434B5C;\n",
              "      box-shadow: 0px 1px 3px 1px rgba(0, 0, 0, 0.15);\n",
              "      filter: drop-shadow(0px 1px 2px rgba(0, 0, 0, 0.3));\n",
              "      fill: #FFFFFF;\n",
              "    }\n",
              "  </style>\n",
              "\n",
              "    <script>\n",
              "      const buttonEl =\n",
              "        document.querySelector('#df-c7ca37d5-f3e7-4dde-a44d-3e639927f8a9 button.colab-df-convert');\n",
              "      buttonEl.style.display =\n",
              "        google.colab.kernel.accessAllowed ? 'block' : 'none';\n",
              "\n",
              "      async function convertToInteractive(key) {\n",
              "        const element = document.querySelector('#df-c7ca37d5-f3e7-4dde-a44d-3e639927f8a9');\n",
              "        const dataTable =\n",
              "          await google.colab.kernel.invokeFunction('convertToInteractive',\n",
              "                                                    [key], {});\n",
              "        if (!dataTable) return;\n",
              "\n",
              "        const docLinkHtml = 'Like what you see? Visit the ' +\n",
              "          '<a target=\"_blank\" href=https://colab.research.google.com/notebooks/data_table.ipynb>data table notebook</a>'\n",
              "          + ' to learn more about interactive tables.';\n",
              "        element.innerHTML = '';\n",
              "        dataTable['output_type'] = 'display_data';\n",
              "        await google.colab.output.renderOutput(dataTable, element);\n",
              "        const docLink = document.createElement('div');\n",
              "        docLink.innerHTML = docLinkHtml;\n",
              "        element.appendChild(docLink);\n",
              "      }\n",
              "    </script>\n",
              "  </div>\n",
              "\n",
              "\n",
              "<div id=\"df-0c10374a-a77c-418d-87cf-7c9770ae3835\">\n",
              "  <button class=\"colab-df-quickchart\" onclick=\"quickchart('df-0c10374a-a77c-418d-87cf-7c9770ae3835')\"\n",
              "            title=\"Suggest charts\"\n",
              "            style=\"display:none;\">\n",
              "\n",
              "<svg xmlns=\"http://www.w3.org/2000/svg\" height=\"24px\"viewBox=\"0 0 24 24\"\n",
              "     width=\"24px\">\n",
              "    <g>\n",
              "        <path d=\"M19 3H5c-1.1 0-2 .9-2 2v14c0 1.1.9 2 2 2h14c1.1 0 2-.9 2-2V5c0-1.1-.9-2-2-2zM9 17H7v-7h2v7zm4 0h-2V7h2v10zm4 0h-2v-4h2v4z\"/>\n",
              "    </g>\n",
              "</svg>\n",
              "  </button>\n",
              "\n",
              "<style>\n",
              "  .colab-df-quickchart {\n",
              "      --bg-color: #E8F0FE;\n",
              "      --fill-color: #1967D2;\n",
              "      --hover-bg-color: #E2EBFA;\n",
              "      --hover-fill-color: #174EA6;\n",
              "      --disabled-fill-color: #AAA;\n",
              "      --disabled-bg-color: #DDD;\n",
              "  }\n",
              "\n",
              "  [theme=dark] .colab-df-quickchart {\n",
              "      --bg-color: #3B4455;\n",
              "      --fill-color: #D2E3FC;\n",
              "      --hover-bg-color: #434B5C;\n",
              "      --hover-fill-color: #FFFFFF;\n",
              "      --disabled-bg-color: #3B4455;\n",
              "      --disabled-fill-color: #666;\n",
              "  }\n",
              "\n",
              "  .colab-df-quickchart {\n",
              "    background-color: var(--bg-color);\n",
              "    border: none;\n",
              "    border-radius: 50%;\n",
              "    cursor: pointer;\n",
              "    display: none;\n",
              "    fill: var(--fill-color);\n",
              "    height: 32px;\n",
              "    padding: 0;\n",
              "    width: 32px;\n",
              "  }\n",
              "\n",
              "  .colab-df-quickchart:hover {\n",
              "    background-color: var(--hover-bg-color);\n",
              "    box-shadow: 0 1px 2px rgba(60, 64, 67, 0.3), 0 1px 3px 1px rgba(60, 64, 67, 0.15);\n",
              "    fill: var(--button-hover-fill-color);\n",
              "  }\n",
              "\n",
              "  .colab-df-quickchart-complete:disabled,\n",
              "  .colab-df-quickchart-complete:disabled:hover {\n",
              "    background-color: var(--disabled-bg-color);\n",
              "    fill: var(--disabled-fill-color);\n",
              "    box-shadow: none;\n",
              "  }\n",
              "\n",
              "  .colab-df-spinner {\n",
              "    border: 2px solid var(--fill-color);\n",
              "    border-color: transparent;\n",
              "    border-bottom-color: var(--fill-color);\n",
              "    animation:\n",
              "      spin 1s steps(1) infinite;\n",
              "  }\n",
              "\n",
              "  @keyframes spin {\n",
              "    0% {\n",
              "      border-color: transparent;\n",
              "      border-bottom-color: var(--fill-color);\n",
              "      border-left-color: var(--fill-color);\n",
              "    }\n",
              "    20% {\n",
              "      border-color: transparent;\n",
              "      border-left-color: var(--fill-color);\n",
              "      border-top-color: var(--fill-color);\n",
              "    }\n",
              "    30% {\n",
              "      border-color: transparent;\n",
              "      border-left-color: var(--fill-color);\n",
              "      border-top-color: var(--fill-color);\n",
              "      border-right-color: var(--fill-color);\n",
              "    }\n",
              "    40% {\n",
              "      border-color: transparent;\n",
              "      border-right-color: var(--fill-color);\n",
              "      border-top-color: var(--fill-color);\n",
              "    }\n",
              "    60% {\n",
              "      border-color: transparent;\n",
              "      border-right-color: var(--fill-color);\n",
              "    }\n",
              "    80% {\n",
              "      border-color: transparent;\n",
              "      border-right-color: var(--fill-color);\n",
              "      border-bottom-color: var(--fill-color);\n",
              "    }\n",
              "    90% {\n",
              "      border-color: transparent;\n",
              "      border-bottom-color: var(--fill-color);\n",
              "    }\n",
              "  }\n",
              "</style>\n",
              "\n",
              "  <script>\n",
              "    async function quickchart(key) {\n",
              "      const quickchartButtonEl =\n",
              "        document.querySelector('#' + key + ' button');\n",
              "      quickchartButtonEl.disabled = true;  // To prevent multiple clicks.\n",
              "      quickchartButtonEl.classList.add('colab-df-spinner');\n",
              "      try {\n",
              "        const charts = await google.colab.kernel.invokeFunction(\n",
              "            'suggestCharts', [key], {});\n",
              "      } catch (error) {\n",
              "        console.error('Error during call to suggestCharts:', error);\n",
              "      }\n",
              "      quickchartButtonEl.classList.remove('colab-df-spinner');\n",
              "      quickchartButtonEl.classList.add('colab-df-quickchart-complete');\n",
              "    }\n",
              "    (() => {\n",
              "      let quickchartButtonEl =\n",
              "        document.querySelector('#df-0c10374a-a77c-418d-87cf-7c9770ae3835 button');\n",
              "      quickchartButtonEl.style.display =\n",
              "        google.colab.kernel.accessAllowed ? 'block' : 'none';\n",
              "    })();\n",
              "  </script>\n",
              "</div>\n",
              "\n",
              "  <div id=\"id_51734c96-6152-4e53-af80-0e63cff93cae\">\n",
              "    <style>\n",
              "      .colab-df-generate {\n",
              "        background-color: #E8F0FE;\n",
              "        border: none;\n",
              "        border-radius: 50%;\n",
              "        cursor: pointer;\n",
              "        display: none;\n",
              "        fill: #1967D2;\n",
              "        height: 32px;\n",
              "        padding: 0 0 0 0;\n",
              "        width: 32px;\n",
              "      }\n",
              "\n",
              "      .colab-df-generate:hover {\n",
              "        background-color: #E2EBFA;\n",
              "        box-shadow: 0px 1px 2px rgba(60, 64, 67, 0.3), 0px 1px 3px 1px rgba(60, 64, 67, 0.15);\n",
              "        fill: #174EA6;\n",
              "      }\n",
              "\n",
              "      [theme=dark] .colab-df-generate {\n",
              "        background-color: #3B4455;\n",
              "        fill: #D2E3FC;\n",
              "      }\n",
              "\n",
              "      [theme=dark] .colab-df-generate:hover {\n",
              "        background-color: #434B5C;\n",
              "        box-shadow: 0px 1px 3px 1px rgba(0, 0, 0, 0.15);\n",
              "        filter: drop-shadow(0px 1px 2px rgba(0, 0, 0, 0.3));\n",
              "        fill: #FFFFFF;\n",
              "      }\n",
              "    </style>\n",
              "    <button class=\"colab-df-generate\" onclick=\"generateWithVariable('weekly_sales_with_prices')\"\n",
              "            title=\"Generate code using this dataframe.\"\n",
              "            style=\"display:none;\">\n",
              "\n",
              "  <svg xmlns=\"http://www.w3.org/2000/svg\" height=\"24px\"viewBox=\"0 0 24 24\"\n",
              "       width=\"24px\">\n",
              "    <path d=\"M7,19H8.4L18.45,9,17,7.55,7,17.6ZM5,21V16.75L18.45,3.32a2,2,0,0,1,2.83,0l1.4,1.43a1.91,1.91,0,0,1,.58,1.4,1.91,1.91,0,0,1-.58,1.4L9.25,21ZM18.45,9,17,7.55Zm-12,3A5.31,5.31,0,0,0,4.9,8.1,5.31,5.31,0,0,0,1,6.5,5.31,5.31,0,0,0,4.9,4.9,5.31,5.31,0,0,0,6.5,1,5.31,5.31,0,0,0,8.1,4.9,5.31,5.31,0,0,0,12,6.5,5.46,5.46,0,0,0,6.5,12Z\"/>\n",
              "  </svg>\n",
              "    </button>\n",
              "    <script>\n",
              "      (() => {\n",
              "      const buttonEl =\n",
              "        document.querySelector('#id_51734c96-6152-4e53-af80-0e63cff93cae button.colab-df-generate');\n",
              "      buttonEl.style.display =\n",
              "        google.colab.kernel.accessAllowed ? 'block' : 'none';\n",
              "\n",
              "      buttonEl.onclick = () => {\n",
              "        google.colab.notebook.generateWithVariable('weekly_sales_with_prices');\n",
              "      }\n",
              "      })();\n",
              "    </script>\n",
              "  </div>\n",
              "\n",
              "    </div>\n",
              "  </div>\n"
            ],
            "application/vnd.google.colaboratory.intrinsic+json": {
              "type": "dataframe",
              "variable_name": "weekly_sales_with_prices",
              "summary": "{\n  \"name\": \"weekly_sales_with_prices\",\n  \"rows\": 6,\n  \"fields\": [\n    {\n      \"column\": \"Almond Butter\",\n      \"properties\": {\n        \"dtype\": \"number\",\n        \"std\": 4,\n        \"min\": 1,\n        \"max\": 12,\n        \"num_unique_values\": 6,\n        \"samples\": [\n          12,\n          3,\n          10\n        ],\n        \"semantic_type\": \"\",\n        \"description\": \"\"\n      }\n    },\n    {\n      \"column\": \"Peanut Butter\",\n      \"properties\": {\n        \"dtype\": \"number\",\n        \"std\": 6,\n        \"min\": 3,\n        \"max\": 19,\n        \"num_unique_values\": 5,\n        \"samples\": [\n          3,\n          8,\n          19\n        ],\n        \"semantic_type\": \"\",\n        \"description\": \"\"\n      }\n    },\n    {\n      \"column\": \"Cashew Butter\",\n      \"properties\": {\n        \"dtype\": \"number\",\n        \"std\": 6,\n        \"min\": 0,\n        \"max\": 18,\n        \"num_unique_values\": 4,\n        \"samples\": [\n          7,\n          12,\n          0\n        ],\n        \"semantic_type\": \"\",\n        \"description\": \"\"\n      }\n    },\n    {\n      \"column\": \"Total ($)\",\n      \"properties\": {\n        \"dtype\": \"number\",\n        \"std\": 129.97692102831178,\n        \"min\": 138.0,\n        \"max\": 458.0,\n        \"num_unique_values\": 5,\n        \"samples\": [\n          138.0,\n          142.0,\n          458.0\n        ],\n        \"semantic_type\": \"\",\n        \"description\": \"\"\n      }\n    }\n  ]\n}"
            }
          },
          "metadata": {},
          "execution_count": 66
        }
      ]
    },
    {
      "cell_type": "code",
      "source": [
        "np.not_equal(a1,a2)"
      ],
      "metadata": {
        "colab": {
          "base_uri": "https://localhost:8080/"
        },
        "id": "-ucAURFK_G_t",
        "outputId": "2d4a6eed-66a4-44eb-ed0b-dc03c8c95c59"
      },
      "execution_count": null,
      "outputs": [
        {
          "output_type": "execute_result",
          "data": {
            "text/plain": [
              "array([[False, False,  True],\n",
              "       [ True,  True,  True]])"
            ]
          },
          "metadata": {},
          "execution_count": 67
        }
      ]
    },
    {
      "cell_type": "code",
      "source": [
        "mat3"
      ],
      "metadata": {
        "colab": {
          "base_uri": "https://localhost:8080/"
        },
        "id": "cU1tE0gvfd4j",
        "outputId": "90dcd3ff-2ae9-4511-dbf9-fe1c5bf56eb7"
      },
      "execution_count": null,
      "outputs": [
        {
          "output_type": "execute_result",
          "data": {
            "text/plain": [
              "array([[ 15,  20,  51,  55,  72],\n",
              "       [ 33,  44,  76, 130, 164],\n",
              "       [ 27,  34,  39,  67,  85],\n",
              "       [ 37,  47,  69, 115, 146],\n",
              "       [ 56,  64,  77, 111, 145]])"
            ]
          },
          "metadata": {},
          "execution_count": 68
        }
      ]
    },
    {
      "cell_type": "code",
      "source": [
        "a1"
      ],
      "metadata": {
        "colab": {
          "base_uri": "https://localhost:8080/"
        },
        "id": "5rzE4cDTfjpu",
        "outputId": "33a29beb-269d-494b-e5c7-8eb0bcfb253f"
      },
      "execution_count": null,
      "outputs": [
        {
          "output_type": "execute_result",
          "data": {
            "text/plain": [
              "array([1, 2, 3])"
            ]
          },
          "metadata": {},
          "execution_count": 71
        }
      ]
    },
    {
      "cell_type": "code",
      "source": [
        "np.argsort(a1)"
      ],
      "metadata": {
        "colab": {
          "base_uri": "https://localhost:8080/"
        },
        "id": "Uw5KPVP_f3QN",
        "outputId": "d6445875-b505-492f-b605-e2cf717f24a5"
      },
      "execution_count": null,
      "outputs": [
        {
          "output_type": "execute_result",
          "data": {
            "text/plain": [
              "array([0, 1, 2])"
            ]
          },
          "metadata": {},
          "execution_count": 72
        }
      ]
    },
    {
      "cell_type": "code",
      "source": [
        "a1.argsort()"
      ],
      "metadata": {
        "colab": {
          "base_uri": "https://localhost:8080/"
        },
        "id": "5rHZVXRPf-gs",
        "outputId": "a0dc5e92-868b-4cf0-fa77-9b96fb20df8f"
      },
      "execution_count": null,
      "outputs": [
        {
          "output_type": "execute_result",
          "data": {
            "text/plain": [
              "array([0, 1, 2])"
            ]
          },
          "metadata": {},
          "execution_count": 73
        }
      ]
    },
    {
      "cell_type": "code",
      "source": [
        "a1"
      ],
      "metadata": {
        "colab": {
          "base_uri": "https://localhost:8080/"
        },
        "id": "iTYBUKxsgBRF",
        "outputId": "91419a70-e424-4e27-ef3d-68d3d1dbd944"
      },
      "execution_count": null,
      "outputs": [
        {
          "output_type": "execute_result",
          "data": {
            "text/plain": [
              "array([1, 2, 3])"
            ]
          },
          "metadata": {},
          "execution_count": 74
        }
      ]
    },
    {
      "cell_type": "code",
      "source": [
        "mat1"
      ],
      "metadata": {
        "colab": {
          "base_uri": "https://localhost:8080/"
        },
        "id": "WiliycPSgfL4",
        "outputId": "39b5e9fb-9a19-4cd9-d15f-940d511df0bf"
      },
      "execution_count": null,
      "outputs": [
        {
          "output_type": "execute_result",
          "data": {
            "text/plain": [
              "array([[5, 0, 3],\n",
              "       [3, 7, 9],\n",
              "       [3, 5, 2],\n",
              "       [4, 7, 6],\n",
              "       [8, 8, 1]])"
            ]
          },
          "metadata": {},
          "execution_count": 75
        }
      ]
    },
    {
      "cell_type": "code",
      "source": [
        "np.argmin(mat1, axis=0)"
      ],
      "metadata": {
        "colab": {
          "base_uri": "https://localhost:8080/"
        },
        "id": "bgMHpiQwghD9",
        "outputId": "cf1f73af-514a-4fe4-c2b0-c878f019633a"
      },
      "execution_count": null,
      "outputs": [
        {
          "output_type": "execute_result",
          "data": {
            "text/plain": [
              "array([1, 0, 4])"
            ]
          },
          "metadata": {},
          "execution_count": 76
        }
      ]
    },
    {
      "cell_type": "code",
      "source": [
        "np.argmax(mat1, axis=1)"
      ],
      "metadata": {
        "colab": {
          "base_uri": "https://localhost:8080/"
        },
        "id": "2bX0m8IEgo42",
        "outputId": "a75dc583-404b-4d00-e56f-5a520ed038d8"
      },
      "execution_count": null,
      "outputs": [
        {
          "output_type": "execute_result",
          "data": {
            "text/plain": [
              "array([0, 2, 1, 1, 0])"
            ]
          },
          "metadata": {},
          "execution_count": 77
        }
      ]
    },
    {
      "cell_type": "code",
      "source": [
        "from matplotlib.image import imread\n",
        "\n",
        "panda = imread('/content/panda.jpg')"
      ],
      "metadata": {
        "id": "N8ij8T6vgvza"
      },
      "execution_count": null,
      "outputs": []
    },
    {
      "cell_type": "code",
      "source": [
        "panda"
      ],
      "metadata": {
        "colab": {
          "base_uri": "https://localhost:8080/",
          "height": 885
        },
        "id": "l3-7Tr4jiGOI",
        "outputId": "7fcb87d0-9edf-4cb4-c665-d1a56ea9d37a"
      },
      "execution_count": null,
      "outputs": [
        {
          "output_type": "execute_result",
          "data": {
            "text/plain": [
              "array([[[1, 1, 3],\n",
              "        [0, 0, 0],\n",
              "        [0, 1, 0],\n",
              "        ...,\n",
              "        [0, 0, 0],\n",
              "        [0, 0, 0],\n",
              "        [0, 0, 0]],\n",
              "\n",
              "       [[3, 3, 5],\n",
              "        [0, 0, 0],\n",
              "        [0, 1, 0],\n",
              "        ...,\n",
              "        [0, 0, 0],\n",
              "        [0, 0, 0],\n",
              "        [0, 0, 0]],\n",
              "\n",
              "       [[2, 2, 2],\n",
              "        [1, 2, 0],\n",
              "        [1, 2, 0],\n",
              "        ...,\n",
              "        [0, 0, 0],\n",
              "        [0, 0, 0],\n",
              "        [0, 0, 0]],\n",
              "\n",
              "       ...,\n",
              "\n",
              "       [[0, 0, 0],\n",
              "        [0, 0, 0],\n",
              "        [0, 0, 0],\n",
              "        ...,\n",
              "        [0, 0, 0],\n",
              "        [0, 0, 0],\n",
              "        [0, 0, 0]],\n",
              "\n",
              "       [[0, 0, 0],\n",
              "        [0, 0, 0],\n",
              "        [0, 0, 0],\n",
              "        ...,\n",
              "        [0, 0, 0],\n",
              "        [0, 0, 0],\n",
              "        [0, 0, 0]],\n",
              "\n",
              "       [[0, 0, 0],\n",
              "        [0, 0, 0],\n",
              "        [0, 0, 0],\n",
              "        ...,\n",
              "        [0, 0, 0],\n",
              "        [0, 0, 0],\n",
              "        [0, 0, 0]]], dtype=uint8)"
            ],
            "text/html": [
              "<style>\n",
              "      .ndarray_repr .ndarray_raw_data {\n",
              "        display: none;\n",
              "      }\n",
              "      .ndarray_repr.show_array .ndarray_raw_data {\n",
              "        display: block;\n",
              "      }\n",
              "      .ndarray_repr.show_array .ndarray_image_preview {\n",
              "        display: none;\n",
              "      }\n",
              "      </style>\n",
              "      <div id=\"id-ae4cba67-3773-45e0-8db6-04f30742b7ea\" class=\"ndarray_repr\"><pre>ndarray (360, 534, 3) <button style=\"padding: 0 2px;\">show data</button></pre><img src=\"data:image/png;base64,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\" class=\"ndarray_image_preview\" /><pre class=\"ndarray_raw_data\">array([[[1, 1, 3],\n",
              "        [0, 0, 0],\n",
              "        [0, 1, 0],\n",
              "        ...,\n",
              "        [0, 0, 0],\n",
              "        [0, 0, 0],\n",
              "        [0, 0, 0]],\n",
              "\n",
              "       [[3, 3, 5],\n",
              "        [0, 0, 0],\n",
              "        [0, 1, 0],\n",
              "        ...,\n",
              "        [0, 0, 0],\n",
              "        [0, 0, 0],\n",
              "        [0, 0, 0]],\n",
              "\n",
              "       [[2, 2, 2],\n",
              "        [1, 2, 0],\n",
              "        [1, 2, 0],\n",
              "        ...,\n",
              "        [0, 0, 0],\n",
              "        [0, 0, 0],\n",
              "        [0, 0, 0]],\n",
              "\n",
              "       ...,\n",
              "\n",
              "       [[0, 0, 0],\n",
              "        [0, 0, 0],\n",
              "        [0, 0, 0],\n",
              "        ...,\n",
              "        [0, 0, 0],\n",
              "        [0, 0, 0],\n",
              "        [0, 0, 0]],\n",
              "\n",
              "       [[0, 0, 0],\n",
              "        [0, 0, 0],\n",
              "        [0, 0, 0],\n",
              "        ...,\n",
              "        [0, 0, 0],\n",
              "        [0, 0, 0],\n",
              "        [0, 0, 0]],\n",
              "\n",
              "       [[0, 0, 0],\n",
              "        [0, 0, 0],\n",
              "        [0, 0, 0],\n",
              "        ...,\n",
              "        [0, 0, 0],\n",
              "        [0, 0, 0],\n",
              "        [0, 0, 0]]], dtype=uint8)</pre></div><script>\n",
              "      (() => {\n",
              "      const titles = ['show data', 'hide data'];\n",
              "      let index = 0\n",
              "      document.querySelector('#id-ae4cba67-3773-45e0-8db6-04f30742b7ea button').onclick = (e) => {\n",
              "        document.querySelector('#id-ae4cba67-3773-45e0-8db6-04f30742b7ea').classList.toggle('show_array');\n",
              "        index = (++index) % 2;\n",
              "        document.querySelector('#id-ae4cba67-3773-45e0-8db6-04f30742b7ea button').textContent = titles[index];\n",
              "        e.preventDefault();\n",
              "        e.stopPropagation();\n",
              "      }\n",
              "      })();\n",
              "    </script>"
            ]
          },
          "metadata": {},
          "execution_count": 79
        }
      ]
    },
    {
      "cell_type": "code",
      "source": [
        "panda.size, panda.shape, panda.ndim"
      ],
      "metadata": {
        "colab": {
          "base_uri": "https://localhost:8080/"
        },
        "id": "sD9mCT3bie1r",
        "outputId": "2d7cc104-5896-47c9-d9e6-3dea6f02879b"
      },
      "execution_count": null,
      "outputs": [
        {
          "output_type": "execute_result",
          "data": {
            "text/plain": [
              "(576720, (360, 534, 3), 3)"
            ]
          },
          "metadata": {},
          "execution_count": 81
        }
      ]
    },
    {
      "cell_type": "code",
      "source": [],
      "metadata": {
        "id": "Uwkj_SNBipA1"
      },
      "execution_count": null,
      "outputs": []
    }
  ]
}