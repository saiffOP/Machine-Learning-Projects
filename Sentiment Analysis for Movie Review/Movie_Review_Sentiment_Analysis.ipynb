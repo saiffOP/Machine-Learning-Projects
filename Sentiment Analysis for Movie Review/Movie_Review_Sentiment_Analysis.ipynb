{
  "nbformat": 4,
  "nbformat_minor": 0,
  "metadata": {
    "colab": {
      "provenance": []
    },
    "kernelspec": {
      "name": "python3",
      "display_name": "Python 3"
    },
    "language_info": {
      "name": "python"
    }
  },
  "cells": [
    {
      "cell_type": "markdown",
      "source": [
        "# ***Data Preprocessing***"
      ],
      "metadata": {
        "id": "AS7Z2Qc-apdl"
      }
    },
    {
      "cell_type": "code",
      "execution_count": 1,
      "metadata": {
        "id": "V82nIY4aTQJG"
      },
      "outputs": [],
      "source": [
        "import numpy as np\n",
        "import pandas as pd"
      ]
    },
    {
      "cell_type": "code",
      "source": [
        "dataset = pd.read_csv('/content/drive/MyDrive/Data Science/Sentiment Analysis for Movie Review/moviereviews.tsv', sep='\\t')"
      ],
      "metadata": {
        "id": "B4V3oWSkV1WZ"
      },
      "execution_count": 2,
      "outputs": []
    },
    {
      "cell_type": "code",
      "source": [
        "dataset.head()"
      ],
      "metadata": {
        "colab": {
          "base_uri": "https://localhost:8080/",
          "height": 206
        },
        "id": "TarxlF5VXHEl",
        "outputId": "ee8c8d11-d0f5-4577-817a-40ec616c1404"
      },
      "execution_count": 3,
      "outputs": [
        {
          "output_type": "execute_result",
          "data": {
            "text/plain": [
              "  label                                             review\n",
              "0   neg  how do films like mouse hunt get into theatres...\n",
              "1   neg  some talented actresses are blessed with a dem...\n",
              "2   pos  this has been an extraordinary year for austra...\n",
              "3   pos  according to hollywood movies made in last few...\n",
              "4   neg  my first press screening of 1998 and already i..."
            ],
            "text/html": [
              "\n",
              "  <div id=\"df-4bd5d7a1-9eed-44bc-a1bd-0e801fe53369\" class=\"colab-df-container\">\n",
              "    <div>\n",
              "<style scoped>\n",
              "    .dataframe tbody tr th:only-of-type {\n",
              "        vertical-align: middle;\n",
              "    }\n",
              "\n",
              "    .dataframe tbody tr th {\n",
              "        vertical-align: top;\n",
              "    }\n",
              "\n",
              "    .dataframe thead th {\n",
              "        text-align: right;\n",
              "    }\n",
              "</style>\n",
              "<table border=\"1\" class=\"dataframe\">\n",
              "  <thead>\n",
              "    <tr style=\"text-align: right;\">\n",
              "      <th></th>\n",
              "      <th>label</th>\n",
              "      <th>review</th>\n",
              "    </tr>\n",
              "  </thead>\n",
              "  <tbody>\n",
              "    <tr>\n",
              "      <th>0</th>\n",
              "      <td>neg</td>\n",
              "      <td>how do films like mouse hunt get into theatres...</td>\n",
              "    </tr>\n",
              "    <tr>\n",
              "      <th>1</th>\n",
              "      <td>neg</td>\n",
              "      <td>some talented actresses are blessed with a dem...</td>\n",
              "    </tr>\n",
              "    <tr>\n",
              "      <th>2</th>\n",
              "      <td>pos</td>\n",
              "      <td>this has been an extraordinary year for austra...</td>\n",
              "    </tr>\n",
              "    <tr>\n",
              "      <th>3</th>\n",
              "      <td>pos</td>\n",
              "      <td>according to hollywood movies made in last few...</td>\n",
              "    </tr>\n",
              "    <tr>\n",
              "      <th>4</th>\n",
              "      <td>neg</td>\n",
              "      <td>my first press screening of 1998 and already i...</td>\n",
              "    </tr>\n",
              "  </tbody>\n",
              "</table>\n",
              "</div>\n",
              "    <div class=\"colab-df-buttons\">\n",
              "\n",
              "  <div class=\"colab-df-container\">\n",
              "    <button class=\"colab-df-convert\" onclick=\"convertToInteractive('df-4bd5d7a1-9eed-44bc-a1bd-0e801fe53369')\"\n",
              "            title=\"Convert this dataframe to an interactive table.\"\n",
              "            style=\"display:none;\">\n",
              "\n",
              "  <svg xmlns=\"http://www.w3.org/2000/svg\" height=\"24px\" viewBox=\"0 -960 960 960\">\n",
              "    <path d=\"M120-120v-720h720v720H120Zm60-500h600v-160H180v160Zm220 220h160v-160H400v160Zm0 220h160v-160H400v160ZM180-400h160v-160H180v160Zm440 0h160v-160H620v160ZM180-180h160v-160H180v160Zm440 0h160v-160H620v160Z\"/>\n",
              "  </svg>\n",
              "    </button>\n",
              "\n",
              "  <style>\n",
              "    .colab-df-container {\n",
              "      display:flex;\n",
              "      gap: 12px;\n",
              "    }\n",
              "\n",
              "    .colab-df-convert {\n",
              "      background-color: #E8F0FE;\n",
              "      border: none;\n",
              "      border-radius: 50%;\n",
              "      cursor: pointer;\n",
              "      display: none;\n",
              "      fill: #1967D2;\n",
              "      height: 32px;\n",
              "      padding: 0 0 0 0;\n",
              "      width: 32px;\n",
              "    }\n",
              "\n",
              "    .colab-df-convert:hover {\n",
              "      background-color: #E2EBFA;\n",
              "      box-shadow: 0px 1px 2px rgba(60, 64, 67, 0.3), 0px 1px 3px 1px rgba(60, 64, 67, 0.15);\n",
              "      fill: #174EA6;\n",
              "    }\n",
              "\n",
              "    .colab-df-buttons div {\n",
              "      margin-bottom: 4px;\n",
              "    }\n",
              "\n",
              "    [theme=dark] .colab-df-convert {\n",
              "      background-color: #3B4455;\n",
              "      fill: #D2E3FC;\n",
              "    }\n",
              "\n",
              "    [theme=dark] .colab-df-convert:hover {\n",
              "      background-color: #434B5C;\n",
              "      box-shadow: 0px 1px 3px 1px rgba(0, 0, 0, 0.15);\n",
              "      filter: drop-shadow(0px 1px 2px rgba(0, 0, 0, 0.3));\n",
              "      fill: #FFFFFF;\n",
              "    }\n",
              "  </style>\n",
              "\n",
              "    <script>\n",
              "      const buttonEl =\n",
              "        document.querySelector('#df-4bd5d7a1-9eed-44bc-a1bd-0e801fe53369 button.colab-df-convert');\n",
              "      buttonEl.style.display =\n",
              "        google.colab.kernel.accessAllowed ? 'block' : 'none';\n",
              "\n",
              "      async function convertToInteractive(key) {\n",
              "        const element = document.querySelector('#df-4bd5d7a1-9eed-44bc-a1bd-0e801fe53369');\n",
              "        const dataTable =\n",
              "          await google.colab.kernel.invokeFunction('convertToInteractive',\n",
              "                                                    [key], {});\n",
              "        if (!dataTable) return;\n",
              "\n",
              "        const docLinkHtml = 'Like what you see? Visit the ' +\n",
              "          '<a target=\"_blank\" href=https://colab.research.google.com/notebooks/data_table.ipynb>data table notebook</a>'\n",
              "          + ' to learn more about interactive tables.';\n",
              "        element.innerHTML = '';\n",
              "        dataTable['output_type'] = 'display_data';\n",
              "        await google.colab.output.renderOutput(dataTable, element);\n",
              "        const docLink = document.createElement('div');\n",
              "        docLink.innerHTML = docLinkHtml;\n",
              "        element.appendChild(docLink);\n",
              "      }\n",
              "    </script>\n",
              "  </div>\n",
              "\n",
              "\n",
              "<div id=\"df-d8f88ab9-535e-449f-a3c0-f7d46c73e236\">\n",
              "  <button class=\"colab-df-quickchart\" onclick=\"quickchart('df-d8f88ab9-535e-449f-a3c0-f7d46c73e236')\"\n",
              "            title=\"Suggest charts\"\n",
              "            style=\"display:none;\">\n",
              "\n",
              "<svg xmlns=\"http://www.w3.org/2000/svg\" height=\"24px\"viewBox=\"0 0 24 24\"\n",
              "     width=\"24px\">\n",
              "    <g>\n",
              "        <path d=\"M19 3H5c-1.1 0-2 .9-2 2v14c0 1.1.9 2 2 2h14c1.1 0 2-.9 2-2V5c0-1.1-.9-2-2-2zM9 17H7v-7h2v7zm4 0h-2V7h2v10zm4 0h-2v-4h2v4z\"/>\n",
              "    </g>\n",
              "</svg>\n",
              "  </button>\n",
              "\n",
              "<style>\n",
              "  .colab-df-quickchart {\n",
              "      --bg-color: #E8F0FE;\n",
              "      --fill-color: #1967D2;\n",
              "      --hover-bg-color: #E2EBFA;\n",
              "      --hover-fill-color: #174EA6;\n",
              "      --disabled-fill-color: #AAA;\n",
              "      --disabled-bg-color: #DDD;\n",
              "  }\n",
              "\n",
              "  [theme=dark] .colab-df-quickchart {\n",
              "      --bg-color: #3B4455;\n",
              "      --fill-color: #D2E3FC;\n",
              "      --hover-bg-color: #434B5C;\n",
              "      --hover-fill-color: #FFFFFF;\n",
              "      --disabled-bg-color: #3B4455;\n",
              "      --disabled-fill-color: #666;\n",
              "  }\n",
              "\n",
              "  .colab-df-quickchart {\n",
              "    background-color: var(--bg-color);\n",
              "    border: none;\n",
              "    border-radius: 50%;\n",
              "    cursor: pointer;\n",
              "    display: none;\n",
              "    fill: var(--fill-color);\n",
              "    height: 32px;\n",
              "    padding: 0;\n",
              "    width: 32px;\n",
              "  }\n",
              "\n",
              "  .colab-df-quickchart:hover {\n",
              "    background-color: var(--hover-bg-color);\n",
              "    box-shadow: 0 1px 2px rgba(60, 64, 67, 0.3), 0 1px 3px 1px rgba(60, 64, 67, 0.15);\n",
              "    fill: var(--button-hover-fill-color);\n",
              "  }\n",
              "\n",
              "  .colab-df-quickchart-complete:disabled,\n",
              "  .colab-df-quickchart-complete:disabled:hover {\n",
              "    background-color: var(--disabled-bg-color);\n",
              "    fill: var(--disabled-fill-color);\n",
              "    box-shadow: none;\n",
              "  }\n",
              "\n",
              "  .colab-df-spinner {\n",
              "    border: 2px solid var(--fill-color);\n",
              "    border-color: transparent;\n",
              "    border-bottom-color: var(--fill-color);\n",
              "    animation:\n",
              "      spin 1s steps(1) infinite;\n",
              "  }\n",
              "\n",
              "  @keyframes spin {\n",
              "    0% {\n",
              "      border-color: transparent;\n",
              "      border-bottom-color: var(--fill-color);\n",
              "      border-left-color: var(--fill-color);\n",
              "    }\n",
              "    20% {\n",
              "      border-color: transparent;\n",
              "      border-left-color: var(--fill-color);\n",
              "      border-top-color: var(--fill-color);\n",
              "    }\n",
              "    30% {\n",
              "      border-color: transparent;\n",
              "      border-left-color: var(--fill-color);\n",
              "      border-top-color: var(--fill-color);\n",
              "      border-right-color: var(--fill-color);\n",
              "    }\n",
              "    40% {\n",
              "      border-color: transparent;\n",
              "      border-right-color: var(--fill-color);\n",
              "      border-top-color: var(--fill-color);\n",
              "    }\n",
              "    60% {\n",
              "      border-color: transparent;\n",
              "      border-right-color: var(--fill-color);\n",
              "    }\n",
              "    80% {\n",
              "      border-color: transparent;\n",
              "      border-right-color: var(--fill-color);\n",
              "      border-bottom-color: var(--fill-color);\n",
              "    }\n",
              "    90% {\n",
              "      border-color: transparent;\n",
              "      border-bottom-color: var(--fill-color);\n",
              "    }\n",
              "  }\n",
              "</style>\n",
              "\n",
              "  <script>\n",
              "    async function quickchart(key) {\n",
              "      const quickchartButtonEl =\n",
              "        document.querySelector('#' + key + ' button');\n",
              "      quickchartButtonEl.disabled = true;  // To prevent multiple clicks.\n",
              "      quickchartButtonEl.classList.add('colab-df-spinner');\n",
              "      try {\n",
              "        const charts = await google.colab.kernel.invokeFunction(\n",
              "            'suggestCharts', [key], {});\n",
              "      } catch (error) {\n",
              "        console.error('Error during call to suggestCharts:', error);\n",
              "      }\n",
              "      quickchartButtonEl.classList.remove('colab-df-spinner');\n",
              "      quickchartButtonEl.classList.add('colab-df-quickchart-complete');\n",
              "    }\n",
              "    (() => {\n",
              "      let quickchartButtonEl =\n",
              "        document.querySelector('#df-d8f88ab9-535e-449f-a3c0-f7d46c73e236 button');\n",
              "      quickchartButtonEl.style.display =\n",
              "        google.colab.kernel.accessAllowed ? 'block' : 'none';\n",
              "    })();\n",
              "  </script>\n",
              "</div>\n",
              "\n",
              "    </div>\n",
              "  </div>\n"
            ],
            "application/vnd.google.colaboratory.intrinsic+json": {
              "type": "dataframe",
              "variable_name": "dataset",
              "summary": "{\n  \"name\": \"dataset\",\n  \"rows\": 2000,\n  \"fields\": [\n    {\n      \"column\": \"label\",\n      \"properties\": {\n        \"dtype\": \"category\",\n        \"num_unique_values\": 2,\n        \"samples\": [\n          \"pos\",\n          \"neg\"\n        ],\n        \"semantic_type\": \"\",\n        \"description\": \"\"\n      }\n    },\n    {\n      \"column\": \"review\",\n      \"properties\": {\n        \"dtype\": \"string\",\n        \"num_unique_values\": 1939,\n        \"samples\": [\n          \"mulholland drive did very well at the cannes film festival . \\r\\nas you can see from the rating it did not do very well from me at the toronto international film festival . \\r\\nit may not be clear to the viewer why i am so negative on this film for most of the running time . \\r\\nin fact it is an interesting mystery story told on the backdrop of the hollywood film industry . \\r\\ntoward the end of the film i think everything that has been built falls apart . \\r\\nthe film was to be a pilot for a tv series but writer and director david lynch did not sell his tv pilot and i think he decided that he wanted to do something else with it . \\r\\nsomething else is what he did . \\r\\nthe film opens with a woman ( played by laura harring ) about to be killed in a car when a car crash saves her life . \\r\\nshe crawls away from the accident with a concussion and finds herself a bungalow with an unlocked door to sleep . \\r\\nmeanwhile young vivacious betty ( naomi watts ) arrives in hollywood from canada . \\r\\nshe wants to build a career as an actress . \\r\\nbetty is a little surprised to find a woman sleeping in the borrowed bungalow . \\r\\nshe does not know who the woman is . \\r\\nshe is even more surprised when the woman awakes and does not herself know who she is . \\r\\nthey fix on a name rita for her , but are not sure if this right or not . \\r\\nmeanwhile local director adam kesher ( justin theroux ) has problems of his own . \\r\\nhe is trying to cast one actress for his new film and is getting pressure from the producers and from crime figures to cast someone else , cammie rhodes ( melissa george ) . \\r\\nthese two threads are joined by a third one in which there is a strange and comic murder that goes terribly wrong . \\r\\nthere is also a strange character called the cowboy ( monty montgomery ) adding to the confusion . \\r\\nin what was probably intended for the television pilot the film opens with a great vibrancy showing dancing 60s style under the credits . \\r\\na lot of mulholland drive starts out fun . \\r\\nlynch wants you to know he could make an enjoyable stylish film . \\r\\nhe just chooses not to . \\r\\nas with any david lynch film there is strange material added for little reason . \\r\\nthere are no earthworms , but there are some decidedly strange david lynch touches . \\r\\nthe film is a little long for the subject matter . \\r\\ntoward the end it gets into some heavier violence and sex scenes , clearly not intended for the tv pilot . \\r\\nunfortunately some of the most important comments to make about this film would be spoilers . \\r\\ni will not mention them in the main body of the review but i give mulholland drive a 4 on the 0 to 10 scale and a low 0 on the -4 to +4 scale . \\r\\nmulholland drive spoiler warning . \\r\\ni have rated this film fairly low . \\r\\nyou should read this only after seeing the film or deciding that you will not see the film . \\r\\ndavid lynch is in large part a dark satirist . \\r\\nmost of his work is done in familiar genres but in some way shows their underside . \\r\\nin mulholland drive i think he is having a laugh at the expense of the crime film genre . \\r\\nwhat he does with this film is ( are you sure you want to read this ? ) \\r\\nplaying off the audience expectations that there will be a simple explanation for what is going on . \\r\\nthe first 80% of the film he tells a simple multi-thread crime story with clues sprinkled throughout . \\r\\nthen suddenly at the end he turns the story on its ear with a large number of clues that appear that they should add up to something . \\r\\nthe audience expectation is that they will add up . \\r\\nbut he has given clues that are self-contradictory . \\r\\nlynch wants the audience to argue about what they have seen afterward and come up with theories . \\r\\nin fact , the pointers are noticeably contradictory and until i hear a better explanation , i think lynch is merely playing a joke . \\r\\nthere is a visual curiosity that was popular in the sixties . \\r\\nmad magazine called it a poiuyt . \\r\\nother sources called it a tri- pronged u-bar . \\r\\nlook at small portions of it and makes sense . \\r\\nlook at the whole figure and it does not . \\r\\nthis film is , in my estimation , the cinematic equivalent of a tri-pronged u-bar . \\r\\n\",\n          \"unzipped is a cinematic portrait of isaac mizrahi , an artist whose palette is fabric . \\r\\nostensibly , the film is a documentary , but use of that term requires stretching its meaning . \\r\\nmany scenes appear staged , and a great deal of cutting-and-pasting has been done in the editing room . \\r\\nthe cinema verite effect is a conceit -- genuine spontaneity is at a premium , and everyone is aware of and playing to the camera ( especially would-be actresses like cindy crawford ) . \\r\\ndirector douglas keeve ( who was mizrahi's lover at the time ) freely admits that he \\\" couldn't care less about the truth \\\" but was more interested in capturing \\\" the spirit and love in isaac and in fashion . \\\" \\r\\ndespite violating nearly every rule of \\\" legitimate \\\" documentary film making , however , unzipped is a remarkably enjoyable piece of entertainment . \\r\\nwhile it sheds only a little light on the behind-the-scenes world of the fashion industry , it presents a fascinating , if incomplete , picture of designer mizrahi . \\r\\nthis man is the perfect subject for this kind of study -- he's funny , energetic , and eminently quotable . \\r\\nhe has unusual views on just about everything , from fashion ( \\\" it's about women not wanting to look like cows \\\" ) to mary tyler moore ( \\\" between her and jackie kennedy , they shaped this country \\\" ) to style ( \\\" it's almost impossible to have style nowadays without the right dogs \\\" ) . \\r\\nunzipped also gives a glimpse into the creative process by which mizrahi turns an idea into a dress . \\r\\nit's almost certainly different that anyone would imagine . \\r\\nthe designer draws on a variety of sources for his look , including nanook of the north and old bette davis movies , then enlists the aid of a ouija board to help form the collection . \\r\\nin particular , unzipped traces mizrahi's development of his fall 1994 line from its inception in the spring to the final fashion show , which highlights a number of prominent models , including cindy crawford , naomi campbell , kate bush , and linda evangelista . \\r\\non the technical side , a number of interesting choices were made in filming unzipped . \\r\\na variety of film stocks were used : super 8 , 16 mm black-and-white , and 35 mm color . \\r\\nthere is a purpose to this beyond simple artiness -- the stock often serves as an emotional key to the movie , and , during the climactic fashion show , color is used to show the audience's perspective , while black-and-white is for the behind-the- scenes sequences . \\r\\nnevertheless , some viewers will be put off by this treatment . \\r\\nwhile unzipped isn't an expose on the fashion industry per se , keeve has enough clips of petulant models to make the viewer realize how tame robert altman was with ready to wear . \\r\\noverall , however , this movie is far more about mizrahi than anything else , and only when viewed from that perspective does unzipped succeed . \\r\\nwhen the designer declares that \\\" everything is frustrating except designing clothes -- that's beautiful and liberating , \\\" it fits perfectly with the image of him that unzipped has constructed . \\r\\n\"\n        ],\n        \"semantic_type\": \"\",\n        \"description\": \"\"\n      }\n    }\n  ]\n}"
            }
          },
          "metadata": {},
          "execution_count": 3
        }
      ]
    },
    {
      "cell_type": "code",
      "source": [
        "len(dataset)"
      ],
      "metadata": {
        "colab": {
          "base_uri": "https://localhost:8080/"
        },
        "id": "8g2PAhLrXIWF",
        "outputId": "84b235b1-c53d-4562-9199-497bc61d239e"
      },
      "execution_count": 4,
      "outputs": [
        {
          "output_type": "execute_result",
          "data": {
            "text/plain": [
              "2000"
            ]
          },
          "metadata": {},
          "execution_count": 4
        }
      ]
    },
    {
      "cell_type": "code",
      "source": [
        "dataset.isna().sum()"
      ],
      "metadata": {
        "colab": {
          "base_uri": "https://localhost:8080/",
          "height": 147
        },
        "id": "NMv5q-y1XK83",
        "outputId": "d24b27b3-e860-43b8-ddea-7eb7db7c29c8"
      },
      "execution_count": 5,
      "outputs": [
        {
          "output_type": "execute_result",
          "data": {
            "text/plain": [
              "label      0\n",
              "review    35\n",
              "dtype: int64"
            ],
            "text/html": [
              "<div>\n",
              "<style scoped>\n",
              "    .dataframe tbody tr th:only-of-type {\n",
              "        vertical-align: middle;\n",
              "    }\n",
              "\n",
              "    .dataframe tbody tr th {\n",
              "        vertical-align: top;\n",
              "    }\n",
              "\n",
              "    .dataframe thead th {\n",
              "        text-align: right;\n",
              "    }\n",
              "</style>\n",
              "<table border=\"1\" class=\"dataframe\">\n",
              "  <thead>\n",
              "    <tr style=\"text-align: right;\">\n",
              "      <th></th>\n",
              "      <th>0</th>\n",
              "    </tr>\n",
              "  </thead>\n",
              "  <tbody>\n",
              "    <tr>\n",
              "      <th>label</th>\n",
              "      <td>0</td>\n",
              "    </tr>\n",
              "    <tr>\n",
              "      <th>review</th>\n",
              "      <td>35</td>\n",
              "    </tr>\n",
              "  </tbody>\n",
              "</table>\n",
              "</div><br><label><b>dtype:</b> int64</label>"
            ]
          },
          "metadata": {},
          "execution_count": 5
        }
      ]
    },
    {
      "cell_type": "code",
      "source": [
        "dataset.dropna(inplace = True)"
      ],
      "metadata": {
        "id": "g35GLNU9XOBr"
      },
      "execution_count": 6,
      "outputs": []
    },
    {
      "cell_type": "code",
      "source": [
        "dataset.isna().sum()"
      ],
      "metadata": {
        "colab": {
          "base_uri": "https://localhost:8080/",
          "height": 147
        },
        "id": "HE7MGxCYX_xF",
        "outputId": "44c4240b-f41e-4efc-b5e8-e5b0a243c620"
      },
      "execution_count": 7,
      "outputs": [
        {
          "output_type": "execute_result",
          "data": {
            "text/plain": [
              "label     0\n",
              "review    0\n",
              "dtype: int64"
            ],
            "text/html": [
              "<div>\n",
              "<style scoped>\n",
              "    .dataframe tbody tr th:only-of-type {\n",
              "        vertical-align: middle;\n",
              "    }\n",
              "\n",
              "    .dataframe tbody tr th {\n",
              "        vertical-align: top;\n",
              "    }\n",
              "\n",
              "    .dataframe thead th {\n",
              "        text-align: right;\n",
              "    }\n",
              "</style>\n",
              "<table border=\"1\" class=\"dataframe\">\n",
              "  <thead>\n",
              "    <tr style=\"text-align: right;\">\n",
              "      <th></th>\n",
              "      <th>0</th>\n",
              "    </tr>\n",
              "  </thead>\n",
              "  <tbody>\n",
              "    <tr>\n",
              "      <th>label</th>\n",
              "      <td>0</td>\n",
              "    </tr>\n",
              "    <tr>\n",
              "      <th>review</th>\n",
              "      <td>0</td>\n",
              "    </tr>\n",
              "  </tbody>\n",
              "</table>\n",
              "</div><br><label><b>dtype:</b> int64</label>"
            ]
          },
          "metadata": {},
          "execution_count": 7
        }
      ]
    },
    {
      "cell_type": "code",
      "source": [
        "mystring = 'Hello World'\n",
        "mystring.isspace()"
      ],
      "metadata": {
        "colab": {
          "base_uri": "https://localhost:8080/"
        },
        "id": "_8jwGsJLYTzX",
        "outputId": "1dad1485-d685-45b9-e92e-d4243e54529d"
      },
      "execution_count": 8,
      "outputs": [
        {
          "output_type": "execute_result",
          "data": {
            "text/plain": [
              "False"
            ]
          },
          "metadata": {},
          "execution_count": 8
        }
      ]
    },
    {
      "cell_type": "code",
      "source": [
        "blanks = []\n",
        "\n",
        "# (index, label, review text)\n",
        "for i, lb, rv in dataset.itertuples():\n",
        "  if rv.isspace():\n",
        "    blanks.append(i)"
      ],
      "metadata": {
        "id": "Z9dxlR5lZCxm"
      },
      "execution_count": 9,
      "outputs": []
    },
    {
      "cell_type": "code",
      "source": [
        "blanks"
      ],
      "metadata": {
        "colab": {
          "base_uri": "https://localhost:8080/"
        },
        "id": "nnZHBRJUaVWu",
        "outputId": "cab12c63-9714-4ff8-d75a-eaa1c122e678"
      },
      "execution_count": 10,
      "outputs": [
        {
          "output_type": "execute_result",
          "data": {
            "text/plain": [
              "[57,\n",
              " 71,\n",
              " 147,\n",
              " 151,\n",
              " 283,\n",
              " 307,\n",
              " 313,\n",
              " 323,\n",
              " 343,\n",
              " 351,\n",
              " 427,\n",
              " 501,\n",
              " 633,\n",
              " 675,\n",
              " 815,\n",
              " 851,\n",
              " 977,\n",
              " 1079,\n",
              " 1299,\n",
              " 1455,\n",
              " 1493,\n",
              " 1525,\n",
              " 1531,\n",
              " 1763,\n",
              " 1851,\n",
              " 1905,\n",
              " 1993]"
            ]
          },
          "metadata": {},
          "execution_count": 10
        }
      ]
    },
    {
      "cell_type": "code",
      "source": [
        "dataset.drop(blanks, inplace=True)"
      ],
      "metadata": {
        "id": "7WPo6_2SaWR_"
      },
      "execution_count": 11,
      "outputs": []
    },
    {
      "cell_type": "code",
      "source": [
        "len(dataset)"
      ],
      "metadata": {
        "colab": {
          "base_uri": "https://localhost:8080/"
        },
        "id": "OF2PcqBZagVL",
        "outputId": "7f2980ce-af2d-4d4d-cd71-a9096054fe4e"
      },
      "execution_count": 12,
      "outputs": [
        {
          "output_type": "execute_result",
          "data": {
            "text/plain": [
              "1938"
            ]
          },
          "metadata": {},
          "execution_count": 12
        }
      ]
    },
    {
      "cell_type": "markdown",
      "source": [
        "# ***Building the Model***"
      ],
      "metadata": {
        "id": "knBIMAvtayDo"
      }
    },
    {
      "cell_type": "code",
      "source": [
        "from sklearn.model_selection import train_test_split"
      ],
      "metadata": {
        "id": "b2nql5SpaiYr"
      },
      "execution_count": 13,
      "outputs": []
    },
    {
      "cell_type": "code",
      "source": [
        "X = dataset['review']\n",
        "y = dataset['label']\n",
        "\n",
        "X_train, X_test, y_train, y_test = train_test_split(X, y, test_size=0.3, random_state=42)"
      ],
      "metadata": {
        "id": "yqRQ9GMGa5c0"
      },
      "execution_count": 14,
      "outputs": []
    },
    {
      "cell_type": "code",
      "source": [
        "from sklearn.pipeline import Pipeline\n",
        "from sklearn.feature_extraction.text import TfidfVectorizer\n",
        "from sklearn.ensemble import RandomForestClassifier\n",
        "from sklearn.svm import LinearSVC"
      ],
      "metadata": {
        "id": "_rTKyTt8bT74"
      },
      "execution_count": 15,
      "outputs": []
    },
    {
      "cell_type": "code",
      "source": [
        "clf = Pipeline([('tfidf', TfidfVectorizer()),\n",
        "                ('clf', LinearSVC())])"
      ],
      "metadata": {
        "id": "IWGAb2MLcKJh"
      },
      "execution_count": 16,
      "outputs": []
    },
    {
      "cell_type": "code",
      "source": [
        "clf.fit(X_train, y_train)\n",
        "clf.score(X_test, y_test)"
      ],
      "metadata": {
        "colab": {
          "base_uri": "https://localhost:8080/"
        },
        "id": "FbU5pY8acYCo",
        "outputId": "8456bd28-0e3a-439c-c5d3-c0deb3080920"
      },
      "execution_count": 17,
      "outputs": [
        {
          "output_type": "stream",
          "name": "stderr",
          "text": [
            "/usr/local/lib/python3.10/dist-packages/sklearn/svm/_classes.py:32: FutureWarning: The default value of `dual` will change from `True` to `'auto'` in 1.5. Set the value of `dual` explicitly to suppress the warning.\n",
            "  warnings.warn(\n"
          ]
        },
        {
          "output_type": "execute_result",
          "data": {
            "text/plain": [
              "0.8487972508591065"
            ]
          },
          "metadata": {},
          "execution_count": 17
        }
      ]
    },
    {
      "cell_type": "code",
      "source": [
        "y_preds = clf.predict(X_test)"
      ],
      "metadata": {
        "id": "9TdroGf5cyhk"
      },
      "execution_count": 18,
      "outputs": []
    },
    {
      "cell_type": "code",
      "source": [
        "from sklearn.metrics import classification_report, confusion_matrix, accuracy_score\n",
        "\n",
        "print(classification_report(y_test, y_preds))"
      ],
      "metadata": {
        "colab": {
          "base_uri": "https://localhost:8080/"
        },
        "id": "aJajMjk6c8dS",
        "outputId": "86928784-4a3f-4cc3-f62b-ed05f1d0ebdb"
      },
      "execution_count": 19,
      "outputs": [
        {
          "output_type": "stream",
          "name": "stdout",
          "text": [
            "              precision    recall  f1-score   support\n",
            "\n",
            "         neg       0.85      0.83      0.84       282\n",
            "         pos       0.85      0.86      0.85       300\n",
            "\n",
            "    accuracy                           0.85       582\n",
            "   macro avg       0.85      0.85      0.85       582\n",
            "weighted avg       0.85      0.85      0.85       582\n",
            "\n"
          ]
        }
      ]
    },
    {
      "cell_type": "code",
      "source": [
        "from sklearn.metrics import ConfusionMatrixDisplay\n",
        "ConfusionMatrixDisplay.from_estimator(estimator=clf, X=X, y=y)"
      ],
      "metadata": {
        "colab": {
          "base_uri": "https://localhost:8080/",
          "height": 466
        },
        "id": "H7tE5C_YdG8Y",
        "outputId": "3c940dce-f68d-4fed-8adb-d38e2000681e"
      },
      "execution_count": 20,
      "outputs": [
        {
          "output_type": "execute_result",
          "data": {
            "text/plain": [
              "<sklearn.metrics._plot.confusion_matrix.ConfusionMatrixDisplay at 0x7a715d0238b0>"
            ]
          },
          "metadata": {},
          "execution_count": 20
        },
        {
          "output_type": "display_data",
          "data": {
            "text/plain": [
              "<Figure size 640x480 with 2 Axes>"
            ],
            "image/png": "[encoded data removed]"
          },
          "metadata": {}
        }
      ]
    },
    {
      "cell_type": "code",
      "source": [
        "ConfusionMatrixDisplay.from_predictions(y_test, y_preds);"
      ],
      "metadata": {
        "colab": {
          "base_uri": "https://localhost:8080/",
          "height": 449
        },
        "id": "DjjeH7GWdexP",
        "outputId": "f7559550-58d9-4aeb-b42b-17caa1163c78"
      },
      "execution_count": 21,
      "outputs": [
        {
          "output_type": "display_data",
          "data": {
            "text/plain": [
              "<Figure size 640x480 with 2 Axes>"
            ],
            "image/png": "[encoded data removed]"
          },
          "metadata": {}
        }
      ]
    },
    {
      "cell_type": "code",
      "source": [
        "clf.predict([\"I recently purchased the new smartphone, and I'm absolutely thrilled with it! The performance is top-notch, with lightning-fast processing speeds and an incredible camera that takes stunning photos. The battery life is amazing, lasting all day even with heavy use. The sleek design and vibrant display make it a joy to use every day. I'm so glad I made this purchase, and I would highly recommend it to anyone looking for a high-quality, reliable device!\"])"
      ],
      "metadata": {
        "colab": {
          "base_uri": "https://localhost:8080/"
        },
        "id": "lHr6zibTdnsL",
        "outputId": "3a7ad4c5-7285-4fea-ff68-3d3bd35ec433"
      },
      "execution_count": 22,
      "outputs": [
        {
          "output_type": "execute_result",
          "data": {
            "text/plain": [
              "array(['pos'], dtype=object)"
            ]
          },
          "metadata": {},
          "execution_count": 22
        }
      ]
    },
    {
      "cell_type": "code",
      "source": [
        "clf.predict([\"I had high hopes for this laptop, but it has been a huge disappointment. It runs slowly even with minimal applications open, and the battery barely lasts a few hours, which is incredibly frustrating. The screen quality is subpar, and the keyboard feels cheap and unresponsive. I've also had several issues with it overheating. Overall, I regret buying this laptop and would not recommend it to others.\"])"
      ],
      "metadata": {
        "colab": {
          "base_uri": "https://localhost:8080/"
        },
        "id": "m33CzXtffZlQ",
        "outputId": "2b3f256f-f190-4854-ef20-db7535d50c9b"
      },
      "execution_count": 41,
      "outputs": [
        {
          "output_type": "execute_result",
          "data": {
            "text/plain": [
              "array(['pos'], dtype=object)"
            ]
          },
          "metadata": {},
          "execution_count": 41
        }
      ]
    },
    {
      "cell_type": "code",
      "source": [
        "clf.predict([\"'The Forgotten Tale' had the potential to be a standout film, thanks to a talented cast who brought their A-game to the screen. Actors, in particular, delivers a standout performance as the lead character, and the supporting actors also shine, bringing depth and authenticity to their roles. However, despite their best efforts, the movie falls flat due to a weak narrative and uninspired direction. The story feels disjointed and lacks coherence, struggling to maintain a clear direction with plot twists that come off as contrived. The pacing is uneven, leaving key moments rushed or underdeveloped. The direction also fails to build the emotional intensity needed, with inconsistent visual style and tone. Despite the strong performances, the film is ultimately let down by its poor storytelling and direction, making it a disappointing watch.\"])"
      ],
      "metadata": {
        "colab": {
          "base_uri": "https://localhost:8080/"
        },
        "id": "Y_fGkPGCoa6z",
        "outputId": "f658613f-0c11-41cf-9a55-215deb8240df"
      },
      "execution_count": 38,
      "outputs": [
        {
          "output_type": "execute_result",
          "data": {
            "text/plain": [
              "array(['neg'], dtype=object)"
            ]
          },
          "metadata": {},
          "execution_count": 38
        }
      ]
    },
    {
      "cell_type": "code",
      "source": [
        "clf.predict([\"'The Forgotten Tale' is a perplexing film where the exceptional talent of the cast is overshadowed by an incoherent narrative and erratic direction. While Actors and the supporting ensemble offer commendable performances, their efforts are entangled in a disjointed plot that meanders without clear purpose. The screenplay seems to chase fleeting ideas, resulting in a story that lacks cohesion and direction. The pacing is uneven, with key scenes feeling both rushed and inexplicably drawn-out. Additionally, the direction suffers from a bewildering inconsistency in tone and visual style, making it challenging to follow the emotional trajectory intended. Despite the actors' clear dedication, the film's muddled execution leaves it struggling to make an impact, rendering it an ultimately unsatisfying experience.\"])"
      ],
      "metadata": {
        "colab": {
          "base_uri": "https://localhost:8080/"
        },
        "id": "HluLQjpPpMDl",
        "outputId": "7e11d5c9-180b-40b8-e843-4f21e9148d1f"
      },
      "execution_count": 40,
      "outputs": [
        {
          "output_type": "execute_result",
          "data": {
            "text/plain": [
              "array(['neg'], dtype=object)"
            ]
          },
          "metadata": {},
          "execution_count": 40
        }
      ]
    },
    {
      "cell_type": "markdown",
      "source": [
        "# ***Using NLTK VADER***"
      ],
      "metadata": {
        "id": "OlH-yykJmzdg"
      }
    },
    {
      "cell_type": "code",
      "source": [
        "import nltk\n",
        "nltk.download('vader_lexicon')"
      ],
      "metadata": {
        "colab": {
          "base_uri": "https://localhost:8080/"
        },
        "id": "hmgATCgenPio",
        "outputId": "1499bac3-d623-4632-dc65-eeef70b4afd9"
      },
      "execution_count": 26,
      "outputs": [
        {
          "output_type": "stream",
          "name": "stderr",
          "text": [
            "[nltk_data] Downloading package vader_lexicon to /root/nltk_data...\n"
          ]
        },
        {
          "output_type": "execute_result",
          "data": {
            "text/plain": [
              "True"
            ]
          },
          "metadata": {},
          "execution_count": 26
        }
      ]
    },
    {
      "cell_type": "code",
      "source": [
        "from nltk.sentiment.vader import SentimentIntensityAnalyzer"
      ],
      "metadata": {
        "id": "tZ_iWoxvfnuw"
      },
      "execution_count": 27,
      "outputs": []
    },
    {
      "cell_type": "code",
      "source": [
        "sid = SentimentIntensityAnalyzer()"
      ],
      "metadata": {
        "id": "B4t8p25fnLqF"
      },
      "execution_count": 28,
      "outputs": []
    },
    {
      "cell_type": "code",
      "source": [
        "dataset['score'] = dataset['review'].apply(lambda review: sid.polarity_scores(review))"
      ],
      "metadata": {
        "id": "5vwvOVcDnNl_"
      },
      "execution_count": 29,
      "outputs": []
    },
    {
      "cell_type": "code",
      "source": [
        "dataset.head()"
      ],
      "metadata": {
        "colab": {
          "base_uri": "https://localhost:8080/",
          "height": 206
        },
        "id": "S-GYn29unc--",
        "outputId": "72bfb92b-42d2-4f4a-ada6-bac6e50bf52f"
      },
      "execution_count": 30,
      "outputs": [
        {
          "output_type": "execute_result",
          "data": {
            "text/plain": [
              "  label                                             review  \\\n",
              "0   neg  how do films like mouse hunt get into theatres...   \n",
              "1   neg  some talented actresses are blessed with a dem...   \n",
              "2   pos  this has been an extraordinary year for austra...   \n",
              "3   pos  according to hollywood movies made in last few...   \n",
              "4   neg  my first press screening of 1998 and already i...   \n",
              "\n",
              "                                               score  \n",
              "0  {'neg': 0.121, 'neu': 0.778, 'pos': 0.101, 'co...  \n",
              "1  {'neg': 0.12, 'neu': 0.775, 'pos': 0.105, 'com...  \n",
              "2  {'neg': 0.068, 'neu': 0.781, 'pos': 0.15, 'com...  \n",
              "3  {'neg': 0.071, 'neu': 0.782, 'pos': 0.147, 'co...  \n",
              "4  {'neg': 0.091, 'neu': 0.817, 'pos': 0.093, 'co...  "
            ],
            "text/html": [
              "\n",
              "  <div id=\"df-1b6ab579-165d-4907-a0ca-9c49cef3f0a8\" class=\"colab-df-container\">\n",
              "    <div>\n",
              "<style scoped>\n",
              "    .dataframe tbody tr th:only-of-type {\n",
              "        vertical-align: middle;\n",
              "    }\n",
              "\n",
              "    .dataframe tbody tr th {\n",
              "        vertical-align: top;\n",
              "    }\n",
              "\n",
              "    .dataframe thead th {\n",
              "        text-align: right;\n",
              "    }\n",
              "</style>\n",
              "<table border=\"1\" class=\"dataframe\">\n",
              "  <thead>\n",
              "    <tr style=\"text-align: right;\">\n",
              "      <th></th>\n",
              "      <th>label</th>\n",
              "      <th>review</th>\n",
              "      <th>score</th>\n",
              "    </tr>\n",
              "  </thead>\n",
              "  <tbody>\n",
              "    <tr>\n",
              "      <th>0</th>\n",
              "      <td>neg</td>\n",
              "      <td>how do films like mouse hunt get into theatres...</td>\n",
              "      <td>{'neg': 0.121, 'neu': 0.778, 'pos': 0.101, 'co...</td>\n",
              "    </tr>\n",
              "    <tr>\n",
              "      <th>1</th>\n",
              "      <td>neg</td>\n",
              "      <td>some talented actresses are blessed with a dem...</td>\n",
              "      <td>{'neg': 0.12, 'neu': 0.775, 'pos': 0.105, 'com...</td>\n",
              "    </tr>\n",
              "    <tr>\n",
              "      <th>2</th>\n",
              "      <td>pos</td>\n",
              "      <td>this has been an extraordinary year for austra...</td>\n",
              "      <td>{'neg': 0.068, 'neu': 0.781, 'pos': 0.15, 'com...</td>\n",
              "    </tr>\n",
              "    <tr>\n",
              "      <th>3</th>\n",
              "      <td>pos</td>\n",
              "      <td>according to hollywood movies made in last few...</td>\n",
              "      <td>{'neg': 0.071, 'neu': 0.782, 'pos': 0.147, 'co...</td>\n",
              "    </tr>\n",
              "    <tr>\n",
              "      <th>4</th>\n",
              "      <td>neg</td>\n",
              "      <td>my first press screening of 1998 and already i...</td>\n",
              "      <td>{'neg': 0.091, 'neu': 0.817, 'pos': 0.093, 'co...</td>\n",
              "    </tr>\n",
              "  </tbody>\n",
              "</table>\n",
              "</div>\n",
              "    <div class=\"colab-df-buttons\">\n",
              "\n",
              "  <div class=\"colab-df-container\">\n",
              "    <button class=\"colab-df-convert\" onclick=\"convertToInteractive('df-1b6ab579-165d-4907-a0ca-9c49cef3f0a8')\"\n",
              "            title=\"Convert this dataframe to an interactive table.\"\n",
              "            style=\"display:none;\">\n",
              "\n",
              "  <svg xmlns=\"http://www.w3.org/2000/svg\" height=\"24px\" viewBox=\"0 -960 960 960\">\n",
              "    <path d=\"M120-120v-720h720v720H120Zm60-500h600v-160H180v160Zm220 220h160v-160H400v160Zm0 220h160v-160H400v160ZM180-400h160v-160H180v160Zm440 0h160v-160H620v160ZM180-180h160v-160H180v160Zm440 0h160v-160H620v160Z\"/>\n",
              "  </svg>\n",
              "    </button>\n",
              "\n",
              "  <style>\n",
              "    .colab-df-container {\n",
              "      display:flex;\n",
              "      gap: 12px;\n",
              "    }\n",
              "\n",
              "    .colab-df-convert {\n",
              "      background-color: #E8F0FE;\n",
              "      border: none;\n",
              "      border-radius: 50%;\n",
              "      cursor: pointer;\n",
              "      display: none;\n",
              "      fill: #1967D2;\n",
              "      height: 32px;\n",
              "      padding: 0 0 0 0;\n",
              "      width: 32px;\n",
              "    }\n",
              "\n",
              "    .colab-df-convert:hover {\n",
              "      background-color: #E2EBFA;\n",
              "      box-shadow: 0px 1px 2px rgba(60, 64, 67, 0.3), 0px 1px 3px 1px rgba(60, 64, 67, 0.15);\n",
              "      fill: #174EA6;\n",
              "    }\n",
              "\n",
              "    .colab-df-buttons div {\n",
              "      margin-bottom: 4px;\n",
              "    }\n",
              "\n",
              "    [theme=dark] .colab-df-convert {\n",
              "      background-color: #3B4455;\n",
              "      fill: #D2E3FC;\n",
              "    }\n",
              "\n",
              "    [theme=dark] .colab-df-convert:hover {\n",
              "      background-color: #434B5C;\n",
              "      box-shadow: 0px 1px 3px 1px rgba(0, 0, 0, 0.15);\n",
              "      filter: drop-shadow(0px 1px 2px rgba(0, 0, 0, 0.3));\n",
              "      fill: #FFFFFF;\n",
              "    }\n",
              "  </style>\n",
              "\n",
              "    <script>\n",
              "      const buttonEl =\n",
              "        document.querySelector('#df-1b6ab579-165d-4907-a0ca-9c49cef3f0a8 button.colab-df-convert');\n",
              "      buttonEl.style.display =\n",
              "        google.colab.kernel.accessAllowed ? 'block' : 'none';\n",
              "\n",
              "      async function convertToInteractive(key) {\n",
              "        const element = document.querySelector('#df-1b6ab579-165d-4907-a0ca-9c49cef3f0a8');\n",
              "        const dataTable =\n",
              "          await google.colab.kernel.invokeFunction('convertToInteractive',\n",
              "                                                    [key], {});\n",
              "        if (!dataTable) return;\n",
              "\n",
              "        const docLinkHtml = 'Like what you see? Visit the ' +\n",
              "          '<a target=\"_blank\" href=https://colab.research.google.com/notebooks/data_table.ipynb>data table notebook</a>'\n",
              "          + ' to learn more about interactive tables.';\n",
              "        element.innerHTML = '';\n",
              "        dataTable['output_type'] = 'display_data';\n",
              "        await google.colab.output.renderOutput(dataTable, element);\n",
              "        const docLink = document.createElement('div');\n",
              "        docLink.innerHTML = docLinkHtml;\n",
              "        element.appendChild(docLink);\n",
              "      }\n",
              "    </script>\n",
              "  </div>\n",
              "\n",
              "\n",
              "<div id=\"df-e4891f28-6a4b-457d-a579-532ccbf4a25d\">\n",
              "  <button class=\"colab-df-quickchart\" onclick=\"quickchart('df-e4891f28-6a4b-457d-a579-532ccbf4a25d')\"\n",
              "            title=\"Suggest charts\"\n",
              "            style=\"display:none;\">\n",
              "\n",
              "<svg xmlns=\"http://www.w3.org/2000/svg\" height=\"24px\"viewBox=\"0 0 24 24\"\n",
              "     width=\"24px\">\n",
              "    <g>\n",
              "        <path d=\"M19 3H5c-1.1 0-2 .9-2 2v14c0 1.1.9 2 2 2h14c1.1 0 2-.9 2-2V5c0-1.1-.9-2-2-2zM9 17H7v-7h2v7zm4 0h-2V7h2v10zm4 0h-2v-4h2v4z\"/>\n",
              "    </g>\n",
              "</svg>\n",
              "  </button>\n",
              "\n",
              "<style>\n",
              "  .colab-df-quickchart {\n",
              "      --bg-color: #E8F0FE;\n",
              "      --fill-color: #1967D2;\n",
              "      --hover-bg-color: #E2EBFA;\n",
              "      --hover-fill-color: #174EA6;\n",
              "      --disabled-fill-color: #AAA;\n",
              "      --disabled-bg-color: #DDD;\n",
              "  }\n",
              "\n",
              "  [theme=dark] .colab-df-quickchart {\n",
              "      --bg-color: #3B4455;\n",
              "      --fill-color: #D2E3FC;\n",
              "      --hover-bg-color: #434B5C;\n",
              "      --hover-fill-color: #FFFFFF;\n",
              "      --disabled-bg-color: #3B4455;\n",
              "      --disabled-fill-color: #666;\n",
              "  }\n",
              "\n",
              "  .colab-df-quickchart {\n",
              "    background-color: var(--bg-color);\n",
              "    border: none;\n",
              "    border-radius: 50%;\n",
              "    cursor: pointer;\n",
              "    display: none;\n",
              "    fill: var(--fill-color);\n",
              "    height: 32px;\n",
              "    padding: 0;\n",
              "    width: 32px;\n",
              "  }\n",
              "\n",
              "  .colab-df-quickchart:hover {\n",
              "    background-color: var(--hover-bg-color);\n",
              "    box-shadow: 0 1px 2px rgba(60, 64, 67, 0.3), 0 1px 3px 1px rgba(60, 64, 67, 0.15);\n",
              "    fill: var(--button-hover-fill-color);\n",
              "  }\n",
              "\n",
              "  .colab-df-quickchart-complete:disabled,\n",
              "  .colab-df-quickchart-complete:disabled:hover {\n",
              "    background-color: var(--disabled-bg-color);\n",
              "    fill: var(--disabled-fill-color);\n",
              "    box-shadow: none;\n",
              "  }\n",
              "\n",
              "  .colab-df-spinner {\n",
              "    border: 2px solid var(--fill-color);\n",
              "    border-color: transparent;\n",
              "    border-bottom-color: var(--fill-color);\n",
              "    animation:\n",
              "      spin 1s steps(1) infinite;\n",
              "  }\n",
              "\n",
              "  @keyframes spin {\n",
              "    0% {\n",
              "      border-color: transparent;\n",
              "      border-bottom-color: var(--fill-color);\n",
              "      border-left-color: var(--fill-color);\n",
              "    }\n",
              "    20% {\n",
              "      border-color: transparent;\n",
              "      border-left-color: var(--fill-color);\n",
              "      border-top-color: var(--fill-color);\n",
              "    }\n",
              "    30% {\n",
              "      border-color: transparent;\n",
              "      border-left-color: var(--fill-color);\n",
              "      border-top-color: var(--fill-color);\n",
              "      border-right-color: var(--fill-color);\n",
              "    }\n",
              "    40% {\n",
              "      border-color: transparent;\n",
              "      border-right-color: var(--fill-color);\n",
              "      border-top-color: var(--fill-color);\n",
              "    }\n",
              "    60% {\n",
              "      border-color: transparent;\n",
              "      border-right-color: var(--fill-color);\n",
              "    }\n",
              "    80% {\n",
              "      border-color: transparent;\n",
              "      border-right-color: var(--fill-color);\n",
              "      border-bottom-color: var(--fill-color);\n",
              "    }\n",
              "    90% {\n",
              "      border-color: transparent;\n",
              "      border-bottom-color: var(--fill-color);\n",
              "    }\n",
              "  }\n",
              "</style>\n",
              "\n",
              "  <script>\n",
              "    async function quickchart(key) {\n",
              "      const quickchartButtonEl =\n",
              "        document.querySelector('#' + key + ' button');\n",
              "      quickchartButtonEl.disabled = true;  // To prevent multiple clicks.\n",
              "      quickchartButtonEl.classList.add('colab-df-spinner');\n",
              "      try {\n",
              "        const charts = await google.colab.kernel.invokeFunction(\n",
              "            'suggestCharts', [key], {});\n",
              "      } catch (error) {\n",
              "        console.error('Error during call to suggestCharts:', error);\n",
              "      }\n",
              "      quickchartButtonEl.classList.remove('colab-df-spinner');\n",
              "      quickchartButtonEl.classList.add('colab-df-quickchart-complete');\n",
              "    }\n",
              "    (() => {\n",
              "      let quickchartButtonEl =\n",
              "        document.querySelector('#df-e4891f28-6a4b-457d-a579-532ccbf4a25d button');\n",
              "      quickchartButtonEl.style.display =\n",
              "        google.colab.kernel.accessAllowed ? 'block' : 'none';\n",
              "    })();\n",
              "  </script>\n",
              "</div>\n",
              "\n",
              "    </div>\n",
              "  </div>\n"
            ],
            "application/vnd.google.colaboratory.intrinsic+json": {
              "type": "dataframe",
              "variable_name": "dataset",
              "summary": "{\n  \"name\": \"dataset\",\n  \"rows\": 1938,\n  \"fields\": [\n    {\n      \"column\": \"label\",\n      \"properties\": {\n        \"dtype\": \"category\",\n        \"num_unique_values\": 2,\n        \"samples\": [\n          \"pos\",\n          \"neg\"\n        ],\n        \"semantic_type\": \"\",\n        \"description\": \"\"\n      }\n    },\n    {\n      \"column\": \"review\",\n      \"properties\": {\n        \"dtype\": \"string\",\n        \"num_unique_values\": 1938,\n        \"samples\": [\n          \"eight years after its release , disney has decided to re-release the little mermaid theatrically for 17 days ( and 17 long nights ) only . \\r\\ncoincidentally , it was reintroduced to theaters the same day fox's animated film anastasia was released . \\r\\nyou know disney , they can't deal with the threat of any other studio getting even a small piece of the crust of the kiddie entertainment pie , so when someone else wants to make a little money , they counter with an old \\\" masterpiece \\\" from their vault and , you know what , i went to see this 1989 cartoon rather than the brand new one from fox . \\r\\nlet no one say disney is losing its monopoly on the market . \\r\\nthey still have hotels on boardwalk _and_ park place . \\r\\nbelieve it or not , today , november 25 , 1997 , at 5 : 05 p . m . , i saw the little mermaid for the first time . \\r\\nit took me a few years to get over an aversion to this movie that was caused seven years ago , when i stayed with one of my mom's friends for a couple weeks . \\r\\nthey had a young child who listened to the little mermaid soundtrack constantly and , over that two week period , i heard every song from the movie probably a hundred times . \\r\\nby the time i got back home , i promised myself i'd never see the movie . \\r\\nbut promises are made to be broken , especially when you're looking at a 17-day , limited engagement . \\r\\ndamn those shrewd disney marketers and their mind games . \\r\\nthe little mermaid is based on a hans christian anderson fairy tale , but it's disney-ized , which means lots of talking animals and bursting into song . \\r\\nit also means the heroine is a total babe who shows off cleavage from a seashell bra at all times . \\r\\ni never wanted so much to be a pair of shells . . . \\r\\nthe heroine , of course , is ariel ( voice of jodi benson ) , a 16-year-old mermaid who is going through that rebellious phase . \\r\\nshe skips her concert to explore a wrecked ship and hang out with a seagull that talks like buddy hackett , who tries to orient her to the mysterious world of humans . \\r\\nshe's also dealing with feelings she hasn't had before -- which comes when you get scales in places you didn't use to have them -- about a handsome prince ( no disney movie would be complete without one ) . \\r\\nher father , king triton of the merpeople , strictly forbids such lusting after the ways of the \\\" savage \\\" humans , in a condemnation that reads as a not-so-subtle analogy about old- fashioned parents who forbid interracial dating . \\r\\nwhat's a king to do , though ? \\r\\nthe girl's in love and even total destruction of her little shrine to the human world doesn't deter her . \\r\\nariel saves the prince's life when a hurricane rises up , and just has to meet him . \\r\\nshe makes a deal with ursula , the sea witch ( voice of pat carroll ) . \\r\\nyou know she's evil because she has a huge potbelly and one of the worst asses in cartoon history . \\r\\nshe also has octopus tentacles for feet ( something those dr . scholl's corn pads will not fix ) and offers to help ariel out . \\r\\nshe'll make her a human for three days if ariel will give up her pretty voice ; ariel has three days to make that prince kiss her , or else she becomes a slave to the witch forever . \\r\\nand if she pricks her finger on a sewing machine or eats an evil apple , she'll fall asleep forever . \\r\\nit's a simplistic plot , yes , but the little mermaid was a revolution in the disney world , coming after such lackluster efforts as the black cauldron and oliver and company . \\r\\nit ranks as one of the best disney cartoons , certainly since the '50s . \\r\\nall the elements are there -- memorable songs like \\\" under the sea \\\" and \\\" kiss the girl , \\\" cartoon animals like sebastian and flounder , an evil villain who still has characterization and charm , and a fair amount of humor that caters to adults as well as children . \\r\\nthe little mermaid is worth a big-screen ticket in 1997 , so hurry up , you only have five days left . \\r\\nserving america for more than 1/25th of a century ! \\r\\n\",\n          \"it's been a long time since walt disney has delivered us a classic along the lines of the little mermaid or beauty and the beast . \\r\\nsure , there have been delightful outings like last years hercules . \\r\\nbut nothing entirely groundbreaking . \\r\\nwith the release of the studio's newest feature length film , a remake of edgar rice burrough's creation tarzan , disney has plunged into new waters with both maturity and animation techniques . \\r\\nit's no classic , but this new tarzan represents exactly what a family film should be . \\r\\nthe plot is loyal to the original storyline , as tarzan's parents are forced to abandon their ship which has caught fire , and find shelter in the jungles of africa . \\r\\nbut , they are killed ( offscreen ) by the snarling cheetah sabor , leaving baby tarzan alone and unharmed in his crib . \\r\\nfound by kala ( voiced with effective gentleness by glenn close ) , a kindhearted mother and member of a gorilla pack , tarzan is taken into the primate group and raised as one of their own . \\r\\nwe follow the young boy through the years , as he partakes in various adventures with his loud mouth gorilla friend terk ( a very brash but funny rosie o'donnell ) and clumsy elephant tantor ( wayne knight ) . \\r\\nof course , in any disney film we are given some kind of goofy sidekick or humorous chum for the hero . \\r\\nin tarzan , these characters fill that space rather inconspicuously . \\r\\ngags that were magnified in other family films are kept quite minor here . \\r\\nmost of the characters are amusing without being forced . \\r\\nas tarzan grows to manhood , the suspected antagonist stumbles into the picture . \\r\\nhere , the notorious bad guy is the big game hunter clayton ( brian blessed ) , who's accompanying a hapless professor ( nigel hawthorne ) on an expedition through the jungle . \\r\\nof course , there's the professor's daughter , jane ( nicely vocalized by a cheerful minnie driver ) who will help supply the romantic quotient of the movie . \\r\\nthe thing that blew my socks off about this version of tarzan is the stunning animation . \\r\\ndirectors chris buck and kevin lima have applied a breathtaking 3-d element to the movement of the athletic title character , and the fast-paced editing is absolutely a marvel . \\r\\nas tarzan carries jane through the treetops , narrowly escaping a pack of nasty baboons , he slips and slides like a daredevil snow boarder or star surfer riding the big wave . \\r\\nyour eyes can barely keep up ; it's a fantastic accomplishment . \\r\\nthe subject matter here is also a notch or two above animation average . \\r\\nthere are important questions raised about tarzan's place in the world , and all are handled exceptionally well by the screenwriters . \\r\\nthere is no shred of doubt left to ponder afterward , which is a surprising plus that i wasn't expecting to find here . \\r\\nsuffice to say , this film will have both adults and children thoroughly entertained . \\r\\nthe grown-up tarzan is voiced by tony goldwyn , who made a name for himself as the `big mean jerk' from ghost . \\r\\ngoldwyn is effective playing someone who's not aware of his world's dangers . \\r\\nglenn close is also memorable as his gorilla mother , and lance henriksen ( from tv's millennium ) is terrific as the silverback father unsure of how to accept the presence of a human child . \\r\\nas the movie's villain , there is nothing particularly special or catching about the character of clayton . \\r\\nit helps that brian blessed supplies his voice with game enthusiasm , but he is nothing compared to james woods' hilarious hades from hercules . \\r\\na burley guy with a big gun who just wants to capture the gorillas does not quite constitute for an all-together noticeable screen presence . \\r\\nstill , this is one great thrill-ride that disney has constructed . \\r\\ni never expected rice burrough's work to be transformed so successfully from live action to animation , nor with so much emotional depth . \\r\\nparents , along with all the kiddies , are going to find much to like in tarzan . \\r\\n\"\n        ],\n        \"semantic_type\": \"\",\n        \"description\": \"\"\n      }\n    },\n    {\n      \"column\": \"score\",\n      \"properties\": {\n        \"dtype\": \"object\",\n        \"semantic_type\": \"\",\n        \"description\": \"\"\n      }\n    }\n  ]\n}"
            }
          },
          "metadata": {},
          "execution_count": 30
        }
      ]
    },
    {
      "cell_type": "code",
      "source": [
        "dataset['compound'] = dataset['score'].apply(lambda d:d['compound'])"
      ],
      "metadata": {
        "id": "0NDLHNvQnhsL"
      },
      "execution_count": 31,
      "outputs": []
    },
    {
      "cell_type": "code",
      "source": [
        "dataset.head()"
      ],
      "metadata": {
        "colab": {
          "base_uri": "https://localhost:8080/",
          "height": 206
        },
        "id": "Fbf-G5QdnnLI",
        "outputId": "65ea1062-9553-4498-c0b4-94979f55f883"
      },
      "execution_count": 32,
      "outputs": [
        {
          "output_type": "execute_result",
          "data": {
            "text/plain": [
              "  label                                             review  \\\n",
              "0   neg  how do films like mouse hunt get into theatres...   \n",
              "1   neg  some talented actresses are blessed with a dem...   \n",
              "2   pos  this has been an extraordinary year for austra...   \n",
              "3   pos  according to hollywood movies made in last few...   \n",
              "4   neg  my first press screening of 1998 and already i...   \n",
              "\n",
              "                                               score  compound  \n",
              "0  {'neg': 0.121, 'neu': 0.778, 'pos': 0.101, 'co...   -0.9125  \n",
              "1  {'neg': 0.12, 'neu': 0.775, 'pos': 0.105, 'com...   -0.8618  \n",
              "2  {'neg': 0.068, 'neu': 0.781, 'pos': 0.15, 'com...    0.9951  \n",
              "3  {'neg': 0.071, 'neu': 0.782, 'pos': 0.147, 'co...    0.9972  \n",
              "4  {'neg': 0.091, 'neu': 0.817, 'pos': 0.093, 'co...   -0.2484  "
            ],
            "text/html": [
              "\n",
              "  <div id=\"df-43cf39dc-caf6-4f7f-a83a-fd2df1e21b38\" class=\"colab-df-container\">\n",
              "    <div>\n",
              "<style scoped>\n",
              "    .dataframe tbody tr th:only-of-type {\n",
              "        vertical-align: middle;\n",
              "    }\n",
              "\n",
              "    .dataframe tbody tr th {\n",
              "        vertical-align: top;\n",
              "    }\n",
              "\n",
              "    .dataframe thead th {\n",
              "        text-align: right;\n",
              "    }\n",
              "</style>\n",
              "<table border=\"1\" class=\"dataframe\">\n",
              "  <thead>\n",
              "    <tr style=\"text-align: right;\">\n",
              "      <th></th>\n",
              "      <th>label</th>\n",
              "      <th>review</th>\n",
              "      <th>score</th>\n",
              "      <th>compound</th>\n",
              "    </tr>\n",
              "  </thead>\n",
              "  <tbody>\n",
              "    <tr>\n",
              "      <th>0</th>\n",
              "      <td>neg</td>\n",
              "      <td>how do films like mouse hunt get into theatres...</td>\n",
              "      <td>{'neg': 0.121, 'neu': 0.778, 'pos': 0.101, 'co...</td>\n",
              "      <td>-0.9125</td>\n",
              "    </tr>\n",
              "    <tr>\n",
              "      <th>1</th>\n",
              "      <td>neg</td>\n",
              "      <td>some talented actresses are blessed with a dem...</td>\n",
              "      <td>{'neg': 0.12, 'neu': 0.775, 'pos': 0.105, 'com...</td>\n",
              "      <td>-0.8618</td>\n",
              "    </tr>\n",
              "    <tr>\n",
              "      <th>2</th>\n",
              "      <td>pos</td>\n",
              "      <td>this has been an extraordinary year for austra...</td>\n",
              "      <td>{'neg': 0.068, 'neu': 0.781, 'pos': 0.15, 'com...</td>\n",
              "      <td>0.9951</td>\n",
              "    </tr>\n",
              "    <tr>\n",
              "      <th>3</th>\n",
              "      <td>pos</td>\n",
              "      <td>according to hollywood movies made in last few...</td>\n",
              "      <td>{'neg': 0.071, 'neu': 0.782, 'pos': 0.147, 'co...</td>\n",
              "      <td>0.9972</td>\n",
              "    </tr>\n",
              "    <tr>\n",
              "      <th>4</th>\n",
              "      <td>neg</td>\n",
              "      <td>my first press screening of 1998 and already i...</td>\n",
              "      <td>{'neg': 0.091, 'neu': 0.817, 'pos': 0.093, 'co...</td>\n",
              "      <td>-0.2484</td>\n",
              "    </tr>\n",
              "  </tbody>\n",
              "</table>\n",
              "</div>\n",
              "    <div class=\"colab-df-buttons\">\n",
              "\n",
              "  <div class=\"colab-df-container\">\n",
              "    <button class=\"colab-df-convert\" onclick=\"convertToInteractive('df-43cf39dc-caf6-4f7f-a83a-fd2df1e21b38')\"\n",
              "            title=\"Convert this dataframe to an interactive table.\"\n",
              "            style=\"display:none;\">\n",
              "\n",
              "  <svg xmlns=\"http://www.w3.org/2000/svg\" height=\"24px\" viewBox=\"0 -960 960 960\">\n",
              "    <path d=\"M120-120v-720h720v720H120Zm60-500h600v-160H180v160Zm220 220h160v-160H400v160Zm0 220h160v-160H400v160ZM180-400h160v-160H180v160Zm440 0h160v-160H620v160ZM180-180h160v-160H180v160Zm440 0h160v-160H620v160Z\"/>\n",
              "  </svg>\n",
              "    </button>\n",
              "\n",
              "  <style>\n",
              "    .colab-df-container {\n",
              "      display:flex;\n",
              "      gap: 12px;\n",
              "    }\n",
              "\n",
              "    .colab-df-convert {\n",
              "      background-color: #E8F0FE;\n",
              "      border: none;\n",
              "      border-radius: 50%;\n",
              "      cursor: pointer;\n",
              "      display: none;\n",
              "      fill: #1967D2;\n",
              "      height: 32px;\n",
              "      padding: 0 0 0 0;\n",
              "      width: 32px;\n",
              "    }\n",
              "\n",
              "    .colab-df-convert:hover {\n",
              "      background-color: #E2EBFA;\n",
              "      box-shadow: 0px 1px 2px rgba(60, 64, 67, 0.3), 0px 1px 3px 1px rgba(60, 64, 67, 0.15);\n",
              "      fill: #174EA6;\n",
              "    }\n",
              "\n",
              "    .colab-df-buttons div {\n",
              "      margin-bottom: 4px;\n",
              "    }\n",
              "\n",
              "    [theme=dark] .colab-df-convert {\n",
              "      background-color: #3B4455;\n",
              "      fill: #D2E3FC;\n",
              "    }\n",
              "\n",
              "    [theme=dark] .colab-df-convert:hover {\n",
              "      background-color: #434B5C;\n",
              "      box-shadow: 0px 1px 3px 1px rgba(0, 0, 0, 0.15);\n",
              "      filter: drop-shadow(0px 1px 2px rgba(0, 0, 0, 0.3));\n",
              "      fill: #FFFFFF;\n",
              "    }\n",
              "  </style>\n",
              "\n",
              "    <script>\n",
              "      const buttonEl =\n",
              "        document.querySelector('#df-43cf39dc-caf6-4f7f-a83a-fd2df1e21b38 button.colab-df-convert');\n",
              "      buttonEl.style.display =\n",
              "        google.colab.kernel.accessAllowed ? 'block' : 'none';\n",
              "\n",
              "      async function convertToInteractive(key) {\n",
              "        const element = document.querySelector('#df-43cf39dc-caf6-4f7f-a83a-fd2df1e21b38');\n",
              "        const dataTable =\n",
              "          await google.colab.kernel.invokeFunction('convertToInteractive',\n",
              "                                                    [key], {});\n",
              "        if (!dataTable) return;\n",
              "\n",
              "        const docLinkHtml = 'Like what you see? Visit the ' +\n",
              "          '<a target=\"_blank\" href=https://colab.research.google.com/notebooks/data_table.ipynb>data table notebook</a>'\n",
              "          + ' to learn more about interactive tables.';\n",
              "        element.innerHTML = '';\n",
              "        dataTable['output_type'] = 'display_data';\n",
              "        await google.colab.output.renderOutput(dataTable, element);\n",
              "        const docLink = document.createElement('div');\n",
              "        docLink.innerHTML = docLinkHtml;\n",
              "        element.appendChild(docLink);\n",
              "      }\n",
              "    </script>\n",
              "  </div>\n",
              "\n",
              "\n",
              "<div id=\"df-8e3b1c34-16cf-424f-be49-249a5c6fe40a\">\n",
              "  <button class=\"colab-df-quickchart\" onclick=\"quickchart('df-8e3b1c34-16cf-424f-be49-249a5c6fe40a')\"\n",
              "            title=\"Suggest charts\"\n",
              "            style=\"display:none;\">\n",
              "\n",
              "<svg xmlns=\"http://www.w3.org/2000/svg\" height=\"24px\"viewBox=\"0 0 24 24\"\n",
              "     width=\"24px\">\n",
              "    <g>\n",
              "        <path d=\"M19 3H5c-1.1 0-2 .9-2 2v14c0 1.1.9 2 2 2h14c1.1 0 2-.9 2-2V5c0-1.1-.9-2-2-2zM9 17H7v-7h2v7zm4 0h-2V7h2v10zm4 0h-2v-4h2v4z\"/>\n",
              "    </g>\n",
              "</svg>\n",
              "  </button>\n",
              "\n",
              "<style>\n",
              "  .colab-df-quickchart {\n",
              "      --bg-color: #E8F0FE;\n",
              "      --fill-color: #1967D2;\n",
              "      --hover-bg-color: #E2EBFA;\n",
              "      --hover-fill-color: #174EA6;\n",
              "      --disabled-fill-color: #AAA;\n",
              "      --disabled-bg-color: #DDD;\n",
              "  }\n",
              "\n",
              "  [theme=dark] .colab-df-quickchart {\n",
              "      --bg-color: #3B4455;\n",
              "      --fill-color: #D2E3FC;\n",
              "      --hover-bg-color: #434B5C;\n",
              "      --hover-fill-color: #FFFFFF;\n",
              "      --disabled-bg-color: #3B4455;\n",
              "      --disabled-fill-color: #666;\n",
              "  }\n",
              "\n",
              "  .colab-df-quickchart {\n",
              "    background-color: var(--bg-color);\n",
              "    border: none;\n",
              "    border-radius: 50%;\n",
              "    cursor: pointer;\n",
              "    display: none;\n",
              "    fill: var(--fill-color);\n",
              "    height: 32px;\n",
              "    padding: 0;\n",
              "    width: 32px;\n",
              "  }\n",
              "\n",
              "  .colab-df-quickchart:hover {\n",
              "    background-color: var(--hover-bg-color);\n",
              "    box-shadow: 0 1px 2px rgba(60, 64, 67, 0.3), 0 1px 3px 1px rgba(60, 64, 67, 0.15);\n",
              "    fill: var(--button-hover-fill-color);\n",
              "  }\n",
              "\n",
              "  .colab-df-quickchart-complete:disabled,\n",
              "  .colab-df-quickchart-complete:disabled:hover {\n",
              "    background-color: var(--disabled-bg-color);\n",
              "    fill: var(--disabled-fill-color);\n",
              "    box-shadow: none;\n",
              "  }\n",
              "\n",
              "  .colab-df-spinner {\n",
              "    border: 2px solid var(--fill-color);\n",
              "    border-color: transparent;\n",
              "    border-bottom-color: var(--fill-color);\n",
              "    animation:\n",
              "      spin 1s steps(1) infinite;\n",
              "  }\n",
              "\n",
              "  @keyframes spin {\n",
              "    0% {\n",
              "      border-color: transparent;\n",
              "      border-bottom-color: var(--fill-color);\n",
              "      border-left-color: var(--fill-color);\n",
              "    }\n",
              "    20% {\n",
              "      border-color: transparent;\n",
              "      border-left-color: var(--fill-color);\n",
              "      border-top-color: var(--fill-color);\n",
              "    }\n",
              "    30% {\n",
              "      border-color: transparent;\n",
              "      border-left-color: var(--fill-color);\n",
              "      border-top-color: var(--fill-color);\n",
              "      border-right-color: var(--fill-color);\n",
              "    }\n",
              "    40% {\n",
              "      border-color: transparent;\n",
              "      border-right-color: var(--fill-color);\n",
              "      border-top-color: var(--fill-color);\n",
              "    }\n",
              "    60% {\n",
              "      border-color: transparent;\n",
              "      border-right-color: var(--fill-color);\n",
              "    }\n",
              "    80% {\n",
              "      border-color: transparent;\n",
              "      border-right-color: var(--fill-color);\n",
              "      border-bottom-color: var(--fill-color);\n",
              "    }\n",
              "    90% {\n",
              "      border-color: transparent;\n",
              "      border-bottom-color: var(--fill-color);\n",
              "    }\n",
              "  }\n",
              "</style>\n",
              "\n",
              "  <script>\n",
              "    async function quickchart(key) {\n",
              "      const quickchartButtonEl =\n",
              "        document.querySelector('#' + key + ' button');\n",
              "      quickchartButtonEl.disabled = true;  // To prevent multiple clicks.\n",
              "      quickchartButtonEl.classList.add('colab-df-spinner');\n",
              "      try {\n",
              "        const charts = await google.colab.kernel.invokeFunction(\n",
              "            'suggestCharts', [key], {});\n",
              "      } catch (error) {\n",
              "        console.error('Error during call to suggestCharts:', error);\n",
              "      }\n",
              "      quickchartButtonEl.classList.remove('colab-df-spinner');\n",
              "      quickchartButtonEl.classList.add('colab-df-quickchart-complete');\n",
              "    }\n",
              "    (() => {\n",
              "      let quickchartButtonEl =\n",
              "        document.querySelector('#df-8e3b1c34-16cf-424f-be49-249a5c6fe40a button');\n",
              "      quickchartButtonEl.style.display =\n",
              "        google.colab.kernel.accessAllowed ? 'block' : 'none';\n",
              "    })();\n",
              "  </script>\n",
              "</div>\n",
              "\n",
              "    </div>\n",
              "  </div>\n"
            ],
            "application/vnd.google.colaboratory.intrinsic+json": {
              "type": "dataframe",
              "variable_name": "dataset",
              "summary": "{\n  \"name\": \"dataset\",\n  \"rows\": 1938,\n  \"fields\": [\n    {\n      \"column\": \"label\",\n      \"properties\": {\n        \"dtype\": \"category\",\n        \"num_unique_values\": 2,\n        \"samples\": [\n          \"pos\",\n          \"neg\"\n        ],\n        \"semantic_type\": \"\",\n        \"description\": \"\"\n      }\n    },\n    {\n      \"column\": \"review\",\n      \"properties\": {\n        \"dtype\": \"string\",\n        \"num_unique_values\": 1938,\n        \"samples\": [\n          \"eight years after its release , disney has decided to re-release the little mermaid theatrically for 17 days ( and 17 long nights ) only . \\r\\ncoincidentally , it was reintroduced to theaters the same day fox's animated film anastasia was released . \\r\\nyou know disney , they can't deal with the threat of any other studio getting even a small piece of the crust of the kiddie entertainment pie , so when someone else wants to make a little money , they counter with an old \\\" masterpiece \\\" from their vault and , you know what , i went to see this 1989 cartoon rather than the brand new one from fox . \\r\\nlet no one say disney is losing its monopoly on the market . \\r\\nthey still have hotels on boardwalk _and_ park place . \\r\\nbelieve it or not , today , november 25 , 1997 , at 5 : 05 p . m . , i saw the little mermaid for the first time . \\r\\nit took me a few years to get over an aversion to this movie that was caused seven years ago , when i stayed with one of my mom's friends for a couple weeks . \\r\\nthey had a young child who listened to the little mermaid soundtrack constantly and , over that two week period , i heard every song from the movie probably a hundred times . \\r\\nby the time i got back home , i promised myself i'd never see the movie . \\r\\nbut promises are made to be broken , especially when you're looking at a 17-day , limited engagement . \\r\\ndamn those shrewd disney marketers and their mind games . \\r\\nthe little mermaid is based on a hans christian anderson fairy tale , but it's disney-ized , which means lots of talking animals and bursting into song . \\r\\nit also means the heroine is a total babe who shows off cleavage from a seashell bra at all times . \\r\\ni never wanted so much to be a pair of shells . . . \\r\\nthe heroine , of course , is ariel ( voice of jodi benson ) , a 16-year-old mermaid who is going through that rebellious phase . \\r\\nshe skips her concert to explore a wrecked ship and hang out with a seagull that talks like buddy hackett , who tries to orient her to the mysterious world of humans . \\r\\nshe's also dealing with feelings she hasn't had before -- which comes when you get scales in places you didn't use to have them -- about a handsome prince ( no disney movie would be complete without one ) . \\r\\nher father , king triton of the merpeople , strictly forbids such lusting after the ways of the \\\" savage \\\" humans , in a condemnation that reads as a not-so-subtle analogy about old- fashioned parents who forbid interracial dating . \\r\\nwhat's a king to do , though ? \\r\\nthe girl's in love and even total destruction of her little shrine to the human world doesn't deter her . \\r\\nariel saves the prince's life when a hurricane rises up , and just has to meet him . \\r\\nshe makes a deal with ursula , the sea witch ( voice of pat carroll ) . \\r\\nyou know she's evil because she has a huge potbelly and one of the worst asses in cartoon history . \\r\\nshe also has octopus tentacles for feet ( something those dr . scholl's corn pads will not fix ) and offers to help ariel out . \\r\\nshe'll make her a human for three days if ariel will give up her pretty voice ; ariel has three days to make that prince kiss her , or else she becomes a slave to the witch forever . \\r\\nand if she pricks her finger on a sewing machine or eats an evil apple , she'll fall asleep forever . \\r\\nit's a simplistic plot , yes , but the little mermaid was a revolution in the disney world , coming after such lackluster efforts as the black cauldron and oliver and company . \\r\\nit ranks as one of the best disney cartoons , certainly since the '50s . \\r\\nall the elements are there -- memorable songs like \\\" under the sea \\\" and \\\" kiss the girl , \\\" cartoon animals like sebastian and flounder , an evil villain who still has characterization and charm , and a fair amount of humor that caters to adults as well as children . \\r\\nthe little mermaid is worth a big-screen ticket in 1997 , so hurry up , you only have five days left . \\r\\nserving america for more than 1/25th of a century ! \\r\\n\",\n          \"it's been a long time since walt disney has delivered us a classic along the lines of the little mermaid or beauty and the beast . \\r\\nsure , there have been delightful outings like last years hercules . \\r\\nbut nothing entirely groundbreaking . \\r\\nwith the release of the studio's newest feature length film , a remake of edgar rice burrough's creation tarzan , disney has plunged into new waters with both maturity and animation techniques . \\r\\nit's no classic , but this new tarzan represents exactly what a family film should be . \\r\\nthe plot is loyal to the original storyline , as tarzan's parents are forced to abandon their ship which has caught fire , and find shelter in the jungles of africa . \\r\\nbut , they are killed ( offscreen ) by the snarling cheetah sabor , leaving baby tarzan alone and unharmed in his crib . \\r\\nfound by kala ( voiced with effective gentleness by glenn close ) , a kindhearted mother and member of a gorilla pack , tarzan is taken into the primate group and raised as one of their own . \\r\\nwe follow the young boy through the years , as he partakes in various adventures with his loud mouth gorilla friend terk ( a very brash but funny rosie o'donnell ) and clumsy elephant tantor ( wayne knight ) . \\r\\nof course , in any disney film we are given some kind of goofy sidekick or humorous chum for the hero . \\r\\nin tarzan , these characters fill that space rather inconspicuously . \\r\\ngags that were magnified in other family films are kept quite minor here . \\r\\nmost of the characters are amusing without being forced . \\r\\nas tarzan grows to manhood , the suspected antagonist stumbles into the picture . \\r\\nhere , the notorious bad guy is the big game hunter clayton ( brian blessed ) , who's accompanying a hapless professor ( nigel hawthorne ) on an expedition through the jungle . \\r\\nof course , there's the professor's daughter , jane ( nicely vocalized by a cheerful minnie driver ) who will help supply the romantic quotient of the movie . \\r\\nthe thing that blew my socks off about this version of tarzan is the stunning animation . \\r\\ndirectors chris buck and kevin lima have applied a breathtaking 3-d element to the movement of the athletic title character , and the fast-paced editing is absolutely a marvel . \\r\\nas tarzan carries jane through the treetops , narrowly escaping a pack of nasty baboons , he slips and slides like a daredevil snow boarder or star surfer riding the big wave . \\r\\nyour eyes can barely keep up ; it's a fantastic accomplishment . \\r\\nthe subject matter here is also a notch or two above animation average . \\r\\nthere are important questions raised about tarzan's place in the world , and all are handled exceptionally well by the screenwriters . \\r\\nthere is no shred of doubt left to ponder afterward , which is a surprising plus that i wasn't expecting to find here . \\r\\nsuffice to say , this film will have both adults and children thoroughly entertained . \\r\\nthe grown-up tarzan is voiced by tony goldwyn , who made a name for himself as the `big mean jerk' from ghost . \\r\\ngoldwyn is effective playing someone who's not aware of his world's dangers . \\r\\nglenn close is also memorable as his gorilla mother , and lance henriksen ( from tv's millennium ) is terrific as the silverback father unsure of how to accept the presence of a human child . \\r\\nas the movie's villain , there is nothing particularly special or catching about the character of clayton . \\r\\nit helps that brian blessed supplies his voice with game enthusiasm , but he is nothing compared to james woods' hilarious hades from hercules . \\r\\na burley guy with a big gun who just wants to capture the gorillas does not quite constitute for an all-together noticeable screen presence . \\r\\nstill , this is one great thrill-ride that disney has constructed . \\r\\ni never expected rice burrough's work to be transformed so successfully from live action to animation , nor with so much emotional depth . \\r\\nparents , along with all the kiddies , are going to find much to like in tarzan . \\r\\n\"\n        ],\n        \"semantic_type\": \"\",\n        \"description\": \"\"\n      }\n    },\n    {\n      \"column\": \"score\",\n      \"properties\": {\n        \"dtype\": \"object\",\n        \"semantic_type\": \"\",\n        \"description\": \"\"\n      }\n    },\n    {\n      \"column\": \"compound\",\n      \"properties\": {\n        \"dtype\": \"number\",\n        \"std\": 0.8491773392769572,\n        \"min\": -0.9996,\n        \"max\": 0.9999,\n        \"num_unique_values\": 1044,\n        \"samples\": [\n          0.9138,\n          0.9814\n        ],\n        \"semantic_type\": \"\",\n        \"description\": \"\"\n      }\n    }\n  ]\n}"
            }
          },
          "metadata": {},
          "execution_count": 32
        }
      ]
    },
    {
      "cell_type": "code",
      "source": [
        "dataset['comp_score'] = dataset['compound'].apply(lambda score: 'pos' if score >= 0 else 'neg')"
      ],
      "metadata": {
        "id": "PE-lU03bnohr"
      },
      "execution_count": 33,
      "outputs": []
    },
    {
      "cell_type": "code",
      "source": [
        "dataset.head()"
      ],
      "metadata": {
        "colab": {
          "base_uri": "https://localhost:8080/",
          "height": 206
        },
        "id": "g-UfnnE2nylP",
        "outputId": "b79e705f-d7d8-4d12-c4fa-1e5d00a5c1ad"
      },
      "execution_count": 34,
      "outputs": [
        {
          "output_type": "execute_result",
          "data": {
            "text/plain": [
              "  label                                             review  \\\n",
              "0   neg  how do films like mouse hunt get into theatres...   \n",
              "1   neg  some talented actresses are blessed with a dem...   \n",
              "2   pos  this has been an extraordinary year for austra...   \n",
              "3   pos  according to hollywood movies made in last few...   \n",
              "4   neg  my first press screening of 1998 and already i...   \n",
              "\n",
              "                                               score  compound comp_score  \n",
              "0  {'neg': 0.121, 'neu': 0.778, 'pos': 0.101, 'co...   -0.9125        neg  \n",
              "1  {'neg': 0.12, 'neu': 0.775, 'pos': 0.105, 'com...   -0.8618        neg  \n",
              "2  {'neg': 0.068, 'neu': 0.781, 'pos': 0.15, 'com...    0.9951        pos  \n",
              "3  {'neg': 0.071, 'neu': 0.782, 'pos': 0.147, 'co...    0.9972        pos  \n",
              "4  {'neg': 0.091, 'neu': 0.817, 'pos': 0.093, 'co...   -0.2484        neg  "
            ],
            "text/html": [
              "\n",
              "  <div id=\"df-b2e08571-53b0-42b4-bcfe-e6b0408cc5d1\" class=\"colab-df-container\">\n",
              "    <div>\n",
              "<style scoped>\n",
              "    .dataframe tbody tr th:only-of-type {\n",
              "        vertical-align: middle;\n",
              "    }\n",
              "\n",
              "    .dataframe tbody tr th {\n",
              "        vertical-align: top;\n",
              "    }\n",
              "\n",
              "    .dataframe thead th {\n",
              "        text-align: right;\n",
              "    }\n",
              "</style>\n",
              "<table border=\"1\" class=\"dataframe\">\n",
              "  <thead>\n",
              "    <tr style=\"text-align: right;\">\n",
              "      <th></th>\n",
              "      <th>label</th>\n",
              "      <th>review</th>\n",
              "      <th>score</th>\n",
              "      <th>compound</th>\n",
              "      <th>comp_score</th>\n",
              "    </tr>\n",
              "  </thead>\n",
              "  <tbody>\n",
              "    <tr>\n",
              "      <th>0</th>\n",
              "      <td>neg</td>\n",
              "      <td>how do films like mouse hunt get into theatres...</td>\n",
              "      <td>{'neg': 0.121, 'neu': 0.778, 'pos': 0.101, 'co...</td>\n",
              "      <td>-0.9125</td>\n",
              "      <td>neg</td>\n",
              "    </tr>\n",
              "    <tr>\n",
              "      <th>1</th>\n",
              "      <td>neg</td>\n",
              "      <td>some talented actresses are blessed with a dem...</td>\n",
              "      <td>{'neg': 0.12, 'neu': 0.775, 'pos': 0.105, 'com...</td>\n",
              "      <td>-0.8618</td>\n",
              "      <td>neg</td>\n",
              "    </tr>\n",
              "    <tr>\n",
              "      <th>2</th>\n",
              "      <td>pos</td>\n",
              "      <td>this has been an extraordinary year for austra...</td>\n",
              "      <td>{'neg': 0.068, 'neu': 0.781, 'pos': 0.15, 'com...</td>\n",
              "      <td>0.9951</td>\n",
              "      <td>pos</td>\n",
              "    </tr>\n",
              "    <tr>\n",
              "      <th>3</th>\n",
              "      <td>pos</td>\n",
              "      <td>according to hollywood movies made in last few...</td>\n",
              "      <td>{'neg': 0.071, 'neu': 0.782, 'pos': 0.147, 'co...</td>\n",
              "      <td>0.9972</td>\n",
              "      <td>pos</td>\n",
              "    </tr>\n",
              "    <tr>\n",
              "      <th>4</th>\n",
              "      <td>neg</td>\n",
              "      <td>my first press screening of 1998 and already i...</td>\n",
              "      <td>{'neg': 0.091, 'neu': 0.817, 'pos': 0.093, 'co...</td>\n",
              "      <td>-0.2484</td>\n",
              "      <td>neg</td>\n",
              "    </tr>\n",
              "  </tbody>\n",
              "</table>\n",
              "</div>\n",
              "    <div class=\"colab-df-buttons\">\n",
              "\n",
              "  <div class=\"colab-df-container\">\n",
              "    <button class=\"colab-df-convert\" onclick=\"convertToInteractive('df-b2e08571-53b0-42b4-bcfe-e6b0408cc5d1')\"\n",
              "            title=\"Convert this dataframe to an interactive table.\"\n",
              "            style=\"display:none;\">\n",
              "\n",
              "  <svg xmlns=\"http://www.w3.org/2000/svg\" height=\"24px\" viewBox=\"0 -960 960 960\">\n",
              "    <path d=\"M120-120v-720h720v720H120Zm60-500h600v-160H180v160Zm220 220h160v-160H400v160Zm0 220h160v-160H400v160ZM180-400h160v-160H180v160Zm440 0h160v-160H620v160ZM180-180h160v-160H180v160Zm440 0h160v-160H620v160Z\"/>\n",
              "  </svg>\n",
              "    </button>\n",
              "\n",
              "  <style>\n",
              "    .colab-df-container {\n",
              "      display:flex;\n",
              "      gap: 12px;\n",
              "    }\n",
              "\n",
              "    .colab-df-convert {\n",
              "      background-color: #E8F0FE;\n",
              "      border: none;\n",
              "      border-radius: 50%;\n",
              "      cursor: pointer;\n",
              "      display: none;\n",
              "      fill: #1967D2;\n",
              "      height: 32px;\n",
              "      padding: 0 0 0 0;\n",
              "      width: 32px;\n",
              "    }\n",
              "\n",
              "    .colab-df-convert:hover {\n",
              "      background-color: #E2EBFA;\n",
              "      box-shadow: 0px 1px 2px rgba(60, 64, 67, 0.3), 0px 1px 3px 1px rgba(60, 64, 67, 0.15);\n",
              "      fill: #174EA6;\n",
              "    }\n",
              "\n",
              "    .colab-df-buttons div {\n",
              "      margin-bottom: 4px;\n",
              "    }\n",
              "\n",
              "    [theme=dark] .colab-df-convert {\n",
              "      background-color: #3B4455;\n",
              "      fill: #D2E3FC;\n",
              "    }\n",
              "\n",
              "    [theme=dark] .colab-df-convert:hover {\n",
              "      background-color: #434B5C;\n",
              "      box-shadow: 0px 1px 3px 1px rgba(0, 0, 0, 0.15);\n",
              "      filter: drop-shadow(0px 1px 2px rgba(0, 0, 0, 0.3));\n",
              "      fill: #FFFFFF;\n",
              "    }\n",
              "  </style>\n",
              "\n",
              "    <script>\n",
              "      const buttonEl =\n",
              "        document.querySelector('#df-b2e08571-53b0-42b4-bcfe-e6b0408cc5d1 button.colab-df-convert');\n",
              "      buttonEl.style.display =\n",
              "        google.colab.kernel.accessAllowed ? 'block' : 'none';\n",
              "\n",
              "      async function convertToInteractive(key) {\n",
              "        const element = document.querySelector('#df-b2e08571-53b0-42b4-bcfe-e6b0408cc5d1');\n",
              "        const dataTable =\n",
              "          await google.colab.kernel.invokeFunction('convertToInteractive',\n",
              "                                                    [key], {});\n",
              "        if (!dataTable) return;\n",
              "\n",
              "        const docLinkHtml = 'Like what you see? Visit the ' +\n",
              "          '<a target=\"_blank\" href=https://colab.research.google.com/notebooks/data_table.ipynb>data table notebook</a>'\n",
              "          + ' to learn more about interactive tables.';\n",
              "        element.innerHTML = '';\n",
              "        dataTable['output_type'] = 'display_data';\n",
              "        await google.colab.output.renderOutput(dataTable, element);\n",
              "        const docLink = document.createElement('div');\n",
              "        docLink.innerHTML = docLinkHtml;\n",
              "        element.appendChild(docLink);\n",
              "      }\n",
              "    </script>\n",
              "  </div>\n",
              "\n",
              "\n",
              "<div id=\"df-f7131eba-7e45-4fd8-9c7e-395043fc0833\">\n",
              "  <button class=\"colab-df-quickchart\" onclick=\"quickchart('df-f7131eba-7e45-4fd8-9c7e-395043fc0833')\"\n",
              "            title=\"Suggest charts\"\n",
              "            style=\"display:none;\">\n",
              "\n",
              "<svg xmlns=\"http://www.w3.org/2000/svg\" height=\"24px\"viewBox=\"0 0 24 24\"\n",
              "     width=\"24px\">\n",
              "    <g>\n",
              "        <path d=\"M19 3H5c-1.1 0-2 .9-2 2v14c0 1.1.9 2 2 2h14c1.1 0 2-.9 2-2V5c0-1.1-.9-2-2-2zM9 17H7v-7h2v7zm4 0h-2V7h2v10zm4 0h-2v-4h2v4z\"/>\n",
              "    </g>\n",
              "</svg>\n",
              "  </button>\n",
              "\n",
              "<style>\n",
              "  .colab-df-quickchart {\n",
              "      --bg-color: #E8F0FE;\n",
              "      --fill-color: #1967D2;\n",
              "      --hover-bg-color: #E2EBFA;\n",
              "      --hover-fill-color: #174EA6;\n",
              "      --disabled-fill-color: #AAA;\n",
              "      --disabled-bg-color: #DDD;\n",
              "  }\n",
              "\n",
              "  [theme=dark] .colab-df-quickchart {\n",
              "      --bg-color: #3B4455;\n",
              "      --fill-color: #D2E3FC;\n",
              "      --hover-bg-color: #434B5C;\n",
              "      --hover-fill-color: #FFFFFF;\n",
              "      --disabled-bg-color: #3B4455;\n",
              "      --disabled-fill-color: #666;\n",
              "  }\n",
              "\n",
              "  .colab-df-quickchart {\n",
              "    background-color: var(--bg-color);\n",
              "    border: none;\n",
              "    border-radius: 50%;\n",
              "    cursor: pointer;\n",
              "    display: none;\n",
              "    fill: var(--fill-color);\n",
              "    height: 32px;\n",
              "    padding: 0;\n",
              "    width: 32px;\n",
              "  }\n",
              "\n",
              "  .colab-df-quickchart:hover {\n",
              "    background-color: var(--hover-bg-color);\n",
              "    box-shadow: 0 1px 2px rgba(60, 64, 67, 0.3), 0 1px 3px 1px rgba(60, 64, 67, 0.15);\n",
              "    fill: var(--button-hover-fill-color);\n",
              "  }\n",
              "\n",
              "  .colab-df-quickchart-complete:disabled,\n",
              "  .colab-df-quickchart-complete:disabled:hover {\n",
              "    background-color: var(--disabled-bg-color);\n",
              "    fill: var(--disabled-fill-color);\n",
              "    box-shadow: none;\n",
              "  }\n",
              "\n",
              "  .colab-df-spinner {\n",
              "    border: 2px solid var(--fill-color);\n",
              "    border-color: transparent;\n",
              "    border-bottom-color: var(--fill-color);\n",
              "    animation:\n",
              "      spin 1s steps(1) infinite;\n",
              "  }\n",
              "\n",
              "  @keyframes spin {\n",
              "    0% {\n",
              "      border-color: transparent;\n",
              "      border-bottom-color: var(--fill-color);\n",
              "      border-left-color: var(--fill-color);\n",
              "    }\n",
              "    20% {\n",
              "      border-color: transparent;\n",
              "      border-left-color: var(--fill-color);\n",
              "      border-top-color: var(--fill-color);\n",
              "    }\n",
              "    30% {\n",
              "      border-color: transparent;\n",
              "      border-left-color: var(--fill-color);\n",
              "      border-top-color: var(--fill-color);\n",
              "      border-right-color: var(--fill-color);\n",
              "    }\n",
              "    40% {\n",
              "      border-color: transparent;\n",
              "      border-right-color: var(--fill-color);\n",
              "      border-top-color: var(--fill-color);\n",
              "    }\n",
              "    60% {\n",
              "      border-color: transparent;\n",
              "      border-right-color: var(--fill-color);\n",
              "    }\n",
              "    80% {\n",
              "      border-color: transparent;\n",
              "      border-right-color: var(--fill-color);\n",
              "      border-bottom-color: var(--fill-color);\n",
              "    }\n",
              "    90% {\n",
              "      border-color: transparent;\n",
              "      border-bottom-color: var(--fill-color);\n",
              "    }\n",
              "  }\n",
              "</style>\n",
              "\n",
              "  <script>\n",
              "    async function quickchart(key) {\n",
              "      const quickchartButtonEl =\n",
              "        document.querySelector('#' + key + ' button');\n",
              "      quickchartButtonEl.disabled = true;  // To prevent multiple clicks.\n",
              "      quickchartButtonEl.classList.add('colab-df-spinner');\n",
              "      try {\n",
              "        const charts = await google.colab.kernel.invokeFunction(\n",
              "            'suggestCharts', [key], {});\n",
              "      } catch (error) {\n",
              "        console.error('Error during call to suggestCharts:', error);\n",
              "      }\n",
              "      quickchartButtonEl.classList.remove('colab-df-spinner');\n",
              "      quickchartButtonEl.classList.add('colab-df-quickchart-complete');\n",
              "    }\n",
              "    (() => {\n",
              "      let quickchartButtonEl =\n",
              "        document.querySelector('#df-f7131eba-7e45-4fd8-9c7e-395043fc0833 button');\n",
              "      quickchartButtonEl.style.display =\n",
              "        google.colab.kernel.accessAllowed ? 'block' : 'none';\n",
              "    })();\n",
              "  </script>\n",
              "</div>\n",
              "\n",
              "    </div>\n",
              "  </div>\n"
            ],
            "application/vnd.google.colaboratory.intrinsic+json": {
              "type": "dataframe",
              "variable_name": "dataset",
              "summary": "{\n  \"name\": \"dataset\",\n  \"rows\": 1938,\n  \"fields\": [\n    {\n      \"column\": \"label\",\n      \"properties\": {\n        \"dtype\": \"category\",\n        \"num_unique_values\": 2,\n        \"samples\": [\n          \"pos\",\n          \"neg\"\n        ],\n        \"semantic_type\": \"\",\n        \"description\": \"\"\n      }\n    },\n    {\n      \"column\": \"review\",\n      \"properties\": {\n        \"dtype\": \"string\",\n        \"num_unique_values\": 1938,\n        \"samples\": [\n          \"eight years after its release , disney has decided to re-release the little mermaid theatrically for 17 days ( and 17 long nights ) only . \\r\\ncoincidentally , it was reintroduced to theaters the same day fox's animated film anastasia was released . \\r\\nyou know disney , they can't deal with the threat of any other studio getting even a small piece of the crust of the kiddie entertainment pie , so when someone else wants to make a little money , they counter with an old \\\" masterpiece \\\" from their vault and , you know what , i went to see this 1989 cartoon rather than the brand new one from fox . \\r\\nlet no one say disney is losing its monopoly on the market . \\r\\nthey still have hotels on boardwalk _and_ park place . \\r\\nbelieve it or not , today , november 25 , 1997 , at 5 : 05 p . m . , i saw the little mermaid for the first time . \\r\\nit took me a few years to get over an aversion to this movie that was caused seven years ago , when i stayed with one of my mom's friends for a couple weeks . \\r\\nthey had a young child who listened to the little mermaid soundtrack constantly and , over that two week period , i heard every song from the movie probably a hundred times . \\r\\nby the time i got back home , i promised myself i'd never see the movie . \\r\\nbut promises are made to be broken , especially when you're looking at a 17-day , limited engagement . \\r\\ndamn those shrewd disney marketers and their mind games . \\r\\nthe little mermaid is based on a hans christian anderson fairy tale , but it's disney-ized , which means lots of talking animals and bursting into song . \\r\\nit also means the heroine is a total babe who shows off cleavage from a seashell bra at all times . \\r\\ni never wanted so much to be a pair of shells . . . \\r\\nthe heroine , of course , is ariel ( voice of jodi benson ) , a 16-year-old mermaid who is going through that rebellious phase . \\r\\nshe skips her concert to explore a wrecked ship and hang out with a seagull that talks like buddy hackett , who tries to orient her to the mysterious world of humans . \\r\\nshe's also dealing with feelings she hasn't had before -- which comes when you get scales in places you didn't use to have them -- about a handsome prince ( no disney movie would be complete without one ) . \\r\\nher father , king triton of the merpeople , strictly forbids such lusting after the ways of the \\\" savage \\\" humans , in a condemnation that reads as a not-so-subtle analogy about old- fashioned parents who forbid interracial dating . \\r\\nwhat's a king to do , though ? \\r\\nthe girl's in love and even total destruction of her little shrine to the human world doesn't deter her . \\r\\nariel saves the prince's life when a hurricane rises up , and just has to meet him . \\r\\nshe makes a deal with ursula , the sea witch ( voice of pat carroll ) . \\r\\nyou know she's evil because she has a huge potbelly and one of the worst asses in cartoon history . \\r\\nshe also has octopus tentacles for feet ( something those dr . scholl's corn pads will not fix ) and offers to help ariel out . \\r\\nshe'll make her a human for three days if ariel will give up her pretty voice ; ariel has three days to make that prince kiss her , or else she becomes a slave to the witch forever . \\r\\nand if she pricks her finger on a sewing machine or eats an evil apple , she'll fall asleep forever . \\r\\nit's a simplistic plot , yes , but the little mermaid was a revolution in the disney world , coming after such lackluster efforts as the black cauldron and oliver and company . \\r\\nit ranks as one of the best disney cartoons , certainly since the '50s . \\r\\nall the elements are there -- memorable songs like \\\" under the sea \\\" and \\\" kiss the girl , \\\" cartoon animals like sebastian and flounder , an evil villain who still has characterization and charm , and a fair amount of humor that caters to adults as well as children . \\r\\nthe little mermaid is worth a big-screen ticket in 1997 , so hurry up , you only have five days left . \\r\\nserving america for more than 1/25th of a century ! \\r\\n\",\n          \"it's been a long time since walt disney has delivered us a classic along the lines of the little mermaid or beauty and the beast . \\r\\nsure , there have been delightful outings like last years hercules . \\r\\nbut nothing entirely groundbreaking . \\r\\nwith the release of the studio's newest feature length film , a remake of edgar rice burrough's creation tarzan , disney has plunged into new waters with both maturity and animation techniques . \\r\\nit's no classic , but this new tarzan represents exactly what a family film should be . \\r\\nthe plot is loyal to the original storyline , as tarzan's parents are forced to abandon their ship which has caught fire , and find shelter in the jungles of africa . \\r\\nbut , they are killed ( offscreen ) by the snarling cheetah sabor , leaving baby tarzan alone and unharmed in his crib . \\r\\nfound by kala ( voiced with effective gentleness by glenn close ) , a kindhearted mother and member of a gorilla pack , tarzan is taken into the primate group and raised as one of their own . \\r\\nwe follow the young boy through the years , as he partakes in various adventures with his loud mouth gorilla friend terk ( a very brash but funny rosie o'donnell ) and clumsy elephant tantor ( wayne knight ) . \\r\\nof course , in any disney film we are given some kind of goofy sidekick or humorous chum for the hero . \\r\\nin tarzan , these characters fill that space rather inconspicuously . \\r\\ngags that were magnified in other family films are kept quite minor here . \\r\\nmost of the characters are amusing without being forced . \\r\\nas tarzan grows to manhood , the suspected antagonist stumbles into the picture . \\r\\nhere , the notorious bad guy is the big game hunter clayton ( brian blessed ) , who's accompanying a hapless professor ( nigel hawthorne ) on an expedition through the jungle . \\r\\nof course , there's the professor's daughter , jane ( nicely vocalized by a cheerful minnie driver ) who will help supply the romantic quotient of the movie . \\r\\nthe thing that blew my socks off about this version of tarzan is the stunning animation . \\r\\ndirectors chris buck and kevin lima have applied a breathtaking 3-d element to the movement of the athletic title character , and the fast-paced editing is absolutely a marvel . \\r\\nas tarzan carries jane through the treetops , narrowly escaping a pack of nasty baboons , he slips and slides like a daredevil snow boarder or star surfer riding the big wave . \\r\\nyour eyes can barely keep up ; it's a fantastic accomplishment . \\r\\nthe subject matter here is also a notch or two above animation average . \\r\\nthere are important questions raised about tarzan's place in the world , and all are handled exceptionally well by the screenwriters . \\r\\nthere is no shred of doubt left to ponder afterward , which is a surprising plus that i wasn't expecting to find here . \\r\\nsuffice to say , this film will have both adults and children thoroughly entertained . \\r\\nthe grown-up tarzan is voiced by tony goldwyn , who made a name for himself as the `big mean jerk' from ghost . \\r\\ngoldwyn is effective playing someone who's not aware of his world's dangers . \\r\\nglenn close is also memorable as his gorilla mother , and lance henriksen ( from tv's millennium ) is terrific as the silverback father unsure of how to accept the presence of a human child . \\r\\nas the movie's villain , there is nothing particularly special or catching about the character of clayton . \\r\\nit helps that brian blessed supplies his voice with game enthusiasm , but he is nothing compared to james woods' hilarious hades from hercules . \\r\\na burley guy with a big gun who just wants to capture the gorillas does not quite constitute for an all-together noticeable screen presence . \\r\\nstill , this is one great thrill-ride that disney has constructed . \\r\\ni never expected rice burrough's work to be transformed so successfully from live action to animation , nor with so much emotional depth . \\r\\nparents , along with all the kiddies , are going to find much to like in tarzan . \\r\\n\"\n        ],\n        \"semantic_type\": \"\",\n        \"description\": \"\"\n      }\n    },\n    {\n      \"column\": \"score\",\n      \"properties\": {\n        \"dtype\": \"object\",\n        \"semantic_type\": \"\",\n        \"description\": \"\"\n      }\n    },\n    {\n      \"column\": \"compound\",\n      \"properties\": {\n        \"dtype\": \"number\",\n        \"std\": 0.8491773392769572,\n        \"min\": -0.9996,\n        \"max\": 0.9999,\n        \"num_unique_values\": 1044,\n        \"samples\": [\n          0.9138,\n          0.9814\n        ],\n        \"semantic_type\": \"\",\n        \"description\": \"\"\n      }\n    },\n    {\n      \"column\": \"comp_score\",\n      \"properties\": {\n        \"dtype\": \"category\",\n        \"num_unique_values\": 2,\n        \"samples\": [\n          \"pos\",\n          \"neg\"\n        ],\n        \"semantic_type\": \"\",\n        \"description\": \"\"\n      }\n    }\n  ]\n}"
            }
          },
          "metadata": {},
          "execution_count": 34
        }
      ]
    },
    {
      "cell_type": "code",
      "source": [
        "print(classification_report(dataset['label'], dataset['comp_score']))"
      ],
      "metadata": {
        "colab": {
          "base_uri": "https://localhost:8080/"
        },
        "id": "W75IZm2Nnzqx",
        "outputId": "c320c202-9d45-4f7b-e964-93bafcbdc7ac"
      },
      "execution_count": 35,
      "outputs": [
        {
          "output_type": "stream",
          "name": "stdout",
          "text": [
            "              precision    recall  f1-score   support\n",
            "\n",
            "         neg       0.72      0.44      0.55       969\n",
            "         pos       0.60      0.83      0.70       969\n",
            "\n",
            "    accuracy                           0.64      1938\n",
            "   macro avg       0.66      0.64      0.62      1938\n",
            "weighted avg       0.66      0.64      0.62      1938\n",
            "\n"
          ]
        }
      ]
    },
    {
      "cell_type": "code",
      "source": [
        "accuracy_score(dataset['label'], dataset['comp_score'])"
      ],
      "metadata": {
        "colab": {
          "base_uri": "https://localhost:8080/"
        },
        "id": "VXigU9Oen6fF",
        "outputId": "4b446bf3-6709-45d2-d7cf-6244c2ab2004"
      },
      "execution_count": 36,
      "outputs": [
        {
          "output_type": "execute_result",
          "data": {
            "text/plain": [
              "0.6357069143446853"
            ]
          },
          "metadata": {},
          "execution_count": 36
        }
      ]
    },
    {
      "cell_type": "code",
      "source": [
        "ConfusionMatrixDisplay.from_predictions(dataset['label'], dataset['comp_score']);"
      ],
      "metadata": {
        "colab": {
          "base_uri": "https://localhost:8080/",
          "height": 452
        },
        "id": "V0TMPHhmn9Rv",
        "outputId": "8f7c2b1e-db82-4b3d-860c-00bb4accc2b1"
      },
      "execution_count": 37,
      "outputs": [
        {
          "output_type": "display_data",
          "data": {
            "text/plain": [
              "<Figure size 640x480 with 2 Axes>"
            ],
            "image/png": "[encoded data removed]"
          },
          "metadata": {}
        }
      ]
    },
    {
      "cell_type": "code",
      "source": [
        "sid.polarity_scores(\"I had high hopes for this laptop, but it has been a huge disappointment. It runs slowly even with minimal applications open, and the battery barely lasts a few hours, which is incredibly frustrating. The screen quality is subpar, and the keyboard feels cheap and unresponsive. I've also had several issues with it overheating. Overall, I regret buying this laptop and would not recommend it to others.\")"
      ],
      "metadata": {
        "colab": {
          "base_uri": "https://localhost:8080/"
        },
        "id": "2pMaxIiBoAja",
        "outputId": "3fa9ca6a-5564-4357-d34a-e5a4d5b64ba3"
      },
      "execution_count": 43,
      "outputs": [
        {
          "output_type": "execute_result",
          "data": {
            "text/plain": [
              "{'neg': 0.196, 'neu': 0.741, 'pos': 0.063, 'compound': -0.9053}"
            ]
          },
          "metadata": {},
          "execution_count": 43
        }
      ]
    },
    {
      "cell_type": "code",
      "source": [],
      "metadata": {
        "id": "xKDFcKaIqe_p"
      },
      "execution_count": null,
      "outputs": []
    }
  ]
}